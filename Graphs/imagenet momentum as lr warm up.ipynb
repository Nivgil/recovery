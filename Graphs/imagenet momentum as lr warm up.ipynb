{
 "cells": [
  {
   "cell_type": "raw",
   "metadata": {},
   "source": [
    "<script>\n",
    "  jQuery(document).ready(function($) {  \n",
    "  \n",
    "  $(window).on('load', function(){\n",
    "    $('#preloader').fadeOut('slow',function(){$(this).remove();});\n",
    "  });\n",
    "  \n",
    "  });\n",
    "</script>\n",
    "\n",
    "<style type=\"text/css\">\n",
    "  div#preloader { position: fixed; \n",
    "      left: 0; \n",
    "      top: 0; \n",
    "      z-index: 999; \n",
    "      width: 100%; \n",
    "      height: 100%; \n",
    "      overflow: visible; \n",
    "      background: #fff url('http://preloaders.net/preloaders/720/Moving%20line.gif') no-repeat center center; \n",
    "  }\n",
    "\n",
    "</style>\n",
    "\n",
    "<div id=\"preloader\">\n",
    "\n",
    "</div>"
   ]
  },
  {
   "cell_type": "raw",
   "metadata": {},
   "source": [
    "<script>\n",
    "  function code_toggle() {\n",
    "    if (code_shown){\n",
    "      $('div.input').hide('500');\n",
    "      $('#toggleButton').val('Show Code')\n",
    "    } else {\n",
    "      $('div.input').show('500');\n",
    "      $('#toggleButton').val('Hide Code')\n",
    "    }\n",
    "    code_shown = !code_shown\n",
    "  } \n",
    "  \n",
    "  $( document ).ready(function(){\n",
    "    code_shown=false; \n",
    "    $('div.input').hide()\n",
    "  });\n",
    "</script>\n",
    "<form action=\"javascript:code_toggle()\"><input type=\"submit\" id=\"toggleButton\" value=\"Show Code\"></form>"
   ]
  },
  {
   "cell_type": "markdown",
   "metadata": {},
   "source": [
    "<h1 style=\"text-align: center;\" markdown=\"1\"> ImageNet - Momentum as LR Warm Up</h1>\n",
    "<h2 style=\"text-align: center;\" markdown=\"1\"> Resnet 50</h2>"
   ]
  },
  {
   "cell_type": "code",
   "execution_count": 6,
   "metadata": {
    "scrolled": false
   },
   "outputs": [
    {
     "data": {
      "text/html": [
       "\n",
       "    <div class=\"bk-root\">\n",
       "        <a href=\"https://bokeh.pydata.org\" target=\"_blank\" class=\"bk-logo bk-logo-small bk-logo-notebook\"></a>\n",
       "        <span id=\"a2a4a857-938c-4200-8d55-c4bcfb819be4\">Loading BokehJS ...</span>\n",
       "    </div>"
      ]
     },
     "metadata": {},
     "output_type": "display_data"
    },
    {
     "data": {
      "application/javascript": [
       "\n",
       "(function(root) {\n",
       "  function now() {\n",
       "    return new Date();\n",
       "  }\n",
       "\n",
       "  var force = true;\n",
       "\n",
       "  if (typeof (root._bokeh_onload_callbacks) === \"undefined\" || force === true) {\n",
       "    root._bokeh_onload_callbacks = [];\n",
       "    root._bokeh_is_loading = undefined;\n",
       "  }\n",
       "\n",
       "  var JS_MIME_TYPE = 'application/javascript';\n",
       "  var HTML_MIME_TYPE = 'text/html';\n",
       "  var EXEC_MIME_TYPE = 'application/vnd.bokehjs_exec.v0+json';\n",
       "  var CLASS_NAME = 'output_bokeh rendered_html';\n",
       "\n",
       "  /**\n",
       "   * Render data to the DOM node\n",
       "   */\n",
       "  function render(props, node) {\n",
       "    var script = document.createElement(\"script\");\n",
       "    node.appendChild(script);\n",
       "  }\n",
       "\n",
       "  /**\n",
       "   * Handle when an output is cleared or removed\n",
       "   */\n",
       "  function handleClearOutput(event, handle) {\n",
       "    var cell = handle.cell;\n",
       "\n",
       "    var id = cell.output_area._bokeh_element_id;\n",
       "    var server_id = cell.output_area._bokeh_server_id;\n",
       "    // Clean up Bokeh references\n",
       "    if (id !== undefined) {\n",
       "      Bokeh.index[id].model.document.clear();\n",
       "      delete Bokeh.index[id];\n",
       "    }\n",
       "\n",
       "    if (server_id !== undefined) {\n",
       "      // Clean up Bokeh references\n",
       "      var cmd = \"from bokeh.io.state import curstate; print(curstate().uuid_to_server['\" + server_id + \"'].get_sessions()[0].document.roots[0]._id)\";\n",
       "      cell.notebook.kernel.execute(cmd, {\n",
       "        iopub: {\n",
       "          output: function(msg) {\n",
       "            var element_id = msg.content.text.trim();\n",
       "            Bokeh.index[element_id].model.document.clear();\n",
       "            delete Bokeh.index[element_id];\n",
       "          }\n",
       "        }\n",
       "      });\n",
       "      // Destroy server and session\n",
       "      var cmd = \"import bokeh.io.notebook as ion; ion.destroy_server('\" + server_id + \"')\";\n",
       "      cell.notebook.kernel.execute(cmd);\n",
       "    }\n",
       "  }\n",
       "\n",
       "  /**\n",
       "   * Handle when a new output is added\n",
       "   */\n",
       "  function handleAddOutput(event, handle) {\n",
       "    var output_area = handle.output_area;\n",
       "    var output = handle.output;\n",
       "\n",
       "    // limit handleAddOutput to display_data with EXEC_MIME_TYPE content only\n",
       "    if ((output.output_type != \"display_data\") || (!output.data.hasOwnProperty(EXEC_MIME_TYPE))) {\n",
       "      return\n",
       "    }\n",
       "\n",
       "    var toinsert = output_area.element.find(\".\" + CLASS_NAME.split(' ')[0]);\n",
       "\n",
       "    if (output.metadata[EXEC_MIME_TYPE][\"id\"] !== undefined) {\n",
       "      toinsert[0].firstChild.textContent = output.data[JS_MIME_TYPE];\n",
       "      // store reference to embed id on output_area\n",
       "      output_area._bokeh_element_id = output.metadata[EXEC_MIME_TYPE][\"id\"];\n",
       "    }\n",
       "    if (output.metadata[EXEC_MIME_TYPE][\"server_id\"] !== undefined) {\n",
       "      var bk_div = document.createElement(\"div\");\n",
       "      bk_div.innerHTML = output.data[HTML_MIME_TYPE];\n",
       "      var script_attrs = bk_div.children[0].attributes;\n",
       "      for (var i = 0; i < script_attrs.length; i++) {\n",
       "        toinsert[0].firstChild.setAttribute(script_attrs[i].name, script_attrs[i].value);\n",
       "      }\n",
       "      // store reference to server id on output_area\n",
       "      output_area._bokeh_server_id = output.metadata[EXEC_MIME_TYPE][\"server_id\"];\n",
       "    }\n",
       "  }\n",
       "\n",
       "  function register_renderer(events, OutputArea) {\n",
       "\n",
       "    function append_mime(data, metadata, element) {\n",
       "      // create a DOM node to render to\n",
       "      var toinsert = this.create_output_subarea(\n",
       "        metadata,\n",
       "        CLASS_NAME,\n",
       "        EXEC_MIME_TYPE\n",
       "      );\n",
       "      this.keyboard_manager.register_events(toinsert);\n",
       "      // Render to node\n",
       "      var props = {data: data, metadata: metadata[EXEC_MIME_TYPE]};\n",
       "      render(props, toinsert[0]);\n",
       "      element.append(toinsert);\n",
       "      return toinsert\n",
       "    }\n",
       "\n",
       "    /* Handle when an output is cleared or removed */\n",
       "    events.on('clear_output.CodeCell', handleClearOutput);\n",
       "    events.on('delete.Cell', handleClearOutput);\n",
       "\n",
       "    /* Handle when a new output is added */\n",
       "    events.on('output_added.OutputArea', handleAddOutput);\n",
       "\n",
       "    /**\n",
       "     * Register the mime type and append_mime function with output_area\n",
       "     */\n",
       "    OutputArea.prototype.register_mime_type(EXEC_MIME_TYPE, append_mime, {\n",
       "      /* Is output safe? */\n",
       "      safe: true,\n",
       "      /* Index of renderer in `output_area.display_order` */\n",
       "      index: 0\n",
       "    });\n",
       "  }\n",
       "\n",
       "  // register the mime type if in Jupyter Notebook environment and previously unregistered\n",
       "  if (root.Jupyter !== undefined) {\n",
       "    var events = require('base/js/events');\n",
       "    var OutputArea = require('notebook/js/outputarea').OutputArea;\n",
       "\n",
       "    if (OutputArea.prototype.mime_types().indexOf(EXEC_MIME_TYPE) == -1) {\n",
       "      register_renderer(events, OutputArea);\n",
       "    }\n",
       "  }\n",
       "\n",
       "  \n",
       "  if (typeof (root._bokeh_timeout) === \"undefined\" || force === true) {\n",
       "    root._bokeh_timeout = Date.now() + 5000;\n",
       "    root._bokeh_failed_load = false;\n",
       "  }\n",
       "\n",
       "  var NB_LOAD_WARNING = {'data': {'text/html':\n",
       "     \"<div style='background-color: #fdd'>\\n\"+\n",
       "     \"<p>\\n\"+\n",
       "     \"BokehJS does not appear to have successfully loaded. If loading BokehJS from CDN, this \\n\"+\n",
       "     \"may be due to a slow or bad network connection. Possible fixes:\\n\"+\n",
       "     \"</p>\\n\"+\n",
       "     \"<ul>\\n\"+\n",
       "     \"<li>re-rerun `output_notebook()` to attempt to load from CDN again, or</li>\\n\"+\n",
       "     \"<li>use INLINE resources instead, as so:</li>\\n\"+\n",
       "     \"</ul>\\n\"+\n",
       "     \"<code>\\n\"+\n",
       "     \"from bokeh.resources import INLINE\\n\"+\n",
       "     \"output_notebook(resources=INLINE)\\n\"+\n",
       "     \"</code>\\n\"+\n",
       "     \"</div>\"}};\n",
       "\n",
       "  function display_loaded() {\n",
       "    var el = document.getElementById(\"a2a4a857-938c-4200-8d55-c4bcfb819be4\");\n",
       "    if (el != null) {\n",
       "      el.textContent = \"BokehJS is loading...\";\n",
       "    }\n",
       "    if (root.Bokeh !== undefined) {\n",
       "      if (el != null) {\n",
       "        el.textContent = \"BokehJS \" + root.Bokeh.version + \" successfully loaded.\";\n",
       "      }\n",
       "    } else if (Date.now() < root._bokeh_timeout) {\n",
       "      setTimeout(display_loaded, 100)\n",
       "    }\n",
       "  }\n",
       "\n",
       "\n",
       "  function run_callbacks() {\n",
       "    try {\n",
       "      root._bokeh_onload_callbacks.forEach(function(callback) { callback() });\n",
       "    }\n",
       "    finally {\n",
       "      delete root._bokeh_onload_callbacks\n",
       "    }\n",
       "    console.info(\"Bokeh: all callbacks have finished\");\n",
       "  }\n",
       "\n",
       "  function load_libs(js_urls, callback) {\n",
       "    root._bokeh_onload_callbacks.push(callback);\n",
       "    if (root._bokeh_is_loading > 0) {\n",
       "      console.log(\"Bokeh: BokehJS is being loaded, scheduling callback at\", now());\n",
       "      return null;\n",
       "    }\n",
       "    if (js_urls == null || js_urls.length === 0) {\n",
       "      run_callbacks();\n",
       "      return null;\n",
       "    }\n",
       "    console.log(\"Bokeh: BokehJS not loaded, scheduling load and callback at\", now());\n",
       "    root._bokeh_is_loading = js_urls.length;\n",
       "    for (var i = 0; i < js_urls.length; i++) {\n",
       "      var url = js_urls[i];\n",
       "      var s = document.createElement('script');\n",
       "      s.src = url;\n",
       "      s.async = false;\n",
       "      s.onreadystatechange = s.onload = function() {\n",
       "        root._bokeh_is_loading--;\n",
       "        if (root._bokeh_is_loading === 0) {\n",
       "          console.log(\"Bokeh: all BokehJS libraries loaded\");\n",
       "          run_callbacks()\n",
       "        }\n",
       "      };\n",
       "      s.onerror = function() {\n",
       "        console.warn(\"failed to load library \" + url);\n",
       "      };\n",
       "      console.log(\"Bokeh: injecting script tag for BokehJS library: \", url);\n",
       "      document.getElementsByTagName(\"head\")[0].appendChild(s);\n",
       "    }\n",
       "  };var element = document.getElementById(\"a2a4a857-938c-4200-8d55-c4bcfb819be4\");\n",
       "  if (element == null) {\n",
       "    console.log(\"Bokeh: ERROR: autoload.js configured with elementid 'a2a4a857-938c-4200-8d55-c4bcfb819be4' but no matching script tag was found. \")\n",
       "    return false;\n",
       "  }\n",
       "\n",
       "  var js_urls = [\"https://cdn.pydata.org/bokeh/release/bokeh-0.12.13.min.js\", \"https://cdn.pydata.org/bokeh/release/bokeh-widgets-0.12.13.min.js\", \"https://cdn.pydata.org/bokeh/release/bokeh-tables-0.12.13.min.js\", \"https://cdn.pydata.org/bokeh/release/bokeh-gl-0.12.13.min.js\"];\n",
       "\n",
       "  var inline_js = [\n",
       "    function(Bokeh) {\n",
       "      Bokeh.set_log_level(\"info\");\n",
       "    },\n",
       "    \n",
       "    function(Bokeh) {\n",
       "      \n",
       "    },\n",
       "    function(Bokeh) {\n",
       "      console.log(\"Bokeh: injecting CSS: https://cdn.pydata.org/bokeh/release/bokeh-0.12.13.min.css\");\n",
       "      Bokeh.embed.inject_css(\"https://cdn.pydata.org/bokeh/release/bokeh-0.12.13.min.css\");\n",
       "      console.log(\"Bokeh: injecting CSS: https://cdn.pydata.org/bokeh/release/bokeh-widgets-0.12.13.min.css\");\n",
       "      Bokeh.embed.inject_css(\"https://cdn.pydata.org/bokeh/release/bokeh-widgets-0.12.13.min.css\");\n",
       "      console.log(\"Bokeh: injecting CSS: https://cdn.pydata.org/bokeh/release/bokeh-tables-0.12.13.min.css\");\n",
       "      Bokeh.embed.inject_css(\"https://cdn.pydata.org/bokeh/release/bokeh-tables-0.12.13.min.css\");\n",
       "    }\n",
       "  ];\n",
       "\n",
       "  function run_inline_js() {\n",
       "    \n",
       "    if ((root.Bokeh !== undefined) || (force === true)) {\n",
       "      for (var i = 0; i < inline_js.length; i++) {\n",
       "        inline_js[i].call(root, root.Bokeh);\n",
       "      }if (force === true) {\n",
       "        display_loaded();\n",
       "      }} else if (Date.now() < root._bokeh_timeout) {\n",
       "      setTimeout(run_inline_js, 100);\n",
       "    } else if (!root._bokeh_failed_load) {\n",
       "      console.log(\"Bokeh: BokehJS failed to load within specified timeout.\");\n",
       "      root._bokeh_failed_load = true;\n",
       "    } else if (force !== true) {\n",
       "      var cell = $(document.getElementById(\"a2a4a857-938c-4200-8d55-c4bcfb819be4\")).parents('.cell').data().cell;\n",
       "      cell.output_area.append_execute_result(NB_LOAD_WARNING)\n",
       "    }\n",
       "\n",
       "  }\n",
       "\n",
       "  if (root._bokeh_is_loading === 0) {\n",
       "    console.log(\"Bokeh: BokehJS loaded, going straight to plotting\");\n",
       "    run_inline_js();\n",
       "  } else {\n",
       "    load_libs(js_urls, function() {\n",
       "      console.log(\"Bokeh: BokehJS plotting callback run at\", now());\n",
       "      run_inline_js();\n",
       "    });\n",
       "  }\n",
       "}(window));"
      ],
      "application/vnd.bokehjs_load.v0+json": "\n(function(root) {\n  function now() {\n    return new Date();\n  }\n\n  var force = true;\n\n  if (typeof (root._bokeh_onload_callbacks) === \"undefined\" || force === true) {\n    root._bokeh_onload_callbacks = [];\n    root._bokeh_is_loading = undefined;\n  }\n\n  \n\n  \n  if (typeof (root._bokeh_timeout) === \"undefined\" || force === true) {\n    root._bokeh_timeout = Date.now() + 5000;\n    root._bokeh_failed_load = false;\n  }\n\n  var NB_LOAD_WARNING = {'data': {'text/html':\n     \"<div style='background-color: #fdd'>\\n\"+\n     \"<p>\\n\"+\n     \"BokehJS does not appear to have successfully loaded. If loading BokehJS from CDN, this \\n\"+\n     \"may be due to a slow or bad network connection. Possible fixes:\\n\"+\n     \"</p>\\n\"+\n     \"<ul>\\n\"+\n     \"<li>re-rerun `output_notebook()` to attempt to load from CDN again, or</li>\\n\"+\n     \"<li>use INLINE resources instead, as so:</li>\\n\"+\n     \"</ul>\\n\"+\n     \"<code>\\n\"+\n     \"from bokeh.resources import INLINE\\n\"+\n     \"output_notebook(resources=INLINE)\\n\"+\n     \"</code>\\n\"+\n     \"</div>\"}};\n\n  function display_loaded() {\n    var el = document.getElementById(\"a2a4a857-938c-4200-8d55-c4bcfb819be4\");\n    if (el != null) {\n      el.textContent = \"BokehJS is loading...\";\n    }\n    if (root.Bokeh !== undefined) {\n      if (el != null) {\n        el.textContent = \"BokehJS \" + root.Bokeh.version + \" successfully loaded.\";\n      }\n    } else if (Date.now() < root._bokeh_timeout) {\n      setTimeout(display_loaded, 100)\n    }\n  }\n\n\n  function run_callbacks() {\n    try {\n      root._bokeh_onload_callbacks.forEach(function(callback) { callback() });\n    }\n    finally {\n      delete root._bokeh_onload_callbacks\n    }\n    console.info(\"Bokeh: all callbacks have finished\");\n  }\n\n  function load_libs(js_urls, callback) {\n    root._bokeh_onload_callbacks.push(callback);\n    if (root._bokeh_is_loading > 0) {\n      console.log(\"Bokeh: BokehJS is being loaded, scheduling callback at\", now());\n      return null;\n    }\n    if (js_urls == null || js_urls.length === 0) {\n      run_callbacks();\n      return null;\n    }\n    console.log(\"Bokeh: BokehJS not loaded, scheduling load and callback at\", now());\n    root._bokeh_is_loading = js_urls.length;\n    for (var i = 0; i < js_urls.length; i++) {\n      var url = js_urls[i];\n      var s = document.createElement('script');\n      s.src = url;\n      s.async = false;\n      s.onreadystatechange = s.onload = function() {\n        root._bokeh_is_loading--;\n        if (root._bokeh_is_loading === 0) {\n          console.log(\"Bokeh: all BokehJS libraries loaded\");\n          run_callbacks()\n        }\n      };\n      s.onerror = function() {\n        console.warn(\"failed to load library \" + url);\n      };\n      console.log(\"Bokeh: injecting script tag for BokehJS library: \", url);\n      document.getElementsByTagName(\"head\")[0].appendChild(s);\n    }\n  };var element = document.getElementById(\"a2a4a857-938c-4200-8d55-c4bcfb819be4\");\n  if (element == null) {\n    console.log(\"Bokeh: ERROR: autoload.js configured with elementid 'a2a4a857-938c-4200-8d55-c4bcfb819be4' but no matching script tag was found. \")\n    return false;\n  }\n\n  var js_urls = [\"https://cdn.pydata.org/bokeh/release/bokeh-0.12.13.min.js\", \"https://cdn.pydata.org/bokeh/release/bokeh-widgets-0.12.13.min.js\", \"https://cdn.pydata.org/bokeh/release/bokeh-tables-0.12.13.min.js\", \"https://cdn.pydata.org/bokeh/release/bokeh-gl-0.12.13.min.js\"];\n\n  var inline_js = [\n    function(Bokeh) {\n      Bokeh.set_log_level(\"info\");\n    },\n    \n    function(Bokeh) {\n      \n    },\n    function(Bokeh) {\n      console.log(\"Bokeh: injecting CSS: https://cdn.pydata.org/bokeh/release/bokeh-0.12.13.min.css\");\n      Bokeh.embed.inject_css(\"https://cdn.pydata.org/bokeh/release/bokeh-0.12.13.min.css\");\n      console.log(\"Bokeh: injecting CSS: https://cdn.pydata.org/bokeh/release/bokeh-widgets-0.12.13.min.css\");\n      Bokeh.embed.inject_css(\"https://cdn.pydata.org/bokeh/release/bokeh-widgets-0.12.13.min.css\");\n      console.log(\"Bokeh: injecting CSS: https://cdn.pydata.org/bokeh/release/bokeh-tables-0.12.13.min.css\");\n      Bokeh.embed.inject_css(\"https://cdn.pydata.org/bokeh/release/bokeh-tables-0.12.13.min.css\");\n    }\n  ];\n\n  function run_inline_js() {\n    \n    if ((root.Bokeh !== undefined) || (force === true)) {\n      for (var i = 0; i < inline_js.length; i++) {\n        inline_js[i].call(root, root.Bokeh);\n      }if (force === true) {\n        display_loaded();\n      }} else if (Date.now() < root._bokeh_timeout) {\n      setTimeout(run_inline_js, 100);\n    } else if (!root._bokeh_failed_load) {\n      console.log(\"Bokeh: BokehJS failed to load within specified timeout.\");\n      root._bokeh_failed_load = true;\n    } else if (force !== true) {\n      var cell = $(document.getElementById(\"a2a4a857-938c-4200-8d55-c4bcfb819be4\")).parents('.cell').data().cell;\n      cell.output_area.append_execute_result(NB_LOAD_WARNING)\n    }\n\n  }\n\n  if (root._bokeh_is_loading === 0) {\n    console.log(\"Bokeh: BokehJS loaded, going straight to plotting\");\n    run_inline_js();\n  } else {\n    load_libs(js_urls, function() {\n      console.log(\"Bokeh: BokehJS plotting callback run at\", now());\n      run_inline_js();\n    });\n  }\n}(window));"
     },
     "metadata": {},
     "output_type": "display_data"
    },
    {
     "data": {
      "text/markdown": [
       "<h6> #Simulation 160 - Min Error 23.94% , Mean Error 24.18% , Val Error 23.98%<h6>"
      ],
      "text/plain": [
       "<IPython.core.display.Markdown object>"
      ]
     },
     "metadata": {},
     "output_type": "display_data"
    },
    {
     "data": {
      "text/markdown": [
       "<h6> #Simulation 371 - Min Error 23.77% , Mean Error 24.00% , Val Error 23.81%<h6>"
      ],
      "text/plain": [
       "<IPython.core.display.Markdown object>"
      ]
     },
     "metadata": {},
     "output_type": "display_data"
    }
   ],
   "source": [
    "import numpy as np\n",
    "import pandas as pd\n",
    "from bokeh.io import output_notebook\n",
    "from bokeh.plotting import figure, show, output_file\n",
    "from Outputs.jupyter_graphs import create_graphs, compare_graphs\n",
    "from IPython.display import Markdown, display\n",
    "from IPython.core.interactiveshell import InteractiveShell\n",
    "import warnings\n",
    "warnings.filterwarnings('ignore')\n",
    "sim_num = [160, 371]\n",
    "plots, scores = compare_graphs(sim_nums=sim_num, linear=True)\n",
    "output_notebook()\n",
    "for sim in zip(sim_num,scores):\n",
    "    display(Markdown('<h6> #Simulation {:1d} - Min Error {:.2f}% , Mean Error {:.2f}% , Val Error {:.2f}%<h6>'.format(sim[0],sim[1][0],sim[1][1],sim[1][2])))"
   ]
  },
  {
   "cell_type": "code",
   "execution_count": 12,
   "metadata": {},
   "outputs": [
    {
     "name": "stdout",
     "output_type": "stream",
     "text": [
      "Legend - (batchsize, #w, momentum, dampening, lr, #sim)\n",
      "371 - Turning momentum off at epoch 5, 160 - baseline\n"
     ]
    },
    {
     "data": {
      "text/html": [
       "\n",
       "<div class=\"bk-root\">\n",
       "    <div class=\"bk-plotdiv\" id=\"dd115666-f184-4c3d-b8cf-9132357bb5c9\"></div>\n",
       "</div>"
      ]
     },
     "metadata": {},
     "output_type": "display_data"
    },
    {
     "data": {
      "application/javascript": [
       "(function(root) {\n",
       "  function embed_document(root) {\n",
       "    \n",
       "  var docs_json = {\"b984c9f1-c78e-473d-a0f7-72158f9e79b2\":{\"roots\":{\"references\":[{\"attributes\":{\"plot\":{\"id\":\"1de7a399-78bf-460d-bc64-9c4b2bd1a9d2\",\"subtype\":\"Figure\",\"type\":\"Plot\"},\"ticker\":{\"id\":\"4406659b-1daa-447a-8dc0-cd48e67e2a98\",\"type\":\"BasicTicker\"}},\"id\":\"ec3bb1ad-d9ee-4620-8ebd-25c1a38382e3\",\"type\":\"Grid\"},{\"attributes\":{\"click_policy\":\"hide\",\"items\":[{\"id\":\"c19ab4bf-08cf-4adf-8ff0-322a7f7a1137\",\"type\":\"LegendItem\"},{\"id\":\"92a2bfb5-1bc3-41f7-a57d-9ebf4b493bf9\",\"type\":\"LegendItem\"},{\"id\":\"acb03023-6857-4155-8290-793773325751\",\"type\":\"LegendItem\"},{\"id\":\"d2ef9e25-8b79-454d-8b26-7a3a6b85c1ff\",\"type\":\"LegendItem\"}],\"plot\":{\"id\":\"1de7a399-78bf-460d-bc64-9c4b2bd1a9d2\",\"subtype\":\"Figure\",\"type\":\"Plot\"}},\"id\":\"a8838328-4903-457d-81f2-0d6a7c516c06\",\"type\":\"Legend\"},{\"attributes\":{\"line_alpha\":0.1,\"line_color\":\"#1f77b4\",\"line_dash\":[6],\"line_width\":3,\"x\":{\"field\":\"x\"},\"y\":{\"field\":\"y\"}},\"id\":\"cbfed1e8-87e8-4713-b701-3d6d63a78ca0\",\"type\":\"Line\"},{\"attributes\":{\"data_source\":{\"id\":\"141ab2eb-457f-4c41-88a7-fa7641db3e6c\",\"type\":\"ColumnDataSource\"},\"glyph\":{\"id\":\"e13e4e0f-5fbf-4709-937f-3e99a4fb07dc\",\"type\":\"Line\"},\"hover_glyph\":null,\"muted_glyph\":null,\"nonselection_glyph\":{\"id\":\"cbfed1e8-87e8-4713-b701-3d6d63a78ca0\",\"type\":\"Line\"},\"selection_glyph\":null,\"view\":{\"id\":\"1e88c479-bb64-45d5-a1a6-b4371db18300\",\"type\":\"CDSView\"}},\"id\":\"4435ece2-cba5-467f-aec7-188270820355\",\"type\":\"GlyphRenderer\"},{\"attributes\":{},\"id\":\"4406659b-1daa-447a-8dc0-cd48e67e2a98\",\"type\":\"BasicTicker\"},{\"attributes\":{\"axis_label\":\"Error Rate\",\"formatter\":{\"id\":\"f0a19067-a644-4fe5-9c15-91d30b43ac44\",\"type\":\"NumeralTickFormatter\"},\"plot\":{\"id\":\"1de7a399-78bf-460d-bc64-9c4b2bd1a9d2\",\"subtype\":\"Figure\",\"type\":\"Plot\"},\"ticker\":{\"id\":\"fe2839dd-ede9-485b-a39e-4266e74a8a1e\",\"type\":\"BasicTicker\"}},\"id\":\"e1ddadeb-5940-41e7-aad3-70073ddf6ab9\",\"type\":\"LinearAxis\"},{\"attributes\":{\"source\":{\"id\":\"141ab2eb-457f-4c41-88a7-fa7641db3e6c\",\"type\":\"ColumnDataSource\"}},\"id\":\"1e88c479-bb64-45d5-a1a6-b4371db18300\",\"type\":\"CDSView\"},{\"attributes\":{\"callback\":null,\"data\":{}},\"id\":\"f5d8af05-b475-4f6c-8688-3e0ed9796e98\",\"type\":\"ColumnDataSource\"},{\"attributes\":{},\"id\":\"fe2839dd-ede9-485b-a39e-4266e74a8a1e\",\"type\":\"BasicTicker\"},{\"attributes\":{\"label\":{\"value\":\"train - (256, 1, 0.9, 0, 0.1, 160)\"},\"renderers\":[{\"id\":\"4435ece2-cba5-467f-aec7-188270820355\",\"type\":\"GlyphRenderer\"}]},\"id\":\"c19ab4bf-08cf-4adf-8ff0-322a7f7a1137\",\"type\":\"LegendItem\"},{\"attributes\":{\"dimension\":1,\"plot\":{\"id\":\"1de7a399-78bf-460d-bc64-9c4b2bd1a9d2\",\"subtype\":\"Figure\",\"type\":\"Plot\"},\"ticker\":{\"id\":\"fe2839dd-ede9-485b-a39e-4266e74a8a1e\",\"type\":\"BasicTicker\"}},\"id\":\"7675b235-543d-4a00-a96d-df5aeef70e7d\",\"type\":\"Grid\"},{\"attributes\":{},\"id\":\"088617c2-593b-4340-8900-749959e237cf\",\"type\":\"BasicTickFormatter\"},{\"attributes\":{\"bottom_units\":\"screen\",\"fill_alpha\":{\"value\":0.5},\"fill_color\":{\"value\":\"lightgrey\"},\"left_units\":\"screen\",\"level\":\"overlay\",\"line_alpha\":{\"value\":1.0},\"line_color\":{\"value\":\"black\"},\"line_dash\":[4,4],\"line_width\":{\"value\":2},\"plot\":null,\"render_mode\":\"css\",\"right_units\":\"screen\",\"top_units\":\"screen\"},\"id\":\"17ff18c3-d437-4a1e-abfb-f6cbfb83004a\",\"type\":\"BoxAnnotation\"},{\"attributes\":{},\"id\":\"f7621e36-a293-49b3-85ea-c9a9320f3a43\",\"type\":\"PanTool\"},{\"attributes\":{\"source\":{\"id\":\"a1806575-7538-4764-9187-f6ee8e3452f8\",\"type\":\"ColumnDataSource\"}},\"id\":\"5d226544-cfb4-497e-a8b2-15d8647ec628\",\"type\":\"CDSView\"},{\"attributes\":{},\"id\":\"f8684ceb-9b1f-4968-95a3-7ebe62d6f61f\",\"type\":\"WheelZoomTool\"},{\"attributes\":{\"overlay\":{\"id\":\"17ff18c3-d437-4a1e-abfb-f6cbfb83004a\",\"type\":\"BoxAnnotation\"}},\"id\":\"f5e708cc-4856-4c93-b22b-87ff47fe22f2\",\"type\":\"BoxZoomTool\"},{\"attributes\":{},\"id\":\"495b623f-0ba9-457b-b529-cfd2b18c9c03\",\"type\":\"SaveTool\"},{\"attributes\":{},\"id\":\"e59c5b51-e508-4d1a-aa55-eb23eb6e11dc\",\"type\":\"ResetTool\"},{\"attributes\":{},\"id\":\"a33eee64-318e-418c-acdd-9859ae43e7f5\",\"type\":\"HelpTool\"},{\"attributes\":{\"callback\":null,\"column_names\":[\"x\",\"y\"],\"data\":{\"x\":{\"__ndarray__\":\"AQAAAAIAAAADAAAABAAAAAUAAAAGAAAABwAAAAgAAAAJAAAACgAAAAsAAAAMAAAADQAAAA4AAAAPAAAAEAAAABEAAAASAAAAEwAAABQAAAAVAAAAFgAAABcAAAAYAAAAGQAAABoAAAAbAAAAHAAAAB0AAAAeAAAAHwAAACAAAAAhAAAAIgAAACMAAAAkAAAAJQAAACYAAAAnAAAAKAAAACkAAAAqAAAAKwAAACwAAAAtAAAALgAAAC8AAAAwAAAAMQAAADIAAAAzAAAANAAAADUAAAA2AAAANwAAADgAAAA5AAAAOgAAADsAAAA8AAAAPQAAAD4AAAA/AAAAQAAAAEEAAABCAAAAQwAAAEQAAABFAAAARgAAAEcAAABIAAAASQAAAEoAAABLAAAATAAAAE0AAABOAAAATwAAAFAAAABRAAAAUgAAAFMAAABUAAAAVQAAAFYAAABXAAAAWAAAAFkAAABaAAAA\",\"dtype\":\"int32\",\"shape\":[90]},\"y\":[0.8533599999725342,0.6829600000976562,0.613800000366211,0.570940000024414,0.5318000001220703,0.6552200002807618,0.6386399999023438,0.600160000012207,0.7244200001037597,0.6278000001098633,0.5934200000610352,0.5611599999145508,0.6300000002319336,0.5454200001220704,0.5614399998046875,0.5340200002075196,0.618940000402832,0.54372,0.5244800002197265,0.5289000003173828,0.5549999999267579,0.5875600002319336,0.5779200002441407,0.5767600002563477,0.5105200002685547,0.5341800001464844,0.5281600003662109,0.5505000002929687,0.507400000012207,0.5508000002685547,0.3157199997558594,0.30370000004882813,0.30333999975585935,0.29972000048828124,0.31001999999999996,0.29864000061035156,0.30328000024414065,0.30254000004882814,0.3055599999267578,0.30737999985351566,0.32395999992675784,0.3161800001708984,0.3113400000488281,0.31337999997558597,0.3544600003540039,0.33540000024414063,0.3042600005859375,0.31018000029296877,0.30567999978027344,0.3139999998535156,0.3163600002441406,0.3260800001464844,0.3047799998779297,0.3145600004638672,0.30651999995117185,0.32514000063476567,0.3069600004638672,0.3039399997802735,0.3094000008300781,0.31086000041503903,0.2581200002197266,0.25388000021972656,0.24962000026855471,0.25030000034179684,0.24804000002441406,0.2468200000732422,0.24840000026855466,0.24490000078125,0.24590000063476564,0.24606000031738284,0.24562000068359374,0.24450000073242187,0.24597999970703124,0.2450600000732422,0.2451800000244141,0.24546000083007813,0.24316000075683594,0.24394000046386718,0.24367999992675782,0.24275999978027343,0.2395000003417969,0.23950000024414064,0.2403200005371094,0.23875999995117186,0.2380200006347656,0.2386999998046875,0.2376800005126953,0.23815999958496092,0.2384200000732422,0.2380600000488281]}},\"id\":\"a1806575-7538-4764-9187-f6ee8e3452f8\",\"type\":\"ColumnDataSource\"},{\"attributes\":{\"fill_alpha\":{\"value\":0.1},\"fill_color\":{\"value\":\"#1f77b4\"},\"line_alpha\":{\"value\":0.1},\"line_color\":{\"value\":\"#1f77b4\"},\"size\":{\"units\":\"screen\",\"value\":5},\"x\":{\"value\":87},\"y\":{\"value\":0.2376800005126953}},\"id\":\"c7113e56-3383-4ddf-98b7-5c3e62d489e0\",\"type\":\"Circle\"},{\"attributes\":{\"line_color\":\"#ff7f0e\",\"line_width\":3,\"x\":{\"field\":\"x\"},\"y\":{\"field\":\"y\"}},\"id\":\"9c46a29a-adf5-41c2-8bf2-b596f30edc65\",\"type\":\"Line\"},{\"attributes\":{\"label\":{\"value\":\"validation - (256, 1, 0.9, 0, 0.1, 371)\"},\"renderers\":[{\"id\":\"f6ba13fd-d136-4680-9a86-f0828f151772\",\"type\":\"GlyphRenderer\"}]},\"id\":\"d2ef9e25-8b79-454d-8b26-7a3a6b85c1ff\",\"type\":\"LegendItem\"},{\"attributes\":{\"data_source\":{\"id\":\"a1806575-7538-4764-9187-f6ee8e3452f8\",\"type\":\"ColumnDataSource\"},\"glyph\":{\"id\":\"9c46a29a-adf5-41c2-8bf2-b596f30edc65\",\"type\":\"Line\"},\"hover_glyph\":null,\"muted_glyph\":null,\"nonselection_glyph\":{\"id\":\"caa09c41-438c-4c5b-8870-5bd5263b0462\",\"type\":\"Line\"},\"selection_glyph\":null,\"view\":{\"id\":\"5d226544-cfb4-497e-a8b2-15d8647ec628\",\"type\":\"CDSView\"}},\"id\":\"f6ba13fd-d136-4680-9a86-f0828f151772\",\"type\":\"GlyphRenderer\"},{\"attributes\":{\"line_alpha\":0.1,\"line_color\":\"#1f77b4\",\"line_width\":3,\"x\":{\"field\":\"x\"},\"y\":{\"field\":\"y\"}},\"id\":\"caa09c41-438c-4c5b-8870-5bd5263b0462\",\"type\":\"Line\"},{\"attributes\":{\"fill_alpha\":{\"value\":0.5},\"fill_color\":{\"value\":\"red\"},\"line_alpha\":{\"value\":0.5},\"line_color\":{\"value\":\"red\"},\"size\":{\"units\":\"screen\",\"value\":5},\"x\":{\"value\":87},\"y\":{\"value\":0.2376800005126953}},\"id\":\"0aa865a5-0e09-4329-9b42-33f0c511a904\",\"type\":\"Circle\"},{\"attributes\":{\"source\":{\"id\":\"f5d8af05-b475-4f6c-8688-3e0ed9796e98\",\"type\":\"ColumnDataSource\"}},\"id\":\"431e05c3-ff93-4026-92c4-e7504a02993d\",\"type\":\"CDSView\"},{\"attributes\":{\"callback\":null,\"data\":{}},\"id\":\"c7759c24-fa3b-4c69-9e6a-f2fa483351c7\",\"type\":\"ColumnDataSource\"},{\"attributes\":{\"data_source\":{\"id\":\"f5d8af05-b475-4f6c-8688-3e0ed9796e98\",\"type\":\"ColumnDataSource\"},\"glyph\":{\"id\":\"0aa865a5-0e09-4329-9b42-33f0c511a904\",\"type\":\"Circle\"},\"hover_glyph\":null,\"muted_glyph\":null,\"nonselection_glyph\":{\"id\":\"c7113e56-3383-4ddf-98b7-5c3e62d489e0\",\"type\":\"Circle\"},\"selection_glyph\":null,\"view\":{\"id\":\"431e05c3-ff93-4026-92c4-e7504a02993d\",\"type\":\"CDSView\"}},\"id\":\"354c5916-98fb-4968-aaa9-fda4b8bb77fb\",\"type\":\"GlyphRenderer\"},{\"attributes\":{\"source\":{\"id\":\"6b269f9a-cc8f-435a-a40b-6d5bfc39d00f\",\"type\":\"ColumnDataSource\"}},\"id\":\"7d3d5178-3142-434b-9488-f047124d67ce\",\"type\":\"CDSView\"},{\"attributes\":{\"active_drag\":\"auto\",\"active_inspect\":\"auto\",\"active_scroll\":\"auto\",\"active_tap\":\"auto\",\"tools\":[{\"id\":\"f7621e36-a293-49b3-85ea-c9a9320f3a43\",\"type\":\"PanTool\"},{\"id\":\"f8684ceb-9b1f-4968-95a3-7ebe62d6f61f\",\"type\":\"WheelZoomTool\"},{\"id\":\"f5e708cc-4856-4c93-b22b-87ff47fe22f2\",\"type\":\"BoxZoomTool\"},{\"id\":\"495b623f-0ba9-457b-b529-cfd2b18c9c03\",\"type\":\"SaveTool\"},{\"id\":\"e59c5b51-e508-4d1a-aa55-eb23eb6e11dc\",\"type\":\"ResetTool\"},{\"id\":\"a33eee64-318e-418c-acdd-9859ae43e7f5\",\"type\":\"HelpTool\"}]},\"id\":\"d67f0f90-5608-42f0-81b1-f533730bea76\",\"type\":\"Toolbar\"},{\"attributes\":{\"callback\":null,\"column_names\":[\"x\",\"y\"],\"data\":{\"x\":{\"__ndarray__\":\"AQAAAAIAAAADAAAABAAAAAUAAAAGAAAABwAAAAgAAAAJAAAACgAAAAsAAAAMAAAADQAAAA4AAAAPAAAAEAAAABEAAAASAAAAEwAAABQAAAAVAAAAFgAAABcAAAAYAAAAGQAAABoAAAAbAAAAHAAAAB0AAAAeAAAAHwAAACAAAAAhAAAAIgAAACMAAAAkAAAAJQAAACYAAAAnAAAAKAAAACkAAAAqAAAAKwAAACwAAAAtAAAALgAAAC8AAAAwAAAAMQAAADIAAAAzAAAANAAAADUAAAA2AAAANwAAADgAAAA5AAAAOgAAADsAAAA8AAAAPQAAAD4AAAA/AAAAQAAAAEEAAABCAAAAQwAAAEQAAABFAAAARgAAAEcAAABIAAAASQAAAEoAAABLAAAATAAAAE0AAABOAAAATwAAAFAAAABRAAAAUgAAAFMAAABUAAAAVQAAAFYAAABXAAAAWAAAAFkAAABaAAAA\",\"dtype\":\"int32\",\"shape\":[90]},\"y\":[0.845140000100708,0.6885200001831054,0.6396000000000001,0.599080000402832,0.5499599999145508,0.5531599998535156,0.5450200000488281,0.5160400001220703,0.5274200000732422,0.5083800001708985,0.5088199999999999,0.5014400000976562,0.5052000000610352,0.5015000001342773,0.48844000015869143,0.50152,0.47404000009765623,0.4828199999511719,0.48326000030517574,0.47749999985351566,0.4776800001098633,0.48550000036621094,0.4954399999145508,0.467200000012207,0.48847999999999997,0.4572800002685547,0.4879399999267578,0.4535399999267578,0.47402000032958985,0.5004800001220704,0.3206999999023437,0.3100200000488281,0.30400000017089845,0.3018999999511719,0.30333999968261716,0.2993799997558594,0.3013400001464844,0.31332000029296875,0.30386000073242186,0.30220000009765624,0.29863999980468753,0.30657999975585937,0.30195999980468746,0.3096599999511719,0.30144000017089845,0.3031599998046875,0.30491999978027345,0.30530000068359375,0.3134799995849609,0.3101800006591797,0.2996600007568359,0.31482000029296875,0.3042800005126953,0.2997400001220703,0.30390000034179687,0.2976199999755859,0.3073199996582031,0.3025999999267578,0.2955800000244141,0.3026999995605469,0.2570999997070313,0.25495999992675783,0.25305999995117184,0.25116000004882816,0.2494000005126953,0.2477600004638672,0.248799999609375,0.24880000002441405,0.24874000004882812,0.2474600000732422,0.24696000070800783,0.24768000002441407,0.246599999609375,0.24652000083007813,0.24702000083007813,0.24520000061035155,0.24493999978027342,0.24486000083007814,0.24679999968261718,0.24509999997558596,0.24227999963378907,0.24098000056152344,0.2403400000732422,0.24105999997558594,0.23968000073242188,0.24068000002441406,0.24001999995117188,0.23941999997558594,0.23940000009765627,0.23979999958496095]}},\"id\":\"6b269f9a-cc8f-435a-a40b-6d5bfc39d00f\",\"type\":\"ColumnDataSource\"},{\"attributes\":{\"source\":{\"id\":\"c7759c24-fa3b-4c69-9e6a-f2fa483351c7\",\"type\":\"ColumnDataSource\"}},\"id\":\"5bb3d03e-7eb6-40a8-8357-44c2b2918499\",\"type\":\"CDSView\"},{\"attributes\":{\"callback\":null,\"column_names\":[\"x\",\"y\"],\"data\":{\"x\":{\"__ndarray__\":\"AQAAAAIAAAADAAAABAAAAAUAAAAGAAAABwAAAAgAAAAJAAAACgAAAAsAAAAMAAAADQAAAA4AAAAPAAAAEAAAABEAAAASAAAAEwAAABQAAAAVAAAAFgAAABcAAAAYAAAAGQAAABoAAAAbAAAAHAAAAB0AAAAeAAAAHwAAACAAAAAhAAAAIgAAACMAAAAkAAAAJQAAACYAAAAnAAAAKAAAACkAAAAqAAAAKwAAACwAAAAtAAAALgAAAC8AAAAwAAAAMQAAADIAAAAzAAAANAAAADUAAAA2AAAANwAAADgAAAA5AAAAOgAAADsAAAA8AAAAPQAAAD4AAAA/AAAAQAAAAEEAAABCAAAAQwAAAEQAAABFAAAARgAAAEcAAABIAAAASQAAAEoAAABLAAAATAAAAE0AAABOAAAATwAAAFAAAABRAAAAUgAAAFMAAABUAAAAVQAAAFYAAABXAAAAWAAAAFkAAABaAAAA\",\"dtype\":\"int32\",\"shape\":[90]},\"y\":[0.9350662325828377,0.7561918157413231,0.6611604888361055,0.613685023106171,0.585115757742686,0.5692599013217788,0.5553616351329669,0.5444551725103303,0.5365381718397457,0.5295008379072835,0.5250767464361878,0.5206464106550769,0.5168990459472971,0.513970465990462,0.5112502897758221,0.509071026648671,0.5072679830176544,0.5055835812201142,0.503717313979043,0.5018791461209958,0.5003235331529535,0.4998692598245211,0.49867815827178547,0.498182516407915,0.49661129267410997,0.49564732778766,0.49479341881129246,0.49477156373697345,0.49409171481827785,0.49328932137777676,0.3802814153009498,0.35689726631713703,0.3477329653352723,0.34185941410925275,0.3381487347081884,0.33541216718706496,0.3337199600024747,0.33278019181116614,0.33248827045883317,0.3326482808268838,0.3324070944726145,0.3324242663126133,0.33263501167080745,0.33202228905281816,0.33230406340225116,0.3324055333942696,0.33205429112697016,0.3316406057909026,0.33171163478023585,0.33118321030854936,0.3306883489784919,0.3301653882721694,0.32942231574797476,0.3292092287717272,0.32867455999077,0.32776835494519946,0.32739916029188043,0.32681531759573024,0.3265577399354538,0.3256757315787123,0.2797988084251839,0.26749205997201686,0.2625169084153859,0.2591730820420838,0.2568626884665177,0.25434076900088,0.2527188102682668,0.25041700262196026,0.24943430481406995,0.24885514535063205,0.24767184917762172,0.24561356950009447,0.24408293375850543,0.2436544181941801,0.24171478034867008,0.24118869749018354,0.24042142827641544,0.23899382359846058,0.2386074571079417,0.23722122096351916,0.23048283323207142,0.22889053495335357,0.22765182056558622,0.22753161765433083,0.2269961683398286,0.2264669633218534,0.22575277071434674,0.2259041951578424,0.2255787106600692,0.22564973964749688]}},\"id\":\"9d3628eb-920c-4df8-a0ca-4225a9196205\",\"type\":\"ColumnDataSource\"},{\"attributes\":{\"plot\":null,\"text\":\"Training & Test Error\"},\"id\":\"b18e0427-ce9e-4511-9e5e-0e71a1cb90f7\",\"type\":\"Title\"},{\"attributes\":{\"line_color\":\"#1f77b4\",\"line_width\":3,\"x\":{\"field\":\"x\"},\"y\":{\"field\":\"y\"}},\"id\":\"d08cbd8f-2997-4217-be59-1c556f2d26d1\",\"type\":\"Line\"},{\"attributes\":{\"label\":{\"value\":\"validation - (256, 1, 0.9, 0, 0.1, 160)\"},\"renderers\":[{\"id\":\"a3ff6ed0-2e0f-4b6b-8af4-994bc136a916\",\"type\":\"GlyphRenderer\"}]},\"id\":\"92a2bfb5-1bc3-41f7-a57d-9ebf4b493bf9\",\"type\":\"LegendItem\"},{\"attributes\":{\"source\":{\"id\":\"9d3628eb-920c-4df8-a0ca-4225a9196205\",\"type\":\"ColumnDataSource\"}},\"id\":\"4c784a13-a6f7-4c4f-ba80-7f8c4e2d0545\",\"type\":\"CDSView\"},{\"attributes\":{\"data_source\":{\"id\":\"6b269f9a-cc8f-435a-a40b-6d5bfc39d00f\",\"type\":\"ColumnDataSource\"},\"glyph\":{\"id\":\"d08cbd8f-2997-4217-be59-1c556f2d26d1\",\"type\":\"Line\"},\"hover_glyph\":null,\"muted_glyph\":null,\"nonselection_glyph\":{\"id\":\"ceb6d902-121b-49f3-bb84-8dbe4c06729c\",\"type\":\"Line\"},\"selection_glyph\":null,\"view\":{\"id\":\"7d3d5178-3142-434b-9488-f047124d67ce\",\"type\":\"CDSView\"}},\"id\":\"a3ff6ed0-2e0f-4b6b-8af4-994bc136a916\",\"type\":\"GlyphRenderer\"},{\"attributes\":{\"line_alpha\":0.1,\"line_color\":\"#1f77b4\",\"line_width\":3,\"x\":{\"field\":\"x\"},\"y\":{\"field\":\"y\"}},\"id\":\"ceb6d902-121b-49f3-bb84-8dbe4c06729c\",\"type\":\"Line\"},{\"attributes\":{\"fill_alpha\":{\"value\":0.5},\"fill_color\":{\"value\":\"red\"},\"line_alpha\":{\"value\":0.5},\"line_color\":{\"value\":\"red\"},\"size\":{\"units\":\"screen\",\"value\":5},\"x\":{\"value\":89},\"y\":{\"value\":0.23940000009765627}},\"id\":\"34336aff-6f44-4d2b-9087-29c4e466a9db\",\"type\":\"Circle\"},{\"attributes\":{\"data_source\":{\"id\":\"c7759c24-fa3b-4c69-9e6a-f2fa483351c7\",\"type\":\"ColumnDataSource\"},\"glyph\":{\"id\":\"34336aff-6f44-4d2b-9087-29c4e466a9db\",\"type\":\"Circle\"},\"hover_glyph\":null,\"muted_glyph\":null,\"nonselection_glyph\":{\"id\":\"f1f01db1-b287-4a17-9c1d-ccc254390654\",\"type\":\"Circle\"},\"selection_glyph\":null,\"view\":{\"id\":\"5bb3d03e-7eb6-40a8-8357-44c2b2918499\",\"type\":\"CDSView\"}},\"id\":\"ab57038a-40ae-4a8d-bea8-bf736e45cc63\",\"type\":\"GlyphRenderer\"},{\"attributes\":{\"line_color\":\"#ff7f0e\",\"line_dash\":[6],\"line_width\":3,\"x\":{\"field\":\"x\"},\"y\":{\"field\":\"y\"}},\"id\":\"5391eea6-5602-4fba-8dcd-b7985d2107a4\",\"type\":\"Line\"},{\"attributes\":{\"label\":{\"value\":\"train - (256, 1, 0.9, 0, 0.1, 371)\"},\"renderers\":[{\"id\":\"c14f495e-3f35-49f2-8109-8dff367c773d\",\"type\":\"GlyphRenderer\"}]},\"id\":\"acb03023-6857-4155-8290-793773325751\",\"type\":\"LegendItem\"},{\"attributes\":{\"fill_alpha\":{\"value\":0.1},\"fill_color\":{\"value\":\"#1f77b4\"},\"line_alpha\":{\"value\":0.1},\"line_color\":{\"value\":\"#1f77b4\"},\"size\":{\"units\":\"screen\",\"value\":5},\"x\":{\"value\":89},\"y\":{\"value\":0.23940000009765627}},\"id\":\"f1f01db1-b287-4a17-9c1d-ccc254390654\",\"type\":\"Circle\"},{\"attributes\":{\"data_source\":{\"id\":\"9d3628eb-920c-4df8-a0ca-4225a9196205\",\"type\":\"ColumnDataSource\"},\"glyph\":{\"id\":\"5391eea6-5602-4fba-8dcd-b7985d2107a4\",\"type\":\"Line\"},\"hover_glyph\":null,\"muted_glyph\":null,\"nonselection_glyph\":{\"id\":\"9ff20d3c-2163-4a64-9130-5487dae03453\",\"type\":\"Line\"},\"selection_glyph\":null,\"view\":{\"id\":\"4c784a13-a6f7-4c4f-ba80-7f8c4e2d0545\",\"type\":\"CDSView\"}},\"id\":\"c14f495e-3f35-49f2-8109-8dff367c773d\",\"type\":\"GlyphRenderer\"},{\"attributes\":{\"line_alpha\":0.1,\"line_color\":\"#1f77b4\",\"line_dash\":[6],\"line_width\":3,\"x\":{\"field\":\"x\"},\"y\":{\"field\":\"y\"}},\"id\":\"9ff20d3c-2163-4a64-9130-5487dae03453\",\"type\":\"Line\"},{\"attributes\":{\"callback\":null},\"id\":\"f429295a-68eb-415e-a749-6e0dcc596475\",\"type\":\"DataRange1d\"},{\"attributes\":{\"format\":\"0.0%\"},\"id\":\"f0a19067-a644-4fe5-9c15-91d30b43ac44\",\"type\":\"NumeralTickFormatter\"},{\"attributes\":{\"background_fill_color\":{\"value\":\"#fafafa\"},\"below\":[{\"id\":\"165be221-8c34-4c6c-8d19-2121eecfc0a0\",\"type\":\"LinearAxis\"}],\"left\":[{\"id\":\"e1ddadeb-5940-41e7-aad3-70073ddf6ab9\",\"type\":\"LinearAxis\"}],\"min_border\":10,\"min_border_left\":50,\"renderers\":[{\"id\":\"165be221-8c34-4c6c-8d19-2121eecfc0a0\",\"type\":\"LinearAxis\"},{\"id\":\"ec3bb1ad-d9ee-4620-8ebd-25c1a38382e3\",\"type\":\"Grid\"},{\"id\":\"e1ddadeb-5940-41e7-aad3-70073ddf6ab9\",\"type\":\"LinearAxis\"},{\"id\":\"7675b235-543d-4a00-a96d-df5aeef70e7d\",\"type\":\"Grid\"},{\"id\":\"17ff18c3-d437-4a1e-abfb-f6cbfb83004a\",\"type\":\"BoxAnnotation\"},{\"id\":\"a8838328-4903-457d-81f2-0d6a7c516c06\",\"type\":\"Legend\"},{\"id\":\"4435ece2-cba5-467f-aec7-188270820355\",\"type\":\"GlyphRenderer\"},{\"id\":\"a3ff6ed0-2e0f-4b6b-8af4-994bc136a916\",\"type\":\"GlyphRenderer\"},{\"id\":\"ab57038a-40ae-4a8d-bea8-bf736e45cc63\",\"type\":\"GlyphRenderer\"},{\"id\":\"c14f495e-3f35-49f2-8109-8dff367c773d\",\"type\":\"GlyphRenderer\"},{\"id\":\"f6ba13fd-d136-4680-9a86-f0828f151772\",\"type\":\"GlyphRenderer\"},{\"id\":\"354c5916-98fb-4968-aaa9-fda4b8bb77fb\",\"type\":\"GlyphRenderer\"}],\"title\":{\"id\":\"b18e0427-ce9e-4511-9e5e-0e71a1cb90f7\",\"type\":\"Title\"},\"toolbar\":{\"id\":\"d67f0f90-5608-42f0-81b1-f533730bea76\",\"type\":\"Toolbar\"},\"x_range\":{\"id\":\"f429295a-68eb-415e-a749-6e0dcc596475\",\"type\":\"DataRange1d\"},\"x_scale\":{\"id\":\"a46efc25-2a41-4a89-89b9-74eb38238603\",\"type\":\"LinearScale\"},\"y_range\":{\"id\":\"b2db6da9-c500-4953-9b32-ff376b8ff955\",\"type\":\"DataRange1d\"},\"y_scale\":{\"id\":\"cbb77f01-cab4-4a83-bd07-9c855efa52d2\",\"type\":\"LinearScale\"}},\"id\":\"1de7a399-78bf-460d-bc64-9c4b2bd1a9d2\",\"subtype\":\"Figure\",\"type\":\"Plot\"},{\"attributes\":{\"axis_label\":\"t [Epochs]\",\"formatter\":{\"id\":\"088617c2-593b-4340-8900-749959e237cf\",\"type\":\"BasicTickFormatter\"},\"plot\":{\"id\":\"1de7a399-78bf-460d-bc64-9c4b2bd1a9d2\",\"subtype\":\"Figure\",\"type\":\"Plot\"},\"ticker\":{\"id\":\"4406659b-1daa-447a-8dc0-cd48e67e2a98\",\"type\":\"BasicTicker\"}},\"id\":\"165be221-8c34-4c6c-8d19-2121eecfc0a0\",\"type\":\"LinearAxis\"},{\"attributes\":{\"callback\":null},\"id\":\"b2db6da9-c500-4953-9b32-ff376b8ff955\",\"type\":\"DataRange1d\"},{\"attributes\":{},\"id\":\"cbb77f01-cab4-4a83-bd07-9c855efa52d2\",\"type\":\"LinearScale\"},{\"attributes\":{\"line_color\":\"#1f77b4\",\"line_dash\":[6],\"line_width\":3,\"x\":{\"field\":\"x\"},\"y\":{\"field\":\"y\"}},\"id\":\"e13e4e0f-5fbf-4709-937f-3e99a4fb07dc\",\"type\":\"Line\"},{\"attributes\":{},\"id\":\"a46efc25-2a41-4a89-89b9-74eb38238603\",\"type\":\"LinearScale\"},{\"attributes\":{\"callback\":null,\"column_names\":[\"x\",\"y\"],\"data\":{\"x\":{\"__ndarray__\":\"AQAAAAIAAAADAAAABAAAAAUAAAAGAAAABwAAAAgAAAAJAAAACgAAAAsAAAAMAAAADQAAAA4AAAAPAAAAEAAAABEAAAASAAAAEwAAABQAAAAVAAAAFgAAABcAAAAYAAAAGQAAABoAAAAbAAAAHAAAAB0AAAAeAAAAHwAAACAAAAAhAAAAIgAAACMAAAAkAAAAJQAAACYAAAAnAAAAKAAAACkAAAAqAAAAKwAAACwAAAAtAAAALgAAAC8AAAAwAAAAMQAAADIAAAAzAAAANAAAADUAAAA2AAAANwAAADgAAAA5AAAAOgAAADsAAAA8AAAAPQAAAD4AAAA/AAAAQAAAAEEAAABCAAAAQwAAAEQAAABFAAAARgAAAEcAAABIAAAASQAAAEoAAABLAAAATAAAAE0AAABOAAAATwAAAFAAAABRAAAAUgAAAFMAAABUAAAAVQAAAFYAAABXAAAAWAAAAFkAAABaAAAA\",\"dtype\":\"int32\",\"shape\":[90]},\"y\":[0.9349007584494007,0.7656917482271065,0.672401802419141,0.6233137444202614,0.592494186941334,0.571905926392718,0.5576509541689202,0.546892793835114,0.538089882114784,0.5321086165947999,0.5267689536171157,0.522590731732406,0.5196043919321904,0.5156064744104633,0.5134841905839174,0.5114899150548132,0.5090093641177057,0.5070447490426457,0.5055851422947967,0.5043206701380689,0.5032934816455243,0.5014662413249344,0.5003258747693693,0.4999894627331265,0.49901769246224675,0.4971404976843139,0.49733251012473007,0.4967650587293466,0.4957597253115379,0.49405112682531743,0.3846883349313024,0.36077888362490035,0.351592727571188,0.3452407063198378,0.34200381371008154,0.339217291734563,0.3372799955073743,0.3361607034827871,0.33575092083740093,0.33501175100284564,0.3353676764984506,0.3347471484954659,0.33435141554672787,0.33518346944949107,0.3351077572255399,0.3347978834894206,0.33401188135421217,0.33361380678846303,0.3334171111195923,0.33334608212585237,0.3326943325868161,0.3327794112686886,0.33147591219529077,0.3314610819677476,0.330678982518665,0.3306477609883304,0.32969862632808367,0.3293996801348406,0.3278799719310066,0.3274975081326281,0.2817329825106299,0.270032712360286,0.26492096658415926,0.2617605667365739,0.2584534256665929,0.2556622204566052,0.2548676323977351,0.2536070629319566,0.2515253671090902,0.24991277483749497,0.24845629024460877,0.24729719076453643,0.24624424450818252,0.24476824645298642,0.2437098364258494,0.24217217583924128,0.24203324000362758,0.2408132585352163,0.2398851984197335,0.23916241988326511,0.23279166571988355,0.23042351231004823,0.22914499046810582,0.22891941487799156,0.22825517672357,0.22858222229897351,0.22795623053342357,0.22781885577395147,0.22735209383617805,0.2271686673129624]}},\"id\":\"141ab2eb-457f-4c41-88a7-fa7641db3e6c\",\"type\":\"ColumnDataSource\"}],\"root_ids\":[\"1de7a399-78bf-460d-bc64-9c4b2bd1a9d2\"]},\"title\":\"Bokeh Application\",\"version\":\"0.12.13\"}};\n",
       "  var render_items = [{\"docid\":\"b984c9f1-c78e-473d-a0f7-72158f9e79b2\",\"elementid\":\"dd115666-f184-4c3d-b8cf-9132357bb5c9\",\"modelid\":\"1de7a399-78bf-460d-bc64-9c4b2bd1a9d2\"}];\n",
       "  root.Bokeh.embed.embed_items_notebook(docs_json, render_items);\n",
       "\n",
       "  }\n",
       "  if (root.Bokeh !== undefined) {\n",
       "    embed_document(root);\n",
       "  } else {\n",
       "    var attempts = 0;\n",
       "    var timer = setInterval(function(root) {\n",
       "      if (root.Bokeh !== undefined) {\n",
       "        embed_document(root);\n",
       "        clearInterval(timer);\n",
       "      }\n",
       "      attempts++;\n",
       "      if (attempts > 100) {\n",
       "        console.log(\"Bokeh: ERROR: Unable to run BokehJS code because BokehJS library is missing\")\n",
       "        clearInterval(timer);\n",
       "      }\n",
       "    }, 10, root)\n",
       "  }\n",
       "})(window);"
      ],
      "application/vnd.bokehjs_exec.v0+json": ""
     },
     "metadata": {
      "application/vnd.bokehjs_exec.v0+json": {
       "id": "1de7a399-78bf-460d-bc64-9c4b2bd1a9d2"
      }
     },
     "output_type": "display_data"
    }
   ],
   "source": [
    "print('Legend - (batchsize, #w, momentum, dampening, lr, #sim)')\n",
    "print('371 - Turning momentum off at epoch 5, 160 - baseline')\n",
    "show(plots[1])"
   ]
  },
  {
   "cell_type": "code",
   "execution_count": 8,
   "metadata": {},
   "outputs": [
    {
     "data": {
      "text/html": [
       "\n",
       "<div class=\"bk-root\">\n",
       "    <div class=\"bk-plotdiv\" id=\"445250fd-3215-40e9-b39e-fc1c019d3b43\"></div>\n",
       "</div>"
      ]
     },
     "metadata": {},
     "output_type": "display_data"
    },
    {
     "data": {
      "application/javascript": [
       "(function(root) {\n",
       "  function embed_document(root) {\n",
       "    \n",
       "  var docs_json = {\"7deaa704-901c-4268-8d13-9c4da47497d0\":{\"roots\":{\"references\":[{\"attributes\":{\"plot\":null,\"text\":\"Training & Test Loss\"},\"id\":\"148a3180-9689-4882-8967-90200e370799\",\"type\":\"Title\"},{\"attributes\":{\"source\":{\"id\":\"a55d0b47-882d-4397-9cb0-540dbcd85c3c\",\"type\":\"ColumnDataSource\"}},\"id\":\"67ed41f9-f841-46d0-963a-8613ae9196ed\",\"type\":\"CDSView\"},{\"attributes\":{\"background_fill_color\":{\"value\":\"#fafafa\"},\"below\":[{\"id\":\"72373c20-d58e-4b17-a2c4-076ad9c3d9f5\",\"type\":\"LinearAxis\"}],\"left\":[{\"id\":\"2ba7d0bb-0b5a-418b-aaad-5c076ea487ca\",\"type\":\"LogAxis\"}],\"min_border\":10,\"min_border_left\":50,\"renderers\":[{\"id\":\"72373c20-d58e-4b17-a2c4-076ad9c3d9f5\",\"type\":\"LinearAxis\"},{\"id\":\"cd18cd10-022b-46c9-b7af-798dbb4f078a\",\"type\":\"Grid\"},{\"id\":\"2ba7d0bb-0b5a-418b-aaad-5c076ea487ca\",\"type\":\"LogAxis\"},{\"id\":\"ba5cd149-79f8-45ae-b25f-91b1c15cc8b6\",\"type\":\"Grid\"},{\"id\":\"28036b15-ecd1-458e-af61-fac8ca0e1be4\",\"type\":\"BoxAnnotation\"},{\"id\":\"49f2a436-b181-4afd-890e-6d9ef72c99e7\",\"type\":\"Legend\"},{\"id\":\"7e3740c0-4620-40b4-8082-cf866c56f203\",\"type\":\"GlyphRenderer\"},{\"id\":\"9002f4c6-a266-4f9e-8582-6b5e1415d93a\",\"type\":\"GlyphRenderer\"},{\"id\":\"60a5a145-cfd3-4ece-a4ba-d07a0748bc70\",\"type\":\"GlyphRenderer\"},{\"id\":\"5a33b9ae-e210-47ab-87ba-840a64e6a641\",\"type\":\"GlyphRenderer\"}],\"title\":{\"id\":\"148a3180-9689-4882-8967-90200e370799\",\"type\":\"Title\"},\"toolbar\":{\"id\":\"c69e3c12-92ad-4da9-83b2-23730770cbf6\",\"type\":\"Toolbar\"},\"x_range\":{\"id\":\"3b8988c8-ef1c-401e-bc32-c097c70bedc0\",\"type\":\"DataRange1d\"},\"x_scale\":{\"id\":\"79dac505-e10c-410e-954d-d1cc0beb0ce2\",\"type\":\"LinearScale\"},\"y_range\":{\"id\":\"750104fd-03d4-41ce-9e14-0228aedfef55\",\"type\":\"DataRange1d\"},\"y_scale\":{\"id\":\"c74d7c4f-ade0-4a62-86b1-79d9d08f5c0b\",\"type\":\"LogScale\"}},\"id\":\"2ba0cfc3-a368-4b29-a868-f9611e9b625a\",\"subtype\":\"Figure\",\"type\":\"Plot\"},{\"attributes\":{\"callback\":null},\"id\":\"3b8988c8-ef1c-401e-bc32-c097c70bedc0\",\"type\":\"DataRange1d\"},{\"attributes\":{\"ticker\":null},\"id\":\"be3bbaaa-94a4-457c-8f1d-6e72d2226e76\",\"type\":\"LogTickFormatter\"},{\"attributes\":{\"active_drag\":\"auto\",\"active_inspect\":\"auto\",\"active_scroll\":\"auto\",\"active_tap\":\"auto\",\"tools\":[{\"id\":\"8700cca8-5f16-4eac-a68d-29f0b09b59de\",\"type\":\"PanTool\"},{\"id\":\"c8c40913-b093-4ea9-ae0d-67a65e41876d\",\"type\":\"WheelZoomTool\"},{\"id\":\"d349d48a-5e94-4388-ba82-8aa47f9110e3\",\"type\":\"BoxZoomTool\"},{\"id\":\"64c469ad-79d2-4955-a48f-9f6d91b04cb4\",\"type\":\"SaveTool\"},{\"id\":\"6b3ea6c4-477e-4cd7-a922-cb420941be2e\",\"type\":\"ResetTool\"},{\"id\":\"285a3fb6-df7b-49d8-bf4a-0e9c01bef700\",\"type\":\"HelpTool\"}]},\"id\":\"c69e3c12-92ad-4da9-83b2-23730770cbf6\",\"type\":\"Toolbar\"},{\"attributes\":{\"num_minor_ticks\":10},\"id\":\"0c126b4e-f5c6-44bb-ab0e-bff801847133\",\"type\":\"LogTicker\"},{\"attributes\":{},\"id\":\"79dac505-e10c-410e-954d-d1cc0beb0ce2\",\"type\":\"LinearScale\"},{\"attributes\":{\"callback\":null,\"column_names\":[\"x\",\"y\"],\"data\":{\"x\":{\"__ndarray__\":\"AQAAAAIAAAADAAAABAAAAAUAAAAGAAAABwAAAAgAAAAJAAAACgAAAAsAAAAMAAAADQAAAA4AAAAPAAAAEAAAABEAAAASAAAAEwAAABQAAAAVAAAAFgAAABcAAAAYAAAAGQAAABoAAAAbAAAAHAAAAB0AAAAeAAAAHwAAACAAAAAhAAAAIgAAACMAAAAkAAAAJQAAACYAAAAnAAAAKAAAACkAAAAqAAAAKwAAACwAAAAtAAAALgAAAC8AAAAwAAAAMQAAADIAAAAzAAAANAAAADUAAAA2AAAANwAAADgAAAA5AAAAOgAAADsAAAA8AAAAPQAAAD4AAAA/AAAAQAAAAEEAAABCAAAAQwAAAEQAAABFAAAARgAAAEcAAABIAAAASQAAAEoAAABLAAAATAAAAE0AAABOAAAATwAAAFAAAABRAAAAUgAAAFMAAABUAAAAVQAAAFYAAABXAAAAWAAAAFkAAABaAAAA\",\"dtype\":\"int32\",\"shape\":[90]},\"y\":[4.45524640411377,3.2365823275756838,2.8012833543395996,2.5434792060089113,2.3294949654388426,3.1253391327667237,2.9946844592285156,2.7530319272613526,3.71767580947876,2.921069140777588,2.7206840670013426,2.521510181274414,2.9831869242858886,2.4410923993682863,2.499619994354248,2.395188690414429,2.8902973530578615,2.395494051055908,2.3285356897735596,2.34140895111084,2.457964583053589,2.6904794662475586,2.6134297423553465,2.640720104522705,2.219262810821533,2.371178263397217,2.329774529876709,2.65983154876709,2.17743810836792,2.480754984588623,1.2760215089797973,1.2244592463684083,1.2181600903701781,1.2086509418869018,1.2421603535461425,1.1930174613189697,1.227180846710205,1.2145591134643554,1.2275918582916259,1.2387072652053832,1.321016344871521,1.2759048756027223,1.251669602432251,1.2597443669509887,1.471619674835205,1.3686795858001708,1.2314639410018922,1.2527443637847901,1.2311393562698365,1.276903515548706,1.2660283626174926,1.318082671661377,1.2344803449249269,1.2752579473114014,1.2283869369125366,1.3140982219314574,1.236442592048645,1.2303170738983153,1.251304662475586,1.2532319036865234,1.0154151395225526,1.0003147508239747,0.990491871471405,0.9874337940406799,0.9872368245315551,0.9816236247253418,0.9808966954421997,0.9736268327713012,0.9724851746749877,0.9747023080825805,0.9707583410453796,0.9678649145507813,0.9716644999694825,0.9661424164962769,0.9677283138084412,0.9680535231208801,0.9677642493438721,0.9671584927368164,0.9661813534164428,0.9650563801193237,0.9471843464279175,0.9476200026702881,0.9481289597129822,0.9447509372711181,0.94464205078125,0.9413681258583069,0.9431555871200562,0.9432047504997253,0.9445149465942383,0.9444827335548401]}},\"id\":\"a55d0b47-882d-4397-9cb0-540dbcd85c3c\",\"type\":\"ColumnDataSource\"},{\"attributes\":{\"callback\":null},\"id\":\"750104fd-03d4-41ce-9e14-0228aedfef55\",\"type\":\"DataRange1d\"},{\"attributes\":{\"line_color\":\"#ff7f0e\",\"line_width\":3,\"x\":{\"field\":\"x\"},\"y\":{\"field\":\"y\"}},\"id\":\"cc94726d-65a3-45da-a3d6-36b692eaac35\",\"type\":\"Line\"},{\"attributes\":{\"plot\":{\"id\":\"2ba0cfc3-a368-4b29-a868-f9611e9b625a\",\"subtype\":\"Figure\",\"type\":\"Plot\"},\"ticker\":{\"id\":\"89ec9eeb-9730-49d3-b9fc-ef156cc37f21\",\"type\":\"BasicTicker\"}},\"id\":\"cd18cd10-022b-46c9-b7af-798dbb4f078a\",\"type\":\"Grid\"},{\"attributes\":{\"label\":{\"value\":\"validation - (256, 1, 0.9, 0, 0.1, 371)\"},\"renderers\":[{\"id\":\"5a33b9ae-e210-47ab-87ba-840a64e6a641\",\"type\":\"GlyphRenderer\"}]},\"id\":\"3f9507fe-15e8-4c46-8e52-b16b21c086e6\",\"type\":\"LegendItem\"},{\"attributes\":{\"axis_label\":\"t [Epochs]\",\"formatter\":{\"id\":\"73386158-32d0-42b7-9d64-2f3adca779e1\",\"type\":\"BasicTickFormatter\"},\"plot\":{\"id\":\"2ba0cfc3-a368-4b29-a868-f9611e9b625a\",\"subtype\":\"Figure\",\"type\":\"Plot\"},\"ticker\":{\"id\":\"89ec9eeb-9730-49d3-b9fc-ef156cc37f21\",\"type\":\"BasicTicker\"}},\"id\":\"72373c20-d58e-4b17-a2c4-076ad9c3d9f5\",\"type\":\"LinearAxis\"},{\"attributes\":{\"data_source\":{\"id\":\"a55d0b47-882d-4397-9cb0-540dbcd85c3c\",\"type\":\"ColumnDataSource\"},\"glyph\":{\"id\":\"cc94726d-65a3-45da-a3d6-36b692eaac35\",\"type\":\"Line\"},\"hover_glyph\":null,\"muted_glyph\":null,\"nonselection_glyph\":{\"id\":\"d5ad50e3-68ac-4315-9db4-de178d090417\",\"type\":\"Line\"},\"selection_glyph\":null,\"view\":{\"id\":\"67ed41f9-f841-46d0-963a-8613ae9196ed\",\"type\":\"CDSView\"}},\"id\":\"5a33b9ae-e210-47ab-87ba-840a64e6a641\",\"type\":\"GlyphRenderer\"},{\"attributes\":{},\"id\":\"89ec9eeb-9730-49d3-b9fc-ef156cc37f21\",\"type\":\"BasicTicker\"},{\"attributes\":{\"line_alpha\":0.1,\"line_color\":\"#1f77b4\",\"line_width\":3,\"x\":{\"field\":\"x\"},\"y\":{\"field\":\"y\"}},\"id\":\"d5ad50e3-68ac-4315-9db4-de178d090417\",\"type\":\"Line\"},{\"attributes\":{},\"id\":\"c74d7c4f-ade0-4a62-86b1-79d9d08f5c0b\",\"type\":\"LogScale\"},{\"attributes\":{\"axis_label\":\"L(w(t))\",\"formatter\":{\"id\":\"be3bbaaa-94a4-457c-8f1d-6e72d2226e76\",\"type\":\"LogTickFormatter\"},\"plot\":{\"id\":\"2ba0cfc3-a368-4b29-a868-f9611e9b625a\",\"subtype\":\"Figure\",\"type\":\"Plot\"},\"ticker\":{\"id\":\"0c126b4e-f5c6-44bb-ab0e-bff801847133\",\"type\":\"LogTicker\"}},\"id\":\"2ba7d0bb-0b5a-418b-aaad-5c076ea487ca\",\"type\":\"LogAxis\"},{\"attributes\":{\"dimension\":1,\"plot\":{\"id\":\"2ba0cfc3-a368-4b29-a868-f9611e9b625a\",\"subtype\":\"Figure\",\"type\":\"Plot\"},\"ticker\":{\"id\":\"0c126b4e-f5c6-44bb-ab0e-bff801847133\",\"type\":\"LogTicker\"}},\"id\":\"ba5cd149-79f8-45ae-b25f-91b1c15cc8b6\",\"type\":\"Grid\"},{\"attributes\":{\"bottom_units\":\"screen\",\"fill_alpha\":{\"value\":0.5},\"fill_color\":{\"value\":\"lightgrey\"},\"left_units\":\"screen\",\"level\":\"overlay\",\"line_alpha\":{\"value\":1.0},\"line_color\":{\"value\":\"black\"},\"line_dash\":[4,4],\"line_width\":{\"value\":2},\"plot\":null,\"render_mode\":\"css\",\"right_units\":\"screen\",\"top_units\":\"screen\"},\"id\":\"28036b15-ecd1-458e-af61-fac8ca0e1be4\",\"type\":\"BoxAnnotation\"},{\"attributes\":{},\"id\":\"8700cca8-5f16-4eac-a68d-29f0b09b59de\",\"type\":\"PanTool\"},{\"attributes\":{\"overlay\":{\"id\":\"28036b15-ecd1-458e-af61-fac8ca0e1be4\",\"type\":\"BoxAnnotation\"}},\"id\":\"d349d48a-5e94-4388-ba82-8aa47f9110e3\",\"type\":\"BoxZoomTool\"},{\"attributes\":{},\"id\":\"64c469ad-79d2-4955-a48f-9f6d91b04cb4\",\"type\":\"SaveTool\"},{\"attributes\":{},\"id\":\"6b3ea6c4-477e-4cd7-a922-cb420941be2e\",\"type\":\"ResetTool\"},{\"attributes\":{},\"id\":\"285a3fb6-df7b-49d8-bf4a-0e9c01bef700\",\"type\":\"HelpTool\"},{\"attributes\":{\"callback\":null,\"column_names\":[\"x\",\"y\"],\"data\":{\"x\":{\"__ndarray__\":\"AQAAAAIAAAADAAAABAAAAAUAAAAGAAAABwAAAAgAAAAJAAAACgAAAAsAAAAMAAAADQAAAA4AAAAPAAAAEAAAABEAAAASAAAAEwAAABQAAAAVAAAAFgAAABcAAAAYAAAAGQAAABoAAAAbAAAAHAAAAB0AAAAeAAAAHwAAACAAAAAhAAAAIgAAACMAAAAkAAAAJQAAACYAAAAnAAAAKAAAACkAAAAqAAAAKwAAACwAAAAtAAAALgAAAC8AAAAwAAAAMQAAADIAAAAzAAAANAAAADUAAAA2AAAANwAAADgAAAA5AAAAOgAAADsAAAA8AAAAPQAAAD4AAAA/AAAAQAAAAEEAAABCAAAAQwAAAEQAAABFAAAARgAAAEcAAABIAAAASQAAAEoAAABLAAAATAAAAE0AAABOAAAATwAAAFAAAABRAAAAUgAAAFMAAABUAAAAVQAAAFYAAABXAAAAWAAAAFkAAABaAAAA\",\"dtype\":\"int32\",\"shape\":[90]},\"y\":[4.598382220458984,3.253985609741211,3.116275453033447,2.6853738099670412,2.420921482620239,2.426687135620117,2.424011884231567,2.240220655593872,2.319897235946655,2.21090829498291,2.207822584686279,2.2053294620513917,2.1871833067321775,2.170414736480713,2.118065433807373,2.1807488721466064,2.0257746324157715,2.090749424819946,2.0963173866271974,2.035696905517578,2.0324579482269285,2.081361307373047,2.15985525894165,1.9966085619354248,2.093498052444458,1.9636690447235108,2.121423997039795,1.9311311432647704,2.0344379790496827,2.1706728256988526,1.2941581258392334,1.2416050875854492,1.2202530033111572,1.209432325668335,1.2169893532943725,1.1990243294525147,1.2070831356048584,1.266190891456604,1.2162271950912475,1.2086458113861085,1.198686764564514,1.227077506866455,1.216471363067627,1.26225469165802,1.2113132241058349,1.211976784324646,1.2198258932113648,1.2244551711273193,1.2674291411972045,1.2461022086334228,1.2140405097961426,1.2705979449081422,1.2236628398895264,1.2060744694900514,1.2268556366729737,1.2036107595443726,1.2393571880722045,1.2126801132202147,1.1838409635925293,1.2142947355270386,1.023481582221985,1.0100829165649414,1.0009955448150636,0.9963067831420899,0.9872403373336792,0.9854390383148194,0.9857153553581238,0.9834688074493408,0.9826295702552795,0.9780180661773682,0.979239369354248,0.9741608739089965,0.9754907035827637,0.975267818775177,0.9782244798851013,0.973269547920227,0.969704374256134,0.9722734873580933,0.9752358877563476,0.9733968112564086,0.9574400119018555,0.9561449717903138,0.9553424758720398,0.9528443279647827,0.9515180409622193,0.9531224866294861,0.9541888398361206,0.950857864189148,0.9521024802589416,0.9554368449020386]}},\"id\":\"9781f51c-7142-473c-a435-0e9e14b31777\",\"type\":\"ColumnDataSource\"},{\"attributes\":{},\"id\":\"c8c40913-b093-4ea9-ae0d-67a65e41876d\",\"type\":\"WheelZoomTool\"},{\"attributes\":{\"label\":{\"value\":\"validation - (256, 1, 0.9, 0, 0.1, 160)\"},\"renderers\":[{\"id\":\"9002f4c6-a266-4f9e-8582-6b5e1415d93a\",\"type\":\"GlyphRenderer\"}]},\"id\":\"36084f00-abc7-4541-99d4-e76641d8e83b\",\"type\":\"LegendItem\"},{\"attributes\":{\"line_alpha\":0.1,\"line_color\":\"#1f77b4\",\"line_width\":3,\"x\":{\"field\":\"x\"},\"y\":{\"field\":\"y\"}},\"id\":\"ba1b19ff-7f40-47f3-9358-8cd9137de766\",\"type\":\"Line\"},{\"attributes\":{\"line_color\":\"#1f77b4\",\"line_width\":3,\"x\":{\"field\":\"x\"},\"y\":{\"field\":\"y\"}},\"id\":\"8ff654ea-7103-44ef-81be-07007a7fc669\",\"type\":\"Line\"},{\"attributes\":{\"callback\":null,\"column_names\":[\"x\",\"y\"],\"data\":{\"x\":{\"__ndarray__\":\"AQAAAAIAAAADAAAABAAAAAUAAAAGAAAABwAAAAgAAAAJAAAACgAAAAsAAAAMAAAADQAAAA4AAAAPAAAAEAAAABEAAAASAAAAEwAAABQAAAAVAAAAFgAAABcAAAAYAAAAGQAAABoAAAAbAAAAHAAAAB0AAAAeAAAAHwAAACAAAAAhAAAAIgAAACMAAAAkAAAAJQAAACYAAAAnAAAAKAAAACkAAAAqAAAAKwAAACwAAAAtAAAALgAAAC8AAAAwAAAAMQAAADIAAAAzAAAANAAAADUAAAA2AAAANwAAADgAAAA5AAAAOgAAADsAAAA8AAAAPQAAAD4AAAA/AAAAQAAAAEEAAABCAAAAQwAAAEQAAABFAAAARgAAAEcAAABIAAAASQAAAEoAAABLAAAATAAAAE0AAABOAAAATwAAAFAAAABRAAAAUgAAAFMAAABUAAAAVQAAAFYAAABXAAAAWAAAAFkAAABaAAAA\",\"dtype\":\"int32\",\"shape\":[90]},\"y\":[5.547259831040948,3.758432668228605,3.140663697276897,2.8584510924071536,2.6934317653468156,2.6026797042413516,2.5256345033658096,2.4654986142809032,2.421140703402702,2.3870848720533897,2.36100963050403,2.3366207780932378,2.319391859730614,2.3042149197443416,2.2894990085922853,2.278519840681903,2.266846717721187,2.258156346125384,2.2491682269289237,2.242204086682441,2.2330578967719656,2.228136058587906,2.223048196658866,2.2207152128405885,2.2133951930459888,2.2086630676346117,2.2040684399243107,2.202264359150488,2.1976778694550156,2.195416065120388,1.645681670888173,1.526764381655363,1.48234054635216,1.4533185273366112,1.4333797157177508,1.4201600154241547,1.4135253779510288,1.408666138475204,1.4065274486171293,1.4061198517857738,1.4039126475938892,1.4041043808413327,1.402353891374167,1.4040326996999386,1.4034027405046479,1.4032233949633093,1.4027990383463178,1.3999125608639331,1.3998073978222614,1.3957121180738745,1.3942024684070817,1.3907674608498553,1.3887463639210254,1.3862688876019267,1.38354849158184,1.3808468991909177,1.3774121158188057,1.3750911104676846,1.3734657054166606,1.3693278663362285,1.1670415415574964,1.1111276786644488,1.088509388257997,1.0743832532097508,1.063526242165839,1.0527018389519138,1.0448575988954196,1.0346794344276828,1.031352789947413,1.0255830845815002,1.0203082641548133,1.0123305392407664,1.004442611013017,1.0030728824661195,0.9953805935474616,0.9935847761251161,0.9914419142663169,0.9836068732777424,0.9803241078666379,0.9749095981192414,0.9471993754100732,0.9425944403373278,0.9368748501218104,0.9364624051800216,0.9325721332450284,0.932267041727712,0.9288496094728311,0.9282121556542013,0.9285698171523795,0.9270181870603282]}},\"id\":\"81b9f8a7-9ff1-4112-b754-bc0b021af655\",\"type\":\"ColumnDataSource\"},{\"attributes\":{\"data_source\":{\"id\":\"9781f51c-7142-473c-a435-0e9e14b31777\",\"type\":\"ColumnDataSource\"},\"glyph\":{\"id\":\"8ff654ea-7103-44ef-81be-07007a7fc669\",\"type\":\"Line\"},\"hover_glyph\":null,\"muted_glyph\":null,\"nonselection_glyph\":{\"id\":\"ba1b19ff-7f40-47f3-9358-8cd9137de766\",\"type\":\"Line\"},\"selection_glyph\":null,\"view\":{\"id\":\"fe732bbd-fd39-4df8-bb5b-6dbcfa6178f8\",\"type\":\"CDSView\"}},\"id\":\"9002f4c6-a266-4f9e-8582-6b5e1415d93a\",\"type\":\"GlyphRenderer\"},{\"attributes\":{\"source\":{\"id\":\"9781f51c-7142-473c-a435-0e9e14b31777\",\"type\":\"ColumnDataSource\"}},\"id\":\"fe732bbd-fd39-4df8-bb5b-6dbcfa6178f8\",\"type\":\"CDSView\"},{\"attributes\":{\"line_alpha\":0.1,\"line_color\":\"#1f77b4\",\"line_dash\":[6],\"line_width\":3,\"x\":{\"field\":\"x\"},\"y\":{\"field\":\"y\"}},\"id\":\"197e63dd-e313-4962-9a87-b247b9518c90\",\"type\":\"Line\"},{\"attributes\":{\"source\":{\"id\":\"81b9f8a7-9ff1-4112-b754-bc0b021af655\",\"type\":\"ColumnDataSource\"}},\"id\":\"2fa68c8b-d149-4ad1-9a4e-c8838bfbba49\",\"type\":\"CDSView\"},{\"attributes\":{\"label\":{\"value\":\"train - (256, 1, 0.9, 0, 0.1, 371)\"},\"renderers\":[{\"id\":\"60a5a145-cfd3-4ece-a4ba-d07a0748bc70\",\"type\":\"GlyphRenderer\"}]},\"id\":\"8eb57e8e-3081-4491-8a22-5b3c27f8eac6\",\"type\":\"LegendItem\"},{\"attributes\":{\"data_source\":{\"id\":\"81b9f8a7-9ff1-4112-b754-bc0b021af655\",\"type\":\"ColumnDataSource\"},\"glyph\":{\"id\":\"d2484055-bb0a-44e1-9b31-fd174e5fd0fd\",\"type\":\"Line\"},\"hover_glyph\":null,\"muted_glyph\":null,\"nonselection_glyph\":{\"id\":\"197e63dd-e313-4962-9a87-b247b9518c90\",\"type\":\"Line\"},\"selection_glyph\":null,\"view\":{\"id\":\"2fa68c8b-d149-4ad1-9a4e-c8838bfbba49\",\"type\":\"CDSView\"}},\"id\":\"60a5a145-cfd3-4ece-a4ba-d07a0748bc70\",\"type\":\"GlyphRenderer\"},{\"attributes\":{\"line_color\":\"#ff7f0e\",\"line_dash\":[6],\"line_width\":3,\"x\":{\"field\":\"x\"},\"y\":{\"field\":\"y\"}},\"id\":\"d2484055-bb0a-44e1-9b31-fd174e5fd0fd\",\"type\":\"Line\"},{\"attributes\":{\"callback\":null,\"column_names\":[\"x\",\"y\"],\"data\":{\"x\":{\"__ndarray__\":\"AQAAAAIAAAADAAAABAAAAAUAAAAGAAAABwAAAAgAAAAJAAAACgAAAAsAAAAMAAAADQAAAA4AAAAPAAAAEAAAABEAAAASAAAAEwAAABQAAAAVAAAAFgAAABcAAAAYAAAAGQAAABoAAAAbAAAAHAAAAB0AAAAeAAAAHwAAACAAAAAhAAAAIgAAACMAAAAkAAAAJQAAACYAAAAnAAAAKAAAACkAAAAqAAAAKwAAACwAAAAtAAAALgAAAC8AAAAwAAAAMQAAADIAAAAzAAAANAAAADUAAAA2AAAANwAAADgAAAA5AAAAOgAAADsAAAA8AAAAPQAAAD4AAAA/AAAAQAAAAEEAAABCAAAAQwAAAEQAAABFAAAARgAAAEcAAABIAAAASQAAAEoAAABLAAAATAAAAE0AAABOAAAATwAAAFAAAABRAAAAUgAAAFMAAABUAAAAVQAAAFYAAABXAAAAWAAAAFkAAABaAAAA\",\"dtype\":\"int32\",\"shape\":[90]},\"y\":[5.527419948478283,3.8204680515203187,3.206941524115581,2.9124940336670586,2.7377728579845697,2.62019864961246,2.5409773012880414,2.4813406480041946,2.438672779719759,2.404218457104119,2.375767403097928,2.3512372790169542,2.3346719839407566,2.316448463326358,2.3040121136192897,2.2925255103868105,2.2801841153649183,2.270484146341122,2.2643176148911714,2.257001852008235,2.252139474118154,2.241816294014738,2.2364037844839566,2.2317812382922133,2.227253053559373,2.2196648744681227,2.21868067578634,2.2150983178537884,2.2110192347178725,2.20616196567395,1.6649182949700767,1.548367666816147,1.5000208710777079,1.4706732544586836,1.451601460353546,1.4397903945962358,1.4304331394326544,1.4239875435762075,1.4213121050516342,1.4175634364219862,1.4178223197722366,1.4160922723303115,1.4129044114244655,1.416621445424538,1.4161953867602397,1.414798548111407,1.411831900910859,1.4092596007791824,1.4099018031181916,1.409056798055014,1.4060963275762315,1.4033975698609498,1.398752049765208,1.398670601583157,1.3955055936604126,1.3928005151856733,1.3916042950547896,1.3874629025612382,1.381894401865338,1.3802304861054118,1.1779246632219662,1.124727096055883,1.1006359867672828,1.0866019298775156,1.07276927094806,1.0603063410741462,1.0560078049792068,1.0481654867940942,1.0415271721433297,1.0339412907376815,1.0263131820969462,1.0217184624570461,1.0165661502114307,1.0100041942430729,1.0063191266590346,0.998974197195399,0.9969506087889096,0.9923520779659125,0.9898058163912848,0.9844521932172191,0.960397300496607,0.9495428693106597,0.944362643595927,0.9425074037168727,0.9396611066744892,0.9401818341748323,0.9384630634402967,0.9369741863202238,0.9354656320426967,0.9341682823180865]}},\"id\":\"b8941163-f86a-42da-85a6-854549182f3e\",\"type\":\"ColumnDataSource\"},{\"attributes\":{\"line_color\":\"#1f77b4\",\"line_dash\":[6],\"line_width\":3,\"x\":{\"field\":\"x\"},\"y\":{\"field\":\"y\"}},\"id\":\"f6429ab7-84db-4a6b-9370-27630f6fd411\",\"type\":\"Line\"},{\"attributes\":{\"line_alpha\":0.1,\"line_color\":\"#1f77b4\",\"line_dash\":[6],\"line_width\":3,\"x\":{\"field\":\"x\"},\"y\":{\"field\":\"y\"}},\"id\":\"f7edfbb6-cded-4f38-9d32-3f857d3dedc1\",\"type\":\"Line\"},{\"attributes\":{\"data_source\":{\"id\":\"b8941163-f86a-42da-85a6-854549182f3e\",\"type\":\"ColumnDataSource\"},\"glyph\":{\"id\":\"f6429ab7-84db-4a6b-9370-27630f6fd411\",\"type\":\"Line\"},\"hover_glyph\":null,\"muted_glyph\":null,\"nonselection_glyph\":{\"id\":\"f7edfbb6-cded-4f38-9d32-3f857d3dedc1\",\"type\":\"Line\"},\"selection_glyph\":null,\"view\":{\"id\":\"3ea534a9-2b1d-43aa-a96e-cfc10d877008\",\"type\":\"CDSView\"}},\"id\":\"7e3740c0-4620-40b4-8082-cf866c56f203\",\"type\":\"GlyphRenderer\"},{\"attributes\":{\"source\":{\"id\":\"b8941163-f86a-42da-85a6-854549182f3e\",\"type\":\"ColumnDataSource\"}},\"id\":\"3ea534a9-2b1d-43aa-a96e-cfc10d877008\",\"type\":\"CDSView\"},{\"attributes\":{\"label\":{\"value\":\"train - (256, 1, 0.9, 0, 0.1, 160)\"},\"renderers\":[{\"id\":\"7e3740c0-4620-40b4-8082-cf866c56f203\",\"type\":\"GlyphRenderer\"}]},\"id\":\"957a009e-e4f8-4133-860c-673767cc3111\",\"type\":\"LegendItem\"},{\"attributes\":{},\"id\":\"73386158-32d0-42b7-9d64-2f3adca779e1\",\"type\":\"BasicTickFormatter\"},{\"attributes\":{\"click_policy\":\"hide\",\"items\":[{\"id\":\"957a009e-e4f8-4133-860c-673767cc3111\",\"type\":\"LegendItem\"},{\"id\":\"36084f00-abc7-4541-99d4-e76641d8e83b\",\"type\":\"LegendItem\"},{\"id\":\"8eb57e8e-3081-4491-8a22-5b3c27f8eac6\",\"type\":\"LegendItem\"},{\"id\":\"3f9507fe-15e8-4c46-8e52-b16b21c086e6\",\"type\":\"LegendItem\"}],\"location\":\"bottom_left\",\"plot\":{\"id\":\"2ba0cfc3-a368-4b29-a868-f9611e9b625a\",\"subtype\":\"Figure\",\"type\":\"Plot\"}},\"id\":\"49f2a436-b181-4afd-890e-6d9ef72c99e7\",\"type\":\"Legend\"}],\"root_ids\":[\"2ba0cfc3-a368-4b29-a868-f9611e9b625a\"]},\"title\":\"Bokeh Application\",\"version\":\"0.12.13\"}};\n",
       "  var render_items = [{\"docid\":\"7deaa704-901c-4268-8d13-9c4da47497d0\",\"elementid\":\"445250fd-3215-40e9-b39e-fc1c019d3b43\",\"modelid\":\"2ba0cfc3-a368-4b29-a868-f9611e9b625a\"}];\n",
       "  root.Bokeh.embed.embed_items_notebook(docs_json, render_items);\n",
       "\n",
       "  }\n",
       "  if (root.Bokeh !== undefined) {\n",
       "    embed_document(root);\n",
       "  } else {\n",
       "    var attempts = 0;\n",
       "    var timer = setInterval(function(root) {\n",
       "      if (root.Bokeh !== undefined) {\n",
       "        embed_document(root);\n",
       "        clearInterval(timer);\n",
       "      }\n",
       "      attempts++;\n",
       "      if (attempts > 100) {\n",
       "        console.log(\"Bokeh: ERROR: Unable to run BokehJS code because BokehJS library is missing\")\n",
       "        clearInterval(timer);\n",
       "      }\n",
       "    }, 10, root)\n",
       "  }\n",
       "})(window);"
      ],
      "application/vnd.bokehjs_exec.v0+json": ""
     },
     "metadata": {
      "application/vnd.bokehjs_exec.v0+json": {
       "id": "2ba0cfc3-a368-4b29-a868-f9611e9b625a"
      }
     },
     "output_type": "display_data"
    }
   ],
   "source": [
    "show(plots[0])"
   ]
  },
  {
   "cell_type": "code",
   "execution_count": 9,
   "metadata": {},
   "outputs": [
    {
     "data": {
      "text/html": [
       "\n",
       "<div class=\"bk-root\">\n",
       "    <div class=\"bk-plotdiv\" id=\"e1c6b3a9-6f8e-4c81-bea5-51e2d9d117ef\"></div>\n",
       "</div>"
      ]
     },
     "metadata": {},
     "output_type": "display_data"
    },
    {
     "data": {
      "application/javascript": [
       "(function(root) {\n",
       "  function embed_document(root) {\n",
       "    \n",
       "  var docs_json = {\"de3c14c4-99ff-4520-8ea2-c56e563554db\":{\"roots\":{\"references\":[{\"attributes\":{\"active_drag\":\"auto\",\"active_inspect\":\"auto\",\"active_scroll\":\"auto\",\"active_tap\":\"auto\",\"tools\":[{\"id\":\"cbfb3c68-5cea-42e9-a248-0c24bbfe72b3\",\"type\":\"PanTool\"},{\"id\":\"a4075e7a-63c8-4d3c-b2b8-2262fddb51c2\",\"type\":\"WheelZoomTool\"},{\"id\":\"50f6f0fd-a75d-460b-9349-e7edba5e8fd0\",\"type\":\"BoxZoomTool\"},{\"id\":\"90ee64a7-0cbf-439a-8711-f9cb9fc915be\",\"type\":\"SaveTool\"},{\"id\":\"ec1a696a-4ae1-4eab-a032-74f04317d57a\",\"type\":\"ResetTool\"},{\"id\":\"6aaefdfc-9802-406f-beec-426e7d4c67b0\",\"type\":\"HelpTool\"}]},\"id\":\"5a4bd0c9-2329-4b3b-ad8a-f8a178d9aae2\",\"type\":\"Toolbar\"},{\"attributes\":{\"source\":{\"id\":\"2b2206d2-9c97-4d9e-9441-c42c27fb7db7\",\"type\":\"ColumnDataSource\"}},\"id\":\"79215bcc-3158-4ca5-a851-c5c73760ab62\",\"type\":\"CDSView\"},{\"attributes\":{\"line_alpha\":0.1,\"line_color\":\"#1f77b4\",\"line_width\":3,\"x\":{\"field\":\"x\"},\"y\":{\"field\":\"y\"}},\"id\":\"4d8108a5-cb40-442c-9583-8b7a3924dadd\",\"type\":\"Line\"},{\"attributes\":{\"callback\":null,\"column_names\":[\"x\",\"y\"],\"data\":{\"x\":{\"__ndarray__\":\"AQAAAAIAAAADAAAABAAAAAUAAAAGAAAABwAAAAgAAAAJAAAACgAAAAsAAAAMAAAADQAAAA4AAAAPAAAAEAAAABEAAAASAAAAEwAAABQAAAAVAAAAFgAAABcAAAAYAAAAGQAAABoAAAAbAAAAHAAAAB0AAAAeAAAAHwAAACAAAAAhAAAAIgAAACMAAAAkAAAAJQAAACYAAAAnAAAAKAAAACkAAAAqAAAAKwAAACwAAAAtAAAALgAAAC8AAAAwAAAAMQAAADIAAAAzAAAANAAAADUAAAA2AAAANwAAADgAAAA5AAAAOgAAADsAAAA8AAAAPQAAAD4AAAA/AAAAQAAAAEEAAABCAAAAQwAAAEQAAABFAAAARgAAAEcAAABIAAAASQAAAEoAAABLAAAATAAAAE0AAABOAAAATwAAAFAAAABRAAAAUgAAAFMAAABUAAAAVQAAAFYAAABXAAAAWAAAAFkAAABaAAAA\",\"dtype\":\"int32\",\"shape\":[90]},\"y\":[44.42589569091797,56.83191680908203,61.8509521484375,63.85888671875,64.70480346679688,65.06649017333984,65.22150421142578,65.22858428955078,65.16433715820312,65.13142395019531,65.0521240234375,64.964111328125,64.90631103515625,64.83001708984375,64.71793365478516,64.60297393798828,64.5520248413086,64.48139190673828,64.40089416503906,64.36369323730469,64.2903060913086,64.20893859863281,64.15252685546875,64.10459899902344,64.05824279785156,64.01487731933594,63.97710037231445,63.91951370239258,63.89323425292969,63.84387969970703,62.34717559814453,60.833133697509766,59.45275115966797,58.210994720458984,57.092323303222656,56.0936393737793,55.203617095947266,54.418418884277344,53.73305892944336,53.12112045288086,52.57814407348633,52.09865951538086,51.6812858581543,51.301631927490234,50.96897506713867,50.68116760253906,50.41179656982422,50.177345275878906,49.97464370727539,49.77137756347656,49.607460021972656,49.45558166503906,49.322853088378906,49.19454574584961,49.08189392089844,48.976810455322266,48.86827850341797,48.78784942626953,48.71096420288086,48.624229431152344,48.59585952758789,48.56101608276367,48.52683639526367,48.491981506347656,48.45746994018555,48.4237060546875,48.389808654785156,48.356632232666016,48.32366180419922,48.29064178466797,48.25918960571289,48.22748565673828,48.19670486450195,48.16590118408203,48.135765075683594,48.10694122314453,48.07688522338867,48.04899215698242,48.021671295166016,47.99500274658203,47.992408752441406,47.98979568481445,47.98734664916992,47.98493957519531,47.98247528076172,47.980018615722656,47.9774284362793,47.9749755859375,47.9724006652832,47.969879150390625]}},\"id\":\"3dc0edd6-6ecd-48f9-928e-4c6f2ed1a917\",\"type\":\"ColumnDataSource\"},{\"attributes\":{\"line_color\":\"#1f77b4\",\"line_width\":3,\"x\":{\"field\":\"x\"},\"y\":{\"field\":\"y\"}},\"id\":\"1b472c6c-c9bd-4d1e-944a-23c4c941d949\",\"type\":\"Line\"},{\"attributes\":{},\"id\":\"6073e0db-59fc-479b-b552-29c7c47d20a6\",\"type\":\"BasicTickFormatter\"},{\"attributes\":{},\"id\":\"baaf92ab-3dff-4976-89df-d500d49a9c7e\",\"type\":\"BasicTickFormatter\"},{\"attributes\":{\"data_source\":{\"id\":\"3dc0edd6-6ecd-48f9-928e-4c6f2ed1a917\",\"type\":\"ColumnDataSource\"},\"glyph\":{\"id\":\"1b472c6c-c9bd-4d1e-944a-23c4c941d949\",\"type\":\"Line\"},\"hover_glyph\":null,\"muted_glyph\":null,\"nonselection_glyph\":{\"id\":\"4d8108a5-cb40-442c-9583-8b7a3924dadd\",\"type\":\"Line\"},\"selection_glyph\":null,\"view\":{\"id\":\"d4532ccc-a74e-489a-9ca9-d92513a3fd82\",\"type\":\"CDSView\"}},\"id\":\"e1db4473-c7e6-4622-8b99-4b01e7069bcc\",\"type\":\"GlyphRenderer\"},{\"attributes\":{\"plot\":null,\"text\":\"The Norm of w(t)\"},\"id\":\"a217ff37-2f95-4f81-a6c0-830dc41a5495\",\"type\":\"Title\"},{\"attributes\":{\"source\":{\"id\":\"3dc0edd6-6ecd-48f9-928e-4c6f2ed1a917\",\"type\":\"ColumnDataSource\"}},\"id\":\"d4532ccc-a74e-489a-9ca9-d92513a3fd82\",\"type\":\"CDSView\"},{\"attributes\":{\"label\":{\"value\":\"train - (256, 1, 0.9, 0, 0.1, 160)\"},\"renderers\":[{\"id\":\"e1db4473-c7e6-4622-8b99-4b01e7069bcc\",\"type\":\"GlyphRenderer\"}]},\"id\":\"a95edc92-e7fd-49a1-99ea-4767bbddc6df\",\"type\":\"LegendItem\"},{\"attributes\":{\"click_policy\":\"hide\",\"items\":[{\"id\":\"a95edc92-e7fd-49a1-99ea-4767bbddc6df\",\"type\":\"LegendItem\"},{\"id\":\"b5670d94-ed79-47cd-96b9-b1152231482f\",\"type\":\"LegendItem\"}],\"location\":\"top_left\",\"plot\":{\"id\":\"3a53652a-d6ac-4155-b0bf-2753334c6085\",\"subtype\":\"Figure\",\"type\":\"Plot\"}},\"id\":\"8066dfd7-7876-4405-aa5c-fefd5af416bb\",\"type\":\"Legend\"},{\"attributes\":{\"callback\":null},\"id\":\"f86a4c90-9142-42e4-8202-96907c1658a5\",\"type\":\"DataRange1d\"},{\"attributes\":{\"background_fill_color\":{\"value\":\"#fafafa\"},\"below\":[{\"id\":\"99ba6cbf-e04a-4d99-8c13-49b6c3adfc29\",\"type\":\"LinearAxis\"}],\"left\":[{\"id\":\"4cfdbdf3-ef79-4fe2-a511-4a91521d58ec\",\"type\":\"LinearAxis\"}],\"min_border\":10,\"min_border_left\":50,\"renderers\":[{\"id\":\"99ba6cbf-e04a-4d99-8c13-49b6c3adfc29\",\"type\":\"LinearAxis\"},{\"id\":\"cc67d59d-f2cd-4142-ac98-4635b4aa36f6\",\"type\":\"Grid\"},{\"id\":\"4cfdbdf3-ef79-4fe2-a511-4a91521d58ec\",\"type\":\"LinearAxis\"},{\"id\":\"cbc5d180-12bd-4252-b134-93470cd0cb1a\",\"type\":\"Grid\"},{\"id\":\"fcdebcc7-a5f8-4317-92cc-3d412397e63b\",\"type\":\"BoxAnnotation\"},{\"id\":\"8066dfd7-7876-4405-aa5c-fefd5af416bb\",\"type\":\"Legend\"},{\"id\":\"e1db4473-c7e6-4622-8b99-4b01e7069bcc\",\"type\":\"GlyphRenderer\"},{\"id\":\"0e6084dc-f3c9-4658-8bf7-20ed030ebce5\",\"type\":\"GlyphRenderer\"}],\"title\":{\"id\":\"a217ff37-2f95-4f81-a6c0-830dc41a5495\",\"type\":\"Title\"},\"toolbar\":{\"id\":\"5a4bd0c9-2329-4b3b-ad8a-f8a178d9aae2\",\"type\":\"Toolbar\"},\"x_range\":{\"id\":\"f86a4c90-9142-42e4-8202-96907c1658a5\",\"type\":\"DataRange1d\"},\"x_scale\":{\"id\":\"0d2243c5-ea66-442f-a81d-68eca44bca57\",\"type\":\"LinearScale\"},\"y_range\":{\"id\":\"b526f1d5-b254-442d-8631-9e2ab436e74e\",\"type\":\"DataRange1d\"},\"y_scale\":{\"id\":\"9582f411-4b93-4c4d-bdfc-a3a7c01bc36a\",\"type\":\"LinearScale\"}},\"id\":\"3a53652a-d6ac-4155-b0bf-2753334c6085\",\"subtype\":\"Figure\",\"type\":\"Plot\"},{\"attributes\":{},\"id\":\"9582f411-4b93-4c4d-bdfc-a3a7c01bc36a\",\"type\":\"LinearScale\"},{\"attributes\":{\"label\":{\"value\":\"train - (256, 1, 0.9, 0, 0.1, 371)\"},\"renderers\":[{\"id\":\"0e6084dc-f3c9-4658-8bf7-20ed030ebce5\",\"type\":\"GlyphRenderer\"}]},\"id\":\"b5670d94-ed79-47cd-96b9-b1152231482f\",\"type\":\"LegendItem\"},{\"attributes\":{},\"id\":\"0d2243c5-ea66-442f-a81d-68eca44bca57\",\"type\":\"LinearScale\"},{\"attributes\":{\"callback\":null},\"id\":\"b526f1d5-b254-442d-8631-9e2ab436e74e\",\"type\":\"DataRange1d\"},{\"attributes\":{\"plot\":{\"id\":\"3a53652a-d6ac-4155-b0bf-2753334c6085\",\"subtype\":\"Figure\",\"type\":\"Plot\"},\"ticker\":{\"id\":\"5e61ec3f-568e-4378-b5d3-8d27179772f0\",\"type\":\"BasicTicker\"}},\"id\":\"cc67d59d-f2cd-4142-ac98-4635b4aa36f6\",\"type\":\"Grid\"},{\"attributes\":{\"callback\":null,\"column_names\":[\"x\",\"y\"],\"data\":{\"x\":{\"__ndarray__\":\"AQAAAAIAAAADAAAABAAAAAUAAAAGAAAABwAAAAgAAAAJAAAACgAAAAsAAAAMAAAADQAAAA4AAAAPAAAAEAAAABEAAAASAAAAEwAAABQAAAAVAAAAFgAAABcAAAAYAAAAGQAAABoAAAAbAAAAHAAAAB0AAAAeAAAAHwAAACAAAAAhAAAAIgAAACMAAAAkAAAAJQAAACYAAAAnAAAAKAAAACkAAAAqAAAAKwAAACwAAAAtAAAALgAAAC8AAAAwAAAAMQAAADIAAAAzAAAANAAAADUAAAA2AAAANwAAADgAAAA5AAAAOgAAADsAAAA8AAAAPQAAAD4AAAA/AAAAQAAAAEEAAABCAAAAQwAAAEQAAABFAAAARgAAAEcAAABIAAAASQAAAEoAAABLAAAATAAAAE0AAABOAAAATwAAAFAAAABRAAAAUgAAAFMAAABUAAAAVQAAAFYAAABXAAAAWAAAAFkAAABaAAAA\",\"dtype\":\"int32\",\"shape\":[90]},\"y\":[44.51184844970703,57.06692123413086,61.92967224121094,63.775360107421875,64.5654296875,65.1367416381836,65.2778091430664,65.31106567382812,65.2776870727539,65.21170806884766,65.14188385009766,65.0445556640625,64.95155334472656,64.8918685913086,64.77481842041016,64.73165130615234,64.6827392578125,64.5819320678711,64.52244567871094,64.46141815185547,64.39421081542969,64.3505630493164,64.28975677490234,64.27720642089844,64.18551635742188,64.1982421875,64.1383056640625,64.11178588867188,64.08363342285156,64.00497436523438,62.46609878540039,60.912498474121094,59.48657989501953,58.18829345703125,57.033546447753906,55.99527359008789,55.07722854614258,54.24953842163086,53.521488189697266,52.8880615234375,52.32045364379883,51.826534271240234,51.388763427734375,50.99892807006836,50.65922927856445,50.35202407836914,50.08160400390625,49.83805465698242,49.61695098876953,49.436248779296875,49.260223388671875,49.108543395996094,48.971004486083984,48.84646987915039,48.730796813964844,48.63603210449219,48.54520797729492,48.45743179321289,48.37860870361328,48.311500549316406,48.278053283691406,48.24087905883789,48.203285217285156,48.165618896484375,48.12736511230469,48.08955001831055,48.05324172973633,48.017303466796875,47.9813117980957,47.94596481323242,47.91145706176758,47.87799072265625,47.8453254699707,47.81298065185547,47.781005859375,47.75015640258789,47.71791076660156,47.688655853271484,47.65921401977539,47.629432678222656,47.626548767089844,47.6237678527832,47.62098693847656,47.61811065673828,47.61530685424805,47.612464904785156,47.60976791381836,47.607051849365234,47.604225158691406,47.601524353027344]}},\"id\":\"2b2206d2-9c97-4d9e-9441-c42c27fb7db7\",\"type\":\"ColumnDataSource\"},{\"attributes\":{\"dimension\":1,\"plot\":{\"id\":\"3a53652a-d6ac-4155-b0bf-2753334c6085\",\"subtype\":\"Figure\",\"type\":\"Plot\"},\"ticker\":{\"id\":\"03b7c662-ca22-49ec-9e53-e7381d5fed48\",\"type\":\"BasicTicker\"}},\"id\":\"cbc5d180-12bd-4252-b134-93470cd0cb1a\",\"type\":\"Grid\"},{\"attributes\":{},\"id\":\"5e61ec3f-568e-4378-b5d3-8d27179772f0\",\"type\":\"BasicTicker\"},{\"attributes\":{\"axis_label\":\"t [Epochs]\",\"formatter\":{\"id\":\"6073e0db-59fc-479b-b552-29c7c47d20a6\",\"type\":\"BasicTickFormatter\"},\"plot\":{\"id\":\"3a53652a-d6ac-4155-b0bf-2753334c6085\",\"subtype\":\"Figure\",\"type\":\"Plot\"},\"ticker\":{\"id\":\"5e61ec3f-568e-4378-b5d3-8d27179772f0\",\"type\":\"BasicTicker\"}},\"id\":\"99ba6cbf-e04a-4d99-8c13-49b6c3adfc29\",\"type\":\"LinearAxis\"},{\"attributes\":{},\"id\":\"03b7c662-ca22-49ec-9e53-e7381d5fed48\",\"type\":\"BasicTicker\"},{\"attributes\":{\"axis_label\":\"||w(t)||\",\"formatter\":{\"id\":\"baaf92ab-3dff-4976-89df-d500d49a9c7e\",\"type\":\"BasicTickFormatter\"},\"plot\":{\"id\":\"3a53652a-d6ac-4155-b0bf-2753334c6085\",\"subtype\":\"Figure\",\"type\":\"Plot\"},\"ticker\":{\"id\":\"03b7c662-ca22-49ec-9e53-e7381d5fed48\",\"type\":\"BasicTicker\"}},\"id\":\"4cfdbdf3-ef79-4fe2-a511-4a91521d58ec\",\"type\":\"LinearAxis\"},{\"attributes\":{\"bottom_units\":\"screen\",\"fill_alpha\":{\"value\":0.5},\"fill_color\":{\"value\":\"lightgrey\"},\"left_units\":\"screen\",\"level\":\"overlay\",\"line_alpha\":{\"value\":1.0},\"line_color\":{\"value\":\"black\"},\"line_dash\":[4,4],\"line_width\":{\"value\":2},\"plot\":null,\"render_mode\":\"css\",\"right_units\":\"screen\",\"top_units\":\"screen\"},\"id\":\"fcdebcc7-a5f8-4317-92cc-3d412397e63b\",\"type\":\"BoxAnnotation\"},{\"attributes\":{},\"id\":\"cbfb3c68-5cea-42e9-a248-0c24bbfe72b3\",\"type\":\"PanTool\"},{\"attributes\":{},\"id\":\"a4075e7a-63c8-4d3c-b2b8-2262fddb51c2\",\"type\":\"WheelZoomTool\"},{\"attributes\":{\"overlay\":{\"id\":\"fcdebcc7-a5f8-4317-92cc-3d412397e63b\",\"type\":\"BoxAnnotation\"}},\"id\":\"50f6f0fd-a75d-460b-9349-e7edba5e8fd0\",\"type\":\"BoxZoomTool\"},{\"attributes\":{},\"id\":\"90ee64a7-0cbf-439a-8711-f9cb9fc915be\",\"type\":\"SaveTool\"},{\"attributes\":{},\"id\":\"ec1a696a-4ae1-4eab-a032-74f04317d57a\",\"type\":\"ResetTool\"},{\"attributes\":{},\"id\":\"6aaefdfc-9802-406f-beec-426e7d4c67b0\",\"type\":\"HelpTool\"},{\"attributes\":{\"line_alpha\":0.1,\"line_color\":\"#1f77b4\",\"line_width\":3,\"x\":{\"field\":\"x\"},\"y\":{\"field\":\"y\"}},\"id\":\"aff1152c-3354-42f4-8bbe-a285e29f4c30\",\"type\":\"Line\"},{\"attributes\":{\"line_color\":\"#ff7f0e\",\"line_width\":3,\"x\":{\"field\":\"x\"},\"y\":{\"field\":\"y\"}},\"id\":\"b17d2fd3-9fb4-49e4-a840-7b95883712f8\",\"type\":\"Line\"},{\"attributes\":{\"data_source\":{\"id\":\"2b2206d2-9c97-4d9e-9441-c42c27fb7db7\",\"type\":\"ColumnDataSource\"},\"glyph\":{\"id\":\"b17d2fd3-9fb4-49e4-a840-7b95883712f8\",\"type\":\"Line\"},\"hover_glyph\":null,\"muted_glyph\":null,\"nonselection_glyph\":{\"id\":\"aff1152c-3354-42f4-8bbe-a285e29f4c30\",\"type\":\"Line\"},\"selection_glyph\":null,\"view\":{\"id\":\"79215bcc-3158-4ca5-a851-c5c73760ab62\",\"type\":\"CDSView\"}},\"id\":\"0e6084dc-f3c9-4658-8bf7-20ed030ebce5\",\"type\":\"GlyphRenderer\"}],\"root_ids\":[\"3a53652a-d6ac-4155-b0bf-2753334c6085\"]},\"title\":\"Bokeh Application\",\"version\":\"0.12.13\"}};\n",
       "  var render_items = [{\"docid\":\"de3c14c4-99ff-4520-8ea2-c56e563554db\",\"elementid\":\"e1c6b3a9-6f8e-4c81-bea5-51e2d9d117ef\",\"modelid\":\"3a53652a-d6ac-4155-b0bf-2753334c6085\"}];\n",
       "  root.Bokeh.embed.embed_items_notebook(docs_json, render_items);\n",
       "\n",
       "  }\n",
       "  if (root.Bokeh !== undefined) {\n",
       "    embed_document(root);\n",
       "  } else {\n",
       "    var attempts = 0;\n",
       "    var timer = setInterval(function(root) {\n",
       "      if (root.Bokeh !== undefined) {\n",
       "        embed_document(root);\n",
       "        clearInterval(timer);\n",
       "      }\n",
       "      attempts++;\n",
       "      if (attempts > 100) {\n",
       "        console.log(\"Bokeh: ERROR: Unable to run BokehJS code because BokehJS library is missing\")\n",
       "        clearInterval(timer);\n",
       "      }\n",
       "    }, 10, root)\n",
       "  }\n",
       "})(window);"
      ],
      "application/vnd.bokehjs_exec.v0+json": ""
     },
     "metadata": {
      "application/vnd.bokehjs_exec.v0+json": {
       "id": "3a53652a-d6ac-4155-b0bf-2753334c6085"
      }
     },
     "output_type": "display_data"
    }
   ],
   "source": [
    "show(plots[2])"
   ]
  },
  {
   "cell_type": "code",
   "execution_count": 10,
   "metadata": {},
   "outputs": [
    {
     "data": {
      "text/html": [
       "\n",
       "<div class=\"bk-root\">\n",
       "    <div class=\"bk-plotdiv\" id=\"4cf2e97f-5174-4e4b-91d8-29b4080cb96d\"></div>\n",
       "</div>"
      ]
     },
     "metadata": {},
     "output_type": "display_data"
    },
    {
     "data": {
      "application/javascript": [
       "(function(root) {\n",
       "  function embed_document(root) {\n",
       "    \n",
       "  var docs_json = {\"ba2dc494-efdf-4888-9492-cb894b441f03\":{\"roots\":{\"references\":[{\"attributes\":{\"source\":{\"id\":\"d97bac5a-c58d-4536-a17f-8446b60a8692\",\"type\":\"ColumnDataSource\"}},\"id\":\"407fc975-8f9f-4530-92f0-d1b87f4036cb\",\"type\":\"CDSView\"},{\"attributes\":{},\"id\":\"f2dad2c4-b560-4d79-8a82-cde99cefd15b\",\"type\":\"BasicTickFormatter\"},{\"attributes\":{\"callback\":null,\"column_names\":[\"x\",\"y\"],\"data\":{\"x\":{\"__ndarray__\":\"AQAAAAIAAAADAAAABAAAAAUAAAAGAAAABwAAAAgAAAAJAAAACgAAAAsAAAAMAAAADQAAAA4AAAAPAAAAEAAAABEAAAASAAAAEwAAABQAAAAVAAAAFgAAABcAAAAYAAAAGQAAABoAAAAbAAAAHAAAAB0AAAAeAAAAHwAAACAAAAAhAAAAIgAAACMAAAAkAAAAJQAAACYAAAAnAAAAKAAAACkAAAAqAAAAKwAAACwAAAAtAAAALgAAAC8AAAAwAAAAMQAAADIAAAAzAAAANAAAADUAAAA2AAAANwAAADgAAAA5AAAAOgAAADsAAAA8AAAAPQAAAD4AAAA/AAAAQAAAAEEAAABCAAAAQwAAAEQAAABFAAAARgAAAEcAAABIAAAASQAAAEoAAABLAAAATAAAAE0AAABOAAAATwAAAFAAAABRAAAAUgAAAFMAAABUAAAAVQAAAFYAAABXAAAAWAAAAFkAAABaAAAA\",\"dtype\":\"int32\",\"shape\":[90]},\"y\":[1.0872527360916138,1.028189778327942,1.0142648220062256,1.0096334218978882,1.0852359533309937,0.9771769046783447,1.015438437461853,1.041308879852295,1.0077719688415527,1.0349146127700806,0.9697659611701965,0.9719675779342651,0.981035053730011,0.9594534039497375,0.9117861986160278,0.8680753707885742,0.9719089269638062,1.0282649993896484,0.9556245803833008,0.9466741681098938,0.983630359172821,1.005625605583191,0.8939537405967712,0.9745162725448608,0.9977326989173889,1.0094523429870605,1.0064096450805664,0.9724301695823669,0.9358391165733337,1.0080060958862305,0.9246033430099487,0.9901955723762512,0.9755452871322632,0.9927466511726379,1.169888973236084,1.2553985118865967,1.09495210647583,1.134657382965088,1.1238445043563843,1.2558398246765137,1.1925193071365356,1.1911752223968506,1.2549750804901123,1.2282565832138062,1.222023606300354,1.274247407913208,1.320756435394287,1.2130730152130127,1.3359447717666626,1.3080083131790161,1.3683700561523438,1.3308992385864258,1.3191328048706055,1.2568600177764893,1.3236862421035767,1.3980129957199097,1.402451992034912,1.2996549606323242,1.3076035976409912,1.316185474395752,1.230661392211914,1.3435074090957642,1.2359418869018555,1.3044068813323975,1.1505447626113892,1.256685495376587,1.3148081302642822,1.2906079292297363,1.0904629230499268,1.0910677909851074,1.295945644378662,1.1312443017959595,1.244393229484558,1.222640037536621,1.288771390914917,1.1780799627304077,1.2967936992645264,1.2247320413589478,1.2663758993148804,1.0804811716079712,1.2789013385772705,1.2411162853240967,1.165468692779541,1.2238229513168335,1.075416922569275,1.3340895175933838,1.2122563123703003,1.2335991859436035,1.2611708641052246,1.242366909980774]}},\"id\":\"135df085-11b5-4b5a-8207-5e6903771917\",\"type\":\"ColumnDataSource\"},{\"attributes\":{},\"id\":\"83b4776a-c9d8-4c94-acdd-106669422d90\",\"type\":\"BasicTickFormatter\"},{\"attributes\":{\"line_alpha\":0.1,\"line_color\":\"#1f77b4\",\"line_width\":3,\"x\":{\"field\":\"x\"},\"y\":{\"field\":\"y\"}},\"id\":\"4d759ee6-9ae3-44f5-a324-81230db9234f\",\"type\":\"Line\"},{\"attributes\":{\"line_color\":\"#ff7f0e\",\"line_width\":3,\"x\":{\"field\":\"x\"},\"y\":{\"field\":\"y\"}},\"id\":\"1e42f5ae-c065-4545-b8bf-741a8c724c22\",\"type\":\"Line\"},{\"attributes\":{\"active_drag\":\"auto\",\"active_inspect\":\"auto\",\"active_scroll\":\"auto\",\"active_tap\":\"auto\",\"tools\":[{\"id\":\"f7b926d0-3502-418c-b6e9-4228a609a6ca\",\"type\":\"PanTool\"},{\"id\":\"da8f1893-cc05-4c10-bb0c-91ea1818c6aa\",\"type\":\"WheelZoomTool\"},{\"id\":\"f2048781-3c7d-48e1-a879-8810815a5893\",\"type\":\"BoxZoomTool\"},{\"id\":\"15d7f6e3-0922-403e-9e4c-4e5f38cac4b3\",\"type\":\"SaveTool\"},{\"id\":\"8de4f467-efb0-4d11-8586-c962b1c2fc14\",\"type\":\"ResetTool\"},{\"id\":\"d0971066-17a3-42b6-9a13-3db771d798c2\",\"type\":\"HelpTool\"}]},\"id\":\"b7d96cf7-4ad0-4ffa-9556-0ddc6eb84007\",\"type\":\"Toolbar\"},{\"attributes\":{\"line_color\":\"#1f77b4\",\"line_width\":3,\"x\":{\"field\":\"x\"},\"y\":{\"field\":\"y\"}},\"id\":\"b19f6f47-9e79-474e-a629-0b67913213ad\",\"type\":\"Line\"},{\"attributes\":{\"data_source\":{\"id\":\"135df085-11b5-4b5a-8207-5e6903771917\",\"type\":\"ColumnDataSource\"},\"glyph\":{\"id\":\"b19f6f47-9e79-474e-a629-0b67913213ad\",\"type\":\"Line\"},\"hover_glyph\":null,\"muted_glyph\":null,\"nonselection_glyph\":{\"id\":\"4d759ee6-9ae3-44f5-a324-81230db9234f\",\"type\":\"Line\"},\"selection_glyph\":null,\"view\":{\"id\":\"54176a26-e2d3-4576-a800-4944a80c41b1\",\"type\":\"CDSView\"}},\"id\":\"fe0eb897-3b01-40e3-abd2-a74b6418aa0d\",\"type\":\"GlyphRenderer\"},{\"attributes\":{\"source\":{\"id\":\"135df085-11b5-4b5a-8207-5e6903771917\",\"type\":\"ColumnDataSource\"}},\"id\":\"54176a26-e2d3-4576-a800-4944a80c41b1\",\"type\":\"CDSView\"},{\"attributes\":{\"label\":{\"value\":\"train - (256, 1, 0.9, 0, 0.1, 160)\"},\"renderers\":[{\"id\":\"fe0eb897-3b01-40e3-abd2-a74b6418aa0d\",\"type\":\"GlyphRenderer\"}]},\"id\":\"8abff6b3-ef75-4424-81df-812a3c6f065a\",\"type\":\"LegendItem\"},{\"attributes\":{\"plot\":null,\"text\":\"The Norm of Gradients\"},\"id\":\"75229e55-48a5-44b3-bba3-c9d156dbf9f8\",\"type\":\"Title\"},{\"attributes\":{\"click_policy\":\"hide\",\"items\":[{\"id\":\"8abff6b3-ef75-4424-81df-812a3c6f065a\",\"type\":\"LegendItem\"},{\"id\":\"978b8426-0404-4d78-9e54-438fe950709b\",\"type\":\"LegendItem\"}],\"location\":\"top_left\",\"plot\":{\"id\":\"70f84c6a-604c-4893-a662-a43f5383b296\",\"subtype\":\"Figure\",\"type\":\"Plot\"}},\"id\":\"6fc5bede-6d4a-4bdb-96a3-0bfa720ab489\",\"type\":\"Legend\"},{\"attributes\":{\"label\":{\"value\":\"train - (256, 1, 0.9, 0, 0.1, 371)\"},\"renderers\":[{\"id\":\"34cb96ed-99c2-4196-bab5-5c0c80fe2947\",\"type\":\"GlyphRenderer\"}]},\"id\":\"978b8426-0404-4d78-9e54-438fe950709b\",\"type\":\"LegendItem\"},{\"attributes\":{\"callback\":null},\"id\":\"a2a6009d-e32c-4fd5-af3b-259fe573fa4d\",\"type\":\"DataRange1d\"},{\"attributes\":{\"background_fill_color\":{\"value\":\"#fafafa\"},\"below\":[{\"id\":\"1c322ed2-e42d-4721-a712-c169549fbd82\",\"type\":\"LinearAxis\"}],\"left\":[{\"id\":\"2055b753-1eb9-46be-bf31-dac10297e825\",\"type\":\"LinearAxis\"}],\"min_border\":10,\"min_border_left\":50,\"renderers\":[{\"id\":\"1c322ed2-e42d-4721-a712-c169549fbd82\",\"type\":\"LinearAxis\"},{\"id\":\"067d4a0a-032b-415f-89e2-78b540eedaa0\",\"type\":\"Grid\"},{\"id\":\"2055b753-1eb9-46be-bf31-dac10297e825\",\"type\":\"LinearAxis\"},{\"id\":\"1fcfd57a-5eaa-4c68-a77c-8695a1b5b2c5\",\"type\":\"Grid\"},{\"id\":\"98ad3e40-708a-4cf4-8185-4570658573c6\",\"type\":\"BoxAnnotation\"},{\"id\":\"6fc5bede-6d4a-4bdb-96a3-0bfa720ab489\",\"type\":\"Legend\"},{\"id\":\"fe0eb897-3b01-40e3-abd2-a74b6418aa0d\",\"type\":\"GlyphRenderer\"},{\"id\":\"34cb96ed-99c2-4196-bab5-5c0c80fe2947\",\"type\":\"GlyphRenderer\"}],\"title\":{\"id\":\"75229e55-48a5-44b3-bba3-c9d156dbf9f8\",\"type\":\"Title\"},\"toolbar\":{\"id\":\"b7d96cf7-4ad0-4ffa-9556-0ddc6eb84007\",\"type\":\"Toolbar\"},\"x_range\":{\"id\":\"a2a6009d-e32c-4fd5-af3b-259fe573fa4d\",\"type\":\"DataRange1d\"},\"x_scale\":{\"id\":\"6d4d194f-5d41-40ce-b924-747f79b2ad14\",\"type\":\"LinearScale\"},\"y_range\":{\"id\":\"3a8a631c-1131-49fd-9d17-d5758d77c4e2\",\"type\":\"DataRange1d\"},\"y_scale\":{\"id\":\"6625bd9e-5048-45a7-a390-091a2896e3b2\",\"type\":\"LinearScale\"}},\"id\":\"70f84c6a-604c-4893-a662-a43f5383b296\",\"subtype\":\"Figure\",\"type\":\"Plot\"},{\"attributes\":{},\"id\":\"6625bd9e-5048-45a7-a390-091a2896e3b2\",\"type\":\"LinearScale\"},{\"attributes\":{},\"id\":\"6d4d194f-5d41-40ce-b924-747f79b2ad14\",\"type\":\"LinearScale\"},{\"attributes\":{\"callback\":null},\"id\":\"3a8a631c-1131-49fd-9d17-d5758d77c4e2\",\"type\":\"DataRange1d\"},{\"attributes\":{\"plot\":{\"id\":\"70f84c6a-604c-4893-a662-a43f5383b296\",\"subtype\":\"Figure\",\"type\":\"Plot\"},\"ticker\":{\"id\":\"70e5427c-f84c-48ba-b2d4-19a721c47c4a\",\"type\":\"BasicTicker\"}},\"id\":\"067d4a0a-032b-415f-89e2-78b540eedaa0\",\"type\":\"Grid\"},{\"attributes\":{\"dimension\":1,\"plot\":{\"id\":\"70f84c6a-604c-4893-a662-a43f5383b296\",\"subtype\":\"Figure\",\"type\":\"Plot\"},\"ticker\":{\"id\":\"710449d8-dc49-47a3-bd53-fdac9f43ffc6\",\"type\":\"BasicTicker\"}},\"id\":\"1fcfd57a-5eaa-4c68-a77c-8695a1b5b2c5\",\"type\":\"Grid\"},{\"attributes\":{},\"id\":\"70e5427c-f84c-48ba-b2d4-19a721c47c4a\",\"type\":\"BasicTicker\"},{\"attributes\":{\"axis_label\":\"t [Epochs]\",\"formatter\":{\"id\":\"83b4776a-c9d8-4c94-acdd-106669422d90\",\"type\":\"BasicTickFormatter\"},\"plot\":{\"id\":\"70f84c6a-604c-4893-a662-a43f5383b296\",\"subtype\":\"Figure\",\"type\":\"Plot\"},\"ticker\":{\"id\":\"70e5427c-f84c-48ba-b2d4-19a721c47c4a\",\"type\":\"BasicTicker\"}},\"id\":\"1c322ed2-e42d-4721-a712-c169549fbd82\",\"type\":\"LinearAxis\"},{\"attributes\":{},\"id\":\"710449d8-dc49-47a3-bd53-fdac9f43ffc6\",\"type\":\"BasicTicker\"},{\"attributes\":{\"axis_label\":\"||g||\",\"formatter\":{\"id\":\"f2dad2c4-b560-4d79-8a82-cde99cefd15b\",\"type\":\"BasicTickFormatter\"},\"plot\":{\"id\":\"70f84c6a-604c-4893-a662-a43f5383b296\",\"subtype\":\"Figure\",\"type\":\"Plot\"},\"ticker\":{\"id\":\"710449d8-dc49-47a3-bd53-fdac9f43ffc6\",\"type\":\"BasicTicker\"}},\"id\":\"2055b753-1eb9-46be-bf31-dac10297e825\",\"type\":\"LinearAxis\"},{\"attributes\":{\"callback\":null,\"column_names\":[\"x\",\"y\"],\"data\":{\"x\":{\"__ndarray__\":\"AQAAAAIAAAADAAAABAAAAAUAAAAGAAAABwAAAAgAAAAJAAAACgAAAAsAAAAMAAAADQAAAA4AAAAPAAAAEAAAABEAAAASAAAAEwAAABQAAAAVAAAAFgAAABcAAAAYAAAAGQAAABoAAAAbAAAAHAAAAB0AAAAeAAAAHwAAACAAAAAhAAAAIgAAACMAAAAkAAAAJQAAACYAAAAnAAAAKAAAACkAAAAqAAAAKwAAACwAAAAtAAAALgAAAC8AAAAwAAAAMQAAADIAAAAzAAAANAAAADUAAAA2AAAANwAAADgAAAA5AAAAOgAAADsAAAA8AAAAPQAAAD4AAAA/AAAAQAAAAEEAAABCAAAAQwAAAEQAAABFAAAARgAAAEcAAABIAAAASQAAAEoAAABLAAAATAAAAE0AAABOAAAATwAAAFAAAABRAAAAUgAAAFMAAABUAAAAVQAAAFYAAABXAAAAWAAAAFkAAABaAAAA\",\"dtype\":\"int32\",\"shape\":[90]},\"y\":[1.0776395797729492,1.0098040103912354,1.0257956981658936,1.0634121894836426,1.014623999595642,0.9714598655700684,0.9606902599334717,1.0054341554641724,0.9907970428466797,0.9616931676864624,0.9393361806869507,0.9757823944091797,1.0007647275924683,0.9806868433952332,0.9408513903617859,0.9246678948402405,0.9498352408409119,0.9567256569862366,0.9666814804077148,0.9737170338630676,0.9767850637435913,0.9799861907958984,0.9286496639251709,0.9338811635971069,0.9842863082885742,1.0137748718261719,0.8983675241470337,0.886621356010437,0.9688135385513306,0.9706110954284668,0.942851722240448,0.9022473692893982,1.05701744556427,1.043746829032898,1.1455286741256714,1.074877381324768,1.104205846786499,1.156018614768982,1.247679352760315,1.249492883682251,1.148007869720459,1.2510316371917725,1.340641736984253,1.1802539825439453,1.2963372468948364,1.3508551120758057,1.41890549659729,1.389949917793274,1.3288615942001343,1.259881854057312,1.3386070728302002,1.345334768295288,1.3639657497406006,1.2705577611923218,1.3915417194366455,1.431355595588684,1.4146541357040405,1.2424798011779785,1.377138376235962,1.32469642162323,1.300776720046997,1.234007716178894,1.170627474784851,1.1924339532852173,1.1249706745147705,1.2719244956970215,1.2114372253417969,1.241268277168274,1.2863404750823975,1.2144922018051147,1.2578060626983643,1.2082396745681763,1.1622200012207031,1.1489806175231934,1.1695365905761719,1.2039799690246582,1.2919676303863525,1.3262349367141724,1.194289207458496,1.2788876295089722,1.2238960266113281,1.23372483253479,1.3819154500961304,1.2791149616241455,1.253955602645874,1.2025316953659058,1.2172682285308838,1.2788560390472412,1.2282572984695435,1.1453551054000854]}},\"id\":\"d97bac5a-c58d-4536-a17f-8446b60a8692\",\"type\":\"ColumnDataSource\"},{\"attributes\":{\"data_source\":{\"id\":\"d97bac5a-c58d-4536-a17f-8446b60a8692\",\"type\":\"ColumnDataSource\"},\"glyph\":{\"id\":\"1e42f5ae-c065-4545-b8bf-741a8c724c22\",\"type\":\"Line\"},\"hover_glyph\":null,\"muted_glyph\":null,\"nonselection_glyph\":{\"id\":\"cab108d0-023c-4a88-8b5a-e686bbfcbca5\",\"type\":\"Line\"},\"selection_glyph\":null,\"view\":{\"id\":\"407fc975-8f9f-4530-92f0-d1b87f4036cb\",\"type\":\"CDSView\"}},\"id\":\"34cb96ed-99c2-4196-bab5-5c0c80fe2947\",\"type\":\"GlyphRenderer\"},{\"attributes\":{\"bottom_units\":\"screen\",\"fill_alpha\":{\"value\":0.5},\"fill_color\":{\"value\":\"lightgrey\"},\"left_units\":\"screen\",\"level\":\"overlay\",\"line_alpha\":{\"value\":1.0},\"line_color\":{\"value\":\"black\"},\"line_dash\":[4,4],\"line_width\":{\"value\":2},\"plot\":null,\"render_mode\":\"css\",\"right_units\":\"screen\",\"top_units\":\"screen\"},\"id\":\"98ad3e40-708a-4cf4-8185-4570658573c6\",\"type\":\"BoxAnnotation\"},{\"attributes\":{\"line_alpha\":0.1,\"line_color\":\"#1f77b4\",\"line_width\":3,\"x\":{\"field\":\"x\"},\"y\":{\"field\":\"y\"}},\"id\":\"cab108d0-023c-4a88-8b5a-e686bbfcbca5\",\"type\":\"Line\"},{\"attributes\":{},\"id\":\"f7b926d0-3502-418c-b6e9-4228a609a6ca\",\"type\":\"PanTool\"},{\"attributes\":{},\"id\":\"da8f1893-cc05-4c10-bb0c-91ea1818c6aa\",\"type\":\"WheelZoomTool\"},{\"attributes\":{\"overlay\":{\"id\":\"98ad3e40-708a-4cf4-8185-4570658573c6\",\"type\":\"BoxAnnotation\"}},\"id\":\"f2048781-3c7d-48e1-a879-8810815a5893\",\"type\":\"BoxZoomTool\"},{\"attributes\":{},\"id\":\"15d7f6e3-0922-403e-9e4c-4e5f38cac4b3\",\"type\":\"SaveTool\"},{\"attributes\":{},\"id\":\"8de4f467-efb0-4d11-8586-c962b1c2fc14\",\"type\":\"ResetTool\"},{\"attributes\":{},\"id\":\"d0971066-17a3-42b6-9a13-3db771d798c2\",\"type\":\"HelpTool\"}],\"root_ids\":[\"70f84c6a-604c-4893-a662-a43f5383b296\"]},\"title\":\"Bokeh Application\",\"version\":\"0.12.13\"}};\n",
       "  var render_items = [{\"docid\":\"ba2dc494-efdf-4888-9492-cb894b441f03\",\"elementid\":\"4cf2e97f-5174-4e4b-91d8-29b4080cb96d\",\"modelid\":\"70f84c6a-604c-4893-a662-a43f5383b296\"}];\n",
       "  root.Bokeh.embed.embed_items_notebook(docs_json, render_items);\n",
       "\n",
       "  }\n",
       "  if (root.Bokeh !== undefined) {\n",
       "    embed_document(root);\n",
       "  } else {\n",
       "    var attempts = 0;\n",
       "    var timer = setInterval(function(root) {\n",
       "      if (root.Bokeh !== undefined) {\n",
       "        embed_document(root);\n",
       "        clearInterval(timer);\n",
       "      }\n",
       "      attempts++;\n",
       "      if (attempts > 100) {\n",
       "        console.log(\"Bokeh: ERROR: Unable to run BokehJS code because BokehJS library is missing\")\n",
       "        clearInterval(timer);\n",
       "      }\n",
       "    }, 10, root)\n",
       "  }\n",
       "})(window);"
      ],
      "application/vnd.bokehjs_exec.v0+json": ""
     },
     "metadata": {
      "application/vnd.bokehjs_exec.v0+json": {
       "id": "70f84c6a-604c-4893-a662-a43f5383b296"
      }
     },
     "output_type": "display_data"
    }
   ],
   "source": [
    "show(plots[3])"
   ]
  },
  {
   "cell_type": "raw",
   "metadata": {},
   "source": [
    "<script>\n",
    "  $(document).ready(function(){\n",
    "    $('div.prompt').hide();\n",
    "    $('div.back-to-top').hide();\n",
    "    $('nav#menubar').hide();\n",
    "    $('.breadcrumb').hide();\n",
    "    $('.hidden-print').hide();\n",
    "  });\n",
    "</script>\n",
    "\n",
    "<footer id=\"attribution\" style=\"float:right; color:#999; background:#fff;\">\n",
    "Niv Giladi - Technion\n",
    "</footer>"
   ]
  }
 ],
 "metadata": {
  "kernelspec": {
   "display_name": "Python 3",
   "language": "python",
   "name": "python3"
  },
  "language_info": {
   "codemirror_mode": {
    "name": "ipython",
    "version": 3
   },
   "file_extension": ".py",
   "mimetype": "text/x-python",
   "name": "python",
   "nbconvert_exporter": "python",
   "pygments_lexer": "ipython3",
   "version": "3.6.1"
  }
 },
 "nbformat": 4,
 "nbformat_minor": 1
}
