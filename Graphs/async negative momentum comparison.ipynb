{
 "cells": [
  {
   "cell_type": "raw",
   "metadata": {},
   "source": [
    "<script>\n",
    "  jQuery(document).ready(function($) {  \n",
    "  \n",
    "  $(window).on('load', function(){\n",
    "    $('#preloader').fadeOut('slow',function(){$(this).remove();});\n",
    "  });\n",
    "  \n",
    "  });\n",
    "</script>\n",
    "\n",
    "<style type=\"text/css\">\n",
    "  div#preloader { position: fixed; \n",
    "      left: 0; \n",
    "      top: 0; \n",
    "      z-index: 999; \n",
    "      width: 100%; \n",
    "      height: 100%; \n",
    "      overflow: visible; \n",
    "      background: #fff url('http://preloaders.net/preloaders/720/Moving%20line.gif') no-repeat center center; \n",
    "  }\n",
    "\n",
    "</style>\n",
    "\n",
    "<div id=\"preloader\">\n",
    "\n",
    "</div>"
   ]
  },
  {
   "cell_type": "raw",
   "metadata": {},
   "source": [
    "<script>\n",
    "  function code_toggle() {\n",
    "    if (code_shown){\n",
    "      $('div.input').hide('500');\n",
    "      $('#toggleButton').val('Show Code')\n",
    "    } else {\n",
    "      $('div.input').show('500');\n",
    "      $('#toggleButton').val('Hide Code')\n",
    "    }\n",
    "    code_shown = !code_shown\n",
    "  } \n",
    "  \n",
    "  $( document ).ready(function(){\n",
    "    code_shown=false; \n",
    "    $('div.input').hide()\n",
    "  });\n",
    "</script>\n",
    "<form action=\"javascript:code_toggle()\"><input type=\"submit\" id=\"toggleButton\" value=\"Show Code\"></form>"
   ]
  },
  {
   "cell_type": "markdown",
   "metadata": {},
   "source": [
    "<h1 style=\"text-align: center;\" markdown=\"1\"> ImageNet - Fast Training Regime</h1>\n",
    "<h2 style=\"text-align: center;\" markdown=\"1\"> Resnet 50</h2>"
   ]
  },
  {
   "cell_type": "code",
   "execution_count": 2,
   "metadata": {
    "scrolled": false
   },
   "outputs": [
    {
     "data": {
      "text/html": [
       "\n",
       "    <div class=\"bk-root\">\n",
       "        <a href=\"https://bokeh.pydata.org\" target=\"_blank\" class=\"bk-logo bk-logo-small bk-logo-notebook\"></a>\n",
       "        <span id=\"485fdc42-9bb2-4cb9-b47b-559b0093196f\">Loading BokehJS ...</span>\n",
       "    </div>"
      ]
     },
     "metadata": {},
     "output_type": "display_data"
    },
    {
     "data": {
      "application/javascript": [
       "\n",
       "(function(root) {\n",
       "  function now() {\n",
       "    return new Date();\n",
       "  }\n",
       "\n",
       "  var force = true;\n",
       "\n",
       "  if (typeof (root._bokeh_onload_callbacks) === \"undefined\" || force === true) {\n",
       "    root._bokeh_onload_callbacks = [];\n",
       "    root._bokeh_is_loading = undefined;\n",
       "  }\n",
       "\n",
       "  var JS_MIME_TYPE = 'application/javascript';\n",
       "  var HTML_MIME_TYPE = 'text/html';\n",
       "  var EXEC_MIME_TYPE = 'application/vnd.bokehjs_exec.v0+json';\n",
       "  var CLASS_NAME = 'output_bokeh rendered_html';\n",
       "\n",
       "  /**\n",
       "   * Render data to the DOM node\n",
       "   */\n",
       "  function render(props, node) {\n",
       "    var script = document.createElement(\"script\");\n",
       "    node.appendChild(script);\n",
       "  }\n",
       "\n",
       "  /**\n",
       "   * Handle when an output is cleared or removed\n",
       "   */\n",
       "  function handleClearOutput(event, handle) {\n",
       "    var cell = handle.cell;\n",
       "\n",
       "    var id = cell.output_area._bokeh_element_id;\n",
       "    var server_id = cell.output_area._bokeh_server_id;\n",
       "    // Clean up Bokeh references\n",
       "    if (id !== undefined) {\n",
       "      Bokeh.index[id].model.document.clear();\n",
       "      delete Bokeh.index[id];\n",
       "    }\n",
       "\n",
       "    if (server_id !== undefined) {\n",
       "      // Clean up Bokeh references\n",
       "      var cmd = \"from bokeh.io.state import curstate; print(curstate().uuid_to_server['\" + server_id + \"'].get_sessions()[0].document.roots[0]._id)\";\n",
       "      cell.notebook.kernel.execute(cmd, {\n",
       "        iopub: {\n",
       "          output: function(msg) {\n",
       "            var element_id = msg.content.text.trim();\n",
       "            Bokeh.index[element_id].model.document.clear();\n",
       "            delete Bokeh.index[element_id];\n",
       "          }\n",
       "        }\n",
       "      });\n",
       "      // Destroy server and session\n",
       "      var cmd = \"import bokeh.io.notebook as ion; ion.destroy_server('\" + server_id + \"')\";\n",
       "      cell.notebook.kernel.execute(cmd);\n",
       "    }\n",
       "  }\n",
       "\n",
       "  /**\n",
       "   * Handle when a new output is added\n",
       "   */\n",
       "  function handleAddOutput(event, handle) {\n",
       "    var output_area = handle.output_area;\n",
       "    var output = handle.output;\n",
       "\n",
       "    // limit handleAddOutput to display_data with EXEC_MIME_TYPE content only\n",
       "    if ((output.output_type != \"display_data\") || (!output.data.hasOwnProperty(EXEC_MIME_TYPE))) {\n",
       "      return\n",
       "    }\n",
       "\n",
       "    var toinsert = output_area.element.find(\".\" + CLASS_NAME.split(' ')[0]);\n",
       "\n",
       "    if (output.metadata[EXEC_MIME_TYPE][\"id\"] !== undefined) {\n",
       "      toinsert[0].firstChild.textContent = output.data[JS_MIME_TYPE];\n",
       "      // store reference to embed id on output_area\n",
       "      output_area._bokeh_element_id = output.metadata[EXEC_MIME_TYPE][\"id\"];\n",
       "    }\n",
       "    if (output.metadata[EXEC_MIME_TYPE][\"server_id\"] !== undefined) {\n",
       "      var bk_div = document.createElement(\"div\");\n",
       "      bk_div.innerHTML = output.data[HTML_MIME_TYPE];\n",
       "      var script_attrs = bk_div.children[0].attributes;\n",
       "      for (var i = 0; i < script_attrs.length; i++) {\n",
       "        toinsert[0].firstChild.setAttribute(script_attrs[i].name, script_attrs[i].value);\n",
       "      }\n",
       "      // store reference to server id on output_area\n",
       "      output_area._bokeh_server_id = output.metadata[EXEC_MIME_TYPE][\"server_id\"];\n",
       "    }\n",
       "  }\n",
       "\n",
       "  function register_renderer(events, OutputArea) {\n",
       "\n",
       "    function append_mime(data, metadata, element) {\n",
       "      // create a DOM node to render to\n",
       "      var toinsert = this.create_output_subarea(\n",
       "        metadata,\n",
       "        CLASS_NAME,\n",
       "        EXEC_MIME_TYPE\n",
       "      );\n",
       "      this.keyboard_manager.register_events(toinsert);\n",
       "      // Render to node\n",
       "      var props = {data: data, metadata: metadata[EXEC_MIME_TYPE]};\n",
       "      render(props, toinsert[0]);\n",
       "      element.append(toinsert);\n",
       "      return toinsert\n",
       "    }\n",
       "\n",
       "    /* Handle when an output is cleared or removed */\n",
       "    events.on('clear_output.CodeCell', handleClearOutput);\n",
       "    events.on('delete.Cell', handleClearOutput);\n",
       "\n",
       "    /* Handle when a new output is added */\n",
       "    events.on('output_added.OutputArea', handleAddOutput);\n",
       "\n",
       "    /**\n",
       "     * Register the mime type and append_mime function with output_area\n",
       "     */\n",
       "    OutputArea.prototype.register_mime_type(EXEC_MIME_TYPE, append_mime, {\n",
       "      /* Is output safe? */\n",
       "      safe: true,\n",
       "      /* Index of renderer in `output_area.display_order` */\n",
       "      index: 0\n",
       "    });\n",
       "  }\n",
       "\n",
       "  // register the mime type if in Jupyter Notebook environment and previously unregistered\n",
       "  if (root.Jupyter !== undefined) {\n",
       "    var events = require('base/js/events');\n",
       "    var OutputArea = require('notebook/js/outputarea').OutputArea;\n",
       "\n",
       "    if (OutputArea.prototype.mime_types().indexOf(EXEC_MIME_TYPE) == -1) {\n",
       "      register_renderer(events, OutputArea);\n",
       "    }\n",
       "  }\n",
       "\n",
       "  \n",
       "  if (typeof (root._bokeh_timeout) === \"undefined\" || force === true) {\n",
       "    root._bokeh_timeout = Date.now() + 5000;\n",
       "    root._bokeh_failed_load = false;\n",
       "  }\n",
       "\n",
       "  var NB_LOAD_WARNING = {'data': {'text/html':\n",
       "     \"<div style='background-color: #fdd'>\\n\"+\n",
       "     \"<p>\\n\"+\n",
       "     \"BokehJS does not appear to have successfully loaded. If loading BokehJS from CDN, this \\n\"+\n",
       "     \"may be due to a slow or bad network connection. Possible fixes:\\n\"+\n",
       "     \"</p>\\n\"+\n",
       "     \"<ul>\\n\"+\n",
       "     \"<li>re-rerun `output_notebook()` to attempt to load from CDN again, or</li>\\n\"+\n",
       "     \"<li>use INLINE resources instead, as so:</li>\\n\"+\n",
       "     \"</ul>\\n\"+\n",
       "     \"<code>\\n\"+\n",
       "     \"from bokeh.resources import INLINE\\n\"+\n",
       "     \"output_notebook(resources=INLINE)\\n\"+\n",
       "     \"</code>\\n\"+\n",
       "     \"</div>\"}};\n",
       "\n",
       "  function display_loaded() {\n",
       "    var el = document.getElementById(\"485fdc42-9bb2-4cb9-b47b-559b0093196f\");\n",
       "    if (el != null) {\n",
       "      el.textContent = \"BokehJS is loading...\";\n",
       "    }\n",
       "    if (root.Bokeh !== undefined) {\n",
       "      if (el != null) {\n",
       "        el.textContent = \"BokehJS \" + root.Bokeh.version + \" successfully loaded.\";\n",
       "      }\n",
       "    } else if (Date.now() < root._bokeh_timeout) {\n",
       "      setTimeout(display_loaded, 100)\n",
       "    }\n",
       "  }\n",
       "\n",
       "\n",
       "  function run_callbacks() {\n",
       "    try {\n",
       "      root._bokeh_onload_callbacks.forEach(function(callback) { callback() });\n",
       "    }\n",
       "    finally {\n",
       "      delete root._bokeh_onload_callbacks\n",
       "    }\n",
       "    console.info(\"Bokeh: all callbacks have finished\");\n",
       "  }\n",
       "\n",
       "  function load_libs(js_urls, callback) {\n",
       "    root._bokeh_onload_callbacks.push(callback);\n",
       "    if (root._bokeh_is_loading > 0) {\n",
       "      console.log(\"Bokeh: BokehJS is being loaded, scheduling callback at\", now());\n",
       "      return null;\n",
       "    }\n",
       "    if (js_urls == null || js_urls.length === 0) {\n",
       "      run_callbacks();\n",
       "      return null;\n",
       "    }\n",
       "    console.log(\"Bokeh: BokehJS not loaded, scheduling load and callback at\", now());\n",
       "    root._bokeh_is_loading = js_urls.length;\n",
       "    for (var i = 0; i < js_urls.length; i++) {\n",
       "      var url = js_urls[i];\n",
       "      var s = document.createElement('script');\n",
       "      s.src = url;\n",
       "      s.async = false;\n",
       "      s.onreadystatechange = s.onload = function() {\n",
       "        root._bokeh_is_loading--;\n",
       "        if (root._bokeh_is_loading === 0) {\n",
       "          console.log(\"Bokeh: all BokehJS libraries loaded\");\n",
       "          run_callbacks()\n",
       "        }\n",
       "      };\n",
       "      s.onerror = function() {\n",
       "        console.warn(\"failed to load library \" + url);\n",
       "      };\n",
       "      console.log(\"Bokeh: injecting script tag for BokehJS library: \", url);\n",
       "      document.getElementsByTagName(\"head\")[0].appendChild(s);\n",
       "    }\n",
       "  };var element = document.getElementById(\"485fdc42-9bb2-4cb9-b47b-559b0093196f\");\n",
       "  if (element == null) {\n",
       "    console.log(\"Bokeh: ERROR: autoload.js configured with elementid '485fdc42-9bb2-4cb9-b47b-559b0093196f' but no matching script tag was found. \")\n",
       "    return false;\n",
       "  }\n",
       "\n",
       "  var js_urls = [\"https://cdn.pydata.org/bokeh/release/bokeh-0.12.13.min.js\", \"https://cdn.pydata.org/bokeh/release/bokeh-widgets-0.12.13.min.js\", \"https://cdn.pydata.org/bokeh/release/bokeh-tables-0.12.13.min.js\", \"https://cdn.pydata.org/bokeh/release/bokeh-gl-0.12.13.min.js\"];\n",
       "\n",
       "  var inline_js = [\n",
       "    function(Bokeh) {\n",
       "      Bokeh.set_log_level(\"info\");\n",
       "    },\n",
       "    \n",
       "    function(Bokeh) {\n",
       "      \n",
       "    },\n",
       "    function(Bokeh) {\n",
       "      console.log(\"Bokeh: injecting CSS: https://cdn.pydata.org/bokeh/release/bokeh-0.12.13.min.css\");\n",
       "      Bokeh.embed.inject_css(\"https://cdn.pydata.org/bokeh/release/bokeh-0.12.13.min.css\");\n",
       "      console.log(\"Bokeh: injecting CSS: https://cdn.pydata.org/bokeh/release/bokeh-widgets-0.12.13.min.css\");\n",
       "      Bokeh.embed.inject_css(\"https://cdn.pydata.org/bokeh/release/bokeh-widgets-0.12.13.min.css\");\n",
       "      console.log(\"Bokeh: injecting CSS: https://cdn.pydata.org/bokeh/release/bokeh-tables-0.12.13.min.css\");\n",
       "      Bokeh.embed.inject_css(\"https://cdn.pydata.org/bokeh/release/bokeh-tables-0.12.13.min.css\");\n",
       "    }\n",
       "  ];\n",
       "\n",
       "  function run_inline_js() {\n",
       "    \n",
       "    if ((root.Bokeh !== undefined) || (force === true)) {\n",
       "      for (var i = 0; i < inline_js.length; i++) {\n",
       "        inline_js[i].call(root, root.Bokeh);\n",
       "      }if (force === true) {\n",
       "        display_loaded();\n",
       "      }} else if (Date.now() < root._bokeh_timeout) {\n",
       "      setTimeout(run_inline_js, 100);\n",
       "    } else if (!root._bokeh_failed_load) {\n",
       "      console.log(\"Bokeh: BokehJS failed to load within specified timeout.\");\n",
       "      root._bokeh_failed_load = true;\n",
       "    } else if (force !== true) {\n",
       "      var cell = $(document.getElementById(\"485fdc42-9bb2-4cb9-b47b-559b0093196f\")).parents('.cell').data().cell;\n",
       "      cell.output_area.append_execute_result(NB_LOAD_WARNING)\n",
       "    }\n",
       "\n",
       "  }\n",
       "\n",
       "  if (root._bokeh_is_loading === 0) {\n",
       "    console.log(\"Bokeh: BokehJS loaded, going straight to plotting\");\n",
       "    run_inline_js();\n",
       "  } else {\n",
       "    load_libs(js_urls, function() {\n",
       "      console.log(\"Bokeh: BokehJS plotting callback run at\", now());\n",
       "      run_inline_js();\n",
       "    });\n",
       "  }\n",
       "}(window));"
      ],
      "application/vnd.bokehjs_load.v0+json": "\n(function(root) {\n  function now() {\n    return new Date();\n  }\n\n  var force = true;\n\n  if (typeof (root._bokeh_onload_callbacks) === \"undefined\" || force === true) {\n    root._bokeh_onload_callbacks = [];\n    root._bokeh_is_loading = undefined;\n  }\n\n  \n\n  \n  if (typeof (root._bokeh_timeout) === \"undefined\" || force === true) {\n    root._bokeh_timeout = Date.now() + 5000;\n    root._bokeh_failed_load = false;\n  }\n\n  var NB_LOAD_WARNING = {'data': {'text/html':\n     \"<div style='background-color: #fdd'>\\n\"+\n     \"<p>\\n\"+\n     \"BokehJS does not appear to have successfully loaded. If loading BokehJS from CDN, this \\n\"+\n     \"may be due to a slow or bad network connection. Possible fixes:\\n\"+\n     \"</p>\\n\"+\n     \"<ul>\\n\"+\n     \"<li>re-rerun `output_notebook()` to attempt to load from CDN again, or</li>\\n\"+\n     \"<li>use INLINE resources instead, as so:</li>\\n\"+\n     \"</ul>\\n\"+\n     \"<code>\\n\"+\n     \"from bokeh.resources import INLINE\\n\"+\n     \"output_notebook(resources=INLINE)\\n\"+\n     \"</code>\\n\"+\n     \"</div>\"}};\n\n  function display_loaded() {\n    var el = document.getElementById(\"485fdc42-9bb2-4cb9-b47b-559b0093196f\");\n    if (el != null) {\n      el.textContent = \"BokehJS is loading...\";\n    }\n    if (root.Bokeh !== undefined) {\n      if (el != null) {\n        el.textContent = \"BokehJS \" + root.Bokeh.version + \" successfully loaded.\";\n      }\n    } else if (Date.now() < root._bokeh_timeout) {\n      setTimeout(display_loaded, 100)\n    }\n  }\n\n\n  function run_callbacks() {\n    try {\n      root._bokeh_onload_callbacks.forEach(function(callback) { callback() });\n    }\n    finally {\n      delete root._bokeh_onload_callbacks\n    }\n    console.info(\"Bokeh: all callbacks have finished\");\n  }\n\n  function load_libs(js_urls, callback) {\n    root._bokeh_onload_callbacks.push(callback);\n    if (root._bokeh_is_loading > 0) {\n      console.log(\"Bokeh: BokehJS is being loaded, scheduling callback at\", now());\n      return null;\n    }\n    if (js_urls == null || js_urls.length === 0) {\n      run_callbacks();\n      return null;\n    }\n    console.log(\"Bokeh: BokehJS not loaded, scheduling load and callback at\", now());\n    root._bokeh_is_loading = js_urls.length;\n    for (var i = 0; i < js_urls.length; i++) {\n      var url = js_urls[i];\n      var s = document.createElement('script');\n      s.src = url;\n      s.async = false;\n      s.onreadystatechange = s.onload = function() {\n        root._bokeh_is_loading--;\n        if (root._bokeh_is_loading === 0) {\n          console.log(\"Bokeh: all BokehJS libraries loaded\");\n          run_callbacks()\n        }\n      };\n      s.onerror = function() {\n        console.warn(\"failed to load library \" + url);\n      };\n      console.log(\"Bokeh: injecting script tag for BokehJS library: \", url);\n      document.getElementsByTagName(\"head\")[0].appendChild(s);\n    }\n  };var element = document.getElementById(\"485fdc42-9bb2-4cb9-b47b-559b0093196f\");\n  if (element == null) {\n    console.log(\"Bokeh: ERROR: autoload.js configured with elementid '485fdc42-9bb2-4cb9-b47b-559b0093196f' but no matching script tag was found. \")\n    return false;\n  }\n\n  var js_urls = [\"https://cdn.pydata.org/bokeh/release/bokeh-0.12.13.min.js\", \"https://cdn.pydata.org/bokeh/release/bokeh-widgets-0.12.13.min.js\", \"https://cdn.pydata.org/bokeh/release/bokeh-tables-0.12.13.min.js\", \"https://cdn.pydata.org/bokeh/release/bokeh-gl-0.12.13.min.js\"];\n\n  var inline_js = [\n    function(Bokeh) {\n      Bokeh.set_log_level(\"info\");\n    },\n    \n    function(Bokeh) {\n      \n    },\n    function(Bokeh) {\n      console.log(\"Bokeh: injecting CSS: https://cdn.pydata.org/bokeh/release/bokeh-0.12.13.min.css\");\n      Bokeh.embed.inject_css(\"https://cdn.pydata.org/bokeh/release/bokeh-0.12.13.min.css\");\n      console.log(\"Bokeh: injecting CSS: https://cdn.pydata.org/bokeh/release/bokeh-widgets-0.12.13.min.css\");\n      Bokeh.embed.inject_css(\"https://cdn.pydata.org/bokeh/release/bokeh-widgets-0.12.13.min.css\");\n      console.log(\"Bokeh: injecting CSS: https://cdn.pydata.org/bokeh/release/bokeh-tables-0.12.13.min.css\");\n      Bokeh.embed.inject_css(\"https://cdn.pydata.org/bokeh/release/bokeh-tables-0.12.13.min.css\");\n    }\n  ];\n\n  function run_inline_js() {\n    \n    if ((root.Bokeh !== undefined) || (force === true)) {\n      for (var i = 0; i < inline_js.length; i++) {\n        inline_js[i].call(root, root.Bokeh);\n      }if (force === true) {\n        display_loaded();\n      }} else if (Date.now() < root._bokeh_timeout) {\n      setTimeout(run_inline_js, 100);\n    } else if (!root._bokeh_failed_load) {\n      console.log(\"Bokeh: BokehJS failed to load within specified timeout.\");\n      root._bokeh_failed_load = true;\n    } else if (force !== true) {\n      var cell = $(document.getElementById(\"485fdc42-9bb2-4cb9-b47b-559b0093196f\")).parents('.cell').data().cell;\n      cell.output_area.append_execute_result(NB_LOAD_WARNING)\n    }\n\n  }\n\n  if (root._bokeh_is_loading === 0) {\n    console.log(\"Bokeh: BokehJS loaded, going straight to plotting\");\n    run_inline_js();\n  } else {\n    load_libs(js_urls, function() {\n      console.log(\"Bokeh: BokehJS plotting callback run at\", now());\n      run_inline_js();\n    });\n  }\n}(window));"
     },
     "metadata": {},
     "output_type": "display_data"
    },
    {
     "data": {
      "text/markdown": [
       "<h6> #Simulation 160 - Min Error 23.94% , Mean Error 24.18%<h6>"
      ],
      "text/plain": [
       "<IPython.core.display.Markdown object>"
      ]
     },
     "metadata": {},
     "output_type": "display_data"
    },
    {
     "data": {
      "text/markdown": [
       "<h6> #Simulation 4321 - Min Error 26.36% , Mean Error 26.53%<h6>"
      ],
      "text/plain": [
       "<IPython.core.display.Markdown object>"
      ]
     },
     "metadata": {},
     "output_type": "display_data"
    },
    {
     "data": {
      "text/markdown": [
       "<h6> #Simulation 432 - Min Error 26.18% , Mean Error 26.28%<h6>"
      ],
      "text/plain": [
       "<IPython.core.display.Markdown object>"
      ]
     },
     "metadata": {},
     "output_type": "display_data"
    }
   ],
   "source": [
    "import numpy as np\n",
    "import pandas as pd\n",
    "from bokeh.io import output_notebook\n",
    "from bokeh.plotting import figure, show, output_file\n",
    "from Outputs.jupyter_graphs import create_graphs, compare_graphs\n",
    "from IPython.display import Markdown, display\n",
    "from IPython.core.interactiveshell import InteractiveShell\n",
    "sim_num = [160, 4321, 432]\n",
    "plots, scores = compare_graphs(sim_nums=sim_num, linear=True)\n",
    "output_notebook()\n",
    "for sim in zip(sim_num,scores):\n",
    "    display(Markdown('<h6> #Simulation {:1d} - Min Error {:.2f}% , Mean Error {:.2f}%<h6>'.format(sim[0],sim[1][0],sim[1][1])))"
   ]
  },
  {
   "cell_type": "code",
   "execution_count": 3,
   "metadata": {},
   "outputs": [
    {
     "name": "stderr",
     "output_type": "stream",
     "text": [
      "C:\\Users\\giladiniv\\AppData\\Local\\Continuum\\anaconda3\\lib\\site-packages\\bokeh\\core\\json_encoder.py:80: FutureWarning: Conversion of the second argument of issubdtype from `float` to `np.floating` is deprecated. In future, it will be treated as `np.float64 == np.dtype(float).type`.\n",
      "  elif np.issubdtype(type(obj), np.float):\n"
     ]
    },
    {
     "data": {
      "text/html": [
       "\n",
       "<div class=\"bk-root\">\n",
       "    <div class=\"bk-plotdiv\" id=\"d1f9727a-bec6-49b7-b2c5-6e8c6c57a613\"></div>\n",
       "</div>"
      ]
     },
     "metadata": {},
     "output_type": "display_data"
    },
    {
     "data": {
      "application/javascript": [
       "(function(root) {\n",
       "  function embed_document(root) {\n",
       "    \n",
       "  var docs_json = {\"b99a706a-fb84-42a1-a130-b856a9cbb2e0\":{\"roots\":{\"references\":[{\"attributes\":{\"callback\":null,\"data\":{}},\"id\":\"92694f40-a581-4910-80bc-787df2829831\",\"type\":\"ColumnDataSource\"},{\"attributes\":{\"callback\":null,\"column_names\":[\"x\",\"y\"],\"data\":{\"x\":{\"__ndarray__\":\"AQAAAAIAAAADAAAABAAAAAUAAAAGAAAABwAAAAgAAAAJAAAACgAAAAsAAAAMAAAADQAAAA4AAAAPAAAAEAAAABEAAAASAAAAEwAAABQAAAAVAAAAFgAAABcAAAAYAAAAGQAAABoAAAAbAAAAHAAAAB0AAAAeAAAAHwAAACAAAAAhAAAAIgAAACMAAAAkAAAAJQAAACYAAAAnAAAAKAAAACkAAAAqAAAAKwAAACwAAAAtAAAALgAAAC8AAAAwAAAAMQAAADIAAAAzAAAANAAAADUAAAA2AAAANwAAADgAAAA5AAAAOgAAADsAAAA8AAAAPQAAAD4AAAA/AAAAQAAAAEEAAABCAAAAQwAAAEQAAABFAAAARgAAAEcAAABIAAAASQAAAEoAAABLAAAATAAAAE0AAABOAAAATwAAAFAAAABRAAAAUgAAAFMAAABUAAAAVQAAAFYAAABXAAAAWAAAAFkAAABaAAAA\",\"dtype\":\"int32\",\"shape\":[90]},\"y\":[0.9901599999969483,0.9806999999996185,0.9782200000183106,0.9561800000305176,0.9714999999877929,0.941619999975586,0.9417800000198365,0.9305400000473023,0.9185000000976562,0.8432799999572754,0.8782799999694824,0.9446200000549316,0.8407800000762939,0.862999999987793,0.827480000012207,0.8416800000671387,0.8511200000488282,0.935860000050354,0.8971600000305177,0.7988600002014161,0.8724800000579834,0.7675600000061036,0.8651400000701905,0.8683600000274658,0.8296800001159669,0.7729400000976563,0.846699999963379,0.8284199999816895,0.8696000000488282,0.7846999999450683,0.3524400005859375,0.3416799998779297,0.3354000006103516,0.32884000014648435,0.3285799998535156,0.3253799997558594,0.33530000017089845,0.31856000041503907,0.3185800004394531,0.32727999973144534,0.3179800006835938,0.32478000080566405,0.32964000040283203,0.326400000366211,0.31616000004882816,0.3163599997558594,0.41490000029296875,0.3225199996337891,0.32753999965820313,0.34205999970703127,0.35246000037841796,0.357380000402832,0.3454399995605469,0.3430800007568359,0.3615000000854492,0.3660800004394531,0.3385200006347656,0.35649999990234377,0.33859999956054687,0.3512400001464844,0.27708000083007817,0.2742600005859375,0.2729399997314453,0.2721599997314453,0.27045999985351565,0.27097999956054686,0.27052000041503904,0.26828000073242186,0.2687600007080078,0.2688400006591797,0.26911999982910156,0.26670000078125,0.2685799998535156,0.2684799999023437,0.26952000036621093,0.2676999996337891,0.2682800001708985,0.26817999997558595,0.2664999995849609,0.2671200005126953,0.2661200004394531,0.2652600004638672,0.26488000073242185,0.2638399996826172,0.2647800003417969,0.26383999995117186,0.2637600000488281,0.2645400006591797,0.2636399998291015,0.2636400006591797]}},\"id\":\"2887458c-2aae-46a4-837e-77fd66042895\",\"type\":\"ColumnDataSource\"},{\"attributes\":{\"data_source\":{\"id\":\"2887458c-2aae-46a4-837e-77fd66042895\",\"type\":\"ColumnDataSource\"},\"glyph\":{\"id\":\"12406c48-e6c7-4785-99b1-1f8312857227\",\"type\":\"Line\"},\"hover_glyph\":null,\"muted_glyph\":null,\"nonselection_glyph\":{\"id\":\"0b7c66d3-2ae1-4e24-8a18-c768780190c5\",\"type\":\"Line\"},\"selection_glyph\":null,\"view\":{\"id\":\"015cb6ac-aea7-462a-899d-b1557cffc83b\",\"type\":\"CDSView\"}},\"id\":\"f08c75d7-adec-4095-8e2d-e9b69b051cea\",\"type\":\"GlyphRenderer\"},{\"attributes\":{\"label\":{\"value\":\"validation - (256, 32, -0.2, 0, 0.1, 432)\"},\"renderers\":[{\"id\":\"f08c75d7-adec-4095-8e2d-e9b69b051cea\",\"type\":\"GlyphRenderer\"}]},\"id\":\"4155eea1-c899-41a5-bb66-f9145b05a76b\",\"type\":\"LegendItem\"},{\"attributes\":{\"source\":{\"id\":\"2887458c-2aae-46a4-837e-77fd66042895\",\"type\":\"ColumnDataSource\"}},\"id\":\"015cb6ac-aea7-462a-899d-b1557cffc83b\",\"type\":\"CDSView\"},{\"attributes\":{\"line_color\":\"#ff7f0e\",\"line_width\":3,\"x\":{\"field\":\"x\"},\"y\":{\"field\":\"y\"}},\"id\":\"12406c48-e6c7-4785-99b1-1f8312857227\",\"type\":\"Line\"},{\"attributes\":{\"fill_alpha\":{\"value\":0.1},\"fill_color\":{\"value\":\"#1f77b4\"},\"line_alpha\":{\"value\":0.1},\"line_color\":{\"value\":\"#1f77b4\"},\"size\":{\"units\":\"screen\",\"value\":5},\"x\":{\"value\":89},\"y\":{\"value\":0.2636399998291015}},\"id\":\"19848d81-b721-4958-b647-90f5017f997e\",\"type\":\"Circle\"},{\"attributes\":{\"line_alpha\":0.1,\"line_color\":\"#1f77b4\",\"line_width\":3,\"x\":{\"field\":\"x\"},\"y\":{\"field\":\"y\"}},\"id\":\"0b7c66d3-2ae1-4e24-8a18-c768780190c5\",\"type\":\"Line\"},{\"attributes\":{\"fill_alpha\":{\"value\":0.5},\"fill_color\":{\"value\":\"red\"},\"line_alpha\":{\"value\":0.5},\"line_color\":{\"value\":\"red\"},\"size\":{\"units\":\"screen\",\"value\":5},\"x\":{\"value\":89},\"y\":{\"value\":0.2636399998291015}},\"id\":\"55312f2b-cb39-493b-9ceb-ab55a17daf25\",\"type\":\"Circle\"},{\"attributes\":{\"active_drag\":\"auto\",\"active_inspect\":\"auto\",\"active_scroll\":\"auto\",\"active_tap\":\"auto\",\"tools\":[{\"id\":\"17809ccc-c5de-4db0-98bc-e90ddefd51d8\",\"type\":\"PanTool\"},{\"id\":\"6fe90662-2048-4dd2-8049-ba0e827bf45d\",\"type\":\"WheelZoomTool\"},{\"id\":\"288d43dc-d75f-46c9-92e0-8bbe6f68378a\",\"type\":\"BoxZoomTool\"},{\"id\":\"5638bc75-f111-4e48-8ac4-e5c25fa41a85\",\"type\":\"SaveTool\"},{\"id\":\"690bbc56-7db8-4a65-a6be-5b2fd3c60e04\",\"type\":\"ResetTool\"},{\"id\":\"7cbe6694-4ada-4c3f-99d6-cb06e6dbeee3\",\"type\":\"HelpTool\"}]},\"id\":\"4b11ac5e-fbfb-4728-9b6a-37d6a8a35bb3\",\"type\":\"Toolbar\"},{\"attributes\":{\"source\":{\"id\":\"92694f40-a581-4910-80bc-787df2829831\",\"type\":\"ColumnDataSource\"}},\"id\":\"cada0499-c6fa-424c-b937-795d8c503abf\",\"type\":\"CDSView\"},{\"attributes\":{\"data_source\":{\"id\":\"92694f40-a581-4910-80bc-787df2829831\",\"type\":\"ColumnDataSource\"},\"glyph\":{\"id\":\"55312f2b-cb39-493b-9ceb-ab55a17daf25\",\"type\":\"Circle\"},\"hover_glyph\":null,\"muted_glyph\":null,\"nonselection_glyph\":{\"id\":\"19848d81-b721-4958-b647-90f5017f997e\",\"type\":\"Circle\"},\"selection_glyph\":null,\"view\":{\"id\":\"cada0499-c6fa-424c-b937-795d8c503abf\",\"type\":\"CDSView\"}},\"id\":\"77dbf384-7ab9-4dba-8395-e15993129e6c\",\"type\":\"GlyphRenderer\"},{\"attributes\":{\"callback\":null,\"data\":{}},\"id\":\"7153dd6c-fdf6-469b-b22c-089d3651f0b4\",\"type\":\"ColumnDataSource\"},{\"attributes\":{\"callback\":null,\"data\":{}},\"id\":\"9ff43904-40b0-4cad-8f3c-af3b69a2e318\",\"type\":\"ColumnDataSource\"},{\"attributes\":{\"data_source\":{\"id\":\"3f960e45-0487-4b44-8827-8de6a7f913ca\",\"type\":\"ColumnDataSource\"},\"glyph\":{\"id\":\"345967d9-8913-423d-b890-2fd772352306\",\"type\":\"Line\"},\"hover_glyph\":null,\"muted_glyph\":null,\"nonselection_glyph\":{\"id\":\"11abcad1-4f98-467f-a1a3-56e48781bcd9\",\"type\":\"Line\"},\"selection_glyph\":null,\"view\":{\"id\":\"581c62fb-5af9-45e9-8dec-6e9695505797\",\"type\":\"CDSView\"}},\"id\":\"f4c66846-87cf-4c6f-bc27-d41e83c77886\",\"type\":\"GlyphRenderer\"},{\"attributes\":{\"callback\":null,\"column_names\":[\"x\",\"y\"],\"data\":{\"x\":{\"__ndarray__\":\"AQAAAAIAAAADAAAABAAAAAUAAAAGAAAABwAAAAgAAAAJAAAACgAAAAsAAAAMAAAADQAAAA4AAAAPAAAAEAAAABEAAAASAAAAEwAAABQAAAAVAAAAFgAAABcAAAAYAAAAGQAAABoAAAAbAAAAHAAAAB0AAAAeAAAAHwAAACAAAAAhAAAAIgAAACMAAAAkAAAAJQAAACYAAAAnAAAAKAAAACkAAAAqAAAAKwAAACwAAAAtAAAALgAAAC8AAAAwAAAAMQAAADIAAAAzAAAANAAAADUAAAA2AAAANwAAADgAAAA5AAAAOgAAADsAAAA8AAAAPQAAAD4AAAA/AAAAQAAAAEEAAABCAAAAQwAAAEQAAABFAAAARgAAAEcAAABIAAAASQAAAEoAAABLAAAATAAAAE0AAABOAAAATwAAAFAAAABRAAAAUgAAAFMAAABUAAAAVQAAAFYAAABXAAAAWAAAAFkAAABaAAAA\",\"dtype\":\"int32\",\"shape\":[90]},\"y\":[0.845140000100708,0.6885200001831054,0.6396000000000001,0.599080000402832,0.5499599999145508,0.5531599998535156,0.5450200000488281,0.5160400001220703,0.5274200000732422,0.5083800001708985,0.5088199999999999,0.5014400000976562,0.5052000000610352,0.5015000001342773,0.48844000015869143,0.50152,0.47404000009765623,0.4828199999511719,0.48326000030517574,0.47749999985351566,0.4776800001098633,0.48550000036621094,0.4954399999145508,0.467200000012207,0.48847999999999997,0.4572800002685547,0.4879399999267578,0.4535399999267578,0.47402000032958985,0.5004800001220704,0.3206999999023437,0.3100200000488281,0.30400000017089845,0.3018999999511719,0.30333999968261716,0.2993799997558594,0.3013400001464844,0.31332000029296875,0.30386000073242186,0.30220000009765624,0.29863999980468753,0.30657999975585937,0.30195999980468746,0.3096599999511719,0.30144000017089845,0.3031599998046875,0.30491999978027345,0.30530000068359375,0.3134799995849609,0.3101800006591797,0.2996600007568359,0.31482000029296875,0.3042800005126953,0.2997400001220703,0.30390000034179687,0.2976199999755859,0.3073199996582031,0.3025999999267578,0.2955800000244141,0.3026999995605469,0.2570999997070313,0.25495999992675783,0.25305999995117184,0.25116000004882816,0.2494000005126953,0.2477600004638672,0.248799999609375,0.24880000002441405,0.24874000004882812,0.2474600000732422,0.24696000070800783,0.24768000002441407,0.246599999609375,0.24652000083007813,0.24702000083007813,0.24520000061035155,0.24493999978027342,0.24486000083007814,0.24679999968261718,0.24509999997558596,0.24227999963378907,0.24098000056152344,0.2403400000732422,0.24105999997558594,0.23968000073242188,0.24068000002441406,0.24001999995117188,0.23941999997558594,0.23940000009765627,0.23979999958496095]}},\"id\":\"3f960e45-0487-4b44-8827-8de6a7f913ca\",\"type\":\"ColumnDataSource\"},{\"attributes\":{\"label\":{\"value\":\"validation - (256, 1, 0.9, 0, 0.1, 160)\"},\"renderers\":[{\"id\":\"f4c66846-87cf-4c6f-bc27-d41e83c77886\",\"type\":\"GlyphRenderer\"}]},\"id\":\"21791ac7-57af-43df-bd91-1d60efae960c\",\"type\":\"LegendItem\"},{\"attributes\":{\"source\":{\"id\":\"3f960e45-0487-4b44-8827-8de6a7f913ca\",\"type\":\"ColumnDataSource\"}},\"id\":\"581c62fb-5af9-45e9-8dec-6e9695505797\",\"type\":\"CDSView\"},{\"attributes\":{\"line_color\":\"#1f77b4\",\"line_width\":3,\"x\":{\"field\":\"x\"},\"y\":{\"field\":\"y\"}},\"id\":\"345967d9-8913-423d-b890-2fd772352306\",\"type\":\"Line\"},{\"attributes\":{\"data_source\":{\"id\":\"7153dd6c-fdf6-469b-b22c-089d3651f0b4\",\"type\":\"ColumnDataSource\"},\"glyph\":{\"id\":\"301edc40-cbd2-4877-a708-855b6aaf7d89\",\"type\":\"Circle\"},\"hover_glyph\":null,\"muted_glyph\":null,\"nonselection_glyph\":{\"id\":\"d9205231-3545-40cb-a985-81b5d5eecbfa\",\"type\":\"Circle\"},\"selection_glyph\":null,\"view\":{\"id\":\"e94880ec-4901-4c99-82c4-017df42657b6\",\"type\":\"CDSView\"}},\"id\":\"f4a27cc3-e5e1-4eb7-884c-bed7fa77c643\",\"type\":\"GlyphRenderer\"},{\"attributes\":{\"line_alpha\":0.1,\"line_color\":\"#1f77b4\",\"line_width\":3,\"x\":{\"field\":\"x\"},\"y\":{\"field\":\"y\"}},\"id\":\"11abcad1-4f98-467f-a1a3-56e48781bcd9\",\"type\":\"Line\"},{\"attributes\":{\"fill_alpha\":{\"value\":0.5},\"fill_color\":{\"value\":\"red\"},\"line_alpha\":{\"value\":0.5},\"line_color\":{\"value\":\"red\"},\"size\":{\"units\":\"screen\",\"value\":5},\"x\":{\"value\":89},\"y\":{\"value\":0.23940000009765627}},\"id\":\"301edc40-cbd2-4877-a708-855b6aaf7d89\",\"type\":\"Circle\"},{\"attributes\":{\"source\":{\"id\":\"7153dd6c-fdf6-469b-b22c-089d3651f0b4\",\"type\":\"ColumnDataSource\"}},\"id\":\"e94880ec-4901-4c99-82c4-017df42657b6\",\"type\":\"CDSView\"},{\"attributes\":{\"line_color\":\"#2ca02c\",\"line_dash\":[6],\"line_width\":3,\"x\":{\"field\":\"x\"},\"y\":{\"field\":\"y\"}},\"id\":\"44d02b8d-1631-4e40-b9f6-1ba117ae0e62\",\"type\":\"Line\"},{\"attributes\":{\"source\":{\"id\":\"b34badc0-5e2c-4949-bdd3-b5148e707b93\",\"type\":\"ColumnDataSource\"}},\"id\":\"4e67da32-7edc-48fe-8f1c-8bf6f95377c8\",\"type\":\"CDSView\"},{\"attributes\":{\"fill_alpha\":{\"value\":0.1},\"fill_color\":{\"value\":\"#1f77b4\"},\"line_alpha\":{\"value\":0.1},\"line_color\":{\"value\":\"#1f77b4\"},\"size\":{\"units\":\"screen\",\"value\":5},\"x\":{\"value\":89},\"y\":{\"value\":0.23940000009765627}},\"id\":\"d9205231-3545-40cb-a985-81b5d5eecbfa\",\"type\":\"Circle\"},{\"attributes\":{\"plot\":null,\"text\":\"Training & Test Error\"},\"id\":\"34e3cf35-e94e-4416-9e61-201e3741f7a8\",\"type\":\"Title\"},{\"attributes\":{\"line_alpha\":0.1,\"line_color\":\"#1f77b4\",\"line_dash\":[6],\"line_width\":3,\"x\":{\"field\":\"x\"},\"y\":{\"field\":\"y\"}},\"id\":\"3dca5897-9b47-4a10-9b47-da95969d1b95\",\"type\":\"Line\"},{\"attributes\":{\"data_source\":{\"id\":\"fea2b8b9-689e-48b8-bd47-6542afddc77d\",\"type\":\"ColumnDataSource\"},\"glyph\":{\"id\":\"65ad149e-2db3-49f2-b910-16b4e14b49f3\",\"type\":\"Line\"},\"hover_glyph\":null,\"muted_glyph\":null,\"nonselection_glyph\":{\"id\":\"e39a8683-6139-461e-adbf-49c4bc6572eb\",\"type\":\"Line\"},\"selection_glyph\":null,\"view\":{\"id\":\"e29fd20b-526f-4928-a2c1-93b4f934c0df\",\"type\":\"CDSView\"}},\"id\":\"4a30d0e5-7375-4be0-b8ad-fd79544293ae\",\"type\":\"GlyphRenderer\"},{\"attributes\":{\"callback\":null,\"column_names\":[\"x\",\"y\"],\"data\":{\"x\":{\"__ndarray__\":\"AQAAAAIAAAADAAAABAAAAAUAAAAGAAAABwAAAAgAAAAJAAAACgAAAAsAAAAMAAAADQAAAA4AAAAPAAAAEAAAABEAAAASAAAAEwAAABQAAAAVAAAAFgAAABcAAAAYAAAAGQAAABoAAAAbAAAAHAAAAB0AAAAeAAAAHwAAACAAAAAhAAAAIgAAACMAAAAkAAAAJQAAACYAAAAnAAAAKAAAACkAAAAqAAAAKwAAACwAAAAtAAAALgAAAC8AAAAwAAAAMQAAADIAAAAzAAAANAAAADUAAAA2AAAANwAAADgAAAA5AAAAOgAAADsAAAA8AAAAPQAAAD4AAAA/AAAAQAAAAEEAAABCAAAAQwAAAEQAAABFAAAARgAAAEcAAABIAAAASQAAAEoAAABLAAAATAAAAE0AAABOAAAATwAAAFAAAABRAAAAUgAAAFMAAABUAAAAVQAAAFYAAABXAAAAWAAAAFkAAABaAAAA\",\"dtype\":\"int32\",\"shape\":[90]},\"y\":[0.9523200000061035,0.8329399999816894,0.7429800001342773,0.7037199997802734,0.6961800000976562,0.6266400001342773,0.6557400001708984,0.5871999998168945,0.5926600000244141,0.5890400000976562,0.626800000427246,0.958359999999237,0.9589399999816896,0.932940000050354,0.8829200001098633,0.9140400000152588,0.9633000000106812,0.9319600000473023,0.8807000000213623,0.9979400000003338,0.9694999999893189,0.8051600000732422,0.9459399999801635,0.8044599999206542,0.7800800001647948,0.9039199999816894,0.9558799999977111,0.8785400000305175,0.9440600000534057,0.8508199999908448,0.35844000029296874,0.34420000063476563,0.3343999997314453,0.3277999999023437,0.3234200006835938,0.3264400002197266,0.32801999997558595,0.3306600001708984,0.32400000026855463,0.3432000002197265,0.32405999978027344,0.3219400006591797,0.3179600002929687,0.3499200000244141,0.3400799995605469,0.32996000041503903,0.35186000024414066,0.38956000035400395,0.3401799998779297,0.34320000063476563,0.3653000003173828,0.39668000019531247,0.38097999997558596,0.38836000017089845,0.4013000002075195,0.4274399999511719,0.46368000010986327,0.4160800001464844,0.42312000007324213,0.3979200003295898,0.27546000078125,0.2735200000732422,0.271020000390625,0.27116000048828126,0.26911999995117186,0.2686999998779297,0.2686800005615234,0.2678599998535156,0.26747999956054685,0.2673000006835937,0.2662999999511719,0.2641000001464844,0.2646399999511719,0.26362000014648435,0.26400000070800783,0.2656799997558594,0.26442000017089845,0.26304000036621095,0.26350000070800783,0.2624800007568359,0.2633400004150391,0.2625800006347656,0.26214000034179685,0.2618000004882812,0.26318000068359376,0.262299999609375,0.26231999970703124,0.2637599997558594,0.2624600001953125,0.261979999609375]}},\"id\":\"fea2b8b9-689e-48b8-bd47-6542afddc77d\",\"type\":\"ColumnDataSource\"},{\"attributes\":{\"callback\":null},\"id\":\"f2646183-3565-4d4c-b5e5-41896c1e4d1b\",\"type\":\"DataRange1d\"},{\"attributes\":{\"label\":{\"value\":\"validation - (256, 1, 0.9, 0, 0.1, 432)\"},\"renderers\":[{\"id\":\"4a30d0e5-7375-4be0-b8ad-fd79544293ae\",\"type\":\"GlyphRenderer\"}]},\"id\":\"70ce7815-effd-46c6-88ca-1858cb078d31\",\"type\":\"LegendItem\"},{\"attributes\":{\"format\":\"0.0%\"},\"id\":\"30de8e93-659f-43b7-8afb-326cef39cf89\",\"type\":\"NumeralTickFormatter\"},{\"attributes\":{\"source\":{\"id\":\"fea2b8b9-689e-48b8-bd47-6542afddc77d\",\"type\":\"ColumnDataSource\"}},\"id\":\"e29fd20b-526f-4928-a2c1-93b4f934c0df\",\"type\":\"CDSView\"},{\"attributes\":{\"background_fill_color\":{\"value\":\"#fafafa\"},\"below\":[{\"id\":\"dce53673-278b-4683-a1af-76acf01486c4\",\"type\":\"LinearAxis\"}],\"left\":[{\"id\":\"edcf5319-c97f-427f-b7d4-c33c3bf526ec\",\"type\":\"LinearAxis\"}],\"min_border\":10,\"min_border_left\":50,\"renderers\":[{\"id\":\"dce53673-278b-4683-a1af-76acf01486c4\",\"type\":\"LinearAxis\"},{\"id\":\"d3829a8c-e1a5-4d64-a48c-4e2e4266ac5b\",\"type\":\"Grid\"},{\"id\":\"edcf5319-c97f-427f-b7d4-c33c3bf526ec\",\"type\":\"LinearAxis\"},{\"id\":\"ec3febbc-2943-413b-a9f2-2d8449d3f463\",\"type\":\"Grid\"},{\"id\":\"f2734077-5ac1-4622-9d82-d7d78d4fa60d\",\"type\":\"BoxAnnotation\"},{\"id\":\"84453101-8a43-4777-9cb1-d2cc534b2673\",\"type\":\"Legend\"},{\"id\":\"442e8f9c-6115-4c04-a37c-041082024cad\",\"type\":\"GlyphRenderer\"},{\"id\":\"f4c66846-87cf-4c6f-bc27-d41e83c77886\",\"type\":\"GlyphRenderer\"},{\"id\":\"f4a27cc3-e5e1-4eb7-884c-bed7fa77c643\",\"type\":\"GlyphRenderer\"},{\"id\":\"d46f8dd8-3bd8-4bc8-b501-c3a5717aaca4\",\"type\":\"GlyphRenderer\"},{\"id\":\"f08c75d7-adec-4095-8e2d-e9b69b051cea\",\"type\":\"GlyphRenderer\"},{\"id\":\"77dbf384-7ab9-4dba-8395-e15993129e6c\",\"type\":\"GlyphRenderer\"},{\"id\":\"863bda19-7806-4231-9652-9839b2504e1c\",\"type\":\"GlyphRenderer\"},{\"id\":\"4a30d0e5-7375-4be0-b8ad-fd79544293ae\",\"type\":\"GlyphRenderer\"},{\"id\":\"5dd69200-0414-4281-af27-88dd02aeffad\",\"type\":\"GlyphRenderer\"}],\"title\":{\"id\":\"34e3cf35-e94e-4416-9e61-201e3741f7a8\",\"type\":\"Title\"},\"toolbar\":{\"id\":\"4b11ac5e-fbfb-4728-9b6a-37d6a8a35bb3\",\"type\":\"Toolbar\"},\"x_range\":{\"id\":\"f2646183-3565-4d4c-b5e5-41896c1e4d1b\",\"type\":\"DataRange1d\"},\"x_scale\":{\"id\":\"a73d694c-ad43-411d-b28b-d451bd60f6cf\",\"type\":\"LinearScale\"},\"y_range\":{\"id\":\"13a3180c-3179-4f07-8c1c-8742b88c637d\",\"type\":\"DataRange1d\"},\"y_scale\":{\"id\":\"52e134f5-2d26-481c-bf01-41c869fbadbf\",\"type\":\"LinearScale\"}},\"id\":\"a18de94c-82d9-40f6-b27a-7516ba4b3241\",\"subtype\":\"Figure\",\"type\":\"Plot\"},{\"attributes\":{\"line_color\":\"#2ca02c\",\"line_width\":3,\"x\":{\"field\":\"x\"},\"y\":{\"field\":\"y\"}},\"id\":\"65ad149e-2db3-49f2-b910-16b4e14b49f3\",\"type\":\"Line\"},{\"attributes\":{\"data_source\":{\"id\":\"9ff43904-40b0-4cad-8f3c-af3b69a2e318\",\"type\":\"ColumnDataSource\"},\"glyph\":{\"id\":\"444e2cb9-187f-4256-8ec3-d7b39033453c\",\"type\":\"Circle\"},\"hover_glyph\":null,\"muted_glyph\":null,\"nonselection_glyph\":{\"id\":\"ec5873d8-d252-430a-8ada-2a0c569f004c\",\"type\":\"Circle\"},\"selection_glyph\":null,\"view\":{\"id\":\"32a98955-602b-45c2-afce-ac4afa657e89\",\"type\":\"CDSView\"}},\"id\":\"5dd69200-0414-4281-af27-88dd02aeffad\",\"type\":\"GlyphRenderer\"},{\"attributes\":{\"callback\":null,\"column_names\":[\"x\",\"y\"],\"data\":{\"x\":{\"__ndarray__\":\"AQAAAAIAAAADAAAABAAAAAUAAAAGAAAABwAAAAgAAAAJAAAACgAAAAsAAAAMAAAADQAAAA4AAAAPAAAAEAAAABEAAAASAAAAEwAAABQAAAAVAAAAFgAAABcAAAAYAAAAGQAAABoAAAAbAAAAHAAAAB0AAAAeAAAAHwAAACAAAAAhAAAAIgAAACMAAAAkAAAAJQAAACYAAAAnAAAAKAAAACkAAAAqAAAAKwAAACwAAAAtAAAALgAAAC8AAAAwAAAAMQAAADIAAAAzAAAANAAAADUAAAA2AAAANwAAADgAAAA5AAAAOgAAADsAAAA8AAAAPQAAAD4AAAA/AAAAQAAAAEEAAABCAAAAQwAAAEQAAABFAAAARgAAAEcAAABIAAAASQAAAEoAAABLAAAATAAAAE0AAABOAAAATwAAAFAAAABRAAAAUgAAAFMAAABUAAAAVQAAAFYAAABXAAAAWAAAAFkAAABaAAAA\",\"dtype\":\"int32\",\"shape\":[90]},\"y\":[0.9766501947053072,0.8445136348337909,0.7245378627458371,0.6552307388504991,0.6144507312457032,0.588190298375896,0.5700537088446327,0.5574644055005973,0.5478466117213141,0.5402910003143485,0.5341832875798231,0.8619953526741517,0.703736515222641,0.6614937787193207,0.646598765030377,0.6350038675683009,0.6298733888695726,0.6227275601076955,0.6192627502902183,0.625284603802597,0.6080331447821151,0.6095731469815957,0.6006820344262169,0.6350819214045589,0.5989437754772876,0.595990218291915,0.6235962993111298,0.5998257838335824,0.5903617561155506,0.5981523095720405,0.4318952954608531,0.39990883311626246,0.38692926058650096,0.3780834192575094,0.3710632571687084,0.36590624016985673,0.3613174550994868,0.3567177424954708,0.35376964907531333,0.3505280732362094,0.34844715794218345,0.3468150522116726,0.3454491100689409,0.3442650333591699,0.34422522590898474,0.3437498780407906,0.3437803190355556,0.3428085487680404,0.34291236037311,0.342596242330757,0.3428272816893319,0.34325657779157914,0.34393798778906637,0.3432011595691699,0.34364684697260084,0.34430015758855276,0.34505103549848726,0.3445741265556106,0.34488556136876475,0.34509084296099934,0.30020208138057647,0.2902908051813345,0.2859635004655847,0.28372881911897213,0.28169473612646273,0.27940151440161454,0.27857570480740745,0.27794112711468233,0.27598119526819603,0.2749040523218221,0.27351937725133774,0.2711996172206492,0.270178673040621,0.2685801304615649,0.26813600412766553,0.2674639605942631,0.2672024802416974,0.2670198342618525,0.266268175807654,0.26569213849167567,0.2656140846570256,0.26535260430326885,0.2647921777558522,0.26470163530230334,0.264408933414103,0.2642458008950793,0.26400071184926516,0.2637400120382837,0.26368381327193796,0.26427468081941957]}},\"id\":\"b34badc0-5e2c-4949-bdd3-b5148e707b93\",\"type\":\"ColumnDataSource\"},{\"attributes\":{\"line_alpha\":0.1,\"line_color\":\"#1f77b4\",\"line_width\":3,\"x\":{\"field\":\"x\"},\"y\":{\"field\":\"y\"}},\"id\":\"e39a8683-6139-461e-adbf-49c4bc6572eb\",\"type\":\"Line\"},{\"attributes\":{\"dimension\":1,\"plot\":{\"id\":\"a18de94c-82d9-40f6-b27a-7516ba4b3241\",\"subtype\":\"Figure\",\"type\":\"Plot\"},\"ticker\":{\"id\":\"4f376b38-e04e-4e67-87d4-c8396c6905ee\",\"type\":\"BasicTicker\"}},\"id\":\"ec3febbc-2943-413b-a9f2-2d8449d3f463\",\"type\":\"Grid\"},{\"attributes\":{\"fill_alpha\":{\"value\":0.5},\"fill_color\":{\"value\":\"red\"},\"line_alpha\":{\"value\":0.5},\"line_color\":{\"value\":\"red\"},\"size\":{\"units\":\"screen\",\"value\":5},\"x\":{\"value\":84},\"y\":{\"value\":0.2618000004882812}},\"id\":\"444e2cb9-187f-4256-8ec3-d7b39033453c\",\"type\":\"Circle\"},{\"attributes\":{\"source\":{\"id\":\"9ff43904-40b0-4cad-8f3c-af3b69a2e318\",\"type\":\"ColumnDataSource\"}},\"id\":\"32a98955-602b-45c2-afce-ac4afa657e89\",\"type\":\"CDSView\"},{\"attributes\":{\"fill_alpha\":{\"value\":0.1},\"fill_color\":{\"value\":\"#1f77b4\"},\"line_alpha\":{\"value\":0.1},\"line_color\":{\"value\":\"#1f77b4\"},\"size\":{\"units\":\"screen\",\"value\":5},\"x\":{\"value\":84},\"y\":{\"value\":0.2618000004882812}},\"id\":\"ec5873d8-d252-430a-8ada-2a0c569f004c\",\"type\":\"Circle\"},{\"attributes\":{},\"id\":\"52e134f5-2d26-481c-bf01-41c869fbadbf\",\"type\":\"LinearScale\"},{\"attributes\":{},\"id\":\"a73d694c-ad43-411d-b28b-d451bd60f6cf\",\"type\":\"LinearScale\"},{\"attributes\":{\"data_source\":{\"id\":\"b34badc0-5e2c-4949-bdd3-b5148e707b93\",\"type\":\"ColumnDataSource\"},\"glyph\":{\"id\":\"44d02b8d-1631-4e40-b9f6-1ba117ae0e62\",\"type\":\"Line\"},\"hover_glyph\":null,\"muted_glyph\":null,\"nonselection_glyph\":{\"id\":\"3dca5897-9b47-4a10-9b47-da95969d1b95\",\"type\":\"Line\"},\"selection_glyph\":null,\"view\":{\"id\":\"4e67da32-7edc-48fe-8f1c-8bf6f95377c8\",\"type\":\"CDSView\"}},\"id\":\"863bda19-7806-4231-9652-9839b2504e1c\",\"type\":\"GlyphRenderer\"},{\"attributes\":{\"callback\":null},\"id\":\"13a3180c-3179-4f07-8c1c-8742b88c637d\",\"type\":\"DataRange1d\"},{\"attributes\":{\"label\":{\"value\":\"train - (256, 1, 0.9, 0, 0.1, 432)\"},\"renderers\":[{\"id\":\"863bda19-7806-4231-9652-9839b2504e1c\",\"type\":\"GlyphRenderer\"}]},\"id\":\"c35c7fc0-43e8-470b-9a02-1704376210af\",\"type\":\"LegendItem\"},{\"attributes\":{\"plot\":{\"id\":\"a18de94c-82d9-40f6-b27a-7516ba4b3241\",\"subtype\":\"Figure\",\"type\":\"Plot\"},\"ticker\":{\"id\":\"3e57e038-bd94-4a9b-884b-7d9b00c5ea13\",\"type\":\"BasicTicker\"}},\"id\":\"d3829a8c-e1a5-4d64-a48c-4e2e4266ac5b\",\"type\":\"Grid\"},{\"attributes\":{\"axis_label\":\"Error Rate\",\"formatter\":{\"id\":\"30de8e93-659f-43b7-8afb-326cef39cf89\",\"type\":\"NumeralTickFormatter\"},\"plot\":{\"id\":\"a18de94c-82d9-40f6-b27a-7516ba4b3241\",\"subtype\":\"Figure\",\"type\":\"Plot\"},\"ticker\":{\"id\":\"4f376b38-e04e-4e67-87d4-c8396c6905ee\",\"type\":\"BasicTicker\"}},\"id\":\"edcf5319-c97f-427f-b7d4-c33c3bf526ec\",\"type\":\"LinearAxis\"},{\"attributes\":{},\"id\":\"4f376b38-e04e-4e67-87d4-c8396c6905ee\",\"type\":\"BasicTicker\"},{\"attributes\":{\"axis_label\":\"t [Epochs]\",\"formatter\":{\"id\":\"f8d4bedc-a66c-45f5-93a5-d8b8fe8f135c\",\"type\":\"BasicTickFormatter\"},\"plot\":{\"id\":\"a18de94c-82d9-40f6-b27a-7516ba4b3241\",\"subtype\":\"Figure\",\"type\":\"Plot\"},\"ticker\":{\"id\":\"3e57e038-bd94-4a9b-884b-7d9b00c5ea13\",\"type\":\"BasicTicker\"}},\"id\":\"dce53673-278b-4683-a1af-76acf01486c4\",\"type\":\"LinearAxis\"},{\"attributes\":{},\"id\":\"3e57e038-bd94-4a9b-884b-7d9b00c5ea13\",\"type\":\"BasicTicker\"},{\"attributes\":{\"bottom_units\":\"screen\",\"fill_alpha\":{\"value\":0.5},\"fill_color\":{\"value\":\"lightgrey\"},\"left_units\":\"screen\",\"level\":\"overlay\",\"line_alpha\":{\"value\":1.0},\"line_color\":{\"value\":\"black\"},\"line_dash\":[4,4],\"line_width\":{\"value\":2},\"plot\":null,\"render_mode\":\"css\",\"right_units\":\"screen\",\"top_units\":\"screen\"},\"id\":\"f2734077-5ac1-4622-9d82-d7d78d4fa60d\",\"type\":\"BoxAnnotation\"},{\"attributes\":{},\"id\":\"17809ccc-c5de-4db0-98bc-e90ddefd51d8\",\"type\":\"PanTool\"},{\"attributes\":{},\"id\":\"6fe90662-2048-4dd2-8049-ba0e827bf45d\",\"type\":\"WheelZoomTool\"},{\"attributes\":{\"overlay\":{\"id\":\"f2734077-5ac1-4622-9d82-d7d78d4fa60d\",\"type\":\"BoxAnnotation\"}},\"id\":\"288d43dc-d75f-46c9-92e0-8bbe6f68378a\",\"type\":\"BoxZoomTool\"},{\"attributes\":{},\"id\":\"5638bc75-f111-4e48-8ac4-e5c25fa41a85\",\"type\":\"SaveTool\"},{\"attributes\":{},\"id\":\"690bbc56-7db8-4a65-a6be-5b2fd3c60e04\",\"type\":\"ResetTool\"},{\"attributes\":{},\"id\":\"7cbe6694-4ada-4c3f-99d6-cb06e6dbeee3\",\"type\":\"HelpTool\"},{\"attributes\":{\"callback\":null,\"column_names\":[\"x\",\"y\"],\"data\":{\"x\":{\"__ndarray__\":\"AQAAAAIAAAADAAAABAAAAAUAAAAGAAAABwAAAAgAAAAJAAAACgAAAAsAAAAMAAAADQAAAA4AAAAPAAAAEAAAABEAAAASAAAAEwAAABQAAAAVAAAAFgAAABcAAAAYAAAAGQAAABoAAAAbAAAAHAAAAB0AAAAeAAAAHwAAACAAAAAhAAAAIgAAACMAAAAkAAAAJQAAACYAAAAnAAAAKAAAACkAAAAqAAAAKwAAACwAAAAtAAAALgAAAC8AAAAwAAAAMQAAADIAAAAzAAAANAAAADUAAAA2AAAANwAAADgAAAA5AAAAOgAAADsAAAA8AAAAPQAAAD4AAAA/AAAAQAAAAEEAAABCAAAAQwAAAEQAAABFAAAARgAAAEcAAABIAAAASQAAAEoAAABLAAAATAAAAE0AAABOAAAATwAAAFAAAABRAAAAUgAAAFMAAABUAAAAVQAAAFYAAABXAAAAWAAAAFkAAABaAAAA\",\"dtype\":\"int32\",\"shape\":[90]},\"y\":[0.9953323805561648,0.9829967521798914,0.9654596161156307,0.9466946931973996,0.9203616702583175,0.8827678202761564,0.8382888413456232,0.7970959289455548,0.7628841517144762,0.7344460167954459,0.7101993729147006,0.6897078991254948,0.6722168148262451,0.6580320910523699,0.6441447524016108,0.6335348943581238,0.6504538440338782,0.6126960809933869,0.6106479483156629,0.6042428504618625,0.5981499679573815,0.5957248352485487,0.5886781348550687,0.5866120497948685,0.5800726993429902,0.5794638794156823,0.6045277469673899,0.5680812883854408,0.5695237232926956,0.5865183851909421,0.4184848657507673,0.3938799547591625,0.38247004488676667,0.3753187523573221,0.3691119112494271,0.36323133518059186,0.35897427891670014,0.3551910094464688,0.35167234247906165,0.34845418278690476,0.34568327158051354,0.3432971657868918,0.34137235816728734,0.3400665174764317,0.33851792935766634,0.3365439478201296,0.33534347981167606,0.334607432127796,0.3338245521498729,0.33350062872061875,0.3331704609951355,0.33217137188311385,0.33167885217096077,0.33156957679906823,0.33047604254695506,0.3306391750637754,0.33109344839676347,0.33040735516802294,0.33014197212331675,0.33040735517242964,0.29300551762489346,0.28387712140178806,0.28036235713518587,0.2780230836421874,0.27593904619849857,0.2741789321799548,0.27286840825388575,0.2719497145963242,0.2702356523355094,0.26934505805671394,0.26816098135414856,0.26658507439159124,0.2657116519533901,0.2651051736410389,0.2641786745959809,0.26354878013299055,0.2618846723365753,0.2618433037986363,0.2610775956613075,0.26102842174599544,0.2576884980651315,0.25743794524692637,0.2564060735240218,0.255695783612169,0.25522121628410016,0.2551314543723142,0.2549113425501842,0.2545702472809313,0.2547958228700333,0.25438682076623137]}},\"id\":\"f2e18f2a-e37a-449a-a751-d71697e0c2c7\",\"type\":\"ColumnDataSource\"},{\"attributes\":{\"data_source\":{\"id\":\"f2e18f2a-e37a-449a-a751-d71697e0c2c7\",\"type\":\"ColumnDataSource\"},\"glyph\":{\"id\":\"66ba2afc-1305-43a0-8b37-84dd7d931901\",\"type\":\"Line\"},\"hover_glyph\":null,\"muted_glyph\":null,\"nonselection_glyph\":{\"id\":\"fe315197-701d-4aa8-a8ee-8bfe05e2ba85\",\"type\":\"Line\"},\"selection_glyph\":null,\"view\":{\"id\":\"bb00c078-68b1-4f8c-8b3d-668f74b0eccd\",\"type\":\"CDSView\"}},\"id\":\"d46f8dd8-3bd8-4bc8-b501-c3a5717aaca4\",\"type\":\"GlyphRenderer\"},{\"attributes\":{\"label\":{\"value\":\"train - (256, 32, -0.2, 0, 0.1, 432)\"},\"renderers\":[{\"id\":\"d46f8dd8-3bd8-4bc8-b501-c3a5717aaca4\",\"type\":\"GlyphRenderer\"}]},\"id\":\"4deef2b6-c1a2-4850-b3fe-99b7f68598ef\",\"type\":\"LegendItem\"},{\"attributes\":{\"source\":{\"id\":\"f2e18f2a-e37a-449a-a751-d71697e0c2c7\",\"type\":\"ColumnDataSource\"}},\"id\":\"bb00c078-68b1-4f8c-8b3d-668f74b0eccd\",\"type\":\"CDSView\"},{\"attributes\":{\"line_color\":\"#ff7f0e\",\"line_dash\":[6],\"line_width\":3,\"x\":{\"field\":\"x\"},\"y\":{\"field\":\"y\"}},\"id\":\"66ba2afc-1305-43a0-8b37-84dd7d931901\",\"type\":\"Line\"},{\"attributes\":{\"line_alpha\":0.1,\"line_color\":\"#1f77b4\",\"line_dash\":[6],\"line_width\":3,\"x\":{\"field\":\"x\"},\"y\":{\"field\":\"y\"}},\"id\":\"fe315197-701d-4aa8-a8ee-8bfe05e2ba85\",\"type\":\"Line\"},{\"attributes\":{\"line_alpha\":0.1,\"line_color\":\"#1f77b4\",\"line_dash\":[6],\"line_width\":3,\"x\":{\"field\":\"x\"},\"y\":{\"field\":\"y\"}},\"id\":\"99fadd7b-b942-40e0-9a04-68801b3e0131\",\"type\":\"Line\"},{\"attributes\":{\"callback\":null,\"column_names\":[\"x\",\"y\"],\"data\":{\"x\":{\"__ndarray__\":\"AQAAAAIAAAADAAAABAAAAAUAAAAGAAAABwAAAAgAAAAJAAAACgAAAAsAAAAMAAAADQAAAA4AAAAPAAAAEAAAABEAAAASAAAAEwAAABQAAAAVAAAAFgAAABcAAAAYAAAAGQAAABoAAAAbAAAAHAAAAB0AAAAeAAAAHwAAACAAAAAhAAAAIgAAACMAAAAkAAAAJQAAACYAAAAnAAAAKAAAACkAAAAqAAAAKwAAACwAAAAtAAAALgAAAC8AAAAwAAAAMQAAADIAAAAzAAAANAAAADUAAAA2AAAANwAAADgAAAA5AAAAOgAAADsAAAA8AAAAPQAAAD4AAAA/AAAAQAAAAEEAAABCAAAAQwAAAEQAAABFAAAARgAAAEcAAABIAAAASQAAAEoAAABLAAAATAAAAE0AAABOAAAATwAAAFAAAABRAAAAUgAAAFMAAABUAAAAVQAAAFYAAABXAAAAWAAAAFkAAABaAAAA\",\"dtype\":\"int32\",\"shape\":[90]},\"y\":[0.9349007584494007,0.7656917482271065,0.672401802419141,0.6233137444202614,0.592494186941334,0.571905926392718,0.5576509541689202,0.546892793835114,0.538089882114784,0.5321086165947999,0.5267689536171157,0.522590731732406,0.5196043919321904,0.5156064744104633,0.5134841905839174,0.5114899150548132,0.5090093641177057,0.5070447490426457,0.5055851422947967,0.5043206701380689,0.5032934816455243,0.5014662413249344,0.5003258747693693,0.4999894627331265,0.49901769246224675,0.4971404976843139,0.49733251012473007,0.4967650587293466,0.4957597253115379,0.49405112682531743,0.3846883349313024,0.36077888362490035,0.351592727571188,0.3452407063198378,0.34200381371008154,0.339217291734563,0.3372799955073743,0.3361607034827871,0.33575092083740093,0.33501175100284564,0.3353676764984506,0.3347471484954659,0.33435141554672787,0.33518346944949107,0.3351077572255399,0.3347978834894206,0.33401188135421217,0.33361380678846303,0.3334171111195923,0.33334608212585237,0.3326943325868161,0.3327794112686886,0.33147591219529077,0.3314610819677476,0.330678982518665,0.3306477609883304,0.32969862632808367,0.3293996801348406,0.3278799719310066,0.3274975081326281,0.2817329825106299,0.270032712360286,0.26492096658415926,0.2617605667365739,0.2584534256665929,0.2556622204566052,0.2548676323977351,0.2536070629319566,0.2515253671090902,0.24991277483749497,0.24845629024460877,0.24729719076453643,0.24624424450818252,0.24476824645298642,0.2437098364258494,0.24217217583924128,0.24203324000362758,0.2408132585352163,0.2398851984197335,0.23916241988326511,0.23279166571988355,0.23042351231004823,0.22914499046810582,0.22891941487799156,0.22825517672357,0.22858222229897351,0.22795623053342357,0.22781885577395147,0.22735209383617805,0.2271686673129624]}},\"id\":\"f15ce3aa-b14a-41a5-88cb-5e31776d8357\",\"type\":\"ColumnDataSource\"},{\"attributes\":{\"click_policy\":\"hide\",\"items\":[{\"id\":\"43262d2c-dd60-4c6b-b152-4279d554beff\",\"type\":\"LegendItem\"},{\"id\":\"21791ac7-57af-43df-bd91-1d60efae960c\",\"type\":\"LegendItem\"},{\"id\":\"4deef2b6-c1a2-4850-b3fe-99b7f68598ef\",\"type\":\"LegendItem\"},{\"id\":\"4155eea1-c899-41a5-bb66-f9145b05a76b\",\"type\":\"LegendItem\"},{\"id\":\"c35c7fc0-43e8-470b-9a02-1704376210af\",\"type\":\"LegendItem\"},{\"id\":\"70ce7815-effd-46c6-88ca-1858cb078d31\",\"type\":\"LegendItem\"}],\"plot\":{\"id\":\"a18de94c-82d9-40f6-b27a-7516ba4b3241\",\"subtype\":\"Figure\",\"type\":\"Plot\"}},\"id\":\"84453101-8a43-4777-9cb1-d2cc534b2673\",\"type\":\"Legend\"},{\"attributes\":{},\"id\":\"f8d4bedc-a66c-45f5-93a5-d8b8fe8f135c\",\"type\":\"BasicTickFormatter\"},{\"attributes\":{\"line_color\":\"#1f77b4\",\"line_dash\":[6],\"line_width\":3,\"x\":{\"field\":\"x\"},\"y\":{\"field\":\"y\"}},\"id\":\"3e7965a9-6646-4bd5-89e4-ba10d953e204\",\"type\":\"Line\"},{\"attributes\":{\"data_source\":{\"id\":\"f15ce3aa-b14a-41a5-88cb-5e31776d8357\",\"type\":\"ColumnDataSource\"},\"glyph\":{\"id\":\"3e7965a9-6646-4bd5-89e4-ba10d953e204\",\"type\":\"Line\"},\"hover_glyph\":null,\"muted_glyph\":null,\"nonselection_glyph\":{\"id\":\"99fadd7b-b942-40e0-9a04-68801b3e0131\",\"type\":\"Line\"},\"selection_glyph\":null,\"view\":{\"id\":\"69baa2e4-5a11-494a-b385-2a4e0efeb90d\",\"type\":\"CDSView\"}},\"id\":\"442e8f9c-6115-4c04-a37c-041082024cad\",\"type\":\"GlyphRenderer\"},{\"attributes\":{\"source\":{\"id\":\"f15ce3aa-b14a-41a5-88cb-5e31776d8357\",\"type\":\"ColumnDataSource\"}},\"id\":\"69baa2e4-5a11-494a-b385-2a4e0efeb90d\",\"type\":\"CDSView\"},{\"attributes\":{\"label\":{\"value\":\"train - (256, 1, 0.9, 0, 0.1, 160)\"},\"renderers\":[{\"id\":\"442e8f9c-6115-4c04-a37c-041082024cad\",\"type\":\"GlyphRenderer\"}]},\"id\":\"43262d2c-dd60-4c6b-b152-4279d554beff\",\"type\":\"LegendItem\"}],\"root_ids\":[\"a18de94c-82d9-40f6-b27a-7516ba4b3241\"]},\"title\":\"Bokeh Application\",\"version\":\"0.12.13\"}};\n",
       "  var render_items = [{\"docid\":\"b99a706a-fb84-42a1-a130-b856a9cbb2e0\",\"elementid\":\"d1f9727a-bec6-49b7-b2c5-6e8c6c57a613\",\"modelid\":\"a18de94c-82d9-40f6-b27a-7516ba4b3241\"}];\n",
       "  root.Bokeh.embed.embed_items_notebook(docs_json, render_items);\n",
       "\n",
       "  }\n",
       "  if (root.Bokeh !== undefined) {\n",
       "    embed_document(root);\n",
       "  } else {\n",
       "    var attempts = 0;\n",
       "    var timer = setInterval(function(root) {\n",
       "      if (root.Bokeh !== undefined) {\n",
       "        embed_document(root);\n",
       "        clearInterval(timer);\n",
       "      }\n",
       "      attempts++;\n",
       "      if (attempts > 100) {\n",
       "        console.log(\"Bokeh: ERROR: Unable to run BokehJS code because BokehJS library is missing\")\n",
       "        clearInterval(timer);\n",
       "      }\n",
       "    }, 10, root)\n",
       "  }\n",
       "})(window);"
      ],
      "application/vnd.bokehjs_exec.v0+json": ""
     },
     "metadata": {
      "application/vnd.bokehjs_exec.v0+json": {
       "id": "a18de94c-82d9-40f6-b27a-7516ba4b3241"
      }
     },
     "output_type": "display_data"
    }
   ],
   "source": [
    "show(plots[1])"
   ]
  },
  {
   "cell_type": "code",
   "execution_count": 4,
   "metadata": {},
   "outputs": [
    {
     "data": {
      "text/html": [
       "\n",
       "<div class=\"bk-root\">\n",
       "    <div class=\"bk-plotdiv\" id=\"d0411429-a421-426c-8e56-827b58af6453\"></div>\n",
       "</div>"
      ]
     },
     "metadata": {},
     "output_type": "display_data"
    },
    {
     "data": {
      "application/javascript": [
       "(function(root) {\n",
       "  function embed_document(root) {\n",
       "    \n",
       "  var docs_json = {\"011834a9-a55d-455a-8f0d-63a5940dc058\":{\"roots\":{\"references\":[{\"attributes\":{\"data_source\":{\"id\":\"c4d1fa34-4d25-438c-aaf6-cb8b316d6823\",\"type\":\"ColumnDataSource\"},\"glyph\":{\"id\":\"e378f9d4-0836-48f8-845e-1d82c72939dc\",\"type\":\"Line\"},\"hover_glyph\":null,\"muted_glyph\":null,\"nonselection_glyph\":{\"id\":\"70ae5cda-02ab-48d6-a1ef-770dd418a988\",\"type\":\"Line\"},\"selection_glyph\":null,\"view\":{\"id\":\"bf3efcdf-063d-4b7a-8969-9cf812cf86b7\",\"type\":\"CDSView\"}},\"id\":\"d867ab81-afd4-4a83-9392-2faf16ed6840\",\"type\":\"GlyphRenderer\"},{\"attributes\":{\"callback\":null},\"id\":\"b6a313c7-13e2-4e3d-bed9-5f86301d2b03\",\"type\":\"DataRange1d\"},{\"attributes\":{},\"id\":\"f3938d49-ba65-4335-986a-552b394eeed2\",\"type\":\"LinearScale\"},{\"attributes\":{\"source\":{\"id\":\"c4d1fa34-4d25-438c-aaf6-cb8b316d6823\",\"type\":\"ColumnDataSource\"}},\"id\":\"bf3efcdf-063d-4b7a-8969-9cf812cf86b7\",\"type\":\"CDSView\"},{\"attributes\":{\"callback\":null},\"id\":\"2053fa82-bbb2-48e2-a4e8-a0f42e057296\",\"type\":\"DataRange1d\"},{\"attributes\":{\"label\":{\"value\":\"validation - (256, 32, -0.2, 0, 0.1, 432)\"},\"renderers\":[{\"id\":\"d867ab81-afd4-4a83-9392-2faf16ed6840\",\"type\":\"GlyphRenderer\"}]},\"id\":\"dca4023a-37e1-414c-85fc-a6b2142025b7\",\"type\":\"LegendItem\"},{\"attributes\":{\"plot\":{\"id\":\"427d1500-9868-4c39-a326-f71774551aef\",\"subtype\":\"Figure\",\"type\":\"Plot\"},\"ticker\":{\"id\":\"0e7edacf-4252-49d6-9561-b86db4ae014e\",\"type\":\"BasicTicker\"}},\"id\":\"6c25f734-08e0-48c7-907c-121addebeba7\",\"type\":\"Grid\"},{\"attributes\":{\"source\":{\"id\":\"fe6c7e78-9bab-4d77-a94a-014e287b40ce\",\"type\":\"ColumnDataSource\"}},\"id\":\"4d67919d-c658-4dcd-a13e-5c85098ff476\",\"type\":\"CDSView\"},{\"attributes\":{\"axis_label\":\"t [Epochs]\",\"formatter\":{\"id\":\"f7bac53e-e8ce-49e9-a08e-1f779e588f76\",\"type\":\"BasicTickFormatter\"},\"plot\":{\"id\":\"427d1500-9868-4c39-a326-f71774551aef\",\"subtype\":\"Figure\",\"type\":\"Plot\"},\"ticker\":{\"id\":\"0e7edacf-4252-49d6-9561-b86db4ae014e\",\"type\":\"BasicTicker\"}},\"id\":\"0ff3b37d-8f39-4e62-b88c-f4f59900c7fc\",\"type\":\"LinearAxis\"},{\"attributes\":{},\"id\":\"0e7edacf-4252-49d6-9561-b86db4ae014e\",\"type\":\"BasicTicker\"},{\"attributes\":{\"num_minor_ticks\":10},\"id\":\"9a2bfee2-e535-4e7b-80c3-3ca1c644268e\",\"type\":\"LogTicker\"},{\"attributes\":{\"line_alpha\":0.1,\"line_color\":\"#1f77b4\",\"line_dash\":[6],\"line_width\":3,\"x\":{\"field\":\"x\"},\"y\":{\"field\":\"y\"}},\"id\":\"32d3aebd-4e01-4f4b-b936-1695badd5176\",\"type\":\"Line\"},{\"attributes\":{\"axis_label\":\"L(w(t))\",\"formatter\":{\"id\":\"d1d19b89-fdad-43da-b9e4-23e1a64c24bf\",\"type\":\"LogTickFormatter\"},\"plot\":{\"id\":\"427d1500-9868-4c39-a326-f71774551aef\",\"subtype\":\"Figure\",\"type\":\"Plot\"},\"ticker\":{\"id\":\"9a2bfee2-e535-4e7b-80c3-3ca1c644268e\",\"type\":\"LogTicker\"}},\"id\":\"8467b8e5-e925-4f6e-acc5-5409eb02be7b\",\"type\":\"LogAxis\"},{\"attributes\":{\"data_source\":{\"id\":\"fe6c7e78-9bab-4d77-a94a-014e287b40ce\",\"type\":\"ColumnDataSource\"},\"glyph\":{\"id\":\"9d47701b-69ad-4ca7-aba1-7a7ac23193a3\",\"type\":\"Line\"},\"hover_glyph\":null,\"muted_glyph\":null,\"nonselection_glyph\":{\"id\":\"32d3aebd-4e01-4f4b-b936-1695badd5176\",\"type\":\"Line\"},\"selection_glyph\":null,\"view\":{\"id\":\"4d67919d-c658-4dcd-a13e-5c85098ff476\",\"type\":\"CDSView\"}},\"id\":\"f73feeec-6018-402d-90f2-dfe28f4b9fcd\",\"type\":\"GlyphRenderer\"},{\"attributes\":{\"dimension\":1,\"plot\":{\"id\":\"427d1500-9868-4c39-a326-f71774551aef\",\"subtype\":\"Figure\",\"type\":\"Plot\"},\"ticker\":{\"id\":\"9a2bfee2-e535-4e7b-80c3-3ca1c644268e\",\"type\":\"LogTicker\"}},\"id\":\"697f93a3-acb7-422e-8e5a-4499633ab09b\",\"type\":\"Grid\"},{\"attributes\":{\"bottom_units\":\"screen\",\"fill_alpha\":{\"value\":0.5},\"fill_color\":{\"value\":\"lightgrey\"},\"left_units\":\"screen\",\"level\":\"overlay\",\"line_alpha\":{\"value\":1.0},\"line_color\":{\"value\":\"black\"},\"line_dash\":[4,4],\"line_width\":{\"value\":2},\"plot\":null,\"render_mode\":\"css\",\"right_units\":\"screen\",\"top_units\":\"screen\"},\"id\":\"2e5ce1bc-7147-419e-a10a-4b1402cc0e41\",\"type\":\"BoxAnnotation\"},{\"attributes\":{\"data_source\":{\"id\":\"596a3cee-d3e0-49f1-8c02-580dfb72f157\",\"type\":\"ColumnDataSource\"},\"glyph\":{\"id\":\"efad683b-1ba4-4be7-abed-91e0ebcf490b\",\"type\":\"Line\"},\"hover_glyph\":null,\"muted_glyph\":null,\"nonselection_glyph\":{\"id\":\"8439840d-b75a-4a80-8f30-eea819d1da24\",\"type\":\"Line\"},\"selection_glyph\":null,\"view\":{\"id\":\"84c264f0-f34b-4b83-9947-7ec36c2e754f\",\"type\":\"CDSView\"}},\"id\":\"1cdd555a-c122-41b4-93fb-a0661744c022\",\"type\":\"GlyphRenderer\"},{\"attributes\":{},\"id\":\"b88422a0-b4b5-4487-b78b-ae6c6b4a5ab8\",\"type\":\"PanTool\"},{\"attributes\":{},\"id\":\"60df7a80-65b9-44e3-a840-b5046d1ecfd2\",\"type\":\"WheelZoomTool\"},{\"attributes\":{\"overlay\":{\"id\":\"2e5ce1bc-7147-419e-a10a-4b1402cc0e41\",\"type\":\"BoxAnnotation\"}},\"id\":\"38bd3969-1177-4ee6-be4a-700d55d00d8c\",\"type\":\"BoxZoomTool\"},{\"attributes\":{\"line_alpha\":0.1,\"line_color\":\"#1f77b4\",\"line_width\":3,\"x\":{\"field\":\"x\"},\"y\":{\"field\":\"y\"}},\"id\":\"543153ee-457a-4de6-8250-8c62426bdb5d\",\"type\":\"Line\"},{\"attributes\":{},\"id\":\"8ad042c7-db41-435a-800d-2f40cba91876\",\"type\":\"SaveTool\"},{\"attributes\":{\"callback\":null,\"column_names\":[\"x\",\"y\"],\"data\":{\"x\":{\"__ndarray__\":\"AQAAAAIAAAADAAAABAAAAAUAAAAGAAAABwAAAAgAAAAJAAAACgAAAAsAAAAMAAAADQAAAA4AAAAPAAAAEAAAABEAAAASAAAAEwAAABQAAAAVAAAAFgAAABcAAAAYAAAAGQAAABoAAAAbAAAAHAAAAB0AAAAeAAAAHwAAACAAAAAhAAAAIgAAACMAAAAkAAAAJQAAACYAAAAnAAAAKAAAACkAAAAqAAAAKwAAACwAAAAtAAAALgAAAC8AAAAwAAAAMQAAADIAAAAzAAAANAAAADUAAAA2AAAANwAAADgAAAA5AAAAOgAAADsAAAA8AAAAPQAAAD4AAAA/AAAAQAAAAEEAAABCAAAAQwAAAEQAAABFAAAARgAAAEcAAABIAAAASQAAAEoAAABLAAAATAAAAE0AAABOAAAATwAAAFAAAABRAAAAUgAAAFMAAABUAAAAVQAAAFYAAABXAAAAWAAAAFkAAABaAAAA\",\"dtype\":\"int32\",\"shape\":[90]},\"y\":[4.598382220458984,3.253985609741211,3.116275453033447,2.6853738099670412,2.420921482620239,2.426687135620117,2.424011884231567,2.240220655593872,2.319897235946655,2.21090829498291,2.207822584686279,2.2053294620513917,2.1871833067321775,2.170414736480713,2.118065433807373,2.1807488721466064,2.0257746324157715,2.090749424819946,2.0963173866271974,2.035696905517578,2.0324579482269285,2.081361307373047,2.15985525894165,1.9966085619354248,2.093498052444458,1.9636690447235108,2.121423997039795,1.9311311432647704,2.0344379790496827,2.1706728256988526,1.2941581258392334,1.2416050875854492,1.2202530033111572,1.209432325668335,1.2169893532943725,1.1990243294525147,1.2070831356048584,1.266190891456604,1.2162271950912475,1.2086458113861085,1.198686764564514,1.227077506866455,1.216471363067627,1.26225469165802,1.2113132241058349,1.211976784324646,1.2198258932113648,1.2244551711273193,1.2674291411972045,1.2461022086334228,1.2140405097961426,1.2705979449081422,1.2236628398895264,1.2060744694900514,1.2268556366729737,1.2036107595443726,1.2393571880722045,1.2126801132202147,1.1838409635925293,1.2142947355270386,1.023481582221985,1.0100829165649414,1.0009955448150636,0.9963067831420899,0.9872403373336792,0.9854390383148194,0.9857153553581238,0.9834688074493408,0.9826295702552795,0.9780180661773682,0.979239369354248,0.9741608739089965,0.9754907035827637,0.975267818775177,0.9782244798851013,0.973269547920227,0.969704374256134,0.9722734873580933,0.9752358877563476,0.9733968112564086,0.9574400119018555,0.9561449717903138,0.9553424758720398,0.9528443279647827,0.9515180409622193,0.9531224866294861,0.9541888398361206,0.950857864189148,0.9521024802589416,0.9554368449020386]}},\"id\":\"d9c5fc35-7821-4705-89bc-b685fcae30fc\",\"type\":\"ColumnDataSource\"},{\"attributes\":{},\"id\":\"aa7d7652-102c-4777-b7ab-72eaa517257b\",\"type\":\"ResetTool\"},{\"attributes\":{},\"id\":\"ae615cb8-b9fa-4224-9688-68d826ffd3d3\",\"type\":\"HelpTool\"},{\"attributes\":{\"data_source\":{\"id\":\"d9c5fc35-7821-4705-89bc-b685fcae30fc\",\"type\":\"ColumnDataSource\"},\"glyph\":{\"id\":\"9bc6dfd5-7a89-471e-818b-df2c4cbb4d22\",\"type\":\"Line\"},\"hover_glyph\":null,\"muted_glyph\":null,\"nonselection_glyph\":{\"id\":\"543153ee-457a-4de6-8250-8c62426bdb5d\",\"type\":\"Line\"},\"selection_glyph\":null,\"view\":{\"id\":\"29aff255-55c9-48b8-bbf9-50aaf00c266e\",\"type\":\"CDSView\"}},\"id\":\"537e18c3-831b-4a4d-a2f5-7ae375fda7cb\",\"type\":\"GlyphRenderer\"},{\"attributes\":{\"label\":{\"value\":\"validation - (256, 1, 0.9, 0, 0.1, 160)\"},\"renderers\":[{\"id\":\"537e18c3-831b-4a4d-a2f5-7ae375fda7cb\",\"type\":\"GlyphRenderer\"}]},\"id\":\"7769a9cf-a6c5-41be-9acf-d8a7f608a91b\",\"type\":\"LegendItem\"},{\"attributes\":{\"line_color\":\"#1f77b4\",\"line_width\":3,\"x\":{\"field\":\"x\"},\"y\":{\"field\":\"y\"}},\"id\":\"9bc6dfd5-7a89-471e-818b-df2c4cbb4d22\",\"type\":\"Line\"},{\"attributes\":{\"source\":{\"id\":\"d9c5fc35-7821-4705-89bc-b685fcae30fc\",\"type\":\"ColumnDataSource\"}},\"id\":\"29aff255-55c9-48b8-bbf9-50aaf00c266e\",\"type\":\"CDSView\"},{\"attributes\":{\"callback\":null,\"column_names\":[\"x\",\"y\"],\"data\":{\"x\":{\"__ndarray__\":\"AQAAAAIAAAADAAAABAAAAAUAAAAGAAAABwAAAAgAAAAJAAAACgAAAAsAAAAMAAAADQAAAA4AAAAPAAAAEAAAABEAAAASAAAAEwAAABQAAAAVAAAAFgAAABcAAAAYAAAAGQAAABoAAAAbAAAAHAAAAB0AAAAeAAAAHwAAACAAAAAhAAAAIgAAACMAAAAkAAAAJQAAACYAAAAnAAAAKAAAACkAAAAqAAAAKwAAACwAAAAtAAAALgAAAC8AAAAwAAAAMQAAADIAAAAzAAAANAAAADUAAAA2AAAANwAAADgAAAA5AAAAOgAAADsAAAA8AAAAPQAAAD4AAAA/AAAAQAAAAEEAAABCAAAAQwAAAEQAAABFAAAARgAAAEcAAABIAAAASQAAAEoAAABLAAAATAAAAE0AAABOAAAATwAAAFAAAABRAAAAUgAAAFMAAABUAAAAVQAAAFYAAABXAAAAWAAAAFkAAABaAAAA\",\"dtype\":\"int32\",\"shape\":[90]},\"y\":[5.527419948478283,3.8204680515203187,3.206941524115581,2.9124940336670586,2.7377728579845697,2.62019864961246,2.5409773012880414,2.4813406480041946,2.438672779719759,2.404218457104119,2.375767403097928,2.3512372790169542,2.3346719839407566,2.316448463326358,2.3040121136192897,2.2925255103868105,2.2801841153649183,2.270484146341122,2.2643176148911714,2.257001852008235,2.252139474118154,2.241816294014738,2.2364037844839566,2.2317812382922133,2.227253053559373,2.2196648744681227,2.21868067578634,2.2150983178537884,2.2110192347178725,2.20616196567395,1.6649182949700767,1.548367666816147,1.5000208710777079,1.4706732544586836,1.451601460353546,1.4397903945962358,1.4304331394326544,1.4239875435762075,1.4213121050516342,1.4175634364219862,1.4178223197722366,1.4160922723303115,1.4129044114244655,1.416621445424538,1.4161953867602397,1.414798548111407,1.411831900910859,1.4092596007791824,1.4099018031181916,1.409056798055014,1.4060963275762315,1.4033975698609498,1.398752049765208,1.398670601583157,1.3955055936604126,1.3928005151856733,1.3916042950547896,1.3874629025612382,1.381894401865338,1.3802304861054118,1.1779246632219662,1.124727096055883,1.1006359867672828,1.0866019298775156,1.07276927094806,1.0603063410741462,1.0560078049792068,1.0481654867940942,1.0415271721433297,1.0339412907376815,1.0263131820969462,1.0217184624570461,1.0165661502114307,1.0100041942430729,1.0063191266590346,0.998974197195399,0.9969506087889096,0.9923520779659125,0.9898058163912848,0.9844521932172191,0.960397300496607,0.9495428693106597,0.944362643595927,0.9425074037168727,0.9396611066744892,0.9401818341748323,0.9384630634402967,0.9369741863202238,0.9354656320426967,0.9341682823180865]}},\"id\":\"fe6c7e78-9bab-4d77-a94a-014e287b40ce\",\"type\":\"ColumnDataSource\"},{\"attributes\":{\"label\":{\"value\":\"train - (256, 1, 0.9, 0, 0.1, 160)\"},\"renderers\":[{\"id\":\"f73feeec-6018-402d-90f2-dfe28f4b9fcd\",\"type\":\"GlyphRenderer\"}]},\"id\":\"81c9d60c-531a-4009-b3b9-09c6f0fa128c\",\"type\":\"LegendItem\"},{\"attributes\":{\"data_source\":{\"id\":\"b91ceff2-7632-46e4-ad2c-7399cf8c00f6\",\"type\":\"ColumnDataSource\"},\"glyph\":{\"id\":\"e827e143-8ad6-41a7-a522-95f05195aef0\",\"type\":\"Line\"},\"hover_glyph\":null,\"muted_glyph\":null,\"nonselection_glyph\":{\"id\":\"dfcd9c73-4f67-416b-a806-89005bfabe6e\",\"type\":\"Line\"},\"selection_glyph\":null,\"view\":{\"id\":\"e9473914-85ff-4c48-9d3d-fcf248126dad\",\"type\":\"CDSView\"}},\"id\":\"23a04149-9705-425d-864f-bc37651be5db\",\"type\":\"GlyphRenderer\"},{\"attributes\":{\"callback\":null,\"column_names\":[\"x\",\"y\"],\"data\":{\"x\":{\"__ndarray__\":\"AQAAAAIAAAADAAAABAAAAAUAAAAGAAAABwAAAAgAAAAJAAAACgAAAAsAAAAMAAAADQAAAA4AAAAPAAAAEAAAABEAAAASAAAAEwAAABQAAAAVAAAAFgAAABcAAAAYAAAAGQAAABoAAAAbAAAAHAAAAB0AAAAeAAAAHwAAACAAAAAhAAAAIgAAACMAAAAkAAAAJQAAACYAAAAnAAAAKAAAACkAAAAqAAAAKwAAACwAAAAtAAAALgAAAC8AAAAwAAAAMQAAADIAAAAzAAAANAAAADUAAAA2AAAANwAAADgAAAA5AAAAOgAAADsAAAA8AAAAPQAAAD4AAAA/AAAAQAAAAEEAAABCAAAAQwAAAEQAAABFAAAARgAAAEcAAABIAAAASQAAAEoAAABLAAAATAAAAE0AAABOAAAATwAAAFAAAABRAAAAUgAAAFMAAABUAAAAVQAAAFYAAABXAAAAWAAAAFkAAABaAAAA\",\"dtype\":\"int32\",\"shape\":[90]},\"y\":[6.8015001557153205,6.233640388547153,5.866093661415473,5.574542276386604,5.236421344301955,4.841417080711414,4.443992349337621,4.115339919430782,3.86156013083417,3.6588336269291,3.4952003009267756,3.356972016636742,3.2517899289374013,3.1606345389097994,3.0718398437427332,3.0098660695710513,3.148392091129384,2.8817965873413343,2.8705119602071494,2.8376454592679896,2.7990010274068386,2.7863140056137934,2.7440326618687876,2.7312489117363805,2.696240411930254,2.691550002115208,2.8856021510120455,2.6246697820749327,2.6353992165308635,2.7514884811213074,1.8576065398121997,1.7251687218963598,1.666994058863658,1.6275984032678255,1.5971024898686326,1.5700542514660818,1.5445398263612078,1.5266589476853656,1.5092754289898607,1.4948126441598604,1.4796015451996767,1.468115836143269,1.4582549153318125,1.4505349279101065,1.4424432752247733,1.4346941732744,1.4281952550632944,1.423438121761555,1.4200646020138736,1.4163680090540416,1.4154649669958819,1.4105559934211491,1.4092828036057123,1.4082305605800112,1.4044983939490405,1.4012730144857657,1.4035093129592908,1.4003564761808194,1.39902318885603,1.3987335553378455,1.2382229623003638,1.19724448834959,1.180711266871127,1.167677005533508,1.159167116645672,1.1506695070374524,1.145640339927377,1.139865787925181,1.1330058621905525,1.1283699770901,1.1221394629514099,1.1173544006469374,1.1125298955149847,1.1107987016016887,1.1051276328530348,1.1006448709683478,1.0950829793472123,1.0939158375673663,1.091188794456222,1.090554138055183,1.077531826548724,1.0744367774322856,1.0697661221068733,1.068249657623783,1.0670640556531414,1.0666980919874505,1.0647214402958682,1.0643002823428287,1.063895260069224,1.0621369222998764]}},\"id\":\"b91ceff2-7632-46e4-ad2c-7399cf8c00f6\",\"type\":\"ColumnDataSource\"},{\"attributes\":{\"line_alpha\":0.1,\"line_color\":\"#1f77b4\",\"line_dash\":[6],\"line_width\":3,\"x\":{\"field\":\"x\"},\"y\":{\"field\":\"y\"}},\"id\":\"dfcd9c73-4f67-416b-a806-89005bfabe6e\",\"type\":\"Line\"},{\"attributes\":{\"line_color\":\"#ff7f0e\",\"line_dash\":[6],\"line_width\":3,\"x\":{\"field\":\"x\"},\"y\":{\"field\":\"y\"}},\"id\":\"e827e143-8ad6-41a7-a522-95f05195aef0\",\"type\":\"Line\"},{\"attributes\":{\"source\":{\"id\":\"b91ceff2-7632-46e4-ad2c-7399cf8c00f6\",\"type\":\"ColumnDataSource\"}},\"id\":\"e9473914-85ff-4c48-9d3d-fcf248126dad\",\"type\":\"CDSView\"},{\"attributes\":{\"label\":{\"value\":\"train - (256, 32, -0.2, 0, 0.1, 432)\"},\"renderers\":[{\"id\":\"23a04149-9705-425d-864f-bc37651be5db\",\"type\":\"GlyphRenderer\"}]},\"id\":\"6001ded7-7f1c-48c5-af20-f18ca48b7387\",\"type\":\"LegendItem\"},{\"attributes\":{\"line_color\":\"#ff7f0e\",\"line_width\":3,\"x\":{\"field\":\"x\"},\"y\":{\"field\":\"y\"}},\"id\":\"e378f9d4-0836-48f8-845e-1d82c72939dc\",\"type\":\"Line\"},{\"attributes\":{\"callback\":null,\"column_names\":[\"x\",\"y\"],\"data\":{\"x\":{\"__ndarray__\":\"AQAAAAIAAAADAAAABAAAAAUAAAAGAAAABwAAAAgAAAAJAAAACgAAAAsAAAAMAAAADQAAAA4AAAAPAAAAEAAAABEAAAASAAAAEwAAABQAAAAVAAAAFgAAABcAAAAYAAAAGQAAABoAAAAbAAAAHAAAAB0AAAAeAAAAHwAAACAAAAAhAAAAIgAAACMAAAAkAAAAJQAAACYAAAAnAAAAKAAAACkAAAAqAAAAKwAAACwAAAAtAAAALgAAAC8AAAAwAAAAMQAAADIAAAAzAAAANAAAADUAAAA2AAAANwAAADgAAAA5AAAAOgAAADsAAAA8AAAAPQAAAD4AAAA/AAAAQAAAAEEAAABCAAAAQwAAAEQAAABFAAAARgAAAEcAAABIAAAASQAAAEoAAABLAAAATAAAAE0AAABOAAAATwAAAFAAAABRAAAAUgAAAFMAAABUAAAAVQAAAFYAAABXAAAAWAAAAFkAAABaAAAA\",\"dtype\":\"int32\",\"shape\":[90]},\"y\":[6.597966432800293,4.794501354064941,3.6315753645324707,3.3806169860076904,3.341897753677368,2.914002694015503,3.0817927667236327,2.6359812536621092,2.708199571304321,2.643487052459717,2.9106901462554933,9.496862312927247,7.6335852406311036,7.24167478881836,5.988519313812255,5.940802283630371,11.071952553100585,6.622287569732666,5.495690842590332,11.715184106445312,9.138467394104003,4.606415221862793,7.121789802093506,4.988425878448487,4.571698370513916,6.2890707460021975,7.737868514251709,5.886400752716065,6.843919571685791,5.573552598266602,1.485113745613098,1.4142981158828736,1.3754957038879394,1.3503267290878296,1.3215833072280885,1.3289184987640381,1.3422015412521362,1.3418056934738158,1.3226085718917846,1.4011598950958253,1.3158974466323852,1.3176942602539063,1.2959106771850586,1.4296918790817261,1.389410513343811,1.366289592475891,1.4570902546310425,1.6437251920318603,1.3905112520980836,1.4066056490707397,1.5177692636871338,1.6930869892501832,1.6013013721847533,1.625315209465027,1.6986451187133789,1.8536499617385864,2.00780306678772,1.8174884994125367,1.8469694110107422,1.686658249359131,1.1024137204933167,1.091877900466919,1.0828608913421631,1.0767864987945557,1.070857692527771,1.0703464671707152,1.0693631356430053,1.0670045796966552,1.062187458114624,1.0593357833480834,1.0611591703033447,1.053505463180542,1.0508814360427856,1.0496041557312012,1.0481023038864137,1.0512710352516175,1.0453722442626954,1.045673748626709,1.0455763639831543,1.0430768281555176,1.0455512287139892,1.0440870505142212,1.043762646331787,1.042576626701355,1.0430883185577393,1.0431479835891724,1.0426318743133545,1.045644635887146,1.0419808200836183,1.0434053680801392]}},\"id\":\"596a3cee-d3e0-49f1-8c02-580dfb72f157\",\"type\":\"ColumnDataSource\"},{\"attributes\":{\"label\":{\"value\":\"validation - (256, 1, 0.9, 0, 0.1, 432)\"},\"renderers\":[{\"id\":\"1cdd555a-c122-41b4-93fb-a0661744c022\",\"type\":\"GlyphRenderer\"}]},\"id\":\"f38333dd-1a83-4c60-b1b3-9a03a0ca2da6\",\"type\":\"LegendItem\"},{\"attributes\":{\"source\":{\"id\":\"596a3cee-d3e0-49f1-8c02-580dfb72f157\",\"type\":\"ColumnDataSource\"}},\"id\":\"84c264f0-f34b-4b83-9947-7ec36c2e754f\",\"type\":\"CDSView\"},{\"attributes\":{\"line_color\":\"#2ca02c\",\"line_width\":3,\"x\":{\"field\":\"x\"},\"y\":{\"field\":\"y\"}},\"id\":\"efad683b-1ba4-4be7-abed-91e0ebcf490b\",\"type\":\"Line\"},{\"attributes\":{\"line_alpha\":0.1,\"line_color\":\"#1f77b4\",\"line_width\":3,\"x\":{\"field\":\"x\"},\"y\":{\"field\":\"y\"}},\"id\":\"70ae5cda-02ab-48d6-a1ef-770dd418a988\",\"type\":\"Line\"},{\"attributes\":{\"line_alpha\":0.1,\"line_color\":\"#1f77b4\",\"line_width\":3,\"x\":{\"field\":\"x\"},\"y\":{\"field\":\"y\"}},\"id\":\"8439840d-b75a-4a80-8f30-eea819d1da24\",\"type\":\"Line\"},{\"attributes\":{\"line_color\":\"#1f77b4\",\"line_dash\":[6],\"line_width\":3,\"x\":{\"field\":\"x\"},\"y\":{\"field\":\"y\"}},\"id\":\"9d47701b-69ad-4ca7-aba1-7a7ac23193a3\",\"type\":\"Line\"},{\"attributes\":{\"active_drag\":\"auto\",\"active_inspect\":\"auto\",\"active_scroll\":\"auto\",\"active_tap\":\"auto\",\"tools\":[{\"id\":\"b88422a0-b4b5-4487-b78b-ae6c6b4a5ab8\",\"type\":\"PanTool\"},{\"id\":\"60df7a80-65b9-44e3-a840-b5046d1ecfd2\",\"type\":\"WheelZoomTool\"},{\"id\":\"38bd3969-1177-4ee6-be4a-700d55d00d8c\",\"type\":\"BoxZoomTool\"},{\"id\":\"8ad042c7-db41-435a-800d-2f40cba91876\",\"type\":\"SaveTool\"},{\"id\":\"aa7d7652-102c-4777-b7ab-72eaa517257b\",\"type\":\"ResetTool\"},{\"id\":\"ae615cb8-b9fa-4224-9688-68d826ffd3d3\",\"type\":\"HelpTool\"}]},\"id\":\"d43ccba2-de91-4142-9203-76ba0163b0d8\",\"type\":\"Toolbar\"},{\"attributes\":{\"callback\":null,\"column_names\":[\"x\",\"y\"],\"data\":{\"x\":{\"__ndarray__\":\"AQAAAAIAAAADAAAABAAAAAUAAAAGAAAABwAAAAgAAAAJAAAACgAAAAsAAAAMAAAADQAAAA4AAAAPAAAAEAAAABEAAAASAAAAEwAAABQAAAAVAAAAFgAAABcAAAAYAAAAGQAAABoAAAAbAAAAHAAAAB0AAAAeAAAAHwAAACAAAAAhAAAAIgAAACMAAAAkAAAAJQAAACYAAAAnAAAAKAAAACkAAAAqAAAAKwAAACwAAAAtAAAALgAAAC8AAAAwAAAAMQAAADIAAAAzAAAANAAAADUAAAA2AAAANwAAADgAAAA5AAAAOgAAADsAAAA8AAAAPQAAAD4AAAA/AAAAQAAAAEEAAABCAAAAQwAAAEQAAABFAAAARgAAAEcAAABIAAAASQAAAEoAAABLAAAATAAAAE0AAABOAAAATwAAAFAAAABRAAAAUgAAAFMAAABUAAAAVQAAAFYAAABXAAAAWAAAAFkAAABaAAAA\",\"dtype\":\"int32\",\"shape\":[90]},\"y\":[6.180937685435894,4.41007458840298,3.5251692072401184,3.0946565532062547,2.8545947255214186,2.7052944092337317,2.604008580690207,2.534706261302423,2.485403316964524,2.4436060342801373,2.411582091892036,4.94356956352594,3.4981097397924183,3.204403777295592,3.1048304217411227,3.036343680467165,3.004872737589887,2.9602388099558703,2.9410224562176834,2.9845884089492176,2.8717858867722783,2.880823389875198,2.8258141156151404,3.0782608606641437,2.815332784450328,2.7962398664883366,3.00476785722443,2.8194852710312763,2.761732948747397,2.810996754005271,1.9225103042380554,1.7521288008301974,1.6844007577102216,1.6391299895444076,1.6026931268050923,1.5757745964940761,1.553262646338605,1.5308685561602544,1.5155894700179766,1.5007810335236598,1.4897545019248617,1.4793464804983232,1.4729814390461922,1.4679532322665805,1.4639389526636837,1.460588609365169,1.4592514150028502,1.4559985593486435,1.45607718480895,1.4556351745850409,1.457698721495187,1.4571084933825282,1.4603419718435207,1.4583873492013069,1.4595919007067317,1.4599710205594854,1.4625569906657712,1.460604317729425,1.4610245912747908,1.4621233100519453,1.2674568137881141,1.2213197732847372,1.202630736025694,1.1919592320695491,1.1810432121805943,1.1714013119909341,1.1678931876491803,1.164183458035499,1.1538433387569675,1.1489307972907499,1.1441500441710997,1.13376909555053,1.128970071180649,1.1219950592077823,1.1211826365387287,1.1166399128499847,1.113153438491232,1.1151516342470478,1.1118944212108952,1.1097660358892751,1.1075935131187258,1.1058534701530294,1.1052458953877409,1.1048593447033805,1.1039591451858808,1.1027692014336246,1.1004394488009095,1.101185828825975,1.1014955541021412,1.1023052687490562]}},\"id\":\"cb045331-1b05-4759-9a59-5233c69bd429\",\"type\":\"ColumnDataSource\"},{\"attributes\":{\"click_policy\":\"hide\",\"items\":[{\"id\":\"81c9d60c-531a-4009-b3b9-09c6f0fa128c\",\"type\":\"LegendItem\"},{\"id\":\"7769a9cf-a6c5-41be-9acf-d8a7f608a91b\",\"type\":\"LegendItem\"},{\"id\":\"6001ded7-7f1c-48c5-af20-f18ca48b7387\",\"type\":\"LegendItem\"},{\"id\":\"dca4023a-37e1-414c-85fc-a6b2142025b7\",\"type\":\"LegendItem\"},{\"id\":\"b124b3de-d1a0-4737-be09-53714f35b17b\",\"type\":\"LegendItem\"},{\"id\":\"f38333dd-1a83-4c60-b1b3-9a03a0ca2da6\",\"type\":\"LegendItem\"}],\"location\":\"bottom_left\",\"plot\":{\"id\":\"427d1500-9868-4c39-a326-f71774551aef\",\"subtype\":\"Figure\",\"type\":\"Plot\"}},\"id\":\"0336783c-9188-4c00-9675-fa5aa83e4bc1\",\"type\":\"Legend\"},{\"attributes\":{\"line_color\":\"#2ca02c\",\"line_dash\":[6],\"line_width\":3,\"x\":{\"field\":\"x\"},\"y\":{\"field\":\"y\"}},\"id\":\"da763e76-d321-4f68-adb5-ac4872d1c987\",\"type\":\"Line\"},{\"attributes\":{},\"id\":\"f7bac53e-e8ce-49e9-a08e-1f779e588f76\",\"type\":\"BasicTickFormatter\"},{\"attributes\":{\"line_alpha\":0.1,\"line_color\":\"#1f77b4\",\"line_dash\":[6],\"line_width\":3,\"x\":{\"field\":\"x\"},\"y\":{\"field\":\"y\"}},\"id\":\"c885a146-e6af-45d9-a2b2-dc63eddabf67\",\"type\":\"Line\"},{\"attributes\":{\"data_source\":{\"id\":\"cb045331-1b05-4759-9a59-5233c69bd429\",\"type\":\"ColumnDataSource\"},\"glyph\":{\"id\":\"da763e76-d321-4f68-adb5-ac4872d1c987\",\"type\":\"Line\"},\"hover_glyph\":null,\"muted_glyph\":null,\"nonselection_glyph\":{\"id\":\"c885a146-e6af-45d9-a2b2-dc63eddabf67\",\"type\":\"Line\"},\"selection_glyph\":null,\"view\":{\"id\":\"c2763920-32ec-47bb-9132-be351055a843\",\"type\":\"CDSView\"}},\"id\":\"65345c11-499f-4d1b-a79e-26b1a8456236\",\"type\":\"GlyphRenderer\"},{\"attributes\":{\"source\":{\"id\":\"cb045331-1b05-4759-9a59-5233c69bd429\",\"type\":\"ColumnDataSource\"}},\"id\":\"c2763920-32ec-47bb-9132-be351055a843\",\"type\":\"CDSView\"},{\"attributes\":{\"label\":{\"value\":\"train - (256, 1, 0.9, 0, 0.1, 432)\"},\"renderers\":[{\"id\":\"65345c11-499f-4d1b-a79e-26b1a8456236\",\"type\":\"GlyphRenderer\"}]},\"id\":\"b124b3de-d1a0-4737-be09-53714f35b17b\",\"type\":\"LegendItem\"},{\"attributes\":{},\"id\":\"06004ac8-c838-4c6c-8113-ae177b0f6446\",\"type\":\"LogScale\"},{\"attributes\":{\"plot\":null,\"text\":\"Training & Test Loss\"},\"id\":\"bc728321-8e0a-45bc-96ea-4911571d30b5\",\"type\":\"Title\"},{\"attributes\":{\"ticker\":null},\"id\":\"d1d19b89-fdad-43da-b9e4-23e1a64c24bf\",\"type\":\"LogTickFormatter\"},{\"attributes\":{\"background_fill_color\":{\"value\":\"#fafafa\"},\"below\":[{\"id\":\"0ff3b37d-8f39-4e62-b88c-f4f59900c7fc\",\"type\":\"LinearAxis\"}],\"left\":[{\"id\":\"8467b8e5-e925-4f6e-acc5-5409eb02be7b\",\"type\":\"LogAxis\"}],\"min_border\":10,\"min_border_left\":50,\"renderers\":[{\"id\":\"0ff3b37d-8f39-4e62-b88c-f4f59900c7fc\",\"type\":\"LinearAxis\"},{\"id\":\"6c25f734-08e0-48c7-907c-121addebeba7\",\"type\":\"Grid\"},{\"id\":\"8467b8e5-e925-4f6e-acc5-5409eb02be7b\",\"type\":\"LogAxis\"},{\"id\":\"697f93a3-acb7-422e-8e5a-4499633ab09b\",\"type\":\"Grid\"},{\"id\":\"2e5ce1bc-7147-419e-a10a-4b1402cc0e41\",\"type\":\"BoxAnnotation\"},{\"id\":\"0336783c-9188-4c00-9675-fa5aa83e4bc1\",\"type\":\"Legend\"},{\"id\":\"f73feeec-6018-402d-90f2-dfe28f4b9fcd\",\"type\":\"GlyphRenderer\"},{\"id\":\"537e18c3-831b-4a4d-a2f5-7ae375fda7cb\",\"type\":\"GlyphRenderer\"},{\"id\":\"23a04149-9705-425d-864f-bc37651be5db\",\"type\":\"GlyphRenderer\"},{\"id\":\"d867ab81-afd4-4a83-9392-2faf16ed6840\",\"type\":\"GlyphRenderer\"},{\"id\":\"65345c11-499f-4d1b-a79e-26b1a8456236\",\"type\":\"GlyphRenderer\"},{\"id\":\"1cdd555a-c122-41b4-93fb-a0661744c022\",\"type\":\"GlyphRenderer\"}],\"title\":{\"id\":\"bc728321-8e0a-45bc-96ea-4911571d30b5\",\"type\":\"Title\"},\"toolbar\":{\"id\":\"d43ccba2-de91-4142-9203-76ba0163b0d8\",\"type\":\"Toolbar\"},\"x_range\":{\"id\":\"b6a313c7-13e2-4e3d-bed9-5f86301d2b03\",\"type\":\"DataRange1d\"},\"x_scale\":{\"id\":\"f3938d49-ba65-4335-986a-552b394eeed2\",\"type\":\"LinearScale\"},\"y_range\":{\"id\":\"2053fa82-bbb2-48e2-a4e8-a0f42e057296\",\"type\":\"DataRange1d\"},\"y_scale\":{\"id\":\"06004ac8-c838-4c6c-8113-ae177b0f6446\",\"type\":\"LogScale\"}},\"id\":\"427d1500-9868-4c39-a326-f71774551aef\",\"subtype\":\"Figure\",\"type\":\"Plot\"},{\"attributes\":{\"callback\":null,\"column_names\":[\"x\",\"y\"],\"data\":{\"x\":{\"__ndarray__\":\"AQAAAAIAAAADAAAABAAAAAUAAAAGAAAABwAAAAgAAAAJAAAACgAAAAsAAAAMAAAADQAAAA4AAAAPAAAAEAAAABEAAAASAAAAEwAAABQAAAAVAAAAFgAAABcAAAAYAAAAGQAAABoAAAAbAAAAHAAAAB0AAAAeAAAAHwAAACAAAAAhAAAAIgAAACMAAAAkAAAAJQAAACYAAAAnAAAAKAAAACkAAAAqAAAAKwAAACwAAAAtAAAALgAAAC8AAAAwAAAAMQAAADIAAAAzAAAANAAAADUAAAA2AAAANwAAADgAAAA5AAAAOgAAADsAAAA8AAAAPQAAAD4AAAA/AAAAQAAAAEEAAABCAAAAQwAAAEQAAABFAAAARgAAAEcAAABIAAAASQAAAEoAAABLAAAATAAAAE0AAABOAAAATwAAAFAAAABRAAAAUgAAAFMAAABUAAAAVQAAAFYAAABXAAAAWAAAAFkAAABaAAAA\",\"dtype\":\"int32\",\"shape\":[90]},\"y\":[6.517464026794434,6.368270138702393,6.950907830963135,5.778193382263184,6.447022132720948,6.0748088418579105,6.1264446109008786,6.1397504783630374,6.737845371398926,4.664204147949219,5.7054398327636715,7.783313341827393,4.734926056518555,5.522335827484131,4.73041096862793,5.287198027954101,5.23424698638916,6.785162940216065,6.2761335610961915,4.6384159028625485,5.996006436920166,4.086379686584473,5.893044881896973,5.435795228118897,5.0188449745178225,4.653169853973389,5.4179726475524905,5.466299627227783,5.9319773857116695,4.3805839242553715,1.4585006204986573,1.4049832941436768,1.3745934823226929,1.3419863569259645,1.3439416277694702,1.3325449558258056,1.3766653183364868,1.2991574746322632,1.296480178718567,1.3252483010482787,1.2971175882339478,1.3147409321975707,1.3343222528457641,1.3312229075241089,1.2874566195678712,1.2872535475921631,1.7758639266967773,1.3224185733032228,1.351187900314331,1.4041333408355714,1.4740727617645264,1.473498127632141,1.428979699935913,1.4119937030029297,1.5220956881332397,1.5282997078323364,1.4038408767700195,1.4791788638305665,1.3924833349990844,1.4726749385452271,1.1115166964721679,1.1022973993301393,1.0962535280609131,1.0935594680595397,1.0869935950851441,1.0857489582061768,1.0839433045196534,1.0779053053665162,1.0822964392471313,1.0783964287567138,1.0779998440933227,1.0748982370376587,1.0758972638320923,1.0761628104782104,1.0759654089736939,1.07061012260437,1.0777998110580445,1.070519407043457,1.0676142265701294,1.0724371977615357,1.0641560440826416,1.0625447674560546,1.0640504790496825,1.0619637759399414,1.0614541621780396,1.0611210178375243,1.0642202272605896,1.0601885814666747,1.0604561026763917,1.0593295304870605]}},\"id\":\"c4d1fa34-4d25-438c-aaf6-cb8b316d6823\",\"type\":\"ColumnDataSource\"}],\"root_ids\":[\"427d1500-9868-4c39-a326-f71774551aef\"]},\"title\":\"Bokeh Application\",\"version\":\"0.12.13\"}};\n",
       "  var render_items = [{\"docid\":\"011834a9-a55d-455a-8f0d-63a5940dc058\",\"elementid\":\"d0411429-a421-426c-8e56-827b58af6453\",\"modelid\":\"427d1500-9868-4c39-a326-f71774551aef\"}];\n",
       "  root.Bokeh.embed.embed_items_notebook(docs_json, render_items);\n",
       "\n",
       "  }\n",
       "  if (root.Bokeh !== undefined) {\n",
       "    embed_document(root);\n",
       "  } else {\n",
       "    var attempts = 0;\n",
       "    var timer = setInterval(function(root) {\n",
       "      if (root.Bokeh !== undefined) {\n",
       "        embed_document(root);\n",
       "        clearInterval(timer);\n",
       "      }\n",
       "      attempts++;\n",
       "      if (attempts > 100) {\n",
       "        console.log(\"Bokeh: ERROR: Unable to run BokehJS code because BokehJS library is missing\")\n",
       "        clearInterval(timer);\n",
       "      }\n",
       "    }, 10, root)\n",
       "  }\n",
       "})(window);"
      ],
      "application/vnd.bokehjs_exec.v0+json": ""
     },
     "metadata": {
      "application/vnd.bokehjs_exec.v0+json": {
       "id": "427d1500-9868-4c39-a326-f71774551aef"
      }
     },
     "output_type": "display_data"
    }
   ],
   "source": [
    "show(plots[0])"
   ]
  },
  {
   "cell_type": "code",
   "execution_count": 5,
   "metadata": {},
   "outputs": [
    {
     "data": {
      "text/html": [
       "\n",
       "<div class=\"bk-root\">\n",
       "    <div class=\"bk-plotdiv\" id=\"c20cb55e-95e2-4a6d-af30-d46c749ebf9b\"></div>\n",
       "</div>"
      ]
     },
     "metadata": {},
     "output_type": "display_data"
    },
    {
     "data": {
      "application/javascript": [
       "(function(root) {\n",
       "  function embed_document(root) {\n",
       "    \n",
       "  var docs_json = {\"386a3063-a427-495e-87f6-ae031f3c5f00\":{\"roots\":{\"references\":[{\"attributes\":{\"click_policy\":\"hide\",\"items\":[{\"id\":\"09322694-fb3a-4325-b08f-0ec8dccaacb8\",\"type\":\"LegendItem\"},{\"id\":\"9b5a9357-22b1-4445-adfe-b69215fb5bbf\",\"type\":\"LegendItem\"},{\"id\":\"0ff694cf-6595-42dd-a583-6ff8af50e8a2\",\"type\":\"LegendItem\"}],\"location\":\"top_left\",\"plot\":{\"id\":\"6ad4b98c-7e81-4977-86f0-36a8442646b4\",\"subtype\":\"Figure\",\"type\":\"Plot\"}},\"id\":\"09252ef6-eabd-4494-993b-0cd399f8c1da\",\"type\":\"Legend\"},{\"attributes\":{},\"id\":\"6af9ec86-fa14-4efa-86c2-165a317a73c4\",\"type\":\"BasicTickFormatter\"},{\"attributes\":{},\"id\":\"4a9a3cc6-5a89-4d6b-ad5b-6d62a1e26fc6\",\"type\":\"BasicTickFormatter\"},{\"attributes\":{\"label\":{\"value\":\"train - (256, 1, 0.9, 0, 0.1, 160)\"},\"renderers\":[{\"id\":\"e36c45eb-98d9-4df5-8483-7326c5300978\",\"type\":\"GlyphRenderer\"}]},\"id\":\"09322694-fb3a-4325-b08f-0ec8dccaacb8\",\"type\":\"LegendItem\"},{\"attributes\":{\"active_drag\":\"auto\",\"active_inspect\":\"auto\",\"active_scroll\":\"auto\",\"active_tap\":\"auto\",\"tools\":[{\"id\":\"6ed69bd3-0d76-4afd-b201-4199258e9fe6\",\"type\":\"PanTool\"},{\"id\":\"13f05dac-7109-4ad0-86cf-2362d445d7af\",\"type\":\"WheelZoomTool\"},{\"id\":\"73c40717-be95-419b-abe0-8cb574eaae92\",\"type\":\"BoxZoomTool\"},{\"id\":\"e4d02fee-22c8-4eb0-91d5-2533ad50d641\",\"type\":\"SaveTool\"},{\"id\":\"8119597e-cbfc-40de-9e5b-871325879467\",\"type\":\"ResetTool\"},{\"id\":\"32a44597-8201-4a34-8e02-08330cc2e59d\",\"type\":\"HelpTool\"}]},\"id\":\"0734b981-5028-47d1-97a8-0324e87549c2\",\"type\":\"Toolbar\"},{\"attributes\":{\"line_color\":\"#ff7f0e\",\"line_width\":3,\"x\":{\"field\":\"x\"},\"y\":{\"field\":\"y\"}},\"id\":\"3c61e270-2116-4d22-9296-9a58c21523a8\",\"type\":\"Line\"},{\"attributes\":{\"callback\":null},\"id\":\"6e106ea5-988b-4067-a281-feac83ecc03a\",\"type\":\"DataRange1d\"},{\"attributes\":{\"plot\":null,\"text\":\"The Norm of w(t)\"},\"id\":\"40501d04-442f-4cb4-bb32-aace84bc2d60\",\"type\":\"Title\"},{\"attributes\":{},\"id\":\"ba57b3dc-eb3c-4556-9ffb-540d0cc19b8c\",\"type\":\"LinearScale\"},{\"attributes\":{\"label\":{\"value\":\"train - (256, 32, -0.2, 0, 0.1, 432)\"},\"renderers\":[{\"id\":\"aa1f03d1-57eb-4938-ba5a-8171c07c85d5\",\"type\":\"GlyphRenderer\"}]},\"id\":\"9b5a9357-22b1-4445-adfe-b69215fb5bbf\",\"type\":\"LegendItem\"},{\"attributes\":{\"label\":{\"value\":\"train - (256, 1, 0.9, 0, 0.1, 432)\"},\"renderers\":[{\"id\":\"be45fb59-e062-4742-b6c6-e78332c66770\",\"type\":\"GlyphRenderer\"}]},\"id\":\"0ff694cf-6595-42dd-a583-6ff8af50e8a2\",\"type\":\"LegendItem\"},{\"attributes\":{\"callback\":null},\"id\":\"6896c400-39f5-4cad-a990-f691ccc960c3\",\"type\":\"DataRange1d\"},{\"attributes\":{},\"id\":\"6999a3b3-9d05-41c7-a8d6-87e03289a7d7\",\"type\":\"LinearScale\"},{\"attributes\":{\"plot\":{\"id\":\"6ad4b98c-7e81-4977-86f0-36a8442646b4\",\"subtype\":\"Figure\",\"type\":\"Plot\"},\"ticker\":{\"id\":\"44fc6b3a-02ea-48fb-ac77-968d53760519\",\"type\":\"BasicTicker\"}},\"id\":\"e44e5ccb-b4f7-4c50-9802-65647ca86332\",\"type\":\"Grid\"},{\"attributes\":{\"dimension\":1,\"plot\":{\"id\":\"6ad4b98c-7e81-4977-86f0-36a8442646b4\",\"subtype\":\"Figure\",\"type\":\"Plot\"},\"ticker\":{\"id\":\"a1ce3ea6-6a19-44f0-8108-933496578355\",\"type\":\"BasicTicker\"}},\"id\":\"2dc084d7-e3e0-4708-9c7f-738f57afeba8\",\"type\":\"Grid\"},{\"attributes\":{},\"id\":\"44fc6b3a-02ea-48fb-ac77-968d53760519\",\"type\":\"BasicTicker\"},{\"attributes\":{\"axis_label\":\"t [Epochs]\",\"formatter\":{\"id\":\"6af9ec86-fa14-4efa-86c2-165a317a73c4\",\"type\":\"BasicTickFormatter\"},\"plot\":{\"id\":\"6ad4b98c-7e81-4977-86f0-36a8442646b4\",\"subtype\":\"Figure\",\"type\":\"Plot\"},\"ticker\":{\"id\":\"44fc6b3a-02ea-48fb-ac77-968d53760519\",\"type\":\"BasicTicker\"}},\"id\":\"416a991f-0c54-42e7-960c-b78fef28ea24\",\"type\":\"LinearAxis\"},{\"attributes\":{},\"id\":\"a1ce3ea6-6a19-44f0-8108-933496578355\",\"type\":\"BasicTicker\"},{\"attributes\":{\"source\":{\"id\":\"9cb51340-83a5-4d78-bbc0-0c26096c7e29\",\"type\":\"ColumnDataSource\"}},\"id\":\"5b344e68-05b6-4f74-89be-52b07b8be557\",\"type\":\"CDSView\"},{\"attributes\":{\"axis_label\":\"||w(t)||\",\"formatter\":{\"id\":\"4a9a3cc6-5a89-4d6b-ad5b-6d62a1e26fc6\",\"type\":\"BasicTickFormatter\"},\"plot\":{\"id\":\"6ad4b98c-7e81-4977-86f0-36a8442646b4\",\"subtype\":\"Figure\",\"type\":\"Plot\"},\"ticker\":{\"id\":\"a1ce3ea6-6a19-44f0-8108-933496578355\",\"type\":\"BasicTicker\"}},\"id\":\"433af6fd-a210-413e-a34a-3f3e5c8efc35\",\"type\":\"LinearAxis\"},{\"attributes\":{\"bottom_units\":\"screen\",\"fill_alpha\":{\"value\":0.5},\"fill_color\":{\"value\":\"lightgrey\"},\"left_units\":\"screen\",\"level\":\"overlay\",\"line_alpha\":{\"value\":1.0},\"line_color\":{\"value\":\"black\"},\"line_dash\":[4,4],\"line_width\":{\"value\":2},\"plot\":null,\"render_mode\":\"css\",\"right_units\":\"screen\",\"top_units\":\"screen\"},\"id\":\"da1a2825-d8c6-49f3-8db4-7b4c1b31c046\",\"type\":\"BoxAnnotation\"},{\"attributes\":{},\"id\":\"6ed69bd3-0d76-4afd-b201-4199258e9fe6\",\"type\":\"PanTool\"},{\"attributes\":{\"line_alpha\":0.1,\"line_color\":\"#1f77b4\",\"line_width\":3,\"x\":{\"field\":\"x\"},\"y\":{\"field\":\"y\"}},\"id\":\"02b87fcd-4d84-43da-a6a8-4fbc26b9bec7\",\"type\":\"Line\"},{\"attributes\":{},\"id\":\"13f05dac-7109-4ad0-86cf-2362d445d7af\",\"type\":\"WheelZoomTool\"},{\"attributes\":{\"callback\":null,\"column_names\":[\"x\",\"y\"],\"data\":{\"x\":{\"__ndarray__\":\"AQAAAAIAAAADAAAABAAAAAUAAAAGAAAABwAAAAgAAAAJAAAACgAAAAsAAAAMAAAADQAAAA4AAAAPAAAAEAAAABEAAAASAAAAEwAAABQAAAAVAAAAFgAAABcAAAAYAAAAGQAAABoAAAAbAAAAHAAAAB0AAAAeAAAAHwAAACAAAAAhAAAAIgAAACMAAAAkAAAAJQAAACYAAAAnAAAAKAAAACkAAAAqAAAAKwAAACwAAAAtAAAALgAAAC8AAAAwAAAAMQAAADIAAAAzAAAANAAAADUAAAA2AAAANwAAADgAAAA5AAAAOgAAADsAAAA8AAAAPQAAAD4AAAA/AAAAQAAAAEEAAABCAAAAQwAAAEQAAABFAAAARgAAAEcAAABIAAAASQAAAEoAAABLAAAATAAAAE0AAABOAAAATwAAAFAAAABRAAAAUgAAAFMAAABUAAAAVQAAAFYAAABXAAAAWAAAAFkAAABaAAAA\",\"dtype\":\"int32\",\"shape\":[90]},\"y\":[19.108482360839844,22.87604522705078,28.854616165161133,35.78799057006836,43.42606735229492,50.17923355102539,55.323909759521484,59.305877685546875,62.05202865600586,64.10270690917969,65.46595764160156,66.47808837890625,67.16647338867188,67.57484436035156,67.96050262451172,68.10610961914062,67.9281005859375,68.18688201904297,68.2396469116211,68.23382568359375,68.17398071289062,68.1706314086914,68.05834197998047,68.05506896972656,67.9589614868164,67.82390594482422,67.44865417480469,67.4874038696289,67.49690246582031,67.30386352539062,66.75419616699219,66.03877258300781,65.3013916015625,64.56400299072266,63.83903884887695,63.14155578613281,62.47174072265625,61.8305778503418,61.217041015625,60.62208938598633,60.0610466003418,59.5244026184082,59.011417388916016,58.52568435668945,58.0656852722168,57.631710052490234,57.20997619628906,56.8154182434082,56.439937591552734,56.0805778503418,55.74317169189453,55.419410705566406,55.1146125793457,54.824886322021484,54.55615234375,54.2970085144043,54.050758361816406,53.81586837768555,53.59426498413086,53.37730407714844,53.358097076416016,53.338443756103516,53.31855010986328,53.29912567138672,53.278472900390625,53.258209228515625,53.2375602722168,53.2169189453125,53.196189880371094,53.17570495605469,53.15500259399414,53.13430404663086,53.11393356323242,53.09272003173828,53.072269439697266,53.051719665527344,53.031219482421875,53.01041793823242,52.98941421508789,52.96847152709961,52.96640396118164,52.96440887451172,52.962432861328125,52.9604377746582,52.9585075378418,52.956565856933594,52.95465850830078,52.95268249511719,52.95072937011719,52.94875717163086]}},\"id\":\"9cb51340-83a5-4d78-bbc0-0c26096c7e29\",\"type\":\"ColumnDataSource\"},{\"attributes\":{\"overlay\":{\"id\":\"da1a2825-d8c6-49f3-8db4-7b4c1b31c046\",\"type\":\"BoxAnnotation\"}},\"id\":\"73c40717-be95-419b-abe0-8cb574eaae92\",\"type\":\"BoxZoomTool\"},{\"attributes\":{},\"id\":\"e4d02fee-22c8-4eb0-91d5-2533ad50d641\",\"type\":\"SaveTool\"},{\"attributes\":{},\"id\":\"8119597e-cbfc-40de-9e5b-871325879467\",\"type\":\"ResetTool\"},{\"attributes\":{},\"id\":\"32a44597-8201-4a34-8e02-08330cc2e59d\",\"type\":\"HelpTool\"},{\"attributes\":{\"data_source\":{\"id\":\"c1e47e0b-dca2-4143-8947-af90e7316b33\",\"type\":\"ColumnDataSource\"},\"glyph\":{\"id\":\"c0cb128f-8736-4d83-a784-1ee156f0b70b\",\"type\":\"Line\"},\"hover_glyph\":null,\"muted_glyph\":null,\"nonselection_glyph\":{\"id\":\"02b87fcd-4d84-43da-a6a8-4fbc26b9bec7\",\"type\":\"Line\"},\"selection_glyph\":null,\"view\":{\"id\":\"37721fe7-3157-4fc1-9a57-2aeaec7afbbd\",\"type\":\"CDSView\"}},\"id\":\"be45fb59-e062-4742-b6c6-e78332c66770\",\"type\":\"GlyphRenderer\"},{\"attributes\":{\"line_alpha\":0.1,\"line_color\":\"#1f77b4\",\"line_width\":3,\"x\":{\"field\":\"x\"},\"y\":{\"field\":\"y\"}},\"id\":\"0a60fa23-78c8-4ced-bd47-e3b3cc0ceba0\",\"type\":\"Line\"},{\"attributes\":{\"background_fill_color\":{\"value\":\"#fafafa\"},\"below\":[{\"id\":\"416a991f-0c54-42e7-960c-b78fef28ea24\",\"type\":\"LinearAxis\"}],\"left\":[{\"id\":\"433af6fd-a210-413e-a34a-3f3e5c8efc35\",\"type\":\"LinearAxis\"}],\"min_border\":10,\"min_border_left\":50,\"renderers\":[{\"id\":\"416a991f-0c54-42e7-960c-b78fef28ea24\",\"type\":\"LinearAxis\"},{\"id\":\"e44e5ccb-b4f7-4c50-9802-65647ca86332\",\"type\":\"Grid\"},{\"id\":\"433af6fd-a210-413e-a34a-3f3e5c8efc35\",\"type\":\"LinearAxis\"},{\"id\":\"2dc084d7-e3e0-4708-9c7f-738f57afeba8\",\"type\":\"Grid\"},{\"id\":\"da1a2825-d8c6-49f3-8db4-7b4c1b31c046\",\"type\":\"BoxAnnotation\"},{\"id\":\"09252ef6-eabd-4494-993b-0cd399f8c1da\",\"type\":\"Legend\"},{\"id\":\"e36c45eb-98d9-4df5-8483-7326c5300978\",\"type\":\"GlyphRenderer\"},{\"id\":\"aa1f03d1-57eb-4938-ba5a-8171c07c85d5\",\"type\":\"GlyphRenderer\"},{\"id\":\"be45fb59-e062-4742-b6c6-e78332c66770\",\"type\":\"GlyphRenderer\"}],\"title\":{\"id\":\"40501d04-442f-4cb4-bb32-aace84bc2d60\",\"type\":\"Title\"},\"toolbar\":{\"id\":\"0734b981-5028-47d1-97a8-0324e87549c2\",\"type\":\"Toolbar\"},\"x_range\":{\"id\":\"6e106ea5-988b-4067-a281-feac83ecc03a\",\"type\":\"DataRange1d\"},\"x_scale\":{\"id\":\"ba57b3dc-eb3c-4556-9ffb-540d0cc19b8c\",\"type\":\"LinearScale\"},\"y_range\":{\"id\":\"6896c400-39f5-4cad-a990-f691ccc960c3\",\"type\":\"DataRange1d\"},\"y_scale\":{\"id\":\"6999a3b3-9d05-41c7-a8d6-87e03289a7d7\",\"type\":\"LinearScale\"}},\"id\":\"6ad4b98c-7e81-4977-86f0-36a8442646b4\",\"subtype\":\"Figure\",\"type\":\"Plot\"},{\"attributes\":{\"data_source\":{\"id\":\"9cb51340-83a5-4d78-bbc0-0c26096c7e29\",\"type\":\"ColumnDataSource\"},\"glyph\":{\"id\":\"3c61e270-2116-4d22-9296-9a58c21523a8\",\"type\":\"Line\"},\"hover_glyph\":null,\"muted_glyph\":null,\"nonselection_glyph\":{\"id\":\"0a60fa23-78c8-4ced-bd47-e3b3cc0ceba0\",\"type\":\"Line\"},\"selection_glyph\":null,\"view\":{\"id\":\"5b344e68-05b6-4f74-89be-52b07b8be557\",\"type\":\"CDSView\"}},\"id\":\"aa1f03d1-57eb-4938-ba5a-8171c07c85d5\",\"type\":\"GlyphRenderer\"},{\"attributes\":{\"source\":{\"id\":\"c1e47e0b-dca2-4143-8947-af90e7316b33\",\"type\":\"ColumnDataSource\"}},\"id\":\"37721fe7-3157-4fc1-9a57-2aeaec7afbbd\",\"type\":\"CDSView\"},{\"attributes\":{\"line_color\":\"#2ca02c\",\"line_width\":3,\"x\":{\"field\":\"x\"},\"y\":{\"field\":\"y\"}},\"id\":\"c0cb128f-8736-4d83-a784-1ee156f0b70b\",\"type\":\"Line\"},{\"attributes\":{\"source\":{\"id\":\"76d5e76c-69d9-4535-8ac8-0435ba55ec7a\",\"type\":\"ColumnDataSource\"}},\"id\":\"8ab19579-984e-420d-bd6b-ab1f32a01044\",\"type\":\"CDSView\"},{\"attributes\":{\"callback\":null,\"column_names\":[\"x\",\"y\"],\"data\":{\"x\":{\"__ndarray__\":\"AQAAAAIAAAADAAAABAAAAAUAAAAGAAAABwAAAAgAAAAJAAAACgAAAAsAAAAMAAAADQAAAA4AAAAPAAAAEAAAABEAAAASAAAAEwAAABQAAAAVAAAAFgAAABcAAAAYAAAAGQAAABoAAAAbAAAAHAAAAB0AAAAeAAAAHwAAACAAAAAhAAAAIgAAACMAAAAkAAAAJQAAACYAAAAnAAAAKAAAACkAAAAqAAAAKwAAACwAAAAtAAAALgAAAC8AAAAwAAAAMQAAADIAAAAzAAAANAAAADUAAAA2AAAANwAAADgAAAA5AAAAOgAAADsAAAA8AAAAPQAAAD4AAAA/AAAAQAAAAEEAAABCAAAAQwAAAEQAAABFAAAARgAAAEcAAABIAAAASQAAAEoAAABLAAAATAAAAE0AAABOAAAATwAAAFAAAABRAAAAUgAAAFMAAABUAAAAVQAAAFYAAABXAAAAWAAAAFkAAABaAAAA\",\"dtype\":\"int32\",\"shape\":[90]},\"y\":[42.89567947387695,53.73649597167969,59.76211929321289,62.6527214050293,63.939144134521484,64.592041015625,64.91386413574219,65.0728988647461,65.09889221191406,65.1235580444336,65.07484436035156,65.57467651367188,68.33023834228516,69.32006072998047,69.75479888916016,69.97819519042969,70.02869415283203,70.06246948242188,70.09310913085938,69.86080932617188,69.98116302490234,70.02903747558594,69.9552993774414,69.6246109008789,69.85977935791016,69.82919311523438,69.53213500976562,69.79443359375,69.78083038330078,69.82353210449219,68.96260833740234,67.89439392089844,66.81453704833984,65.76168060302734,64.75367736816406,63.79011917114258,62.87443923950195,62.01369857788086,61.189884185791016,60.413936614990234,59.68389892578125,58.99726486206055,58.35240173339844,57.7447395324707,57.1768684387207,56.646522521972656,56.153160095214844,55.68913269042969,55.25545120239258,54.85114288330078,54.46916198730469,54.12145233154297,53.79315948486328,53.487911224365234,53.20392990112305,52.944923400878906,52.702693939208984,52.47834396362305,52.262901306152344,52.068878173828125,52.043212890625,52.01814651489258,51.992218017578125,51.965328216552734,51.93791580200195,51.91134262084961,51.88395690917969,51.855621337890625,51.827980041503906,51.80010223388672,51.77201843261719,51.75663375854492,51.740882873535156,51.73218536376953,51.72328567504883,51.714515686035156,51.705787658691406,51.696651458740234,51.68778610229492,51.679134368896484,51.67820358276367,51.677276611328125,51.676326751708984,51.675384521484375,51.67444610595703,51.674129486083984,51.6738395690918,51.67353439331055,51.67323684692383,51.672916412353516]}},\"id\":\"c1e47e0b-dca2-4143-8947-af90e7316b33\",\"type\":\"ColumnDataSource\"},{\"attributes\":{\"callback\":null,\"column_names\":[\"x\",\"y\"],\"data\":{\"x\":{\"__ndarray__\":\"AQAAAAIAAAADAAAABAAAAAUAAAAGAAAABwAAAAgAAAAJAAAACgAAAAsAAAAMAAAADQAAAA4AAAAPAAAAEAAAABEAAAASAAAAEwAAABQAAAAVAAAAFgAAABcAAAAYAAAAGQAAABoAAAAbAAAAHAAAAB0AAAAeAAAAHwAAACAAAAAhAAAAIgAAACMAAAAkAAAAJQAAACYAAAAnAAAAKAAAACkAAAAqAAAAKwAAACwAAAAtAAAALgAAAC8AAAAwAAAAMQAAADIAAAAzAAAANAAAADUAAAA2AAAANwAAADgAAAA5AAAAOgAAADsAAAA8AAAAPQAAAD4AAAA/AAAAQAAAAEEAAABCAAAAQwAAAEQAAABFAAAARgAAAEcAAABIAAAASQAAAEoAAABLAAAATAAAAE0AAABOAAAATwAAAFAAAABRAAAAUgAAAFMAAABUAAAAVQAAAFYAAABXAAAAWAAAAFkAAABaAAAA\",\"dtype\":\"int32\",\"shape\":[90]},\"y\":[44.42589569091797,56.83191680908203,61.8509521484375,63.85888671875,64.70480346679688,65.06649017333984,65.22150421142578,65.22858428955078,65.16433715820312,65.13142395019531,65.0521240234375,64.964111328125,64.90631103515625,64.83001708984375,64.71793365478516,64.60297393798828,64.5520248413086,64.48139190673828,64.40089416503906,64.36369323730469,64.2903060913086,64.20893859863281,64.15252685546875,64.10459899902344,64.05824279785156,64.01487731933594,63.97710037231445,63.91951370239258,63.89323425292969,63.84387969970703,62.34717559814453,60.833133697509766,59.45275115966797,58.210994720458984,57.092323303222656,56.0936393737793,55.203617095947266,54.418418884277344,53.73305892944336,53.12112045288086,52.57814407348633,52.09865951538086,51.6812858581543,51.301631927490234,50.96897506713867,50.68116760253906,50.41179656982422,50.177345275878906,49.97464370727539,49.77137756347656,49.607460021972656,49.45558166503906,49.322853088378906,49.19454574584961,49.08189392089844,48.976810455322266,48.86827850341797,48.78784942626953,48.71096420288086,48.624229431152344,48.59585952758789,48.56101608276367,48.52683639526367,48.491981506347656,48.45746994018555,48.4237060546875,48.389808654785156,48.356632232666016,48.32366180419922,48.29064178466797,48.25918960571289,48.22748565673828,48.19670486450195,48.16590118408203,48.135765075683594,48.10694122314453,48.07688522338867,48.04899215698242,48.021671295166016,47.99500274658203,47.992408752441406,47.98979568481445,47.98734664916992,47.98493957519531,47.98247528076172,47.980018615722656,47.9774284362793,47.9749755859375,47.9724006652832,47.969879150390625]}},\"id\":\"76d5e76c-69d9-4535-8ac8-0435ba55ec7a\",\"type\":\"ColumnDataSource\"},{\"attributes\":{\"line_color\":\"#1f77b4\",\"line_width\":3,\"x\":{\"field\":\"x\"},\"y\":{\"field\":\"y\"}},\"id\":\"acab30c9-df81-432b-97aa-1290432bda89\",\"type\":\"Line\"},{\"attributes\":{\"data_source\":{\"id\":\"76d5e76c-69d9-4535-8ac8-0435ba55ec7a\",\"type\":\"ColumnDataSource\"},\"glyph\":{\"id\":\"acab30c9-df81-432b-97aa-1290432bda89\",\"type\":\"Line\"},\"hover_glyph\":null,\"muted_glyph\":null,\"nonselection_glyph\":{\"id\":\"575ba853-6064-47dc-9c26-31c70bfd4ea6\",\"type\":\"Line\"},\"selection_glyph\":null,\"view\":{\"id\":\"8ab19579-984e-420d-bd6b-ab1f32a01044\",\"type\":\"CDSView\"}},\"id\":\"e36c45eb-98d9-4df5-8483-7326c5300978\",\"type\":\"GlyphRenderer\"},{\"attributes\":{\"line_alpha\":0.1,\"line_color\":\"#1f77b4\",\"line_width\":3,\"x\":{\"field\":\"x\"},\"y\":{\"field\":\"y\"}},\"id\":\"575ba853-6064-47dc-9c26-31c70bfd4ea6\",\"type\":\"Line\"}],\"root_ids\":[\"6ad4b98c-7e81-4977-86f0-36a8442646b4\"]},\"title\":\"Bokeh Application\",\"version\":\"0.12.13\"}};\n",
       "  var render_items = [{\"docid\":\"386a3063-a427-495e-87f6-ae031f3c5f00\",\"elementid\":\"c20cb55e-95e2-4a6d-af30-d46c749ebf9b\",\"modelid\":\"6ad4b98c-7e81-4977-86f0-36a8442646b4\"}];\n",
       "  root.Bokeh.embed.embed_items_notebook(docs_json, render_items);\n",
       "\n",
       "  }\n",
       "  if (root.Bokeh !== undefined) {\n",
       "    embed_document(root);\n",
       "  } else {\n",
       "    var attempts = 0;\n",
       "    var timer = setInterval(function(root) {\n",
       "      if (root.Bokeh !== undefined) {\n",
       "        embed_document(root);\n",
       "        clearInterval(timer);\n",
       "      }\n",
       "      attempts++;\n",
       "      if (attempts > 100) {\n",
       "        console.log(\"Bokeh: ERROR: Unable to run BokehJS code because BokehJS library is missing\")\n",
       "        clearInterval(timer);\n",
       "      }\n",
       "    }, 10, root)\n",
       "  }\n",
       "})(window);"
      ],
      "application/vnd.bokehjs_exec.v0+json": ""
     },
     "metadata": {
      "application/vnd.bokehjs_exec.v0+json": {
       "id": "6ad4b98c-7e81-4977-86f0-36a8442646b4"
      }
     },
     "output_type": "display_data"
    }
   ],
   "source": [
    "show(plots[2])"
   ]
  },
  {
   "cell_type": "code",
   "execution_count": 6,
   "metadata": {},
   "outputs": [
    {
     "data": {
      "text/html": [
       "\n",
       "<div class=\"bk-root\">\n",
       "    <div class=\"bk-plotdiv\" id=\"1274e0ee-2aaa-4c95-a41a-ef816144a299\"></div>\n",
       "</div>"
      ]
     },
     "metadata": {},
     "output_type": "display_data"
    },
    {
     "data": {
      "application/javascript": [
       "(function(root) {\n",
       "  function embed_document(root) {\n",
       "    \n",
       "  var docs_json = {\"cb55ab13-3e56-44eb-aa7e-8a1f2965c951\":{\"roots\":{\"references\":[{\"attributes\":{\"line_color\":\"#ff7f0e\",\"line_width\":3,\"x\":{\"field\":\"x\"},\"y\":{\"field\":\"y\"}},\"id\":\"acf368fe-993d-4726-a0fb-a13dbe64af09\",\"type\":\"Line\"},{\"attributes\":{\"line_alpha\":0.1,\"line_color\":\"#1f77b4\",\"line_width\":3,\"x\":{\"field\":\"x\"},\"y\":{\"field\":\"y\"}},\"id\":\"0943d266-5953-4d00-938d-f272f6a9936d\",\"type\":\"Line\"},{\"attributes\":{\"callback\":null,\"column_names\":[\"x\",\"y\"],\"data\":{\"x\":{\"__ndarray__\":\"AQAAAAIAAAADAAAABAAAAAUAAAAGAAAABwAAAAgAAAAJAAAACgAAAAsAAAAMAAAADQAAAA4AAAAPAAAAEAAAABEAAAASAAAAEwAAABQAAAAVAAAAFgAAABcAAAAYAAAAGQAAABoAAAAbAAAAHAAAAB0AAAAeAAAAHwAAACAAAAAhAAAAIgAAACMAAAAkAAAAJQAAACYAAAAnAAAAKAAAACkAAAAqAAAAKwAAACwAAAAtAAAALgAAAC8AAAAwAAAAMQAAADIAAAAzAAAANAAAADUAAAA2AAAANwAAADgAAAA5AAAAOgAAADsAAAA8AAAAPQAAAD4AAAA/AAAAQAAAAEEAAABCAAAAQwAAAEQAAABFAAAARgAAAEcAAABIAAAASQAAAEoAAABLAAAATAAAAE0AAABOAAAATwAAAFAAAABRAAAAUgAAAFMAAABUAAAAVQAAAFYAAABXAAAAWAAAAFkAAABaAAAA\",\"dtype\":\"int32\",\"shape\":[90]},\"y\":[1.0872527360916138,1.028189778327942,1.0142648220062256,1.0096334218978882,1.0852359533309937,0.9771769046783447,1.015438437461853,1.041308879852295,1.0077719688415527,1.0349146127700806,0.9697659611701965,0.9719675779342651,0.981035053730011,0.9594534039497375,0.9117861986160278,0.8680753707885742,0.9719089269638062,1.0282649993896484,0.9556245803833008,0.9466741681098938,0.983630359172821,1.005625605583191,0.8939537405967712,0.9745162725448608,0.9977326989173889,1.0094523429870605,1.0064096450805664,0.9724301695823669,0.9358391165733337,1.0080060958862305,0.9246033430099487,0.9901955723762512,0.9755452871322632,0.9927466511726379,1.169888973236084,1.2553985118865967,1.09495210647583,1.134657382965088,1.1238445043563843,1.2558398246765137,1.1925193071365356,1.1911752223968506,1.2549750804901123,1.2282565832138062,1.222023606300354,1.274247407913208,1.320756435394287,1.2130730152130127,1.3359447717666626,1.3080083131790161,1.3683700561523438,1.3308992385864258,1.3191328048706055,1.2568600177764893,1.3236862421035767,1.3980129957199097,1.402451992034912,1.2996549606323242,1.3076035976409912,1.316185474395752,1.230661392211914,1.3435074090957642,1.2359418869018555,1.3044068813323975,1.1505447626113892,1.256685495376587,1.3148081302642822,1.2906079292297363,1.0904629230499268,1.0910677909851074,1.295945644378662,1.1312443017959595,1.244393229484558,1.222640037536621,1.288771390914917,1.1780799627304077,1.2967936992645264,1.2247320413589478,1.2663758993148804,1.0804811716079712,1.2789013385772705,1.2411162853240967,1.165468692779541,1.2238229513168335,1.075416922569275,1.3340895175933838,1.2122563123703003,1.2335991859436035,1.2611708641052246,1.242366909980774]}},\"id\":\"b5ecaa5b-c5fa-4402-9ee7-cf1f16c39893\",\"type\":\"ColumnDataSource\"},{\"attributes\":{\"click_policy\":\"hide\",\"items\":[{\"id\":\"fbb5d298-6b1a-4f81-9c37-7d772562b7de\",\"type\":\"LegendItem\"},{\"id\":\"96bf1b16-7498-41dd-a75e-ba05698356b2\",\"type\":\"LegendItem\"},{\"id\":\"af2eb3bf-352a-4dd0-b55d-6801f7e39548\",\"type\":\"LegendItem\"}],\"location\":\"top_left\",\"plot\":{\"id\":\"121c16c7-4551-48cf-95b9-252e9f5dc2b6\",\"subtype\":\"Figure\",\"type\":\"Plot\"}},\"id\":\"1f1ad6c8-7265-41fc-b662-2a3188bf49e8\",\"type\":\"Legend\"},{\"attributes\":{\"data_source\":{\"id\":\"b5ecaa5b-c5fa-4402-9ee7-cf1f16c39893\",\"type\":\"ColumnDataSource\"},\"glyph\":{\"id\":\"36cdc718-469a-4c46-a6d6-56cb16421db6\",\"type\":\"Line\"},\"hover_glyph\":null,\"muted_glyph\":null,\"nonselection_glyph\":{\"id\":\"0943d266-5953-4d00-938d-f272f6a9936d\",\"type\":\"Line\"},\"selection_glyph\":null,\"view\":{\"id\":\"2e47c08f-801a-467b-99d0-d18abcd7b18b\",\"type\":\"CDSView\"}},\"id\":\"8f62dd3b-fcd6-4d9c-b6c3-3280a3024d4a\",\"type\":\"GlyphRenderer\"},{\"attributes\":{},\"id\":\"6e04cf31-ef2e-4e5a-8fa0-c866ce102fa5\",\"type\":\"BasicTickFormatter\"},{\"attributes\":{\"line_color\":\"#1f77b4\",\"line_width\":3,\"x\":{\"field\":\"x\"},\"y\":{\"field\":\"y\"}},\"id\":\"36cdc718-469a-4c46-a6d6-56cb16421db6\",\"type\":\"Line\"},{\"attributes\":{\"line_alpha\":0.1,\"line_color\":\"#1f77b4\",\"line_width\":3,\"x\":{\"field\":\"x\"},\"y\":{\"field\":\"y\"}},\"id\":\"000be329-6151-41a5-84ee-0edb1e839f47\",\"type\":\"Line\"},{\"attributes\":{\"active_drag\":\"auto\",\"active_inspect\":\"auto\",\"active_scroll\":\"auto\",\"active_tap\":\"auto\",\"tools\":[{\"id\":\"90e82d5a-67ef-4657-9837-8562a6853883\",\"type\":\"PanTool\"},{\"id\":\"5f7415cc-0beb-41b2-8716-068e2fdcc8c4\",\"type\":\"WheelZoomTool\"},{\"id\":\"862bfd16-2c86-480c-8f37-27fe158fde57\",\"type\":\"BoxZoomTool\"},{\"id\":\"e02d4592-c729-4431-88ff-450764bb72e0\",\"type\":\"SaveTool\"},{\"id\":\"e1598660-c18b-4c56-8ce6-eba759756ccc\",\"type\":\"ResetTool\"},{\"id\":\"17408a64-8efd-4546-9d09-0afbc2325ce6\",\"type\":\"HelpTool\"}]},\"id\":\"564d6926-38de-4f24-8c15-fe0a4846f775\",\"type\":\"Toolbar\"},{\"attributes\":{\"label\":{\"value\":\"train - (256, 1, 0.9, 0, 0.1, 160)\"},\"renderers\":[{\"id\":\"8f62dd3b-fcd6-4d9c-b6c3-3280a3024d4a\",\"type\":\"GlyphRenderer\"}]},\"id\":\"fbb5d298-6b1a-4f81-9c37-7d772562b7de\",\"type\":\"LegendItem\"},{\"attributes\":{\"callback\":null},\"id\":\"c63b5613-f132-4814-977f-4e485c902cbd\",\"type\":\"DataRange1d\"},{\"attributes\":{\"source\":{\"id\":\"b5ecaa5b-c5fa-4402-9ee7-cf1f16c39893\",\"type\":\"ColumnDataSource\"}},\"id\":\"2e47c08f-801a-467b-99d0-d18abcd7b18b\",\"type\":\"CDSView\"},{\"attributes\":{},\"id\":\"86d23c7c-3f0f-48d1-bdaa-b50865a25240\",\"type\":\"BasicTickFormatter\"},{\"attributes\":{\"source\":{\"id\":\"46d4f2bb-eddd-40b1-a3e0-f90c7f92be48\",\"type\":\"ColumnDataSource\"}},\"id\":\"b4ae274e-3c30-4871-ad88-1c4b950d2f7c\",\"type\":\"CDSView\"},{\"attributes\":{\"data_source\":{\"id\":\"46d4f2bb-eddd-40b1-a3e0-f90c7f92be48\",\"type\":\"ColumnDataSource\"},\"glyph\":{\"id\":\"66aafcc7-18d1-4254-aedf-a49441f7a42d\",\"type\":\"Line\"},\"hover_glyph\":null,\"muted_glyph\":null,\"nonselection_glyph\":{\"id\":\"a5c2957a-3e9d-4091-8868-a84580bcc7bb\",\"type\":\"Line\"},\"selection_glyph\":null,\"view\":{\"id\":\"b4ae274e-3c30-4871-ad88-1c4b950d2f7c\",\"type\":\"CDSView\"}},\"id\":\"35b85e04-b55a-41e2-b293-2ec7688ba6fe\",\"type\":\"GlyphRenderer\"},{\"attributes\":{\"label\":{\"value\":\"train - (256, 1, 0.9, 0, 0.1, 432)\"},\"renderers\":[{\"id\":\"35b85e04-b55a-41e2-b293-2ec7688ba6fe\",\"type\":\"GlyphRenderer\"}]},\"id\":\"af2eb3bf-352a-4dd0-b55d-6801f7e39548\",\"type\":\"LegendItem\"},{\"attributes\":{\"plot\":null,\"text\":\"The Norm of Gradients\"},\"id\":\"3aa947a5-8e27-40c4-81d0-656ced846a90\",\"type\":\"Title\"},{\"attributes\":{},\"id\":\"c15ff3c6-4c51-41f7-817c-9e5d82c5d93b\",\"type\":\"LinearScale\"},{\"attributes\":{},\"id\":\"221352e6-27bb-4ee5-9a0e-3caca679f0f3\",\"type\":\"LinearScale\"},{\"attributes\":{\"callback\":null},\"id\":\"17ef34b1-62a4-4d72-9206-52eaff4c8afb\",\"type\":\"DataRange1d\"},{\"attributes\":{\"plot\":{\"id\":\"121c16c7-4551-48cf-95b9-252e9f5dc2b6\",\"subtype\":\"Figure\",\"type\":\"Plot\"},\"ticker\":{\"id\":\"1b57365a-5781-4d99-8c01-e3cc362be021\",\"type\":\"BasicTicker\"}},\"id\":\"af77b1e1-bd6a-4a9e-9e0f-becc1e806c78\",\"type\":\"Grid\"},{\"attributes\":{},\"id\":\"1b57365a-5781-4d99-8c01-e3cc362be021\",\"type\":\"BasicTicker\"},{\"attributes\":{\"axis_label\":\"t [Epochs]\",\"formatter\":{\"id\":\"86d23c7c-3f0f-48d1-bdaa-b50865a25240\",\"type\":\"BasicTickFormatter\"},\"plot\":{\"id\":\"121c16c7-4551-48cf-95b9-252e9f5dc2b6\",\"subtype\":\"Figure\",\"type\":\"Plot\"},\"ticker\":{\"id\":\"1b57365a-5781-4d99-8c01-e3cc362be021\",\"type\":\"BasicTicker\"}},\"id\":\"5280eb90-1941-4449-856d-1abecf15d486\",\"type\":\"LinearAxis\"},{\"attributes\":{\"axis_label\":\"||g||\",\"formatter\":{\"id\":\"6e04cf31-ef2e-4e5a-8fa0-c866ce102fa5\",\"type\":\"BasicTickFormatter\"},\"plot\":{\"id\":\"121c16c7-4551-48cf-95b9-252e9f5dc2b6\",\"subtype\":\"Figure\",\"type\":\"Plot\"},\"ticker\":{\"id\":\"641dfa66-e17a-4a23-9a62-f721faf4869e\",\"type\":\"BasicTicker\"}},\"id\":\"ea6b625b-6783-448b-be57-3d3b709167ea\",\"type\":\"LinearAxis\"},{\"attributes\":{\"line_alpha\":0.1,\"line_color\":\"#1f77b4\",\"line_width\":3,\"x\":{\"field\":\"x\"},\"y\":{\"field\":\"y\"}},\"id\":\"a5c2957a-3e9d-4091-8868-a84580bcc7bb\",\"type\":\"Line\"},{\"attributes\":{\"callback\":null,\"column_names\":[\"x\",\"y\"],\"data\":{\"x\":{\"__ndarray__\":\"AQAAAAIAAAADAAAABAAAAAUAAAAGAAAABwAAAAgAAAAJAAAACgAAAAsAAAAMAAAADQAAAA4AAAAPAAAAEAAAABEAAAASAAAAEwAAABQAAAAVAAAAFgAAABcAAAAYAAAAGQAAABoAAAAbAAAAHAAAAB0AAAAeAAAAHwAAACAAAAAhAAAAIgAAACMAAAAkAAAAJQAAACYAAAAnAAAAKAAAACkAAAAqAAAAKwAAACwAAAAtAAAALgAAAC8AAAAwAAAAMQAAADIAAAAzAAAANAAAADUAAAA2AAAANwAAADgAAAA5AAAAOgAAADsAAAA8AAAAPQAAAD4AAAA/AAAAQAAAAEEAAABCAAAAQwAAAEQAAABFAAAARgAAAEcAAABIAAAASQAAAEoAAABLAAAATAAAAE0AAABOAAAATwAAAFAAAABRAAAAUgAAAFMAAABUAAAAVQAAAFYAAABXAAAAWAAAAFkAAABaAAAA\",\"dtype\":\"int32\",\"shape\":[90]},\"y\":[1.624955654144287,1.20441734790802,1.0582523345947266,0.9295837879180908,0.8574920296669006,0.8849973082542419,0.9089403748512268,0.8959478735923767,0.9296542406082153,0.9089250564575195,0.9089446067810059,0.9430218935012817,0.8974616527557373,0.87491375207901,0.9034762382507324,0.9033445119857788,0.8865370154380798,0.9162065982818604,0.8979049921035767,0.9357931017875671,0.9426686763763428,0.9214497804641724,0.9159644246101379,0.8851384520530701,0.8583040833473206,0.8932310938835144,0.8455969095230103,0.8923592567443848,0.9419180154800415,0.8957872986793518,0.8037465214729309,0.8540723919868469,0.9405317306518555,0.8902215361595154,0.9928391575813293,0.950089156627655,1.0066707134246826,1.0297319889068604,1.0343520641326904,1.023398518562317,0.9876915812492371,1.1285512447357178,1.0745748281478882,1.0690422058105469,1.0317007303237915,1.1462371349334717,1.2054251432418823,1.1836107969284058,1.0570645332336426,1.1445682048797607,1.2023019790649414,1.1390420198440552,1.200851559638977,1.2214733362197876,1.1974302530288696,1.2448526620864868,1.22474205493927,1.2037725448608398,1.2544670104980469,1.2093583345413208,1.1905604600906372,1.1040409803390503,1.1540659666061401,1.094434142112732,1.2525765895843506,1.2206662893295288,0.9993523955345154,1.0632368326187134,1.1309295892715454,1.1036553382873535,1.1586833000183105,1.090720534324646,1.173295497894287,1.1446659564971924,1.2253057956695557,1.0202922821044922,1.0909521579742432,1.0986930131912231,1.1410679817199707,1.0809577703475952,1.1357029676437378,1.188948392868042,1.1915616989135742,1.1252079010009766,1.0661818981170654,1.1339337825775146,1.1238867044448853,1.1783359050750732,1.25900137424469,1.0793622732162476]}},\"id\":\"257052e5-5f43-4cbf-88a2-bcba5b1ab844\",\"type\":\"ColumnDataSource\"},{\"attributes\":{},\"id\":\"641dfa66-e17a-4a23-9a62-f721faf4869e\",\"type\":\"BasicTicker\"},{\"attributes\":{\"dimension\":1,\"plot\":{\"id\":\"121c16c7-4551-48cf-95b9-252e9f5dc2b6\",\"subtype\":\"Figure\",\"type\":\"Plot\"},\"ticker\":{\"id\":\"641dfa66-e17a-4a23-9a62-f721faf4869e\",\"type\":\"BasicTicker\"}},\"id\":\"14c4a601-252f-4241-8ced-8a8d38273496\",\"type\":\"Grid\"},{\"attributes\":{\"source\":{\"id\":\"257052e5-5f43-4cbf-88a2-bcba5b1ab844\",\"type\":\"ColumnDataSource\"}},\"id\":\"4c282dbe-0649-4fda-824d-ee3d34934339\",\"type\":\"CDSView\"},{\"attributes\":{\"line_color\":\"#2ca02c\",\"line_width\":3,\"x\":{\"field\":\"x\"},\"y\":{\"field\":\"y\"}},\"id\":\"66aafcc7-18d1-4254-aedf-a49441f7a42d\",\"type\":\"Line\"},{\"attributes\":{\"data_source\":{\"id\":\"257052e5-5f43-4cbf-88a2-bcba5b1ab844\",\"type\":\"ColumnDataSource\"},\"glyph\":{\"id\":\"acf368fe-993d-4726-a0fb-a13dbe64af09\",\"type\":\"Line\"},\"hover_glyph\":null,\"muted_glyph\":null,\"nonselection_glyph\":{\"id\":\"000be329-6151-41a5-84ee-0edb1e839f47\",\"type\":\"Line\"},\"selection_glyph\":null,\"view\":{\"id\":\"4c282dbe-0649-4fda-824d-ee3d34934339\",\"type\":\"CDSView\"}},\"id\":\"4faffa93-acde-43f7-8399-ea3542f06a20\",\"type\":\"GlyphRenderer\"},{\"attributes\":{\"label\":{\"value\":\"train - (256, 32, -0.2, 0, 0.1, 432)\"},\"renderers\":[{\"id\":\"4faffa93-acde-43f7-8399-ea3542f06a20\",\"type\":\"GlyphRenderer\"}]},\"id\":\"96bf1b16-7498-41dd-a75e-ba05698356b2\",\"type\":\"LegendItem\"},{\"attributes\":{\"callback\":null,\"column_names\":[\"x\",\"y\"],\"data\":{\"x\":{\"__ndarray__\":\"AQAAAAIAAAADAAAABAAAAAUAAAAGAAAABwAAAAgAAAAJAAAACgAAAAsAAAAMAAAADQAAAA4AAAAPAAAAEAAAABEAAAASAAAAEwAAABQAAAAVAAAAFgAAABcAAAAYAAAAGQAAABoAAAAbAAAAHAAAAB0AAAAeAAAAHwAAACAAAAAhAAAAIgAAACMAAAAkAAAAJQAAACYAAAAnAAAAKAAAACkAAAAqAAAAKwAAACwAAAAtAAAALgAAAC8AAAAwAAAAMQAAADIAAAAzAAAANAAAADUAAAA2AAAANwAAADgAAAA5AAAAOgAAADsAAAA8AAAAPQAAAD4AAAA/AAAAQAAAAEEAAABCAAAAQwAAAEQAAABFAAAARgAAAEcAAABIAAAASQAAAEoAAABLAAAATAAAAE0AAABOAAAATwAAAFAAAABRAAAAUgAAAFMAAABUAAAAVQAAAFYAAABXAAAAWAAAAFkAAABaAAAA\",\"dtype\":\"int32\",\"shape\":[90]},\"y\":[0.9418794512748718,1.018559217453003,1.0192582607269287,0.9981495141983032,0.992437481880188,0.9945254921913147,0.9820340871810913,0.988502562046051,1.0121328830718994,1.0058420896530151,0.9494725465774536,0.8817753791809082,0.8244208097457886,0.7932543158531189,0.8229845762252808,0.8569223880767822,0.8809581398963928,0.8589719533920288,0.8916271924972534,0.8778132200241089,0.8610408306121826,0.8366752862930298,0.8645628690719604,0.8914148807525635,0.8721627593040466,0.7867512702941895,0.7678277492523193,0.8368966579437256,0.8495955467224121,0.8707994222640991,0.8256633877754211,0.8864625096321106,1.0628854036331177,0.916319727897644,1.0207340717315674,1.005479097366333,1.0475895404815674,1.0657020807266235,1.0692329406738281,0.982953667640686,1.1576591730117798,1.1373533010482788,1.1679009199142456,1.1460459232330322,1.1974657773971558,1.3047025203704834,1.3471137285232544,1.200155258178711,1.2149583101272583,1.1455458402633667,1.3147919178009033,1.2650445699691772,1.258970856666565,1.3438664674758911,1.1469919681549072,1.3665233850479126,1.3174504041671753,1.4184221029281616,1.3178482055664062,1.2891782522201538,1.290895938873291,1.3689885139465332,1.217128872871399,1.248803973197937,1.2694309949874878,1.2922042608261108,1.259554386138916,1.3895695209503174,1.1570953130722046,1.3124674558639526,1.198348045349121,1.2989858388900757,1.2708873748779297,1.1987611055374146,1.1557729244232178,1.130064606666565,1.3300493955612183,1.3789149522781372,1.1741467714309692,1.197879672050476,1.2208807468414307,1.093827486038208,1.3852745294570923,1.1413180828094482,1.2464441061019897,1.2023816108703613,1.194770097732544,1.1602610349655151,1.3129348754882812,1.3354872465133667]}},\"id\":\"46d4f2bb-eddd-40b1-a3e0-f90c7f92be48\",\"type\":\"ColumnDataSource\"},{\"attributes\":{\"bottom_units\":\"screen\",\"fill_alpha\":{\"value\":0.5},\"fill_color\":{\"value\":\"lightgrey\"},\"left_units\":\"screen\",\"level\":\"overlay\",\"line_alpha\":{\"value\":1.0},\"line_color\":{\"value\":\"black\"},\"line_dash\":[4,4],\"line_width\":{\"value\":2},\"plot\":null,\"render_mode\":\"css\",\"right_units\":\"screen\",\"top_units\":\"screen\"},\"id\":\"465d0a37-eaa5-4f6d-b2db-685608340715\",\"type\":\"BoxAnnotation\"},{\"attributes\":{},\"id\":\"90e82d5a-67ef-4657-9837-8562a6853883\",\"type\":\"PanTool\"},{\"attributes\":{\"background_fill_color\":{\"value\":\"#fafafa\"},\"below\":[{\"id\":\"5280eb90-1941-4449-856d-1abecf15d486\",\"type\":\"LinearAxis\"}],\"left\":[{\"id\":\"ea6b625b-6783-448b-be57-3d3b709167ea\",\"type\":\"LinearAxis\"}],\"min_border\":10,\"min_border_left\":50,\"renderers\":[{\"id\":\"5280eb90-1941-4449-856d-1abecf15d486\",\"type\":\"LinearAxis\"},{\"id\":\"af77b1e1-bd6a-4a9e-9e0f-becc1e806c78\",\"type\":\"Grid\"},{\"id\":\"ea6b625b-6783-448b-be57-3d3b709167ea\",\"type\":\"LinearAxis\"},{\"id\":\"14c4a601-252f-4241-8ced-8a8d38273496\",\"type\":\"Grid\"},{\"id\":\"465d0a37-eaa5-4f6d-b2db-685608340715\",\"type\":\"BoxAnnotation\"},{\"id\":\"1f1ad6c8-7265-41fc-b662-2a3188bf49e8\",\"type\":\"Legend\"},{\"id\":\"8f62dd3b-fcd6-4d9c-b6c3-3280a3024d4a\",\"type\":\"GlyphRenderer\"},{\"id\":\"4faffa93-acde-43f7-8399-ea3542f06a20\",\"type\":\"GlyphRenderer\"},{\"id\":\"35b85e04-b55a-41e2-b293-2ec7688ba6fe\",\"type\":\"GlyphRenderer\"}],\"title\":{\"id\":\"3aa947a5-8e27-40c4-81d0-656ced846a90\",\"type\":\"Title\"},\"toolbar\":{\"id\":\"564d6926-38de-4f24-8c15-fe0a4846f775\",\"type\":\"Toolbar\"},\"x_range\":{\"id\":\"c63b5613-f132-4814-977f-4e485c902cbd\",\"type\":\"DataRange1d\"},\"x_scale\":{\"id\":\"221352e6-27bb-4ee5-9a0e-3caca679f0f3\",\"type\":\"LinearScale\"},\"y_range\":{\"id\":\"17ef34b1-62a4-4d72-9206-52eaff4c8afb\",\"type\":\"DataRange1d\"},\"y_scale\":{\"id\":\"c15ff3c6-4c51-41f7-817c-9e5d82c5d93b\",\"type\":\"LinearScale\"}},\"id\":\"121c16c7-4551-48cf-95b9-252e9f5dc2b6\",\"subtype\":\"Figure\",\"type\":\"Plot\"},{\"attributes\":{},\"id\":\"5f7415cc-0beb-41b2-8716-068e2fdcc8c4\",\"type\":\"WheelZoomTool\"},{\"attributes\":{\"overlay\":{\"id\":\"465d0a37-eaa5-4f6d-b2db-685608340715\",\"type\":\"BoxAnnotation\"}},\"id\":\"862bfd16-2c86-480c-8f37-27fe158fde57\",\"type\":\"BoxZoomTool\"},{\"attributes\":{},\"id\":\"e02d4592-c729-4431-88ff-450764bb72e0\",\"type\":\"SaveTool\"},{\"attributes\":{},\"id\":\"e1598660-c18b-4c56-8ce6-eba759756ccc\",\"type\":\"ResetTool\"},{\"attributes\":{},\"id\":\"17408a64-8efd-4546-9d09-0afbc2325ce6\",\"type\":\"HelpTool\"}],\"root_ids\":[\"121c16c7-4551-48cf-95b9-252e9f5dc2b6\"]},\"title\":\"Bokeh Application\",\"version\":\"0.12.13\"}};\n",
       "  var render_items = [{\"docid\":\"cb55ab13-3e56-44eb-aa7e-8a1f2965c951\",\"elementid\":\"1274e0ee-2aaa-4c95-a41a-ef816144a299\",\"modelid\":\"121c16c7-4551-48cf-95b9-252e9f5dc2b6\"}];\n",
       "  root.Bokeh.embed.embed_items_notebook(docs_json, render_items);\n",
       "\n",
       "  }\n",
       "  if (root.Bokeh !== undefined) {\n",
       "    embed_document(root);\n",
       "  } else {\n",
       "    var attempts = 0;\n",
       "    var timer = setInterval(function(root) {\n",
       "      if (root.Bokeh !== undefined) {\n",
       "        embed_document(root);\n",
       "        clearInterval(timer);\n",
       "      }\n",
       "      attempts++;\n",
       "      if (attempts > 100) {\n",
       "        console.log(\"Bokeh: ERROR: Unable to run BokehJS code because BokehJS library is missing\")\n",
       "        clearInterval(timer);\n",
       "      }\n",
       "    }, 10, root)\n",
       "  }\n",
       "})(window);"
      ],
      "application/vnd.bokehjs_exec.v0+json": ""
     },
     "metadata": {
      "application/vnd.bokehjs_exec.v0+json": {
       "id": "121c16c7-4551-48cf-95b9-252e9f5dc2b6"
      }
     },
     "output_type": "display_data"
    }
   ],
   "source": [
    "show(plots[3])"
   ]
  },
  {
   "cell_type": "raw",
   "metadata": {},
   "source": [
    "<script>\n",
    "  $(document).ready(function(){\n",
    "    $('div.prompt').hide();\n",
    "    $('div.back-to-top').hide();\n",
    "    $('nav#menubar').hide();\n",
    "    $('.breadcrumb').hide();\n",
    "    $('.hidden-print').hide();\n",
    "  });\n",
    "</script>\n",
    "\n",
    "<footer id=\"attribution\" style=\"float:right; color:#999; background:#fff;\">\n",
    "Niv Giladi - Technion\n",
    "</footer>"
   ]
  }
 ],
 "metadata": {
  "kernelspec": {
   "display_name": "Python 3",
   "language": "python",
   "name": "python3"
  },
  "language_info": {
   "codemirror_mode": {
    "name": "ipython",
    "version": 3
   },
   "file_extension": ".py",
   "mimetype": "text/x-python",
   "name": "python",
   "nbconvert_exporter": "python",
   "pygments_lexer": "ipython3",
   "version": "3.6.1"
  }
 },
 "nbformat": 4,
 "nbformat_minor": 1
}
