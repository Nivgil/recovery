{
 "cells": [
  {
   "cell_type": "raw",
   "metadata": {},
   "source": [
    "<script>\n",
    "  jQuery(document).ready(function($) {  \n",
    "  \n",
    "  $(window).on('load', function(){\n",
    "    $('#preloader').fadeOut('slow',function(){$(this).remove();});\n",
    "  });\n",
    "  \n",
    "  });\n",
    "</script>\n",
    "\n",
    "<style type=\"text/css\">\n",
    "  div#preloader { position: fixed; \n",
    "      left: 0; \n",
    "      top: 0; \n",
    "      z-index: 999; \n",
    "      width: 100%; \n",
    "      height: 100%; \n",
    "      overflow: visible; \n",
    "      background: #fff url('http://preloaders.net/preloaders/720/Moving%20line.gif') no-repeat center center; \n",
    "  }\n",
    "\n",
    "</style>\n",
    "\n",
    "<div id=\"preloader\">\n",
    "\n",
    "</div>"
   ]
  },
  {
   "cell_type": "raw",
   "metadata": {},
   "source": [
    "<script>\n",
    "  function code_toggle() {\n",
    "    if (code_shown){\n",
    "      $('div.input').hide('500');\n",
    "      $('#toggleButton').val('Show Code')\n",
    "    } else {\n",
    "      $('div.input').show('500');\n",
    "      $('#toggleButton').val('Hide Code')\n",
    "    }\n",
    "    code_shown = !code_shown\n",
    "  } \n",
    "  \n",
    "  $( document ).ready(function(){\n",
    "    code_shown=false; \n",
    "    $('div.input').hide()\n",
    "  });\n",
    "</script>\n",
    "<form action=\"javascript:code_toggle()\"><input type=\"submit\" id=\"toggleButton\" value=\"Show Code\"></form>"
   ]
  },
  {
   "cell_type": "markdown",
   "metadata": {},
   "source": [
    "<h1 style=\"text-align: center;\" markdown=\"1\"> ImageNet - Training Without Momentum</h1>\n",
    "<h2 style=\"text-align: center;\" markdown=\"1\"> Resnet 50</h2>"
   ]
  },
  {
   "cell_type": "code",
   "execution_count": 21,
   "metadata": {
    "scrolled": false
   },
   "outputs": [
    {
     "data": {
      "text/html": [
       "\n",
       "    <div class=\"bk-root\">\n",
       "        <a href=\"https://bokeh.pydata.org\" target=\"_blank\" class=\"bk-logo bk-logo-small bk-logo-notebook\"></a>\n",
       "        <span id=\"88da3c4c-4f9e-4b3a-a224-88edef1537c0\">Loading BokehJS ...</span>\n",
       "    </div>"
      ]
     },
     "metadata": {},
     "output_type": "display_data"
    },
    {
     "data": {
      "application/javascript": [
       "\n",
       "(function(root) {\n",
       "  function now() {\n",
       "    return new Date();\n",
       "  }\n",
       "\n",
       "  var force = true;\n",
       "\n",
       "  if (typeof (root._bokeh_onload_callbacks) === \"undefined\" || force === true) {\n",
       "    root._bokeh_onload_callbacks = [];\n",
       "    root._bokeh_is_loading = undefined;\n",
       "  }\n",
       "\n",
       "  var JS_MIME_TYPE = 'application/javascript';\n",
       "  var HTML_MIME_TYPE = 'text/html';\n",
       "  var EXEC_MIME_TYPE = 'application/vnd.bokehjs_exec.v0+json';\n",
       "  var CLASS_NAME = 'output_bokeh rendered_html';\n",
       "\n",
       "  /**\n",
       "   * Render data to the DOM node\n",
       "   */\n",
       "  function render(props, node) {\n",
       "    var script = document.createElement(\"script\");\n",
       "    node.appendChild(script);\n",
       "  }\n",
       "\n",
       "  /**\n",
       "   * Handle when an output is cleared or removed\n",
       "   */\n",
       "  function handleClearOutput(event, handle) {\n",
       "    var cell = handle.cell;\n",
       "\n",
       "    var id = cell.output_area._bokeh_element_id;\n",
       "    var server_id = cell.output_area._bokeh_server_id;\n",
       "    // Clean up Bokeh references\n",
       "    if (id !== undefined) {\n",
       "      Bokeh.index[id].model.document.clear();\n",
       "      delete Bokeh.index[id];\n",
       "    }\n",
       "\n",
       "    if (server_id !== undefined) {\n",
       "      // Clean up Bokeh references\n",
       "      var cmd = \"from bokeh.io.state import curstate; print(curstate().uuid_to_server['\" + server_id + \"'].get_sessions()[0].document.roots[0]._id)\";\n",
       "      cell.notebook.kernel.execute(cmd, {\n",
       "        iopub: {\n",
       "          output: function(msg) {\n",
       "            var element_id = msg.content.text.trim();\n",
       "            Bokeh.index[element_id].model.document.clear();\n",
       "            delete Bokeh.index[element_id];\n",
       "          }\n",
       "        }\n",
       "      });\n",
       "      // Destroy server and session\n",
       "      var cmd = \"import bokeh.io.notebook as ion; ion.destroy_server('\" + server_id + \"')\";\n",
       "      cell.notebook.kernel.execute(cmd);\n",
       "    }\n",
       "  }\n",
       "\n",
       "  /**\n",
       "   * Handle when a new output is added\n",
       "   */\n",
       "  function handleAddOutput(event, handle) {\n",
       "    var output_area = handle.output_area;\n",
       "    var output = handle.output;\n",
       "\n",
       "    // limit handleAddOutput to display_data with EXEC_MIME_TYPE content only\n",
       "    if ((output.output_type != \"display_data\") || (!output.data.hasOwnProperty(EXEC_MIME_TYPE))) {\n",
       "      return\n",
       "    }\n",
       "\n",
       "    var toinsert = output_area.element.find(\".\" + CLASS_NAME.split(' ')[0]);\n",
       "\n",
       "    if (output.metadata[EXEC_MIME_TYPE][\"id\"] !== undefined) {\n",
       "      toinsert[0].firstChild.textContent = output.data[JS_MIME_TYPE];\n",
       "      // store reference to embed id on output_area\n",
       "      output_area._bokeh_element_id = output.metadata[EXEC_MIME_TYPE][\"id\"];\n",
       "    }\n",
       "    if (output.metadata[EXEC_MIME_TYPE][\"server_id\"] !== undefined) {\n",
       "      var bk_div = document.createElement(\"div\");\n",
       "      bk_div.innerHTML = output.data[HTML_MIME_TYPE];\n",
       "      var script_attrs = bk_div.children[0].attributes;\n",
       "      for (var i = 0; i < script_attrs.length; i++) {\n",
       "        toinsert[0].firstChild.setAttribute(script_attrs[i].name, script_attrs[i].value);\n",
       "      }\n",
       "      // store reference to server id on output_area\n",
       "      output_area._bokeh_server_id = output.metadata[EXEC_MIME_TYPE][\"server_id\"];\n",
       "    }\n",
       "  }\n",
       "\n",
       "  function register_renderer(events, OutputArea) {\n",
       "\n",
       "    function append_mime(data, metadata, element) {\n",
       "      // create a DOM node to render to\n",
       "      var toinsert = this.create_output_subarea(\n",
       "        metadata,\n",
       "        CLASS_NAME,\n",
       "        EXEC_MIME_TYPE\n",
       "      );\n",
       "      this.keyboard_manager.register_events(toinsert);\n",
       "      // Render to node\n",
       "      var props = {data: data, metadata: metadata[EXEC_MIME_TYPE]};\n",
       "      render(props, toinsert[0]);\n",
       "      element.append(toinsert);\n",
       "      return toinsert\n",
       "    }\n",
       "\n",
       "    /* Handle when an output is cleared or removed */\n",
       "    events.on('clear_output.CodeCell', handleClearOutput);\n",
       "    events.on('delete.Cell', handleClearOutput);\n",
       "\n",
       "    /* Handle when a new output is added */\n",
       "    events.on('output_added.OutputArea', handleAddOutput);\n",
       "\n",
       "    /**\n",
       "     * Register the mime type and append_mime function with output_area\n",
       "     */\n",
       "    OutputArea.prototype.register_mime_type(EXEC_MIME_TYPE, append_mime, {\n",
       "      /* Is output safe? */\n",
       "      safe: true,\n",
       "      /* Index of renderer in `output_area.display_order` */\n",
       "      index: 0\n",
       "    });\n",
       "  }\n",
       "\n",
       "  // register the mime type if in Jupyter Notebook environment and previously unregistered\n",
       "  if (root.Jupyter !== undefined) {\n",
       "    var events = require('base/js/events');\n",
       "    var OutputArea = require('notebook/js/outputarea').OutputArea;\n",
       "\n",
       "    if (OutputArea.prototype.mime_types().indexOf(EXEC_MIME_TYPE) == -1) {\n",
       "      register_renderer(events, OutputArea);\n",
       "    }\n",
       "  }\n",
       "\n",
       "  \n",
       "  if (typeof (root._bokeh_timeout) === \"undefined\" || force === true) {\n",
       "    root._bokeh_timeout = Date.now() + 5000;\n",
       "    root._bokeh_failed_load = false;\n",
       "  }\n",
       "\n",
       "  var NB_LOAD_WARNING = {'data': {'text/html':\n",
       "     \"<div style='background-color: #fdd'>\\n\"+\n",
       "     \"<p>\\n\"+\n",
       "     \"BokehJS does not appear to have successfully loaded. If loading BokehJS from CDN, this \\n\"+\n",
       "     \"may be due to a slow or bad network connection. Possible fixes:\\n\"+\n",
       "     \"</p>\\n\"+\n",
       "     \"<ul>\\n\"+\n",
       "     \"<li>re-rerun `output_notebook()` to attempt to load from CDN again, or</li>\\n\"+\n",
       "     \"<li>use INLINE resources instead, as so:</li>\\n\"+\n",
       "     \"</ul>\\n\"+\n",
       "     \"<code>\\n\"+\n",
       "     \"from bokeh.resources import INLINE\\n\"+\n",
       "     \"output_notebook(resources=INLINE)\\n\"+\n",
       "     \"</code>\\n\"+\n",
       "     \"</div>\"}};\n",
       "\n",
       "  function display_loaded() {\n",
       "    var el = document.getElementById(\"88da3c4c-4f9e-4b3a-a224-88edef1537c0\");\n",
       "    if (el != null) {\n",
       "      el.textContent = \"BokehJS is loading...\";\n",
       "    }\n",
       "    if (root.Bokeh !== undefined) {\n",
       "      if (el != null) {\n",
       "        el.textContent = \"BokehJS \" + root.Bokeh.version + \" successfully loaded.\";\n",
       "      }\n",
       "    } else if (Date.now() < root._bokeh_timeout) {\n",
       "      setTimeout(display_loaded, 100)\n",
       "    }\n",
       "  }\n",
       "\n",
       "\n",
       "  function run_callbacks() {\n",
       "    try {\n",
       "      root._bokeh_onload_callbacks.forEach(function(callback) { callback() });\n",
       "    }\n",
       "    finally {\n",
       "      delete root._bokeh_onload_callbacks\n",
       "    }\n",
       "    console.info(\"Bokeh: all callbacks have finished\");\n",
       "  }\n",
       "\n",
       "  function load_libs(js_urls, callback) {\n",
       "    root._bokeh_onload_callbacks.push(callback);\n",
       "    if (root._bokeh_is_loading > 0) {\n",
       "      console.log(\"Bokeh: BokehJS is being loaded, scheduling callback at\", now());\n",
       "      return null;\n",
       "    }\n",
       "    if (js_urls == null || js_urls.length === 0) {\n",
       "      run_callbacks();\n",
       "      return null;\n",
       "    }\n",
       "    console.log(\"Bokeh: BokehJS not loaded, scheduling load and callback at\", now());\n",
       "    root._bokeh_is_loading = js_urls.length;\n",
       "    for (var i = 0; i < js_urls.length; i++) {\n",
       "      var url = js_urls[i];\n",
       "      var s = document.createElement('script');\n",
       "      s.src = url;\n",
       "      s.async = false;\n",
       "      s.onreadystatechange = s.onload = function() {\n",
       "        root._bokeh_is_loading--;\n",
       "        if (root._bokeh_is_loading === 0) {\n",
       "          console.log(\"Bokeh: all BokehJS libraries loaded\");\n",
       "          run_callbacks()\n",
       "        }\n",
       "      };\n",
       "      s.onerror = function() {\n",
       "        console.warn(\"failed to load library \" + url);\n",
       "      };\n",
       "      console.log(\"Bokeh: injecting script tag for BokehJS library: \", url);\n",
       "      document.getElementsByTagName(\"head\")[0].appendChild(s);\n",
       "    }\n",
       "  };var element = document.getElementById(\"88da3c4c-4f9e-4b3a-a224-88edef1537c0\");\n",
       "  if (element == null) {\n",
       "    console.log(\"Bokeh: ERROR: autoload.js configured with elementid '88da3c4c-4f9e-4b3a-a224-88edef1537c0' but no matching script tag was found. \")\n",
       "    return false;\n",
       "  }\n",
       "\n",
       "  var js_urls = [\"https://cdn.pydata.org/bokeh/release/bokeh-0.12.13.min.js\", \"https://cdn.pydata.org/bokeh/release/bokeh-widgets-0.12.13.min.js\", \"https://cdn.pydata.org/bokeh/release/bokeh-tables-0.12.13.min.js\", \"https://cdn.pydata.org/bokeh/release/bokeh-gl-0.12.13.min.js\"];\n",
       "\n",
       "  var inline_js = [\n",
       "    function(Bokeh) {\n",
       "      Bokeh.set_log_level(\"info\");\n",
       "    },\n",
       "    \n",
       "    function(Bokeh) {\n",
       "      \n",
       "    },\n",
       "    function(Bokeh) {\n",
       "      console.log(\"Bokeh: injecting CSS: https://cdn.pydata.org/bokeh/release/bokeh-0.12.13.min.css\");\n",
       "      Bokeh.embed.inject_css(\"https://cdn.pydata.org/bokeh/release/bokeh-0.12.13.min.css\");\n",
       "      console.log(\"Bokeh: injecting CSS: https://cdn.pydata.org/bokeh/release/bokeh-widgets-0.12.13.min.css\");\n",
       "      Bokeh.embed.inject_css(\"https://cdn.pydata.org/bokeh/release/bokeh-widgets-0.12.13.min.css\");\n",
       "      console.log(\"Bokeh: injecting CSS: https://cdn.pydata.org/bokeh/release/bokeh-tables-0.12.13.min.css\");\n",
       "      Bokeh.embed.inject_css(\"https://cdn.pydata.org/bokeh/release/bokeh-tables-0.12.13.min.css\");\n",
       "    }\n",
       "  ];\n",
       "\n",
       "  function run_inline_js() {\n",
       "    \n",
       "    if ((root.Bokeh !== undefined) || (force === true)) {\n",
       "      for (var i = 0; i < inline_js.length; i++) {\n",
       "        inline_js[i].call(root, root.Bokeh);\n",
       "      }if (force === true) {\n",
       "        display_loaded();\n",
       "      }} else if (Date.now() < root._bokeh_timeout) {\n",
       "      setTimeout(run_inline_js, 100);\n",
       "    } else if (!root._bokeh_failed_load) {\n",
       "      console.log(\"Bokeh: BokehJS failed to load within specified timeout.\");\n",
       "      root._bokeh_failed_load = true;\n",
       "    } else if (force !== true) {\n",
       "      var cell = $(document.getElementById(\"88da3c4c-4f9e-4b3a-a224-88edef1537c0\")).parents('.cell').data().cell;\n",
       "      cell.output_area.append_execute_result(NB_LOAD_WARNING)\n",
       "    }\n",
       "\n",
       "  }\n",
       "\n",
       "  if (root._bokeh_is_loading === 0) {\n",
       "    console.log(\"Bokeh: BokehJS loaded, going straight to plotting\");\n",
       "    run_inline_js();\n",
       "  } else {\n",
       "    load_libs(js_urls, function() {\n",
       "      console.log(\"Bokeh: BokehJS plotting callback run at\", now());\n",
       "      run_inline_js();\n",
       "    });\n",
       "  }\n",
       "}(window));"
      ],
      "application/vnd.bokehjs_load.v0+json": "\n(function(root) {\n  function now() {\n    return new Date();\n  }\n\n  var force = true;\n\n  if (typeof (root._bokeh_onload_callbacks) === \"undefined\" || force === true) {\n    root._bokeh_onload_callbacks = [];\n    root._bokeh_is_loading = undefined;\n  }\n\n  \n\n  \n  if (typeof (root._bokeh_timeout) === \"undefined\" || force === true) {\n    root._bokeh_timeout = Date.now() + 5000;\n    root._bokeh_failed_load = false;\n  }\n\n  var NB_LOAD_WARNING = {'data': {'text/html':\n     \"<div style='background-color: #fdd'>\\n\"+\n     \"<p>\\n\"+\n     \"BokehJS does not appear to have successfully loaded. If loading BokehJS from CDN, this \\n\"+\n     \"may be due to a slow or bad network connection. Possible fixes:\\n\"+\n     \"</p>\\n\"+\n     \"<ul>\\n\"+\n     \"<li>re-rerun `output_notebook()` to attempt to load from CDN again, or</li>\\n\"+\n     \"<li>use INLINE resources instead, as so:</li>\\n\"+\n     \"</ul>\\n\"+\n     \"<code>\\n\"+\n     \"from bokeh.resources import INLINE\\n\"+\n     \"output_notebook(resources=INLINE)\\n\"+\n     \"</code>\\n\"+\n     \"</div>\"}};\n\n  function display_loaded() {\n    var el = document.getElementById(\"88da3c4c-4f9e-4b3a-a224-88edef1537c0\");\n    if (el != null) {\n      el.textContent = \"BokehJS is loading...\";\n    }\n    if (root.Bokeh !== undefined) {\n      if (el != null) {\n        el.textContent = \"BokehJS \" + root.Bokeh.version + \" successfully loaded.\";\n      }\n    } else if (Date.now() < root._bokeh_timeout) {\n      setTimeout(display_loaded, 100)\n    }\n  }\n\n\n  function run_callbacks() {\n    try {\n      root._bokeh_onload_callbacks.forEach(function(callback) { callback() });\n    }\n    finally {\n      delete root._bokeh_onload_callbacks\n    }\n    console.info(\"Bokeh: all callbacks have finished\");\n  }\n\n  function load_libs(js_urls, callback) {\n    root._bokeh_onload_callbacks.push(callback);\n    if (root._bokeh_is_loading > 0) {\n      console.log(\"Bokeh: BokehJS is being loaded, scheduling callback at\", now());\n      return null;\n    }\n    if (js_urls == null || js_urls.length === 0) {\n      run_callbacks();\n      return null;\n    }\n    console.log(\"Bokeh: BokehJS not loaded, scheduling load and callback at\", now());\n    root._bokeh_is_loading = js_urls.length;\n    for (var i = 0; i < js_urls.length; i++) {\n      var url = js_urls[i];\n      var s = document.createElement('script');\n      s.src = url;\n      s.async = false;\n      s.onreadystatechange = s.onload = function() {\n        root._bokeh_is_loading--;\n        if (root._bokeh_is_loading === 0) {\n          console.log(\"Bokeh: all BokehJS libraries loaded\");\n          run_callbacks()\n        }\n      };\n      s.onerror = function() {\n        console.warn(\"failed to load library \" + url);\n      };\n      console.log(\"Bokeh: injecting script tag for BokehJS library: \", url);\n      document.getElementsByTagName(\"head\")[0].appendChild(s);\n    }\n  };var element = document.getElementById(\"88da3c4c-4f9e-4b3a-a224-88edef1537c0\");\n  if (element == null) {\n    console.log(\"Bokeh: ERROR: autoload.js configured with elementid '88da3c4c-4f9e-4b3a-a224-88edef1537c0' but no matching script tag was found. \")\n    return false;\n  }\n\n  var js_urls = [\"https://cdn.pydata.org/bokeh/release/bokeh-0.12.13.min.js\", \"https://cdn.pydata.org/bokeh/release/bokeh-widgets-0.12.13.min.js\", \"https://cdn.pydata.org/bokeh/release/bokeh-tables-0.12.13.min.js\", \"https://cdn.pydata.org/bokeh/release/bokeh-gl-0.12.13.min.js\"];\n\n  var inline_js = [\n    function(Bokeh) {\n      Bokeh.set_log_level(\"info\");\n    },\n    \n    function(Bokeh) {\n      \n    },\n    function(Bokeh) {\n      console.log(\"Bokeh: injecting CSS: https://cdn.pydata.org/bokeh/release/bokeh-0.12.13.min.css\");\n      Bokeh.embed.inject_css(\"https://cdn.pydata.org/bokeh/release/bokeh-0.12.13.min.css\");\n      console.log(\"Bokeh: injecting CSS: https://cdn.pydata.org/bokeh/release/bokeh-widgets-0.12.13.min.css\");\n      Bokeh.embed.inject_css(\"https://cdn.pydata.org/bokeh/release/bokeh-widgets-0.12.13.min.css\");\n      console.log(\"Bokeh: injecting CSS: https://cdn.pydata.org/bokeh/release/bokeh-tables-0.12.13.min.css\");\n      Bokeh.embed.inject_css(\"https://cdn.pydata.org/bokeh/release/bokeh-tables-0.12.13.min.css\");\n    }\n  ];\n\n  function run_inline_js() {\n    \n    if ((root.Bokeh !== undefined) || (force === true)) {\n      for (var i = 0; i < inline_js.length; i++) {\n        inline_js[i].call(root, root.Bokeh);\n      }if (force === true) {\n        display_loaded();\n      }} else if (Date.now() < root._bokeh_timeout) {\n      setTimeout(run_inline_js, 100);\n    } else if (!root._bokeh_failed_load) {\n      console.log(\"Bokeh: BokehJS failed to load within specified timeout.\");\n      root._bokeh_failed_load = true;\n    } else if (force !== true) {\n      var cell = $(document.getElementById(\"88da3c4c-4f9e-4b3a-a224-88edef1537c0\")).parents('.cell').data().cell;\n      cell.output_area.append_execute_result(NB_LOAD_WARNING)\n    }\n\n  }\n\n  if (root._bokeh_is_loading === 0) {\n    console.log(\"Bokeh: BokehJS loaded, going straight to plotting\");\n    run_inline_js();\n  } else {\n    load_libs(js_urls, function() {\n      console.log(\"Bokeh: BokehJS plotting callback run at\", now());\n      run_inline_js();\n    });\n  }\n}(window));"
     },
     "metadata": {},
     "output_type": "display_data"
    },
    {
     "data": {
      "text/markdown": [
       "<h3>Simulation 160: Min Error - 23.69% , Val Error - 23.82% , Mean Error - 23.96%<h3>"
      ],
      "text/plain": [
       "<IPython.core.display.Markdown object>"
      ]
     },
     "metadata": {},
     "output_type": "display_data"
    },
    {
     "data": {
      "text/markdown": [
       "<h3>Simulation 221: Min Error - 24.13% , Val Error - 24.18% , Mean Error - 24.35%<h3>"
      ],
      "text/plain": [
       "<IPython.core.display.Markdown object>"
      ]
     },
     "metadata": {},
     "output_type": "display_data"
    }
   ],
   "source": [
    "import numpy as np\n",
    "import pandas as pd\n",
    "from bokeh.io import output_notebook\n",
    "from bokeh.plotting import figure, show, output_file\n",
    "from Outputs.jupyter_graphs import create_graphs, compare_graphs\n",
    "from IPython.display import Markdown, display\n",
    "from IPython.core.interactiveshell import InteractiveShell\n",
    "sim_num = [160, 221]\n",
    "plots, scores = compare_graphs(sim_nums=sim_num, linear=True)\n",
    "output_notebook()\n",
    "for sim in zip(sim_num,scores):\n",
    "    display(Markdown('<h3>Simulation {0}: Min Error - {1:.2f}% , Val Error - {2:.2f}% , Mean Error - {3:.2f}%<h3>'.format(sim[0],sim[1][0],sim[1][2],sim[1][1])))"
   ]
  },
  {
   "cell_type": "code",
   "execution_count": 22,
   "metadata": {},
   "outputs": [
    {
     "name": "stderr",
     "output_type": "stream",
     "text": [
      "C:\\Users\\giladiniv\\AppData\\Local\\Continuum\\anaconda3\\lib\\site-packages\\bokeh\\core\\json_encoder.py:80: FutureWarning: Conversion of the second argument of issubdtype from `float` to `np.floating` is deprecated. In future, it will be treated as `np.float64 == np.dtype(float).type`.\n",
      "  elif np.issubdtype(type(obj), np.float):\n"
     ]
    },
    {
     "data": {
      "text/html": [
       "\n",
       "<div class=\"bk-root\">\n",
       "    <div class=\"bk-plotdiv\" id=\"e22f693b-21e9-44ab-8eb9-0b1bd02e6d39\"></div>\n",
       "</div>"
      ]
     },
     "metadata": {},
     "output_type": "display_data"
    },
    {
     "data": {
      "application/javascript": [
       "(function(root) {\n",
       "  function embed_document(root) {\n",
       "    \n",
       "  var docs_json = {\"a8d3876e-2d0d-42bd-8f91-0b7b2ce5257d\":{\"roots\":{\"references\":[{\"attributes\":{\"callback\":null,\"data\":{}},\"id\":\"53c3222a-3ead-414c-b5b2-dfed4a3b47a2\",\"type\":\"ColumnDataSource\"},{\"attributes\":{\"line_alpha\":0.1,\"line_color\":\"#1f77b4\",\"line_width\":3,\"x\":{\"field\":\"x\"},\"y\":{\"field\":\"y\"}},\"id\":\"4eadabc8-4be1-4898-843d-8eb1385b0bdf\",\"type\":\"Line\"},{\"attributes\":{\"callback\":null,\"column_names\":[\"x\",\"y\"],\"data\":{\"x\":{\"__ndarray__\":\"AQAAAAIAAAADAAAABAAAAAUAAAAGAAAABwAAAAgAAAAJAAAACgAAAAsAAAAMAAAADQAAAA4AAAAPAAAAEAAAABEAAAASAAAAEwAAABQAAAAVAAAAFgAAABcAAAAYAAAAGQAAABoAAAAbAAAAHAAAAB0AAAAeAAAAHwAAACAAAAAhAAAAIgAAACMAAAAkAAAAJQAAACYAAAAnAAAAKAAAACkAAAAqAAAAKwAAACwAAAAtAAAALgAAAC8AAAAwAAAAMQAAADIAAAAzAAAANAAAADUAAAA2AAAANwAAADgAAAA5AAAAOgAAADsAAAA8AAAAPQAAAD4AAAA/AAAAQAAAAEEAAABCAAAAQwAAAEQAAABFAAAARgAAAEcAAABIAAAASQAAAEoAAABLAAAATAAAAE0AAABOAAAATwAAAFAAAABRAAAAUgAAAFMAAABUAAAAVQAAAFYAAABXAAAAWAAAAFkAAABaAAAA\",\"dtype\":\"int32\",\"shape\":[90]},\"y\":[0.8261400000976562,0.68814,0.6124400003173828,0.5609200004272461,0.5159600000366211,0.5452000001220703,0.5127199999755859,0.509319999975586,0.5508800001953125,0.5192000002807617,0.5101000001342774,0.480059999987793,0.4773999999755859,0.4805399998535156,0.4806200003173828,0.4905600000854492,0.48415999990234376,0.48438000029296874,0.5346600001342773,0.4646199999267578,0.4706400001098633,0.4987400000366211,0.4759399998779297,0.4661999998291016,0.49156000017089846,0.4666200000366211,0.4436399999267578,0.4644800002197265,0.4736200004028321,0.4592200004638672,0.3173599996582031,0.30384000009765627,0.3004399997314453,0.29538000026855465,0.3024000002197266,0.29652000048828125,0.29502000041503906,0.29451999958496095,0.2926,0.29954000007324216,0.3016400002685547,0.3004399997802734,0.3020800000732422,0.3040600000244141,0.2944600005859375,0.30512,0.29822000007324223,0.3031600001953125,0.298980000390625,0.30083999958496094,0.30032000021972655,0.3018799997802734,0.3015999998535156,0.29569999978027345,0.29918000029296876,0.30432,0.2995599997314453,0.3055800002197266,0.30204000026855465,0.30614000004882813,0.25633999997558593,0.2518599997558594,0.2484199996826172,0.2482200002685547,0.24822000034179686,0.2462400005126953,0.24552000061035156,0.2440800005371094,0.24448000078124998,0.24286000004882813,0.2447000004394531,0.24353999958496092,0.24411999982910157,0.24332000009765625,0.2422800005859375,0.24247999982910154,0.24166000056152345,0.2425000008300781,0.24377999975585937,0.24269999970703127,0.2396800007080078,0.2383400003173828,0.23920000085449217,0.23884000075683595,0.23812000026855468,0.23848000002441405,0.23905999978027342,0.23754000024414063,0.23687999958496092,0.23818000065917969]}},\"id\":\"3e07dc2a-9733-4966-b859-c3c526a6b274\",\"type\":\"ColumnDataSource\"},{\"attributes\":{\"fill_alpha\":{\"value\":0.1},\"fill_color\":{\"value\":\"#1f77b4\"},\"line_alpha\":{\"value\":0.1},\"line_color\":{\"value\":\"#1f77b4\"},\"size\":{\"units\":\"screen\",\"value\":5},\"x\":{\"value\":89},\"y\":{\"value\":0.23687999958496092}},\"id\":\"4a8d45b3-318c-4ca8-b194-f11cc83ab352\",\"type\":\"Circle\"},{\"attributes\":{\"line_color\":\"#1f77b4\",\"line_width\":3,\"x\":{\"field\":\"x\"},\"y\":{\"field\":\"y\"}},\"id\":\"d6214b43-9a85-4603-aec3-76385d5fbd72\",\"type\":\"Line\"},{\"attributes\":{\"callback\":null,\"column_names\":[\"x\",\"y\"],\"data\":{\"x\":{\"__ndarray__\":\"AQAAAAIAAAADAAAABAAAAAUAAAAGAAAABwAAAAgAAAAJAAAACgAAAAsAAAAMAAAADQAAAA4AAAAPAAAAEAAAABEAAAASAAAAEwAAABQAAAAVAAAAFgAAABcAAAAYAAAAGQAAABoAAAAbAAAAHAAAAB0AAAAeAAAAHwAAACAAAAAhAAAAIgAAACMAAAAkAAAAJQAAACYAAAAnAAAAKAAAACkAAAAqAAAAKwAAACwAAAAtAAAALgAAAC8AAAAwAAAAMQAAADIAAAAzAAAANAAAADUAAAA2AAAANwAAADgAAAA5AAAAOgAAADsAAAA8AAAAPQAAAD4AAAA/AAAAQAAAAEEAAABCAAAAQwAAAEQAAABFAAAARgAAAEcAAABIAAAASQAAAEoAAABLAAAATAAAAE0AAABOAAAATwAAAFAAAABRAAAAUgAAAFMAAABUAAAAVQAAAFYAAABXAAAAWAAAAFkAAABaAAAA\",\"dtype\":\"int32\",\"shape\":[90]},\"y\":[0.9766501947053072,0.8445136348337909,0.7245378627458371,0.6552307388504991,0.6144507312457032,0.588190298375896,0.5700537088446327,0.5574644055005973,0.5478466117213141,0.5402910003143485,0.5341832875798231,0.5293634631542726,0.5246380838694091,0.5210585349138119,0.518290745859555,0.5163152032492413,0.5141679421974034,0.5116358757284192,0.5099600598513248,0.5079556373217922,0.5067543887735111,0.5052479497201854,0.5038585914250578,0.5024981130479879,0.5019283200404169,0.5003500714598359,0.49938688711101015,0.49905437776527006,0.4971732802969535,0.4970390277003645,0.38397414232439125,0.36079215277966653,0.35173634662909264,0.34619686582540127,0.34197805594391995,0.3400423207920093,0.3377623682191285,0.33709344683127995,0.33625280701217974,0.33609826041375096,0.33559871585964574,0.3356252541660815,0.3359085895882915,0.33565257300237017,0.3362489043168236,0.3356283763179478,0.3359811796587686,0.3354215336515963,0.33515068683199806,0.33476666195512583,0.3343319020859067,0.3338198689180538,0.33296517940039977,0.33307835746413494,0.33253588329800365,0.33183652092155363,0.3316086037164826,0.3310739349353467,0.33035974232623216,0.329153030005977,0.2831324878054119,0.27125113275401463,0.2662080743535746,0.2627276537707812,0.2599161545692262,0.2584120571308572,0.2562538685421576,0.2546966944966339,0.25279530303249215,0.25118193022473173,0.2506550668290677,0.24864596106125478,0.24805119083133945,0.24632776210950674,0.24515773509477604,0.2444607143357839,0.24325634363313545,0.24216515099142336,0.2418443497203479,0.24080779477074554,0.23415448571545344,0.23209698657790262,0.23159978363434738,0.23060147506188525,0.23065221005643552,0.2296125329470467,0.22920118923093807,0.22942442320052767,0.2290411788603863,0.228920975951632]}},\"id\":\"4ceee02f-69ef-496e-aad6-6ad220585c7c\",\"type\":\"ColumnDataSource\"},{\"attributes\":{\"source\":{\"id\":\"3e07dc2a-9733-4966-b859-c3c526a6b274\",\"type\":\"ColumnDataSource\"}},\"id\":\"414f96d6-8d36-499e-93e5-e0a94a4bb6a7\",\"type\":\"CDSView\"},{\"attributes\":{\"data_source\":{\"id\":\"3e07dc2a-9733-4966-b859-c3c526a6b274\",\"type\":\"ColumnDataSource\"},\"glyph\":{\"id\":\"d6214b43-9a85-4603-aec3-76385d5fbd72\",\"type\":\"Line\"},\"hover_glyph\":null,\"muted_glyph\":null,\"nonselection_glyph\":{\"id\":\"4eadabc8-4be1-4898-843d-8eb1385b0bdf\",\"type\":\"Line\"},\"selection_glyph\":null,\"view\":{\"id\":\"414f96d6-8d36-499e-93e5-e0a94a4bb6a7\",\"type\":\"CDSView\"}},\"id\":\"135adc8b-84a7-41a5-94f2-6ad929c3676e\",\"type\":\"GlyphRenderer\"},{\"attributes\":{\"label\":{\"value\":\"validation - (256, 1, 0.9, 0.1)\"},\"renderers\":[{\"id\":\"135adc8b-84a7-41a5-94f2-6ad929c3676e\",\"type\":\"GlyphRenderer\"}]},\"id\":\"657f1cf0-6234-4cfa-8474-2ce6bf8d7b7c\",\"type\":\"LegendItem\"},{\"attributes\":{\"fill_alpha\":{\"value\":0.5},\"fill_color\":{\"value\":\"red\"},\"line_alpha\":{\"value\":0.5},\"line_color\":{\"value\":\"red\"},\"size\":{\"units\":\"screen\",\"value\":5},\"x\":{\"value\":89},\"y\":{\"value\":0.23687999958496092}},\"id\":\"3b60e829-3611-402f-98a8-543f2bb00d24\",\"type\":\"Circle\"},{\"attributes\":{\"source\":{\"id\":\"53c3222a-3ead-414c-b5b2-dfed4a3b47a2\",\"type\":\"ColumnDataSource\"}},\"id\":\"1c2a4cf0-89f9-4d70-a939-4989e0dad624\",\"type\":\"CDSView\"},{\"attributes\":{\"data_source\":{\"id\":\"53c3222a-3ead-414c-b5b2-dfed4a3b47a2\",\"type\":\"ColumnDataSource\"},\"glyph\":{\"id\":\"3b60e829-3611-402f-98a8-543f2bb00d24\",\"type\":\"Circle\"},\"hover_glyph\":null,\"muted_glyph\":null,\"nonselection_glyph\":{\"id\":\"4a8d45b3-318c-4ca8-b194-f11cc83ab352\",\"type\":\"Circle\"},\"selection_glyph\":null,\"view\":{\"id\":\"1c2a4cf0-89f9-4d70-a939-4989e0dad624\",\"type\":\"CDSView\"}},\"id\":\"41484fdc-6f2d-46ba-b0ea-1d207a4d8dd1\",\"type\":\"GlyphRenderer\"},{\"attributes\":{},\"id\":\"2cd73963-843a-47f4-9455-927519ac5e00\",\"type\":\"HelpTool\"},{\"attributes\":{\"line_color\":\"#ff7f0e\",\"line_dash\":[6],\"line_width\":3,\"x\":{\"field\":\"x\"},\"y\":{\"field\":\"y\"}},\"id\":\"7595a627-ecdd-4d6b-aaff-5f0754bc70f0\",\"type\":\"Line\"},{\"attributes\":{\"line_alpha\":0.1,\"line_color\":\"#1f77b4\",\"line_width\":3,\"x\":{\"field\":\"x\"},\"y\":{\"field\":\"y\"}},\"id\":\"b1433087-e515-49fb-ab4d-19f008d90985\",\"type\":\"Line\"},{\"attributes\":{\"plot\":null,\"text\":\"Training & Test Error\"},\"id\":\"6f6a8dfd-2fe0-472f-93eb-1e5a981f2b03\",\"type\":\"Title\"},{\"attributes\":{},\"id\":\"c208889b-79ee-4c91-8eae-e927f3e54a8d\",\"type\":\"LinearScale\"},{\"attributes\":{\"callback\":null,\"data\":{}},\"id\":\"dbb087f6-bcb5-4779-b8cc-828dd4225e49\",\"type\":\"ColumnDataSource\"},{\"attributes\":{\"line_alpha\":0.1,\"line_color\":\"#1f77b4\",\"line_dash\":[6],\"line_width\":3,\"x\":{\"field\":\"x\"},\"y\":{\"field\":\"y\"}},\"id\":\"3a2cf2bb-e570-4c51-b8ae-f1aee534cf4d\",\"type\":\"Line\"},{\"attributes\":{\"source\":{\"id\":\"4ceee02f-69ef-496e-aad6-6ad220585c7c\",\"type\":\"ColumnDataSource\"}},\"id\":\"02f4d90e-1496-4aa2-beb8-14acc2e685f3\",\"type\":\"CDSView\"},{\"attributes\":{},\"id\":\"4588cfd9-d2cc-4475-97c9-463254595777\",\"type\":\"WheelZoomTool\"},{\"attributes\":{\"callback\":null},\"id\":\"1b5ec3b8-56ff-4d94-a868-11e8bdc67d1c\",\"type\":\"DataRange1d\"},{\"attributes\":{\"data_source\":{\"id\":\"4ceee02f-69ef-496e-aad6-6ad220585c7c\",\"type\":\"ColumnDataSource\"},\"glyph\":{\"id\":\"7595a627-ecdd-4d6b-aaff-5f0754bc70f0\",\"type\":\"Line\"},\"hover_glyph\":null,\"muted_glyph\":null,\"nonselection_glyph\":{\"id\":\"3a2cf2bb-e570-4c51-b8ae-f1aee534cf4d\",\"type\":\"Line\"},\"selection_glyph\":null,\"view\":{\"id\":\"02f4d90e-1496-4aa2-beb8-14acc2e685f3\",\"type\":\"CDSView\"}},\"id\":\"c1f3f633-658e-4d36-b024-5e244175d55c\",\"type\":\"GlyphRenderer\"},{\"attributes\":{\"label\":{\"value\":\"train - (256, 1, 0.0, 1.0)\"},\"renderers\":[{\"id\":\"c1f3f633-658e-4d36-b024-5e244175d55c\",\"type\":\"GlyphRenderer\"}]},\"id\":\"1144a34d-4b2f-4209-8ea2-4159596cec4e\",\"type\":\"LegendItem\"},{\"attributes\":{\"active_drag\":\"auto\",\"active_inspect\":\"auto\",\"active_scroll\":\"auto\",\"active_tap\":\"auto\",\"tools\":[{\"id\":\"4ffbe1fc-ad48-4c8b-965d-5b81f1925f8f\",\"type\":\"PanTool\"},{\"id\":\"4588cfd9-d2cc-4475-97c9-463254595777\",\"type\":\"WheelZoomTool\"},{\"id\":\"99bc8ac7-46e4-4cb2-b2c5-3d20d724151e\",\"type\":\"BoxZoomTool\"},{\"id\":\"0889d769-cbc8-496d-abcb-efc60c0c876c\",\"type\":\"SaveTool\"},{\"id\":\"b59d2530-dd29-49fc-9392-2e6c71346313\",\"type\":\"ResetTool\"},{\"id\":\"2cd73963-843a-47f4-9455-927519ac5e00\",\"type\":\"HelpTool\"}]},\"id\":\"448945af-6870-427c-a7df-20facfe9aa5c\",\"type\":\"Toolbar\"},{\"attributes\":{\"dimension\":1,\"plot\":{\"id\":\"f65d977f-6de3-4e66-84b0-7b49f76e8263\",\"subtype\":\"Figure\",\"type\":\"Plot\"},\"ticker\":{\"id\":\"ee1518f7-3fdb-431c-99a1-1f6fe898bf09\",\"type\":\"BasicTicker\"}},\"id\":\"5b0b1ad2-64d1-49df-a616-e48324466b0a\",\"type\":\"Grid\"},{\"attributes\":{\"line_color\":\"#1f77b4\",\"line_dash\":[6],\"line_width\":3,\"x\":{\"field\":\"x\"},\"y\":{\"field\":\"y\"}},\"id\":\"646478d2-2acd-46f7-bc5d-dec350d6e912\",\"type\":\"Line\"},{\"attributes\":{\"callback\":null},\"id\":\"23087ffc-0bbf-4dd1-a755-d25bbd6b3b98\",\"type\":\"DataRange1d\"},{\"attributes\":{},\"id\":\"ee1518f7-3fdb-431c-99a1-1f6fe898bf09\",\"type\":\"BasicTicker\"},{\"attributes\":{\"callback\":null,\"column_names\":[\"x\",\"y\"],\"data\":{\"x\":{\"__ndarray__\":\"AQAAAAIAAAADAAAABAAAAAUAAAAGAAAABwAAAAgAAAAJAAAACgAAAAsAAAAMAAAADQAAAA4AAAAPAAAAEAAAABEAAAASAAAAEwAAABQAAAAVAAAAFgAAABcAAAAYAAAAGQAAABoAAAAbAAAAHAAAAB0AAAAeAAAAHwAAACAAAAAhAAAAIgAAACMAAAAkAAAAJQAAACYAAAAnAAAAKAAAACkAAAAqAAAAKwAAACwAAAAtAAAALgAAAC8AAAAwAAAAMQAAADIAAAAzAAAANAAAADUAAAA2AAAANwAAADgAAAA5AAAAOgAAADsAAAA8AAAAPQAAAD4AAAA/AAAAQAAAAEEAAABCAAAAQwAAAEQAAABFAAAARgAAAEcAAABIAAAASQAAAEoAAABLAAAATAAAAE0AAABOAAAATwAAAFAAAABRAAAAUgAAAFMAAABUAAAAVQAAAFYAAABXAAAAWAAAAFkAAABaAAAA\",\"dtype\":\"int32\",\"shape\":[90]},\"y\":[0.9282318386282714,0.7498858462617854,0.6561369438956232,0.6091165320352885,0.580560535823622,0.5614576397918154,0.5477818270367257,0.538209304484872,0.5303282085777811,0.5247621894741151,0.5199884168095092,0.5149992155579868,0.5124351470191083,0.509310651927811,0.5063937800465039,0.504798359619463,0.5026081689594102,0.5006872640350428,0.4992190713638297,0.49783751845048185,0.49738012296711626,0.49545921804039655,0.4942173814976663,0.49412683904355176,0.49307077063253274,0.49225979126982894,0.49153232950844933,0.4914339816732696,0.4900930167559788,0.489398337608281,0.378541595279988,0.35536975273095756,0.3456169258175803,0.3400071965614652,0.3357891672152558,0.33348033472378125,0.33227128079267837,0.3305517547706085,0.3303878417126208,0.32985239238859054,0.32944573190048976,0.3297150176379319,0.3296697464106512,0.33013416673873813,0.3305111667738368,0.3296962847104769,0.32978604662565725,0.3296197919566729,0.32881739850971065,0.3285223550087569,0.32873231982828477,0.32782767586031475,0.32700889111202003,0.32741555159982305,0.3267934625198034,0.32589037963181594,0.324824944755402,0.32432618073951647,0.32431291159091374,0.3234129508478847,0.27789351426949727,0.2658341964819545,0.2610783761999738,0.256993818917136,0.25488948747145845,0.25200539820603657,0.25027650571371846,0.2487193316745071,0.24746110381722417,0.24531306222981664,0.24477214913881448,0.24304247611324917,0.24161487144220217,0.24061422124933443,0.24042298935124692,0.23887986499445119,0.2373913783319686,0.23699486484105095,0.23547281501770453,0.23522382327873761,0.22838942932575676,0.22639203164037972,0.22580038355482734,0.22515097563691128,0.2247107519964624,0.22431579957596945,0.22438058426246343,0.22413081198893917,0.22437277887657472,0.223518089365233]}},\"id\":\"983605cd-9504-4a59-9bd0-34af3159bda9\",\"type\":\"ColumnDataSource\"},{\"attributes\":{\"axis_label\":\"t [Epochs]\",\"formatter\":{\"id\":\"f23a8aaa-8d3b-4dff-9a06-23e85c1b4f5b\",\"type\":\"BasicTickFormatter\"},\"plot\":{\"id\":\"f65d977f-6de3-4e66-84b0-7b49f76e8263\",\"subtype\":\"Figure\",\"type\":\"Plot\"},\"ticker\":{\"id\":\"e8ff85fe-688a-4ecf-abbf-e16996659227\",\"type\":\"BasicTicker\"}},\"id\":\"12064640-f4fb-4218-b1f6-d22b1ccb6706\",\"type\":\"LinearAxis\"},{\"attributes\":{\"callback\":null,\"column_names\":[\"x\",\"y\"],\"data\":{\"x\":{\"__ndarray__\":\"AQAAAAIAAAADAAAABAAAAAUAAAAGAAAABwAAAAgAAAAJAAAACgAAAAsAAAAMAAAADQAAAA4AAAAPAAAAEAAAABEAAAASAAAAEwAAABQAAAAVAAAAFgAAABcAAAAYAAAAGQAAABoAAAAbAAAAHAAAAB0AAAAeAAAAHwAAACAAAAAhAAAAIgAAACMAAAAkAAAAJQAAACYAAAAnAAAAKAAAACkAAAAqAAAAKwAAACwAAAAtAAAALgAAAC8AAAAwAAAAMQAAADIAAAAzAAAANAAAADUAAAA2AAAANwAAADgAAAA5AAAAOgAAADsAAAA8AAAAPQAAAD4AAAA/AAAAQAAAAEEAAABCAAAAQwAAAEQAAABFAAAARgAAAEcAAABIAAAASQAAAEoAAABLAAAATAAAAE0AAABOAAAATwAAAFAAAABRAAAAUgAAAFMAAABUAAAAVQAAAFYAAABXAAAAWAAAAFkAAABaAAAA\",\"dtype\":\"int32\",\"shape\":[90]},\"y\":[0.9523200000061035,0.8329399999816894,0.7429800001342773,0.7037199997802734,0.6961800000976562,0.6266400001342773,0.6557400001708984,0.5871999998168945,0.5926600000244141,0.5890400000976562,0.626800000427246,0.546959999987793,0.5597000001098632,0.6554800001708985,0.588659999987793,0.5343199998901367,0.5648399998413086,0.6009199999023438,0.6657000003417969,0.6707799999450684,0.5986600000732422,0.6008000002319336,0.5273400002563476,0.5747599999023438,0.588459999987793,0.5929399999023438,0.54116,0.5485799999633789,0.5906399998901367,0.533000000415039,0.32086000017089844,0.32496000051269536,0.31140000068359375,0.3064999999511719,0.3048400002685547,0.3011800002685547,0.3092399998046875,0.3222200002929687,0.30400000026855467,0.3114600002197266,0.31593999965820313,0.30310000029296874,0.32089999997558594,0.31671999970703124,0.3225999997314453,0.32282000019531254,0.3277000007080078,0.31492000017089844,0.3375799999511719,0.3321400007324219,0.34212000015869143,0.3145399996826172,0.31114000002441405,0.3194800005126953,0.3492199998535156,0.33788000068359375,0.3182999996337891,0.318219999609375,0.33038000046386723,0.3095399998046875,0.2606200002197266,0.25666000078125,0.2536000007080078,0.2528200005859375,0.25166000078125,0.2508600002441406,0.2501800000732422,0.2494600007324219,0.2509999997558594,0.24898000078125002,0.25017999965820314,0.24850000083007814,0.2482000000488281,0.2480600000732422,0.2474600005126953,0.24828000004882814,0.24638000075683592,0.24588000002441404,0.2478800004638672,0.24646000073242189,0.2436999999267578,0.24280000002441404,0.24288000004882812,0.24132000078125,0.24232000075683593,0.24301999999999999,0.24190000026855468,0.24142000024414062,0.24164000007324218,0.24180000058593748]}},\"id\":\"d0102c72-d0d8-4a7a-bd01-bb35297b6b24\",\"type\":\"ColumnDataSource\"},{\"attributes\":{},\"id\":\"507a8af5-eafd-4e35-91f4-e287a428a5e0\",\"type\":\"LinearScale\"},{\"attributes\":{\"data_source\":{\"id\":\"dbb087f6-bcb5-4779-b8cc-828dd4225e49\",\"type\":\"ColumnDataSource\"},\"glyph\":{\"id\":\"846661ec-2851-43de-a5b5-6b68183c95d1\",\"type\":\"Circle\"},\"hover_glyph\":null,\"muted_glyph\":null,\"nonselection_glyph\":{\"id\":\"f8071627-1e72-4b25-b4ac-36096bcf5be5\",\"type\":\"Circle\"},\"selection_glyph\":null,\"view\":{\"id\":\"956aa73e-2005-400e-a056-90c1d8971297\",\"type\":\"CDSView\"}},\"id\":\"f19b08d2-de08-4b05-926e-6c48ddac3949\",\"type\":\"GlyphRenderer\"},{\"attributes\":{},\"id\":\"e8ff85fe-688a-4ecf-abbf-e16996659227\",\"type\":\"BasicTicker\"},{\"attributes\":{},\"id\":\"f23a8aaa-8d3b-4dff-9a06-23e85c1b4f5b\",\"type\":\"BasicTickFormatter\"},{\"attributes\":{\"line_color\":\"#ff7f0e\",\"line_width\":3,\"x\":{\"field\":\"x\"},\"y\":{\"field\":\"y\"}},\"id\":\"5acad80d-a1ee-4519-8448-f227ddf0d63d\",\"type\":\"Line\"},{\"attributes\":{\"format\":\"0.0%\"},\"id\":\"34c686c6-4c69-4fff-82fb-89fe66c7146f\",\"type\":\"NumeralTickFormatter\"},{\"attributes\":{\"source\":{\"id\":\"983605cd-9504-4a59-9bd0-34af3159bda9\",\"type\":\"ColumnDataSource\"}},\"id\":\"c6c78b85-323f-4612-9875-8d5aacd7367d\",\"type\":\"CDSView\"},{\"attributes\":{\"source\":{\"id\":\"d0102c72-d0d8-4a7a-bd01-bb35297b6b24\",\"type\":\"ColumnDataSource\"}},\"id\":\"8677e958-a4ce-46a2-9822-f5ff049af5e1\",\"type\":\"CDSView\"},{\"attributes\":{\"data_source\":{\"id\":\"d0102c72-d0d8-4a7a-bd01-bb35297b6b24\",\"type\":\"ColumnDataSource\"},\"glyph\":{\"id\":\"5acad80d-a1ee-4519-8448-f227ddf0d63d\",\"type\":\"Line\"},\"hover_glyph\":null,\"muted_glyph\":null,\"nonselection_glyph\":{\"id\":\"b1433087-e515-49fb-ab4d-19f008d90985\",\"type\":\"Line\"},\"selection_glyph\":null,\"view\":{\"id\":\"8677e958-a4ce-46a2-9822-f5ff049af5e1\",\"type\":\"CDSView\"}},\"id\":\"8405f6b8-9646-46f4-8891-81ddbcbef610\",\"type\":\"GlyphRenderer\"},{\"attributes\":{\"data_source\":{\"id\":\"983605cd-9504-4a59-9bd0-34af3159bda9\",\"type\":\"ColumnDataSource\"},\"glyph\":{\"id\":\"646478d2-2acd-46f7-bc5d-dec350d6e912\",\"type\":\"Line\"},\"hover_glyph\":null,\"muted_glyph\":null,\"nonselection_glyph\":{\"id\":\"34bb6a28-0c30-461f-ba52-52931b56ec74\",\"type\":\"Line\"},\"selection_glyph\":null,\"view\":{\"id\":\"c6c78b85-323f-4612-9875-8d5aacd7367d\",\"type\":\"CDSView\"}},\"id\":\"64af2e09-54eb-443c-a043-d2f36414ba65\",\"type\":\"GlyphRenderer\"},{\"attributes\":{\"overlay\":{\"id\":\"feb6a0da-d585-4a07-9fe7-b2f6bd9f6139\",\"type\":\"BoxAnnotation\"}},\"id\":\"99bc8ac7-46e4-4cb2-b2c5-3d20d724151e\",\"type\":\"BoxZoomTool\"},{\"attributes\":{\"label\":{\"value\":\"validation - (256, 1, 0.0, 1.0)\"},\"renderers\":[{\"id\":\"8405f6b8-9646-46f4-8891-81ddbcbef610\",\"type\":\"GlyphRenderer\"}]},\"id\":\"4fff860e-0a26-4731-a0be-1c214d2b018c\",\"type\":\"LegendItem\"},{\"attributes\":{\"line_alpha\":0.1,\"line_color\":\"#1f77b4\",\"line_dash\":[6],\"line_width\":3,\"x\":{\"field\":\"x\"},\"y\":{\"field\":\"y\"}},\"id\":\"34bb6a28-0c30-461f-ba52-52931b56ec74\",\"type\":\"Line\"},{\"attributes\":{\"bottom_units\":\"screen\",\"fill_alpha\":{\"value\":0.5},\"fill_color\":{\"value\":\"lightgrey\"},\"left_units\":\"screen\",\"level\":\"overlay\",\"line_alpha\":{\"value\":1.0},\"line_color\":{\"value\":\"black\"},\"line_dash\":[4,4],\"line_width\":{\"value\":2},\"plot\":null,\"render_mode\":\"css\",\"right_units\":\"screen\",\"top_units\":\"screen\"},\"id\":\"feb6a0da-d585-4a07-9fe7-b2f6bd9f6139\",\"type\":\"BoxAnnotation\"},{\"attributes\":{\"fill_alpha\":{\"value\":0.5},\"fill_color\":{\"value\":\"red\"},\"line_alpha\":{\"value\":0.5},\"line_color\":{\"value\":\"red\"},\"size\":{\"units\":\"screen\",\"value\":5},\"x\":{\"value\":84},\"y\":{\"value\":0.24132000078125}},\"id\":\"846661ec-2851-43de-a5b5-6b68183c95d1\",\"type\":\"Circle\"},{\"attributes\":{\"source\":{\"id\":\"dbb087f6-bcb5-4779-b8cc-828dd4225e49\",\"type\":\"ColumnDataSource\"}},\"id\":\"956aa73e-2005-400e-a056-90c1d8971297\",\"type\":\"CDSView\"},{\"attributes\":{},\"id\":\"b59d2530-dd29-49fc-9392-2e6c71346313\",\"type\":\"ResetTool\"},{\"attributes\":{},\"id\":\"4ffbe1fc-ad48-4c8b-965d-5b81f1925f8f\",\"type\":\"PanTool\"},{\"attributes\":{\"plot\":{\"id\":\"f65d977f-6de3-4e66-84b0-7b49f76e8263\",\"subtype\":\"Figure\",\"type\":\"Plot\"},\"ticker\":{\"id\":\"e8ff85fe-688a-4ecf-abbf-e16996659227\",\"type\":\"BasicTicker\"}},\"id\":\"9789b6d4-ea14-4a29-bcde-8dce26073eb3\",\"type\":\"Grid\"},{\"attributes\":{\"background_fill_color\":{\"value\":\"#fafafa\"},\"below\":[{\"id\":\"12064640-f4fb-4218-b1f6-d22b1ccb6706\",\"type\":\"LinearAxis\"}],\"left\":[{\"id\":\"b2124c17-a684-4b25-8c27-7525fc1bf0e4\",\"type\":\"LinearAxis\"}],\"min_border\":10,\"min_border_left\":50,\"renderers\":[{\"id\":\"12064640-f4fb-4218-b1f6-d22b1ccb6706\",\"type\":\"LinearAxis\"},{\"id\":\"9789b6d4-ea14-4a29-bcde-8dce26073eb3\",\"type\":\"Grid\"},{\"id\":\"b2124c17-a684-4b25-8c27-7525fc1bf0e4\",\"type\":\"LinearAxis\"},{\"id\":\"5b0b1ad2-64d1-49df-a616-e48324466b0a\",\"type\":\"Grid\"},{\"id\":\"feb6a0da-d585-4a07-9fe7-b2f6bd9f6139\",\"type\":\"BoxAnnotation\"},{\"id\":\"ec9668fd-f96b-4fd4-bb1d-7268a7f2f82f\",\"type\":\"Legend\"},{\"id\":\"64af2e09-54eb-443c-a043-d2f36414ba65\",\"type\":\"GlyphRenderer\"},{\"id\":\"135adc8b-84a7-41a5-94f2-6ad929c3676e\",\"type\":\"GlyphRenderer\"},{\"id\":\"41484fdc-6f2d-46ba-b0ea-1d207a4d8dd1\",\"type\":\"GlyphRenderer\"},{\"id\":\"c1f3f633-658e-4d36-b024-5e244175d55c\",\"type\":\"GlyphRenderer\"},{\"id\":\"8405f6b8-9646-46f4-8891-81ddbcbef610\",\"type\":\"GlyphRenderer\"},{\"id\":\"f19b08d2-de08-4b05-926e-6c48ddac3949\",\"type\":\"GlyphRenderer\"}],\"title\":{\"id\":\"6f6a8dfd-2fe0-472f-93eb-1e5a981f2b03\",\"type\":\"Title\"},\"toolbar\":{\"id\":\"448945af-6870-427c-a7df-20facfe9aa5c\",\"type\":\"Toolbar\"},\"x_range\":{\"id\":\"1b5ec3b8-56ff-4d94-a868-11e8bdc67d1c\",\"type\":\"DataRange1d\"},\"x_scale\":{\"id\":\"c208889b-79ee-4c91-8eae-e927f3e54a8d\",\"type\":\"LinearScale\"},\"y_range\":{\"id\":\"23087ffc-0bbf-4dd1-a755-d25bbd6b3b98\",\"type\":\"DataRange1d\"},\"y_scale\":{\"id\":\"507a8af5-eafd-4e35-91f4-e287a428a5e0\",\"type\":\"LinearScale\"}},\"id\":\"f65d977f-6de3-4e66-84b0-7b49f76e8263\",\"subtype\":\"Figure\",\"type\":\"Plot\"},{\"attributes\":{\"click_policy\":\"hide\",\"items\":[{\"id\":\"4ce262d0-f9ae-4ea5-9a49-c6e2255944d0\",\"type\":\"LegendItem\"},{\"id\":\"657f1cf0-6234-4cfa-8474-2ce6bf8d7b7c\",\"type\":\"LegendItem\"},{\"id\":\"1144a34d-4b2f-4209-8ea2-4159596cec4e\",\"type\":\"LegendItem\"},{\"id\":\"4fff860e-0a26-4731-a0be-1c214d2b018c\",\"type\":\"LegendItem\"}],\"plot\":{\"id\":\"f65d977f-6de3-4e66-84b0-7b49f76e8263\",\"subtype\":\"Figure\",\"type\":\"Plot\"}},\"id\":\"ec9668fd-f96b-4fd4-bb1d-7268a7f2f82f\",\"type\":\"Legend\"},{\"attributes\":{\"fill_alpha\":{\"value\":0.1},\"fill_color\":{\"value\":\"#1f77b4\"},\"line_alpha\":{\"value\":0.1},\"line_color\":{\"value\":\"#1f77b4\"},\"size\":{\"units\":\"screen\",\"value\":5},\"x\":{\"value\":84},\"y\":{\"value\":0.24132000078125}},\"id\":\"f8071627-1e72-4b25-b4ac-36096bcf5be5\",\"type\":\"Circle\"},{\"attributes\":{},\"id\":\"0889d769-cbc8-496d-abcb-efc60c0c876c\",\"type\":\"SaveTool\"},{\"attributes\":{\"label\":{\"value\":\"train - (256, 1, 0.9, 0.1)\"},\"renderers\":[{\"id\":\"64af2e09-54eb-443c-a043-d2f36414ba65\",\"type\":\"GlyphRenderer\"}]},\"id\":\"4ce262d0-f9ae-4ea5-9a49-c6e2255944d0\",\"type\":\"LegendItem\"},{\"attributes\":{\"axis_label\":\"Error Rate\",\"formatter\":{\"id\":\"34c686c6-4c69-4fff-82fb-89fe66c7146f\",\"type\":\"NumeralTickFormatter\"},\"plot\":{\"id\":\"f65d977f-6de3-4e66-84b0-7b49f76e8263\",\"subtype\":\"Figure\",\"type\":\"Plot\"},\"ticker\":{\"id\":\"ee1518f7-3fdb-431c-99a1-1f6fe898bf09\",\"type\":\"BasicTicker\"}},\"id\":\"b2124c17-a684-4b25-8c27-7525fc1bf0e4\",\"type\":\"LinearAxis\"}],\"root_ids\":[\"f65d977f-6de3-4e66-84b0-7b49f76e8263\"]},\"title\":\"Bokeh Application\",\"version\":\"0.12.13\"}};\n",
       "  var render_items = [{\"docid\":\"a8d3876e-2d0d-42bd-8f91-0b7b2ce5257d\",\"elementid\":\"e22f693b-21e9-44ab-8eb9-0b1bd02e6d39\",\"modelid\":\"f65d977f-6de3-4e66-84b0-7b49f76e8263\"}];\n",
       "  root.Bokeh.embed.embed_items_notebook(docs_json, render_items);\n",
       "\n",
       "  }\n",
       "  if (root.Bokeh !== undefined) {\n",
       "    embed_document(root);\n",
       "  } else {\n",
       "    var attempts = 0;\n",
       "    var timer = setInterval(function(root) {\n",
       "      if (root.Bokeh !== undefined) {\n",
       "        embed_document(root);\n",
       "        clearInterval(timer);\n",
       "      }\n",
       "      attempts++;\n",
       "      if (attempts > 100) {\n",
       "        console.log(\"Bokeh: ERROR: Unable to run BokehJS code because BokehJS library is missing\")\n",
       "        clearInterval(timer);\n",
       "      }\n",
       "    }, 10, root)\n",
       "  }\n",
       "})(window);"
      ],
      "application/vnd.bokehjs_exec.v0+json": ""
     },
     "metadata": {
      "application/vnd.bokehjs_exec.v0+json": {
       "id": "f65d977f-6de3-4e66-84b0-7b49f76e8263"
      }
     },
     "output_type": "display_data"
    }
   ],
   "source": [
    "show(plots[1])"
   ]
  },
  {
   "cell_type": "code",
   "execution_count": 23,
   "metadata": {},
   "outputs": [
    {
     "data": {
      "text/html": [
       "\n",
       "<div class=\"bk-root\">\n",
       "    <div class=\"bk-plotdiv\" id=\"6a80501f-253e-4a3a-a992-f017e4d8f2a4\"></div>\n",
       "</div>"
      ]
     },
     "metadata": {},
     "output_type": "display_data"
    },
    {
     "data": {
      "application/javascript": [
       "(function(root) {\n",
       "  function embed_document(root) {\n",
       "    \n",
       "  var docs_json = {\"6f542918-44db-4c5b-800f-ccefcf7d5c53\":{\"roots\":{\"references\":[{\"attributes\":{\"plot\":{\"id\":\"09f3ff14-91f0-4c9a-bfb5-263a30978852\",\"subtype\":\"Figure\",\"type\":\"Plot\"},\"ticker\":{\"id\":\"09474ba6-226c-45c4-bc11-780d599fe6be\",\"type\":\"BasicTicker\"}},\"id\":\"33cd781e-c262-4086-8175-e8dd5e53d4bd\",\"type\":\"Grid\"},{\"attributes\":{\"background_fill_color\":{\"value\":\"#fafafa\"},\"below\":[{\"id\":\"8699aa00-4333-48c2-b9f2-82491fb639ab\",\"type\":\"LinearAxis\"}],\"left\":[{\"id\":\"7cff2f15-78c9-4396-b2b1-20f9329324f2\",\"type\":\"LogAxis\"}],\"min_border\":10,\"min_border_left\":50,\"renderers\":[{\"id\":\"8699aa00-4333-48c2-b9f2-82491fb639ab\",\"type\":\"LinearAxis\"},{\"id\":\"33cd781e-c262-4086-8175-e8dd5e53d4bd\",\"type\":\"Grid\"},{\"id\":\"7cff2f15-78c9-4396-b2b1-20f9329324f2\",\"type\":\"LogAxis\"},{\"id\":\"d042a347-1e0b-425a-8416-7e01acdb99a4\",\"type\":\"Grid\"},{\"id\":\"970e2b5e-a247-4199-81d4-295452b60971\",\"type\":\"BoxAnnotation\"},{\"id\":\"26dbdb4f-18be-451f-b742-8f732512a416\",\"type\":\"Legend\"},{\"id\":\"01c062ec-38ac-43de-9a3d-7dd709cea906\",\"type\":\"GlyphRenderer\"},{\"id\":\"45d8e327-2b99-40f4-b258-43e77a94d8bd\",\"type\":\"GlyphRenderer\"},{\"id\":\"f15b2cf3-d15b-48f6-81d7-cdc3c012fc4b\",\"type\":\"GlyphRenderer\"},{\"id\":\"cae23936-9d59-432b-882c-2383a1095b75\",\"type\":\"GlyphRenderer\"}],\"title\":{\"id\":\"7962d555-1a4f-4dbe-af09-a66e139018d0\",\"type\":\"Title\"},\"toolbar\":{\"id\":\"6819d78d-c56f-44ca-8d09-01e6ce25ff8e\",\"type\":\"Toolbar\"},\"x_range\":{\"id\":\"2ee4b17e-a481-46c4-be4a-dd211fa77993\",\"type\":\"DataRange1d\"},\"x_scale\":{\"id\":\"a1916f70-2c8c-4c7d-aa41-04005bd5e34e\",\"type\":\"LinearScale\"},\"y_range\":{\"id\":\"fbc57115-5e02-49fc-a32e-a936dc1df2a3\",\"type\":\"DataRange1d\"},\"y_scale\":{\"id\":\"8b140831-2fdc-470e-9710-068cf47c7062\",\"type\":\"LogScale\"}},\"id\":\"09f3ff14-91f0-4c9a-bfb5-263a30978852\",\"subtype\":\"Figure\",\"type\":\"Plot\"},{\"attributes\":{\"data_source\":{\"id\":\"1abf3ab0-417a-4384-9de6-8b55e7a7782e\",\"type\":\"ColumnDataSource\"},\"glyph\":{\"id\":\"026bdeb9-0b83-4e32-a6e5-b4b04e887b25\",\"type\":\"Line\"},\"hover_glyph\":null,\"muted_glyph\":null,\"nonselection_glyph\":{\"id\":\"76196d22-f3c8-4969-a548-fdd2f3a15604\",\"type\":\"Line\"},\"selection_glyph\":null,\"view\":{\"id\":\"8d1fdf42-f316-4a08-9c20-f4098240de90\",\"type\":\"CDSView\"}},\"id\":\"01c062ec-38ac-43de-9a3d-7dd709cea906\",\"type\":\"GlyphRenderer\"},{\"attributes\":{\"dimension\":1,\"plot\":{\"id\":\"09f3ff14-91f0-4c9a-bfb5-263a30978852\",\"subtype\":\"Figure\",\"type\":\"Plot\"},\"ticker\":{\"id\":\"10e9f3d9-b946-47b7-93d5-23451b598e16\",\"type\":\"LogTicker\"}},\"id\":\"d042a347-1e0b-425a-8416-7e01acdb99a4\",\"type\":\"Grid\"},{\"attributes\":{\"label\":{\"value\":\"validation - (256, 1, 0.9, 0.1)\"},\"renderers\":[{\"id\":\"45d8e327-2b99-40f4-b258-43e77a94d8bd\",\"type\":\"GlyphRenderer\"}]},\"id\":\"187b5cf4-1240-451e-8441-0ab49ec595c4\",\"type\":\"LegendItem\"},{\"attributes\":{\"line_alpha\":0.1,\"line_color\":\"#1f77b4\",\"line_width\":3,\"x\":{\"field\":\"x\"},\"y\":{\"field\":\"y\"}},\"id\":\"78c818c3-e293-4add-82a7-82639a201d39\",\"type\":\"Line\"},{\"attributes\":{\"callback\":null,\"column_names\":[\"x\",\"y\"],\"data\":{\"x\":{\"__ndarray__\":\"AQAAAAIAAAADAAAABAAAAAUAAAAGAAAABwAAAAgAAAAJAAAACgAAAAsAAAAMAAAADQAAAA4AAAAPAAAAEAAAABEAAAASAAAAEwAAABQAAAAVAAAAFgAAABcAAAAYAAAAGQAAABoAAAAbAAAAHAAAAB0AAAAeAAAAHwAAACAAAAAhAAAAIgAAACMAAAAkAAAAJQAAACYAAAAnAAAAKAAAACkAAAAqAAAAKwAAACwAAAAtAAAALgAAAC8AAAAwAAAAMQAAADIAAAAzAAAANAAAADUAAAA2AAAANwAAADgAAAA5AAAAOgAAADsAAAA8AAAAPQAAAD4AAAA/AAAAQAAAAEEAAABCAAAAQwAAAEQAAABFAAAARgAAAEcAAABIAAAASQAAAEoAAABLAAAATAAAAE0AAABOAAAATwAAAFAAAABRAAAAUgAAAFMAAABUAAAAVQAAAFYAAABXAAAAWAAAAFkAAABaAAAA\",\"dtype\":\"int32\",\"shape\":[90]},\"y\":[4.493376360321045,3.2346071715545652,2.884599764099121,2.480370271911621,2.2585446325683596,2.389369236907959,2.22948926361084,2.221680208206177,2.4573490605163575,2.245195956115723,2.2005182526397706,2.069060320739746,2.0486523194885256,2.0594588262939455,2.0461267365264892,2.117572138366699,2.0566404222106933,2.10845626701355,2.377163919830322,1.9742742096328736,1.9977358380126953,2.184913236618042,2.0548287017059326,1.9889740564727783,2.125024327850342,1.9992236580657958,1.8888084350967407,1.9973520917510987,2.0492301554107666,1.9570195891952515,1.2797341160202027,1.22335160446167,1.1988677026367187,1.1825112502670287,1.2097173246383668,1.1821542106246947,1.1744022219848633,1.185554750366211,1.1750810637664795,1.1962292418289184,1.211465174407959,1.2040760110092164,1.2186634650421142,1.2277350443649293,1.1806587370300292,1.2197624226760864,1.1929592823028565,1.212087907562256,1.197770472946167,1.2088668728637695,1.2023680183410645,1.212334807548523,1.2078700390625,1.1832300122451782,1.2070693841171265,1.238607806968689,1.208642328529358,1.2297978511810304,1.2213144916915895,1.2488689303588867,1.012933881416321,0.9935497012329102,0.9818431276702881,0.9823567039680481,0.9752802014732361,0.9725577382659912,0.9685514155960083,0.9698715229797363,0.9661200273132324,0.9661300813293457,0.9652270193481445,0.9652358314895629,0.9658371592903138,0.9615533235549927,0.9597862707138062,0.9604525426483155,0.9599528736305237,0.9600521181869507,0.960332522315979,0.9595070024871826,0.9468649972915649,0.9435160349082947,0.943732594871521,0.9415329566383361,0.9391674461746216,0.9390440661048889,0.9410821620559693,0.939781604270935,0.9404178450584412,0.942553798942566]}},\"id\":\"a6a628eb-95d8-4aaf-9145-3e3d08b2effc\",\"type\":\"ColumnDataSource\"},{\"attributes\":{\"line_color\":\"#1f77b4\",\"line_width\":3,\"x\":{\"field\":\"x\"},\"y\":{\"field\":\"y\"}},\"id\":\"7694e32e-5b09-4e7d-9070-4170e40dd782\",\"type\":\"Line\"},{\"attributes\":{},\"id\":\"a1916f70-2c8c-4c7d-aa41-04005bd5e34e\",\"type\":\"LinearScale\"},{\"attributes\":{\"data_source\":{\"id\":\"a6a628eb-95d8-4aaf-9145-3e3d08b2effc\",\"type\":\"ColumnDataSource\"},\"glyph\":{\"id\":\"7694e32e-5b09-4e7d-9070-4170e40dd782\",\"type\":\"Line\"},\"hover_glyph\":null,\"muted_glyph\":null,\"nonselection_glyph\":{\"id\":\"78c818c3-e293-4add-82a7-82639a201d39\",\"type\":\"Line\"},\"selection_glyph\":null,\"view\":{\"id\":\"0d4d0864-2099-4bcc-b4ee-e74646fa8049\",\"type\":\"CDSView\"}},\"id\":\"45d8e327-2b99-40f4-b258-43e77a94d8bd\",\"type\":\"GlyphRenderer\"},{\"attributes\":{\"axis_label\":\"t [Epochs]\",\"formatter\":{\"id\":\"13964f73-de36-4d33-9125-ef1afa62e352\",\"type\":\"BasicTickFormatter\"},\"plot\":{\"id\":\"09f3ff14-91f0-4c9a-bfb5-263a30978852\",\"subtype\":\"Figure\",\"type\":\"Plot\"},\"ticker\":{\"id\":\"09474ba6-226c-45c4-bc11-780d599fe6be\",\"type\":\"BasicTicker\"}},\"id\":\"8699aa00-4333-48c2-b9f2-82491fb639ab\",\"type\":\"LinearAxis\"},{\"attributes\":{\"source\":{\"id\":\"a6a628eb-95d8-4aaf-9145-3e3d08b2effc\",\"type\":\"ColumnDataSource\"}},\"id\":\"0d4d0864-2099-4bcc-b4ee-e74646fa8049\",\"type\":\"CDSView\"},{\"attributes\":{\"data_source\":{\"id\":\"ead4c5c3-b33c-4600-863f-3d63c5e5946c\",\"type\":\"ColumnDataSource\"},\"glyph\":{\"id\":\"688c9626-769e-4e1c-8d5e-a071c0b725d5\",\"type\":\"Line\"},\"hover_glyph\":null,\"muted_glyph\":null,\"nonselection_glyph\":{\"id\":\"c0d58ae3-9bf9-4676-ad7a-b752a4cbc0ed\",\"type\":\"Line\"},\"selection_glyph\":null,\"view\":{\"id\":\"f1cb6f78-bc47-4b2e-a9f8-85e220923034\",\"type\":\"CDSView\"}},\"id\":\"f15b2cf3-d15b-48f6-81d7-cdc3c012fc4b\",\"type\":\"GlyphRenderer\"},{\"attributes\":{},\"id\":\"a85bcc4c-9633-4798-be18-952c13df75ef\",\"type\":\"WheelZoomTool\"},{\"attributes\":{},\"id\":\"270211b8-0789-4461-8488-70cce869042f\",\"type\":\"ResetTool\"},{\"attributes\":{\"callback\":null},\"id\":\"2ee4b17e-a481-46c4-be4a-dd211fa77993\",\"type\":\"DataRange1d\"},{\"attributes\":{\"callback\":null,\"column_names\":[\"x\",\"y\"],\"data\":{\"x\":{\"__ndarray__\":\"AQAAAAIAAAADAAAABAAAAAUAAAAGAAAABwAAAAgAAAAJAAAACgAAAAsAAAAMAAAADQAAAA4AAAAPAAAAEAAAABEAAAASAAAAEwAAABQAAAAVAAAAFgAAABcAAAAYAAAAGQAAABoAAAAbAAAAHAAAAB0AAAAeAAAAHwAAACAAAAAhAAAAIgAAACMAAAAkAAAAJQAAACYAAAAnAAAAKAAAACkAAAAqAAAAKwAAACwAAAAtAAAALgAAAC8AAAAwAAAAMQAAADIAAAAzAAAANAAAADUAAAA2AAAANwAAADgAAAA5AAAAOgAAADsAAAA8AAAAPQAAAD4AAAA/AAAAQAAAAEEAAABCAAAAQwAAAEQAAABFAAAARgAAAEcAAABIAAAASQAAAEoAAABLAAAATAAAAE0AAABOAAAATwAAAFAAAABRAAAAUgAAAFMAAABUAAAAVQAAAFYAAABXAAAAWAAAAFkAAABaAAAA\",\"dtype\":\"int32\",\"shape\":[90]},\"y\":[6.180937685435894,4.41007458840298,3.5251692072401184,3.0946565532062547,2.8545947255214186,2.7052944092337317,2.604008580690207,2.534706261302423,2.485403316964524,2.4436060342801373,2.411582091892036,2.384381215315939,2.3606721959070756,2.3407538124124496,2.327632508583502,2.314385246680973,2.302514409692548,2.2894735582836585,2.2827717815571487,2.269267412640833,2.2639315358393617,2.255720382683543,2.248490618871889,2.2460265482682478,2.2421525373251456,2.234494265868712,2.2274188471632734,2.2260178227384637,2.219998452154056,2.2152397727025264,1.6667203412107894,1.5490572785405579,1.5022222616877319,1.47311244481749,1.4540542595936046,1.4415544781075902,1.4338995256975402,1.4280145740274406,1.4242551458546873,1.4237247083734383,1.4202816476114122,1.4184448158896843,1.4190445365152278,1.42095466830723,1.4210754065767157,1.4199270072818266,1.4189139440236496,1.4185820184252556,1.4168985546901738,1.4131392496966715,1.4119290295810882,1.4085002995484615,1.4058057176665741,1.4046748201003623,1.401406632205177,1.398156494778783,1.3965685309410047,1.3921180524893468,1.3899526315410389,1.3859204228500885,1.1844052628177943,1.1290994454363552,1.106725949897863,1.0893684652434434,1.0787930444532192,1.0695990819110843,1.0591093373762932,1.0541678379849693,1.044616961538328,1.0374702328040757,1.034409146401083,1.0275005007997322,1.0234667175018326,1.0162147807173805,1.0110331918295012,1.007413640495048,1.0025266383620692,0.9978054584164155,0.9960805708952173,0.9920000993210342,0.9663952573686861,0.9566757152656327,0.954344208172322,0.9481504299607536,0.947733035850887,0.9447909388576347,0.9426953258719868,0.9430952275827158,0.9422174739973328,0.9411042839897265]}},\"id\":\"ead4c5c3-b33c-4600-863f-3d63c5e5946c\",\"type\":\"ColumnDataSource\"},{\"attributes\":{\"num_minor_ticks\":10},\"id\":\"10e9f3d9-b946-47b7-93d5-23451b598e16\",\"type\":\"LogTicker\"},{\"attributes\":{},\"id\":\"583de3f3-7f13-4a9c-88e1-d2bcbfd0c0f8\",\"type\":\"HelpTool\"},{\"attributes\":{},\"id\":\"8b140831-2fdc-470e-9710-068cf47c7062\",\"type\":\"LogScale\"},{\"attributes\":{\"label\":{\"value\":\"validation - (256, 1, 0.0, 1.0)\"},\"renderers\":[{\"id\":\"cae23936-9d59-432b-882c-2383a1095b75\",\"type\":\"GlyphRenderer\"}]},\"id\":\"b9ad1871-8888-46fa-ab57-052ff7e5b763\",\"type\":\"LegendItem\"},{\"attributes\":{\"line_alpha\":0.1,\"line_color\":\"#1f77b4\",\"line_dash\":[6],\"line_width\":3,\"x\":{\"field\":\"x\"},\"y\":{\"field\":\"y\"}},\"id\":\"c0d58ae3-9bf9-4676-ad7a-b752a4cbc0ed\",\"type\":\"Line\"},{\"attributes\":{},\"id\":\"4e5fbe80-720f-4e5d-a214-103f68cfc950\",\"type\":\"PanTool\"},{\"attributes\":{\"line_color\":\"#ff7f0e\",\"line_dash\":[6],\"line_width\":3,\"x\":{\"field\":\"x\"},\"y\":{\"field\":\"y\"}},\"id\":\"688c9626-769e-4e1c-8d5e-a071c0b725d5\",\"type\":\"Line\"},{\"attributes\":{\"source\":{\"id\":\"d1d7117b-1231-4fc9-a669-2c8b389d3ecc\",\"type\":\"ColumnDataSource\"}},\"id\":\"3dd82c26-b943-4b34-9608-9f9120e58897\",\"type\":\"CDSView\"},{\"attributes\":{\"line_color\":\"#ff7f0e\",\"line_width\":3,\"x\":{\"field\":\"x\"},\"y\":{\"field\":\"y\"}},\"id\":\"da84ce5f-9510-4d73-8b2a-a1711995c220\",\"type\":\"Line\"},{\"attributes\":{\"label\":{\"value\":\"train - (256, 1, 0.0, 1.0)\"},\"renderers\":[{\"id\":\"f15b2cf3-d15b-48f6-81d7-cdc3c012fc4b\",\"type\":\"GlyphRenderer\"}]},\"id\":\"3f738c66-1888-4c88-a6e7-853600ec384f\",\"type\":\"LegendItem\"},{\"attributes\":{\"callback\":null,\"column_names\":[\"x\",\"y\"],\"data\":{\"x\":{\"__ndarray__\":\"AQAAAAIAAAADAAAABAAAAAUAAAAGAAAABwAAAAgAAAAJAAAACgAAAAsAAAAMAAAADQAAAA4AAAAPAAAAEAAAABEAAAASAAAAEwAAABQAAAAVAAAAFgAAABcAAAAYAAAAGQAAABoAAAAbAAAAHAAAAB0AAAAeAAAAHwAAACAAAAAhAAAAIgAAACMAAAAkAAAAJQAAACYAAAAnAAAAKAAAACkAAAAqAAAAKwAAACwAAAAtAAAALgAAAC8AAAAwAAAAMQAAADIAAAAzAAAANAAAADUAAAA2AAAANwAAADgAAAA5AAAAOgAAADsAAAA8AAAAPQAAAD4AAAA/AAAAQAAAAEEAAABCAAAAQwAAAEQAAABFAAAARgAAAEcAAABIAAAASQAAAEoAAABLAAAATAAAAE0AAABOAAAATwAAAFAAAABRAAAAUgAAAFMAAABUAAAAVQAAAFYAAABXAAAAWAAAAFkAAABaAAAA\",\"dtype\":\"int32\",\"shape\":[90]},\"y\":[6.597966432800293,4.794501354064941,3.6315753645324707,3.3806169860076904,3.341897753677368,2.914002694015503,3.0817927667236327,2.6359812536621092,2.708199571304321,2.643487052459717,2.9106901462554933,2.4484836877441407,2.5093927498626707,3.194566453857422,2.759092261657715,2.3523221353149415,2.5385742441558836,2.756734806137085,3.2456965980529784,3.361378998336792,2.747338512573242,2.790786773071289,2.3114130396270753,2.5905983531188963,2.7400783938598634,2.7580106537628173,2.4388270631408693,2.440388085708618,2.7010453062438966,2.3657154638671876,1.2997107369232177,1.3184628252792359,1.2593397220230103,1.2360579684448243,1.2288734423828125,1.2093453076171874,1.2454969081497191,1.3067740151977538,1.2229719945907593,1.2654118633270264,1.278050774078369,1.2113661673355103,1.3012491007232665,1.282046988143921,1.302318649787903,1.3071604145050049,1.3288691107177735,1.2756417888259888,1.377051550216675,1.3609923789215088,1.3996365380096436,1.2728286988830566,1.2609797554397584,1.2895319019317626,1.4328363526153565,1.3869831883239747,1.2909393472671509,1.3036734694290162,1.3430528353881837,1.2643332134246825,1.0315793173980712,1.021429612083435,1.0068704412078857,1.0051162746429443,0.999217142829895,0.9946017583084107,0.9946842345237732,0.9950720372390747,0.9917359091377258,0.9857000912094116,0.9893431655883789,0.9875938291168213,0.9841761489486694,0.9844843482589721,0.9845542661857605,0.9856256142234803,0.9813421887016296,0.9782111032676697,0.9851662873840332,0.9789064513397217,0.9634298658370972,0.9601072323226929,0.9609405594253541,0.9573972807312011,0.9571211615753173,0.9583517182540894,0.9588205223274231,0.9563471797943115,0.9570258902359009,0.957944670753479]}},\"id\":\"d1d7117b-1231-4fc9-a669-2c8b389d3ecc\",\"type\":\"ColumnDataSource\"},{\"attributes\":{\"active_drag\":\"auto\",\"active_inspect\":\"auto\",\"active_scroll\":\"auto\",\"active_tap\":\"auto\",\"tools\":[{\"id\":\"4e5fbe80-720f-4e5d-a214-103f68cfc950\",\"type\":\"PanTool\"},{\"id\":\"a85bcc4c-9633-4798-be18-952c13df75ef\",\"type\":\"WheelZoomTool\"},{\"id\":\"2a135ee6-2a98-4d39-b1f1-94d69ba37d87\",\"type\":\"BoxZoomTool\"},{\"id\":\"b8038f15-123f-4997-98c6-024f8abc231c\",\"type\":\"SaveTool\"},{\"id\":\"270211b8-0789-4461-8488-70cce869042f\",\"type\":\"ResetTool\"},{\"id\":\"583de3f3-7f13-4a9c-88e1-d2bcbfd0c0f8\",\"type\":\"HelpTool\"}]},\"id\":\"6819d78d-c56f-44ca-8d09-01e6ce25ff8e\",\"type\":\"Toolbar\"},{\"attributes\":{},\"id\":\"09474ba6-226c-45c4-bc11-780d599fe6be\",\"type\":\"BasicTicker\"},{\"attributes\":{\"source\":{\"id\":\"ead4c5c3-b33c-4600-863f-3d63c5e5946c\",\"type\":\"ColumnDataSource\"}},\"id\":\"f1cb6f78-bc47-4b2e-a9f8-85e220923034\",\"type\":\"CDSView\"},{\"attributes\":{\"bottom_units\":\"screen\",\"fill_alpha\":{\"value\":0.5},\"fill_color\":{\"value\":\"lightgrey\"},\"left_units\":\"screen\",\"level\":\"overlay\",\"line_alpha\":{\"value\":1.0},\"line_color\":{\"value\":\"black\"},\"line_dash\":[4,4],\"line_width\":{\"value\":2},\"plot\":null,\"render_mode\":\"css\",\"right_units\":\"screen\",\"top_units\":\"screen\"},\"id\":\"970e2b5e-a247-4199-81d4-295452b60971\",\"type\":\"BoxAnnotation\"},{\"attributes\":{\"ticker\":null},\"id\":\"736efd24-7d5a-4a52-82ea-17b49a21911b\",\"type\":\"LogTickFormatter\"},{\"attributes\":{},\"id\":\"13964f73-de36-4d33-9125-ef1afa62e352\",\"type\":\"BasicTickFormatter\"},{\"attributes\":{\"line_alpha\":0.1,\"line_color\":\"#1f77b4\",\"line_dash\":[6],\"line_width\":3,\"x\":{\"field\":\"x\"},\"y\":{\"field\":\"y\"}},\"id\":\"76196d22-f3c8-4969-a548-fdd2f3a15604\",\"type\":\"Line\"},{\"attributes\":{\"overlay\":{\"id\":\"970e2b5e-a247-4199-81d4-295452b60971\",\"type\":\"BoxAnnotation\"}},\"id\":\"2a135ee6-2a98-4d39-b1f1-94d69ba37d87\",\"type\":\"BoxZoomTool\"},{\"attributes\":{},\"id\":\"b8038f15-123f-4997-98c6-024f8abc231c\",\"type\":\"SaveTool\"},{\"attributes\":{\"callback\":null,\"column_names\":[\"x\",\"y\"],\"data\":{\"x\":{\"__ndarray__\":\"AQAAAAIAAAADAAAABAAAAAUAAAAGAAAABwAAAAgAAAAJAAAACgAAAAsAAAAMAAAADQAAAA4AAAAPAAAAEAAAABEAAAASAAAAEwAAABQAAAAVAAAAFgAAABcAAAAYAAAAGQAAABoAAAAbAAAAHAAAAB0AAAAeAAAAHwAAACAAAAAhAAAAIgAAACMAAAAkAAAAJQAAACYAAAAnAAAAKAAAACkAAAAqAAAAKwAAACwAAAAtAAAALgAAAC8AAAAwAAAAMQAAADIAAAAzAAAANAAAADUAAAA2AAAANwAAADgAAAA5AAAAOgAAADsAAAA8AAAAPQAAAD4AAAA/AAAAQAAAAEEAAABCAAAAQwAAAEQAAABFAAAARgAAAEcAAABIAAAASQAAAEoAAABLAAAATAAAAE0AAABOAAAATwAAAFAAAABRAAAAUgAAAFMAAABUAAAAVQAAAFYAAABXAAAAWAAAAFkAAABaAAAA\",\"dtype\":\"int32\",\"shape\":[90]},\"y\":[5.466275997849344,3.715048945977431,3.1098143375700738,2.8306451965869925,2.6694546931979097,2.562953981608202,2.4892703240936327,2.4360199337609707,2.39570757765192,2.364412790093756,2.337185766480526,2.3142239649915295,2.2959442390512175,2.283042290908864,2.2671713936892726,2.2565915679187856,2.247924973483158,2.2367727616676016,2.2280634522236786,2.2218476535919134,2.2191727380790964,2.2103859887317396,2.2042747234943776,2.20043702195026,2.1961141287495307,2.1922251143824862,2.1878713158310963,2.186685053094778,2.1815685468235713,2.1778003008330886,1.6352877944527429,1.5200140885799238,1.4729589218487276,1.4444872073962831,1.4243894742237093,1.411117164959822,1.4032638126445607,1.395360286161202,1.3947336543971705,1.3926031942723522,1.391483876849462,1.3913869699274355,1.3916058163787826,1.3911124992773984,1.3926059962894635,1.3901189637680067,1.388398979859193,1.3889242588469697,1.386103416582839,1.3835511577414303,1.384264793887264,1.3802402246807215,1.376146160247541,1.378257661367581,1.3763936006528041,1.371442759821417,1.3656852298096145,1.3644612475781865,1.363397906309777,1.3591525402053624,1.1580333744892446,1.1027035552454514,1.0804155005361253,1.0640897373563936,1.0535658759765874,1.0419600374820437,1.0354216659943252,1.027649503496797,1.022080707114373,1.0127270803441772,1.009612683479568,1.0027603435922994,0.9962792671110681,0.9902378727030676,0.98917001319386,0.9826747644748154,0.9792728650308704,0.9738946575730302,0.9683414665615518,0.9665415504778571,0.9383358421921016,0.9302108569252754,0.9273485284651433,0.9254373662442835,0.9244301611033485,0.9221675628312439,0.9221281995114853,0.9209120194627252,0.9213048348695693,0.9172118204934145]}},\"id\":\"1abf3ab0-417a-4384-9de6-8b55e7a7782e\",\"type\":\"ColumnDataSource\"},{\"attributes\":{\"line_color\":\"#1f77b4\",\"line_dash\":[6],\"line_width\":3,\"x\":{\"field\":\"x\"},\"y\":{\"field\":\"y\"}},\"id\":\"026bdeb9-0b83-4e32-a6e5-b4b04e887b25\",\"type\":\"Line\"},{\"attributes\":{\"callback\":null},\"id\":\"fbc57115-5e02-49fc-a32e-a936dc1df2a3\",\"type\":\"DataRange1d\"},{\"attributes\":{\"source\":{\"id\":\"1abf3ab0-417a-4384-9de6-8b55e7a7782e\",\"type\":\"ColumnDataSource\"}},\"id\":\"8d1fdf42-f316-4a08-9c20-f4098240de90\",\"type\":\"CDSView\"},{\"attributes\":{\"data_source\":{\"id\":\"d1d7117b-1231-4fc9-a669-2c8b389d3ecc\",\"type\":\"ColumnDataSource\"},\"glyph\":{\"id\":\"da84ce5f-9510-4d73-8b2a-a1711995c220\",\"type\":\"Line\"},\"hover_glyph\":null,\"muted_glyph\":null,\"nonselection_glyph\":{\"id\":\"bb01e401-024f-40a9-bd87-080f2c4b6896\",\"type\":\"Line\"},\"selection_glyph\":null,\"view\":{\"id\":\"3dd82c26-b943-4b34-9608-9f9120e58897\",\"type\":\"CDSView\"}},\"id\":\"cae23936-9d59-432b-882c-2383a1095b75\",\"type\":\"GlyphRenderer\"},{\"attributes\":{\"line_alpha\":0.1,\"line_color\":\"#1f77b4\",\"line_width\":3,\"x\":{\"field\":\"x\"},\"y\":{\"field\":\"y\"}},\"id\":\"bb01e401-024f-40a9-bd87-080f2c4b6896\",\"type\":\"Line\"},{\"attributes\":{\"label\":{\"value\":\"train - (256, 1, 0.9, 0.1)\"},\"renderers\":[{\"id\":\"01c062ec-38ac-43de-9a3d-7dd709cea906\",\"type\":\"GlyphRenderer\"}]},\"id\":\"0d168c14-79eb-4af7-946a-5c0b08e0b473\",\"type\":\"LegendItem\"},{\"attributes\":{\"click_policy\":\"hide\",\"items\":[{\"id\":\"0d168c14-79eb-4af7-946a-5c0b08e0b473\",\"type\":\"LegendItem\"},{\"id\":\"187b5cf4-1240-451e-8441-0ab49ec595c4\",\"type\":\"LegendItem\"},{\"id\":\"3f738c66-1888-4c88-a6e7-853600ec384f\",\"type\":\"LegendItem\"},{\"id\":\"b9ad1871-8888-46fa-ab57-052ff7e5b763\",\"type\":\"LegendItem\"}],\"location\":\"bottom_left\",\"plot\":{\"id\":\"09f3ff14-91f0-4c9a-bfb5-263a30978852\",\"subtype\":\"Figure\",\"type\":\"Plot\"}},\"id\":\"26dbdb4f-18be-451f-b742-8f732512a416\",\"type\":\"Legend\"},{\"attributes\":{\"axis_label\":\"L(w(t))\",\"formatter\":{\"id\":\"736efd24-7d5a-4a52-82ea-17b49a21911b\",\"type\":\"LogTickFormatter\"},\"plot\":{\"id\":\"09f3ff14-91f0-4c9a-bfb5-263a30978852\",\"subtype\":\"Figure\",\"type\":\"Plot\"},\"ticker\":{\"id\":\"10e9f3d9-b946-47b7-93d5-23451b598e16\",\"type\":\"LogTicker\"}},\"id\":\"7cff2f15-78c9-4396-b2b1-20f9329324f2\",\"type\":\"LogAxis\"},{\"attributes\":{\"plot\":null,\"text\":\"Training & Test Loss\"},\"id\":\"7962d555-1a4f-4dbe-af09-a66e139018d0\",\"type\":\"Title\"}],\"root_ids\":[\"09f3ff14-91f0-4c9a-bfb5-263a30978852\"]},\"title\":\"Bokeh Application\",\"version\":\"0.12.13\"}};\n",
       "  var render_items = [{\"docid\":\"6f542918-44db-4c5b-800f-ccefcf7d5c53\",\"elementid\":\"6a80501f-253e-4a3a-a992-f017e4d8f2a4\",\"modelid\":\"09f3ff14-91f0-4c9a-bfb5-263a30978852\"}];\n",
       "  root.Bokeh.embed.embed_items_notebook(docs_json, render_items);\n",
       "\n",
       "  }\n",
       "  if (root.Bokeh !== undefined) {\n",
       "    embed_document(root);\n",
       "  } else {\n",
       "    var attempts = 0;\n",
       "    var timer = setInterval(function(root) {\n",
       "      if (root.Bokeh !== undefined) {\n",
       "        embed_document(root);\n",
       "        clearInterval(timer);\n",
       "      }\n",
       "      attempts++;\n",
       "      if (attempts > 100) {\n",
       "        console.log(\"Bokeh: ERROR: Unable to run BokehJS code because BokehJS library is missing\")\n",
       "        clearInterval(timer);\n",
       "      }\n",
       "    }, 10, root)\n",
       "  }\n",
       "})(window);"
      ],
      "application/vnd.bokehjs_exec.v0+json": ""
     },
     "metadata": {
      "application/vnd.bokehjs_exec.v0+json": {
       "id": "09f3ff14-91f0-4c9a-bfb5-263a30978852"
      }
     },
     "output_type": "display_data"
    }
   ],
   "source": [
    "show(plots[0])"
   ]
  },
  {
   "cell_type": "code",
   "execution_count": 24,
   "metadata": {},
   "outputs": [
    {
     "name": "stderr",
     "output_type": "stream",
     "text": [
      "C:\\Users\\giladiniv\\AppData\\Local\\Continuum\\anaconda3\\lib\\site-packages\\bokeh\\core\\json_encoder.py:80: FutureWarning: Conversion of the second argument of issubdtype from `float` to `np.floating` is deprecated. In future, it will be treated as `np.float64 == np.dtype(float).type`.\n",
      "  elif np.issubdtype(type(obj), np.float):\n"
     ]
    },
    {
     "data": {
      "text/html": [
       "\n",
       "<div class=\"bk-root\">\n",
       "    <div class=\"bk-plotdiv\" id=\"fa76928a-36dc-4354-bf9f-8a65ad51cf5a\"></div>\n",
       "</div>"
      ]
     },
     "metadata": {},
     "output_type": "display_data"
    },
    {
     "data": {
      "application/javascript": [
       "(function(root) {\n",
       "  function embed_document(root) {\n",
       "    \n",
       "  var docs_json = {\"59a582c3-684e-4b05-ae36-7b2839dee95c\":{\"roots\":{\"references\":[{\"attributes\":{},\"id\":\"24a51ab9-296f-4e94-8bdc-063c1d8efeb2\",\"type\":\"LinearScale\"},{\"attributes\":{\"callback\":null},\"id\":\"4745abfd-4085-4d50-a2f2-63ce022c7229\",\"type\":\"DataRange1d\"},{\"attributes\":{\"source\":{\"id\":\"c448ac27-48f5-4151-82f7-e5ce6f7c32c8\",\"type\":\"ColumnDataSource\"}},\"id\":\"0c1ef50d-f433-4b9a-8922-08dfe7870ebd\",\"type\":\"CDSView\"},{\"attributes\":{\"label\":{\"value\":\"train - (256, 1, 0.0, 1.0)\"},\"renderers\":[{\"id\":\"ef27358c-68c5-4fb5-8fe7-699fd4b9c040\",\"type\":\"GlyphRenderer\"}]},\"id\":\"0188ed84-48ae-4475-ab2f-177ec116729e\",\"type\":\"LegendItem\"},{\"attributes\":{\"callback\":null},\"id\":\"3fea8334-a038-49f5-94b8-e2b121584500\",\"type\":\"DataRange1d\"},{\"attributes\":{\"dimension\":1,\"plot\":{\"id\":\"a5455ecf-938a-4898-b130-0f0803dc6f32\",\"subtype\":\"Figure\",\"type\":\"Plot\"},\"ticker\":{\"id\":\"c303d121-d0cd-4f12-8e9c-79987654b948\",\"type\":\"BasicTicker\"}},\"id\":\"fe4e2eab-55d5-4eb5-be37-681fea9568fe\",\"type\":\"Grid\"},{\"attributes\":{},\"id\":\"c303d121-d0cd-4f12-8e9c-79987654b948\",\"type\":\"BasicTicker\"},{\"attributes\":{\"plot\":{\"id\":\"a5455ecf-938a-4898-b130-0f0803dc6f32\",\"subtype\":\"Figure\",\"type\":\"Plot\"},\"ticker\":{\"id\":\"ee6fa88c-337b-4d0a-8f17-d4c4a6814796\",\"type\":\"BasicTicker\"}},\"id\":\"692e27d9-f20b-4a1a-8693-a1b65744c042\",\"type\":\"Grid\"},{\"attributes\":{},\"id\":\"261ae569-62f8-4005-b082-2254c797f3ed\",\"type\":\"LinearScale\"},{\"attributes\":{\"overlay\":{\"id\":\"e1210ced-0e21-4c11-b998-eb67c1917504\",\"type\":\"BoxAnnotation\"}},\"id\":\"065efee4-a3be-45dc-a9c9-9966758b5292\",\"type\":\"BoxZoomTool\"},{\"attributes\":{},\"id\":\"ee6fa88c-337b-4d0a-8f17-d4c4a6814796\",\"type\":\"BasicTicker\"},{\"attributes\":{},\"id\":\"09a8bd04-45b5-4b9d-9ca8-16ebf640ba3e\",\"type\":\"SaveTool\"},{\"attributes\":{\"axis_label\":\"t [Epochs]\",\"formatter\":{\"id\":\"6fc13546-3eb7-4285-aecc-a2e47cd44668\",\"type\":\"BasicTickFormatter\"},\"plot\":{\"id\":\"a5455ecf-938a-4898-b130-0f0803dc6f32\",\"subtype\":\"Figure\",\"type\":\"Plot\"},\"ticker\":{\"id\":\"ee6fa88c-337b-4d0a-8f17-d4c4a6814796\",\"type\":\"BasicTicker\"}},\"id\":\"182d8ec2-9ea9-4b36-821d-8027917eb7f8\",\"type\":\"LinearAxis\"},{\"attributes\":{},\"id\":\"8cf51fa6-235d-4cf3-90e6-683c5e0466d3\",\"type\":\"PanTool\"},{\"attributes\":{},\"id\":\"e5c0e665-34b0-4582-8d4d-4447ccc3fcfe\",\"type\":\"HelpTool\"},{\"attributes\":{\"line_alpha\":0.1,\"line_color\":\"#1f77b4\",\"line_width\":3,\"x\":{\"field\":\"x\"},\"y\":{\"field\":\"y\"}},\"id\":\"9b9618f2-641c-4f17-a052-2f51acb4fe5b\",\"type\":\"Line\"},{\"attributes\":{},\"id\":\"1bf4dce4-0306-4b4b-8541-58a197a521f9\",\"type\":\"WheelZoomTool\"},{\"attributes\":{\"axis_label\":\"||w(t)||\",\"formatter\":{\"id\":\"a91c99ed-6c08-4434-86a8-34e717962574\",\"type\":\"BasicTickFormatter\"},\"plot\":{\"id\":\"a5455ecf-938a-4898-b130-0f0803dc6f32\",\"subtype\":\"Figure\",\"type\":\"Plot\"},\"ticker\":{\"id\":\"c303d121-d0cd-4f12-8e9c-79987654b948\",\"type\":\"BasicTicker\"}},\"id\":\"ce2a2a51-291d-403b-9ce5-3092510a1586\",\"type\":\"LinearAxis\"},{\"attributes\":{\"bottom_units\":\"screen\",\"fill_alpha\":{\"value\":0.5},\"fill_color\":{\"value\":\"lightgrey\"},\"left_units\":\"screen\",\"level\":\"overlay\",\"line_alpha\":{\"value\":1.0},\"line_color\":{\"value\":\"black\"},\"line_dash\":[4,4],\"line_width\":{\"value\":2},\"plot\":null,\"render_mode\":\"css\",\"right_units\":\"screen\",\"top_units\":\"screen\"},\"id\":\"e1210ced-0e21-4c11-b998-eb67c1917504\",\"type\":\"BoxAnnotation\"},{\"attributes\":{\"plot\":null,\"text\":\"The Norm of w(t)\"},\"id\":\"8d9eb4ad-7e0c-4ca3-a016-5c0e0f042c06\",\"type\":\"Title\"},{\"attributes\":{},\"id\":\"12876a8c-a906-4f23-8362-68f06a46eee1\",\"type\":\"ResetTool\"},{\"attributes\":{\"active_drag\":\"auto\",\"active_inspect\":\"auto\",\"active_scroll\":\"auto\",\"active_tap\":\"auto\",\"tools\":[{\"id\":\"8cf51fa6-235d-4cf3-90e6-683c5e0466d3\",\"type\":\"PanTool\"},{\"id\":\"1bf4dce4-0306-4b4b-8541-58a197a521f9\",\"type\":\"WheelZoomTool\"},{\"id\":\"065efee4-a3be-45dc-a9c9-9966758b5292\",\"type\":\"BoxZoomTool\"},{\"id\":\"09a8bd04-45b5-4b9d-9ca8-16ebf640ba3e\",\"type\":\"SaveTool\"},{\"id\":\"12876a8c-a906-4f23-8362-68f06a46eee1\",\"type\":\"ResetTool\"},{\"id\":\"e5c0e665-34b0-4582-8d4d-4447ccc3fcfe\",\"type\":\"HelpTool\"}]},\"id\":\"86eadaaf-ab64-4255-9d26-9d43d085d32c\",\"type\":\"Toolbar\"},{\"attributes\":{\"data_source\":{\"id\":\"c448ac27-48f5-4151-82f7-e5ce6f7c32c8\",\"type\":\"ColumnDataSource\"},\"glyph\":{\"id\":\"45fbf609-b271-44e2-a438-8de8e37c648a\",\"type\":\"Line\"},\"hover_glyph\":null,\"muted_glyph\":null,\"nonselection_glyph\":{\"id\":\"9b9618f2-641c-4f17-a052-2f51acb4fe5b\",\"type\":\"Line\"},\"selection_glyph\":null,\"view\":{\"id\":\"0c1ef50d-f433-4b9a-8922-08dfe7870ebd\",\"type\":\"CDSView\"}},\"id\":\"ef27358c-68c5-4fb5-8fe7-699fd4b9c040\",\"type\":\"GlyphRenderer\"},{\"attributes\":{\"background_fill_color\":{\"value\":\"#fafafa\"},\"below\":[{\"id\":\"182d8ec2-9ea9-4b36-821d-8027917eb7f8\",\"type\":\"LinearAxis\"}],\"left\":[{\"id\":\"ce2a2a51-291d-403b-9ce5-3092510a1586\",\"type\":\"LinearAxis\"}],\"min_border\":10,\"min_border_left\":50,\"renderers\":[{\"id\":\"182d8ec2-9ea9-4b36-821d-8027917eb7f8\",\"type\":\"LinearAxis\"},{\"id\":\"692e27d9-f20b-4a1a-8693-a1b65744c042\",\"type\":\"Grid\"},{\"id\":\"ce2a2a51-291d-403b-9ce5-3092510a1586\",\"type\":\"LinearAxis\"},{\"id\":\"fe4e2eab-55d5-4eb5-be37-681fea9568fe\",\"type\":\"Grid\"},{\"id\":\"e1210ced-0e21-4c11-b998-eb67c1917504\",\"type\":\"BoxAnnotation\"},{\"id\":\"a12096c5-3ab6-47c7-b6c7-06eff3d466ee\",\"type\":\"Legend\"},{\"id\":\"fe81bbb8-216f-4960-839d-c3d391f24a8b\",\"type\":\"GlyphRenderer\"},{\"id\":\"ef27358c-68c5-4fb5-8fe7-699fd4b9c040\",\"type\":\"GlyphRenderer\"}],\"title\":{\"id\":\"8d9eb4ad-7e0c-4ca3-a016-5c0e0f042c06\",\"type\":\"Title\"},\"toolbar\":{\"id\":\"86eadaaf-ab64-4255-9d26-9d43d085d32c\",\"type\":\"Toolbar\"},\"x_range\":{\"id\":\"3fea8334-a038-49f5-94b8-e2b121584500\",\"type\":\"DataRange1d\"},\"x_scale\":{\"id\":\"261ae569-62f8-4005-b082-2254c797f3ed\",\"type\":\"LinearScale\"},\"y_range\":{\"id\":\"4745abfd-4085-4d50-a2f2-63ce022c7229\",\"type\":\"DataRange1d\"},\"y_scale\":{\"id\":\"24a51ab9-296f-4e94-8bdc-063c1d8efeb2\",\"type\":\"LinearScale\"}},\"id\":\"a5455ecf-938a-4898-b130-0f0803dc6f32\",\"subtype\":\"Figure\",\"type\":\"Plot\"},{\"attributes\":{\"line_color\":\"#ff7f0e\",\"line_width\":3,\"x\":{\"field\":\"x\"},\"y\":{\"field\":\"y\"}},\"id\":\"45fbf609-b271-44e2-a438-8de8e37c648a\",\"type\":\"Line\"},{\"attributes\":{\"line_color\":\"#1f77b4\",\"line_width\":3,\"x\":{\"field\":\"x\"},\"y\":{\"field\":\"y\"}},\"id\":\"a609b166-75a9-4571-b61e-cdacee604fbb\",\"type\":\"Line\"},{\"attributes\":{\"callback\":null,\"column_names\":[\"x\",\"y\"],\"data\":{\"x\":{\"__ndarray__\":\"AQAAAAIAAAADAAAABAAAAAUAAAAGAAAABwAAAAgAAAAJAAAACgAAAAsAAAAMAAAADQAAAA4AAAAPAAAAEAAAABEAAAASAAAAEwAAABQAAAAVAAAAFgAAABcAAAAYAAAAGQAAABoAAAAbAAAAHAAAAB0AAAAeAAAAHwAAACAAAAAhAAAAIgAAACMAAAAkAAAAJQAAACYAAAAnAAAAKAAAACkAAAAqAAAAKwAAACwAAAAtAAAALgAAAC8AAAAwAAAAMQAAADIAAAAzAAAANAAAADUAAAA2AAAANwAAADgAAAA5AAAAOgAAADsAAAA8AAAAPQAAAD4AAAA/AAAAQAAAAEEAAABCAAAAQwAAAEQAAABFAAAARgAAAEcAAABIAAAASQAAAEoAAABLAAAATAAAAE0AAABOAAAATwAAAFAAAABRAAAAUgAAAFMAAABUAAAAVQAAAFYAAABXAAAAWAAAAFkAAABaAAAA\",\"dtype\":\"int32\",\"shape\":[90]},\"y\":[42.89567947387695,53.73649597167969,59.76211929321289,62.6527214050293,63.939144134521484,64.592041015625,64.91386413574219,65.0728988647461,65.09889221191406,65.1235580444336,65.07484436035156,65.06253814697266,64.96333312988281,64.91800689697266,64.8656005859375,64.82461547851562,64.79015350341797,64.69752502441406,64.64813995361328,64.61325073242188,64.54855346679688,64.4749984741211,64.44668579101562,64.40657806396484,64.35369873046875,64.31182098388672,64.2625732421875,64.21141815185547,64.19541931152344,64.17012786865234,62.636253356933594,61.08527374267578,59.65338134765625,58.36377716064453,57.20671081542969,56.17040252685547,55.24640655517578,54.43203353881836,53.708221435546875,53.06623458862305,52.50516891479492,52.011962890625,51.58106231689453,51.189327239990234,50.8418083190918,50.542789459228516,50.27572250366211,50.03110122680664,49.806766510009766,49.61802673339844,49.450828552246094,49.29576873779297,49.1584587097168,49.03030776977539,48.921627044677734,48.820533752441406,48.72595977783203,48.6391487121582,48.56681823730469,48.48779296875,48.458152770996094,48.4222526550293,48.385498046875,48.34925842285156,48.31304931640625,48.27577590942383,48.24072265625,48.20528793334961,48.170650482177734,48.13722229003906,48.10325622558594,48.070858001708984,48.03842544555664,48.00678253173828,47.97535705566406,47.944427490234375,47.9132080078125,47.883914947509766,47.85344314575195,47.82329559326172,47.82038497924805,47.817649841308594,47.81489944458008,47.812259674072266,47.80955505371094,47.806854248046875,47.804317474365234,47.80158233642578,47.79903030395508,47.796207427978516]}},\"id\":\"c448ac27-48f5-4151-82f7-e5ce6f7c32c8\",\"type\":\"ColumnDataSource\"},{\"attributes\":{},\"id\":\"a91c99ed-6c08-4434-86a8-34e717962574\",\"type\":\"BasicTickFormatter\"},{\"attributes\":{\"click_policy\":\"hide\",\"items\":[{\"id\":\"54e2d600-b8bc-4271-8c3d-d7e44bfce27e\",\"type\":\"LegendItem\"},{\"id\":\"0188ed84-48ae-4475-ab2f-177ec116729e\",\"type\":\"LegendItem\"}],\"location\":\"top_left\",\"plot\":{\"id\":\"a5455ecf-938a-4898-b130-0f0803dc6f32\",\"subtype\":\"Figure\",\"type\":\"Plot\"}},\"id\":\"a12096c5-3ab6-47c7-b6c7-06eff3d466ee\",\"type\":\"Legend\"},{\"attributes\":{\"data_source\":{\"id\":\"6a7e63fe-b825-49f5-88e2-12f25c8eb857\",\"type\":\"ColumnDataSource\"},\"glyph\":{\"id\":\"a609b166-75a9-4571-b61e-cdacee604fbb\",\"type\":\"Line\"},\"hover_glyph\":null,\"muted_glyph\":null,\"nonselection_glyph\":{\"id\":\"8292302d-566d-47f3-9243-e1b9c604ad1f\",\"type\":\"Line\"},\"selection_glyph\":null,\"view\":{\"id\":\"83d15030-b8f8-4203-a7e3-2569ef8b524d\",\"type\":\"CDSView\"}},\"id\":\"fe81bbb8-216f-4960-839d-c3d391f24a8b\",\"type\":\"GlyphRenderer\"},{\"attributes\":{\"label\":{\"value\":\"train - (256, 1, 0.9, 0.1)\"},\"renderers\":[{\"id\":\"fe81bbb8-216f-4960-839d-c3d391f24a8b\",\"type\":\"GlyphRenderer\"}]},\"id\":\"54e2d600-b8bc-4271-8c3d-d7e44bfce27e\",\"type\":\"LegendItem\"},{\"attributes\":{},\"id\":\"6fc13546-3eb7-4285-aecc-a2e47cd44668\",\"type\":\"BasicTickFormatter\"},{\"attributes\":{\"line_alpha\":0.1,\"line_color\":\"#1f77b4\",\"line_width\":3,\"x\":{\"field\":\"x\"},\"y\":{\"field\":\"y\"}},\"id\":\"8292302d-566d-47f3-9243-e1b9c604ad1f\",\"type\":\"Line\"},{\"attributes\":{\"callback\":null,\"column_names\":[\"x\",\"y\"],\"data\":{\"x\":{\"__ndarray__\":\"AQAAAAIAAAADAAAABAAAAAUAAAAGAAAABwAAAAgAAAAJAAAACgAAAAsAAAAMAAAADQAAAA4AAAAPAAAAEAAAABEAAAASAAAAEwAAABQAAAAVAAAAFgAAABcAAAAYAAAAGQAAABoAAAAbAAAAHAAAAB0AAAAeAAAAHwAAACAAAAAhAAAAIgAAACMAAAAkAAAAJQAAACYAAAAnAAAAKAAAACkAAAAqAAAAKwAAACwAAAAtAAAALgAAAC8AAAAwAAAAMQAAADIAAAAzAAAANAAAADUAAAA2AAAANwAAADgAAAA5AAAAOgAAADsAAAA8AAAAPQAAAD4AAAA/AAAAQAAAAEEAAABCAAAAQwAAAEQAAABFAAAARgAAAEcAAABIAAAASQAAAEoAAABLAAAATAAAAE0AAABOAAAATwAAAFAAAABRAAAAUgAAAFMAAABUAAAAVQAAAFYAAABXAAAAWAAAAFkAAABaAAAA\",\"dtype\":\"int32\",\"shape\":[90]},\"y\":[45.15010070800781,57.44385528564453,62.207759857177734,63.964595794677734,64.64025115966797,64.92052459716797,64.9917221069336,64.98957824707031,64.8937759399414,64.86297607421875,64.72789001464844,64.65362548828125,64.58889770507812,64.51985168457031,64.4142837524414,64.33795928955078,64.28684997558594,64.18175506591797,64.1669692993164,64.10784149169922,64.04440307617188,63.98326110839844,63.988826751708984,63.94239807128906,63.87409591674805,63.8456916809082,63.81119155883789,63.754600524902344,63.74565505981445,63.73651885986328,62.19520568847656,60.64653778076172,59.223236083984375,57.939483642578125,56.79465866088867,55.77432632446289,54.86094284057617,54.05360794067383,53.3420295715332,52.70363998413086,52.1528205871582,51.66324996948242,51.23167037963867,50.848018646240234,50.50403594970703,50.20921325683594,49.93962478637695,49.696163177490234,49.48685073852539,49.29646682739258,49.12630844116211,48.969390869140625,48.83910369873047,48.71574401855469,48.6079216003418,48.50221633911133,48.41305923461914,48.330909729003906,48.25039291381836,48.18047332763672,48.14912033081055,48.111507415771484,48.072994232177734,48.033206939697266,47.995513916015625,47.957923889160156,47.92184829711914,47.885921478271484,47.85010528564453,47.8176383972168,47.78239059448242,47.74848937988281,47.7156867980957,47.685028076171875,47.65245056152344,47.6202392578125,47.590309143066406,47.55997085571289,47.530128479003906,47.50093460083008,47.498226165771484,47.495418548583984,47.49263000488281,47.48985290527344,47.48711395263672,47.48429870605469,47.48146438598633,47.478702545166016,47.47606658935547,47.473201751708984]}},\"id\":\"6a7e63fe-b825-49f5-88e2-12f25c8eb857\",\"type\":\"ColumnDataSource\"},{\"attributes\":{\"source\":{\"id\":\"6a7e63fe-b825-49f5-88e2-12f25c8eb857\",\"type\":\"ColumnDataSource\"}},\"id\":\"83d15030-b8f8-4203-a7e3-2569ef8b524d\",\"type\":\"CDSView\"}],\"root_ids\":[\"a5455ecf-938a-4898-b130-0f0803dc6f32\"]},\"title\":\"Bokeh Application\",\"version\":\"0.12.13\"}};\n",
       "  var render_items = [{\"docid\":\"59a582c3-684e-4b05-ae36-7b2839dee95c\",\"elementid\":\"fa76928a-36dc-4354-bf9f-8a65ad51cf5a\",\"modelid\":\"a5455ecf-938a-4898-b130-0f0803dc6f32\"}];\n",
       "  root.Bokeh.embed.embed_items_notebook(docs_json, render_items);\n",
       "\n",
       "  }\n",
       "  if (root.Bokeh !== undefined) {\n",
       "    embed_document(root);\n",
       "  } else {\n",
       "    var attempts = 0;\n",
       "    var timer = setInterval(function(root) {\n",
       "      if (root.Bokeh !== undefined) {\n",
       "        embed_document(root);\n",
       "        clearInterval(timer);\n",
       "      }\n",
       "      attempts++;\n",
       "      if (attempts > 100) {\n",
       "        console.log(\"Bokeh: ERROR: Unable to run BokehJS code because BokehJS library is missing\")\n",
       "        clearInterval(timer);\n",
       "      }\n",
       "    }, 10, root)\n",
       "  }\n",
       "})(window);"
      ],
      "application/vnd.bokehjs_exec.v0+json": ""
     },
     "metadata": {
      "application/vnd.bokehjs_exec.v0+json": {
       "id": "a5455ecf-938a-4898-b130-0f0803dc6f32"
      }
     },
     "output_type": "display_data"
    }
   ],
   "source": [
    "show(plots[2])"
   ]
  },
  {
   "cell_type": "code",
   "execution_count": 25,
   "metadata": {},
   "outputs": [
    {
     "name": "stderr",
     "output_type": "stream",
     "text": [
      "C:\\Users\\giladiniv\\AppData\\Local\\Continuum\\anaconda3\\lib\\site-packages\\bokeh\\core\\json_encoder.py:80: FutureWarning: Conversion of the second argument of issubdtype from `float` to `np.floating` is deprecated. In future, it will be treated as `np.float64 == np.dtype(float).type`.\n",
      "  elif np.issubdtype(type(obj), np.float):\n"
     ]
    },
    {
     "data": {
      "text/html": [
       "\n",
       "<div class=\"bk-root\">\n",
       "    <div class=\"bk-plotdiv\" id=\"6a71f152-0788-4c90-a71b-970edfa93982\"></div>\n",
       "</div>"
      ]
     },
     "metadata": {},
     "output_type": "display_data"
    },
    {
     "data": {
      "application/javascript": [
       "(function(root) {\n",
       "  function embed_document(root) {\n",
       "    \n",
       "  var docs_json = {\"070444ec-6bf7-4c82-a95b-4e1dd56b6b2a\":{\"roots\":{\"references\":[{\"attributes\":{\"line_alpha\":0.1,\"line_color\":\"#1f77b4\",\"line_width\":3,\"x\":{\"field\":\"x\"},\"y\":{\"field\":\"y\"}},\"id\":\"094e1b96-1532-4ec3-b206-ae8099e8a718\",\"type\":\"Line\"},{\"attributes\":{\"data_source\":{\"id\":\"e96e8c40-980b-4c6b-b948-65db0bd14bfa\",\"type\":\"ColumnDataSource\"},\"glyph\":{\"id\":\"97d8dfe7-f031-4151-8987-1fd0be385f3d\",\"type\":\"Line\"},\"hover_glyph\":null,\"muted_glyph\":null,\"nonselection_glyph\":{\"id\":\"094e1b96-1532-4ec3-b206-ae8099e8a718\",\"type\":\"Line\"},\"selection_glyph\":null,\"view\":{\"id\":\"f310eacb-14ba-450b-b461-f9ebdd287922\",\"type\":\"CDSView\"}},\"id\":\"7ab95f99-f0e4-4862-90bf-49fea8007881\",\"type\":\"GlyphRenderer\"},{\"attributes\":{\"line_color\":\"#1f77b4\",\"line_width\":3,\"x\":{\"field\":\"x\"},\"y\":{\"field\":\"y\"}},\"id\":\"97d8dfe7-f031-4151-8987-1fd0be385f3d\",\"type\":\"Line\"},{\"attributes\":{\"source\":{\"id\":\"e96e8c40-980b-4c6b-b948-65db0bd14bfa\",\"type\":\"ColumnDataSource\"}},\"id\":\"f310eacb-14ba-450b-b461-f9ebdd287922\",\"type\":\"CDSView\"},{\"attributes\":{},\"id\":\"117b5b36-de0a-46af-8fe6-44f80b002c42\",\"type\":\"BasicTickFormatter\"},{\"attributes\":{},\"id\":\"cf319309-0ed5-4ede-a50d-8117bcf7bcde\",\"type\":\"BasicTickFormatter\"},{\"attributes\":{\"label\":{\"value\":\"train - (256, 1, 0.9, 0.1)\"},\"renderers\":[{\"id\":\"7ab95f99-f0e4-4862-90bf-49fea8007881\",\"type\":\"GlyphRenderer\"}]},\"id\":\"91125be6-d8ee-46f7-857b-d59754710f20\",\"type\":\"LegendItem\"},{\"attributes\":{\"click_policy\":\"hide\",\"items\":[{\"id\":\"91125be6-d8ee-46f7-857b-d59754710f20\",\"type\":\"LegendItem\"},{\"id\":\"1fe06a10-8af4-43c1-ab59-2e908cd7dc92\",\"type\":\"LegendItem\"}],\"location\":\"top_left\",\"plot\":{\"id\":\"ed81ed24-22d2-4c59-a913-324ba1f5c675\",\"subtype\":\"Figure\",\"type\":\"Plot\"}},\"id\":\"720cbf43-3835-4912-be5d-29a9b0011117\",\"type\":\"Legend\"},{\"attributes\":{\"callback\":null},\"id\":\"e92ac4e5-9a7f-4eaa-9744-805d348d1b89\",\"type\":\"DataRange1d\"},{\"attributes\":{},\"id\":\"b0815fb8-b049-43fc-9c8b-5bb86115ba59\",\"type\":\"BasicTicker\"},{\"attributes\":{\"callback\":null,\"column_names\":[\"x\",\"y\"],\"data\":{\"x\":{\"__ndarray__\":\"AQAAAAIAAAADAAAABAAAAAUAAAAGAAAABwAAAAgAAAAJAAAACgAAAAsAAAAMAAAADQAAAA4AAAAPAAAAEAAAABEAAAASAAAAEwAAABQAAAAVAAAAFgAAABcAAAAYAAAAGQAAABoAAAAbAAAAHAAAAB0AAAAeAAAAHwAAACAAAAAhAAAAIgAAACMAAAAkAAAAJQAAACYAAAAnAAAAKAAAACkAAAAqAAAAKwAAACwAAAAtAAAALgAAAC8AAAAwAAAAMQAAADIAAAAzAAAANAAAADUAAAA2AAAANwAAADgAAAA5AAAAOgAAADsAAAA8AAAAPQAAAD4AAAA/AAAAQAAAAEEAAABCAAAAQwAAAEQAAABFAAAARgAAAEcAAABIAAAASQAAAEoAAABLAAAATAAAAE0AAABOAAAATwAAAFAAAABRAAAAUgAAAFMAAABUAAAAVQAAAFYAAABXAAAAWAAAAFkAAABaAAAA\",\"dtype\":\"int32\",\"shape\":[90]},\"y\":[1.0720832347869873,1.046262264251709,0.9810971617698669,1.0502018928527832,1.0057874917984009,1.0306391716003418,0.9919623136520386,1.044485092163086,0.9945416450500488,0.9994291663169861,0.9742326140403748,0.9893206357955933,0.9695238471031189,0.9384915232658386,0.9116461277008057,0.9235806465148926,0.9657092690467834,1.0414764881134033,0.9841756820678711,0.9319056272506714,1.0023918151855469,1.0310378074645996,0.9156519174575806,1.062940239906311,0.9665552973747253,1.0307365655899048,0.9897633790969849,0.9425973296165466,0.9445832967758179,0.9873455762863159,0.9708176851272583,0.9947238564491272,0.9652611613273621,1.058058500289917,1.1021126508712769,1.225977897644043,1.14321768283844,1.1661431789398193,1.0904126167297363,1.2746080160140991,1.2021820545196533,1.2831554412841797,1.3020776510238647,1.248833417892456,1.2470918893814087,1.310349941253662,1.3763601779937744,1.2763526439666748,1.3846036195755005,1.368672251701355,1.4395655393600464,1.3234230279922485,1.3436126708984375,1.3243006467819214,1.3692712783813477,1.350646734237671,1.44724702835083,1.3868128061294556,1.295972228050232,1.3175138235092163,1.3351713418960571,1.3179965019226074,1.265212059020996,1.260643720626831,1.1894770860671997,1.2761244773864746,1.350995659828186,1.249558687210083,0.9703543782234192,1.245458960533142,1.334719181060791,1.1114253997802734,1.2283192873001099,1.2657257318496704,1.2888942956924438,1.2841520309448242,1.311696171760559,1.266321063041687,1.1994271278381348,1.2494308948516846,1.2375448942184448,1.2362529039382935,1.2344961166381836,1.2889331579208374,1.1551986932754517,1.2492018938064575,1.196997880935669,1.2975897789001465,1.2088598012924194,1.275367259979248]}},\"id\":\"e96e8c40-980b-4c6b-b948-65db0bd14bfa\",\"type\":\"ColumnDataSource\"},{\"attributes\":{\"axis_label\":\"||g||\",\"formatter\":{\"id\":\"cf319309-0ed5-4ede-a50d-8117bcf7bcde\",\"type\":\"BasicTickFormatter\"},\"plot\":{\"id\":\"ed81ed24-22d2-4c59-a913-324ba1f5c675\",\"subtype\":\"Figure\",\"type\":\"Plot\"},\"ticker\":{\"id\":\"ed103ee6-fb19-43f6-a62b-0d68e8a43b8f\",\"type\":\"BasicTicker\"}},\"id\":\"c93a12df-0fe5-424f-9509-fd7b32eb4e75\",\"type\":\"LinearAxis\"},{\"attributes\":{\"plot\":{\"id\":\"ed81ed24-22d2-4c59-a913-324ba1f5c675\",\"subtype\":\"Figure\",\"type\":\"Plot\"},\"ticker\":{\"id\":\"b0815fb8-b049-43fc-9c8b-5bb86115ba59\",\"type\":\"BasicTicker\"}},\"id\":\"f04f02df-c245-4aa2-94ab-530969e733c0\",\"type\":\"Grid\"},{\"attributes\":{},\"id\":\"009f7c36-7db3-4b5f-a67a-0d32c30c84a7\",\"type\":\"LinearScale\"},{\"attributes\":{\"background_fill_color\":{\"value\":\"#fafafa\"},\"below\":[{\"id\":\"a84882ba-a51c-48c3-8fe3-edc1e45427e4\",\"type\":\"LinearAxis\"}],\"left\":[{\"id\":\"c93a12df-0fe5-424f-9509-fd7b32eb4e75\",\"type\":\"LinearAxis\"}],\"min_border\":10,\"min_border_left\":50,\"renderers\":[{\"id\":\"a84882ba-a51c-48c3-8fe3-edc1e45427e4\",\"type\":\"LinearAxis\"},{\"id\":\"f04f02df-c245-4aa2-94ab-530969e733c0\",\"type\":\"Grid\"},{\"id\":\"c93a12df-0fe5-424f-9509-fd7b32eb4e75\",\"type\":\"LinearAxis\"},{\"id\":\"80d131bf-e01b-4cc7-8e8d-53dd61487ac9\",\"type\":\"Grid\"},{\"id\":\"f8693e17-ef60-4701-8952-ae878ab54c52\",\"type\":\"BoxAnnotation\"},{\"id\":\"720cbf43-3835-4912-be5d-29a9b0011117\",\"type\":\"Legend\"},{\"id\":\"7ab95f99-f0e4-4862-90bf-49fea8007881\",\"type\":\"GlyphRenderer\"},{\"id\":\"36867fd2-5364-493d-97e6-256fb54169ec\",\"type\":\"GlyphRenderer\"}],\"title\":{\"id\":\"63df387b-d114-4c05-be43-c01e00570205\",\"type\":\"Title\"},\"toolbar\":{\"id\":\"e17427e3-4996-4ae6-90aa-d2eee16a0572\",\"type\":\"Toolbar\"},\"x_range\":{\"id\":\"0282a35c-eb7f-47c5-88d4-995d025c9e85\",\"type\":\"DataRange1d\"},\"x_scale\":{\"id\":\"967b1551-12b8-4a2c-b574-ebb14f68b057\",\"type\":\"LinearScale\"},\"y_range\":{\"id\":\"e92ac4e5-9a7f-4eaa-9744-805d348d1b89\",\"type\":\"DataRange1d\"},\"y_scale\":{\"id\":\"009f7c36-7db3-4b5f-a67a-0d32c30c84a7\",\"type\":\"LinearScale\"}},\"id\":\"ed81ed24-22d2-4c59-a913-324ba1f5c675\",\"subtype\":\"Figure\",\"type\":\"Plot\"},{\"attributes\":{\"line_color\":\"#ff7f0e\",\"line_width\":3,\"x\":{\"field\":\"x\"},\"y\":{\"field\":\"y\"}},\"id\":\"f8fd453a-8e01-4461-a8dd-83f2c0cfe382\",\"type\":\"Line\"},{\"attributes\":{\"dimension\":1,\"plot\":{\"id\":\"ed81ed24-22d2-4c59-a913-324ba1f5c675\",\"subtype\":\"Figure\",\"type\":\"Plot\"},\"ticker\":{\"id\":\"ed103ee6-fb19-43f6-a62b-0d68e8a43b8f\",\"type\":\"BasicTicker\"}},\"id\":\"80d131bf-e01b-4cc7-8e8d-53dd61487ac9\",\"type\":\"Grid\"},{\"attributes\":{\"callback\":null,\"column_names\":[\"x\",\"y\"],\"data\":{\"x\":{\"__ndarray__\":\"AQAAAAIAAAADAAAABAAAAAUAAAAGAAAABwAAAAgAAAAJAAAACgAAAAsAAAAMAAAADQAAAA4AAAAPAAAAEAAAABEAAAASAAAAEwAAABQAAAAVAAAAFgAAABcAAAAYAAAAGQAAABoAAAAbAAAAHAAAAB0AAAAeAAAAHwAAACAAAAAhAAAAIgAAACMAAAAkAAAAJQAAACYAAAAnAAAAKAAAACkAAAAqAAAAKwAAACwAAAAtAAAALgAAAC8AAAAwAAAAMQAAADIAAAAzAAAANAAAADUAAAA2AAAANwAAADgAAAA5AAAAOgAAADsAAAA8AAAAPQAAAD4AAAA/AAAAQAAAAEEAAABCAAAAQwAAAEQAAABFAAAARgAAAEcAAABIAAAASQAAAEoAAABLAAAATAAAAE0AAABOAAAATwAAAFAAAABRAAAAUgAAAFMAAABUAAAAVQAAAFYAAABXAAAAWAAAAFkAAABaAAAA\",\"dtype\":\"int32\",\"shape\":[90]},\"y\":[0.9418794512748718,1.018559217453003,1.0192582607269287,0.9981495141983032,0.992437481880188,0.9945254921913147,0.9820340871810913,0.988502562046051,1.0121328830718994,1.0058420896530151,0.9494725465774536,0.9933233261108398,1.013366460800171,0.9887290000915527,0.9104001522064209,0.934372067451477,0.9522770047187805,1.0293461084365845,1.0156121253967285,0.9455594420433044,1.031128168106079,1.0249736309051514,0.8850782513618469,1.005075454711914,0.9662530422210693,0.9824526309967041,0.9424449801445007,0.9074125289916992,0.9205865263938904,0.975307822227478,0.9045358896255493,0.9991027116775513,0.9822386503219604,1.0356221199035645,1.15798819065094,1.1387232542037964,1.1775307655334473,1.1562145948410034,1.0687334537506104,1.2561455965042114,1.20686936378479,1.2197141647338867,1.3402137756347656,1.1880664825439453,1.238444447517395,1.2851109504699707,1.3897634744644165,1.2054836750030518,1.3733171224594116,1.32697594165802,1.3083996772766113,1.3284318447113037,1.3240139484405518,1.4492197036743164,1.4702273607254028,1.3777241706848145,1.4297689199447632,1.362425684928894,1.3633335828781128,1.3483960628509521,1.3281893730163574,1.42015540599823,1.258851170539856,1.3085917234420776,1.2038791179656982,1.3032547235488892,1.278813362121582,1.2874500751495361,1.1827797889709473,1.0837537050247192,1.28286874294281,1.1778621673583984,1.276310920715332,1.338966727256775,1.2550491094589233,1.297437310218811,1.3187814950942993,1.1864020824432373,1.2555292844772339,1.1949090957641602,1.1445235013961792,1.2123955488204956,1.0653992891311646,1.2763257026672363,1.3408221006393433,1.2727077007293701,1.2364321947097778,1.3115687370300293,1.1953256130218506,1.1369683742523193]}},\"id\":\"3a07ac93-f5a1-48fa-81a6-5f06813859b8\",\"type\":\"ColumnDataSource\"},{\"attributes\":{},\"id\":\"426da61f-bf8c-4d13-85e4-1a87ee1cb945\",\"type\":\"ResetTool\"},{\"attributes\":{\"label\":{\"value\":\"train - (256, 1, 0.0, 1.0)\"},\"renderers\":[{\"id\":\"36867fd2-5364-493d-97e6-256fb54169ec\",\"type\":\"GlyphRenderer\"}]},\"id\":\"1fe06a10-8af4-43c1-ab59-2e908cd7dc92\",\"type\":\"LegendItem\"},{\"attributes\":{},\"id\":\"967b1551-12b8-4a2c-b574-ebb14f68b057\",\"type\":\"LinearScale\"},{\"attributes\":{\"data_source\":{\"id\":\"3a07ac93-f5a1-48fa-81a6-5f06813859b8\",\"type\":\"ColumnDataSource\"},\"glyph\":{\"id\":\"f8fd453a-8e01-4461-a8dd-83f2c0cfe382\",\"type\":\"Line\"},\"hover_glyph\":null,\"muted_glyph\":null,\"nonselection_glyph\":{\"id\":\"e8c0b260-1e9b-46f0-bbd6-5f55213fa06c\",\"type\":\"Line\"},\"selection_glyph\":null,\"view\":{\"id\":\"7196dd80-78c4-4978-aa8b-4feeef7e728f\",\"type\":\"CDSView\"}},\"id\":\"36867fd2-5364-493d-97e6-256fb54169ec\",\"type\":\"GlyphRenderer\"},{\"attributes\":{\"axis_label\":\"t [Epochs]\",\"formatter\":{\"id\":\"117b5b36-de0a-46af-8fe6-44f80b002c42\",\"type\":\"BasicTickFormatter\"},\"plot\":{\"id\":\"ed81ed24-22d2-4c59-a913-324ba1f5c675\",\"subtype\":\"Figure\",\"type\":\"Plot\"},\"ticker\":{\"id\":\"b0815fb8-b049-43fc-9c8b-5bb86115ba59\",\"type\":\"BasicTicker\"}},\"id\":\"a84882ba-a51c-48c3-8fe3-edc1e45427e4\",\"type\":\"LinearAxis\"},{\"attributes\":{\"source\":{\"id\":\"3a07ac93-f5a1-48fa-81a6-5f06813859b8\",\"type\":\"ColumnDataSource\"}},\"id\":\"7196dd80-78c4-4978-aa8b-4feeef7e728f\",\"type\":\"CDSView\"},{\"attributes\":{\"bottom_units\":\"screen\",\"fill_alpha\":{\"value\":0.5},\"fill_color\":{\"value\":\"lightgrey\"},\"left_units\":\"screen\",\"level\":\"overlay\",\"line_alpha\":{\"value\":1.0},\"line_color\":{\"value\":\"black\"},\"line_dash\":[4,4],\"line_width\":{\"value\":2},\"plot\":null,\"render_mode\":\"css\",\"right_units\":\"screen\",\"top_units\":\"screen\"},\"id\":\"f8693e17-ef60-4701-8952-ae878ab54c52\",\"type\":\"BoxAnnotation\"},{\"attributes\":{},\"id\":\"727d8ac7-a47c-4ce8-a58a-19843f5e388c\",\"type\":\"HelpTool\"},{\"attributes\":{\"callback\":null},\"id\":\"0282a35c-eb7f-47c5-88d4-995d025c9e85\",\"type\":\"DataRange1d\"},{\"attributes\":{\"plot\":null,\"text\":\"The Norm of Gradients\"},\"id\":\"63df387b-d114-4c05-be43-c01e00570205\",\"type\":\"Title\"},{\"attributes\":{},\"id\":\"10d2264d-ee6c-4281-a581-92d6a2e38b4d\",\"type\":\"SaveTool\"},{\"attributes\":{\"overlay\":{\"id\":\"f8693e17-ef60-4701-8952-ae878ab54c52\",\"type\":\"BoxAnnotation\"}},\"id\":\"6902dab7-5eda-46bb-bc36-4f0483cb55d2\",\"type\":\"BoxZoomTool\"},{\"attributes\":{},\"id\":\"ed103ee6-fb19-43f6-a62b-0d68e8a43b8f\",\"type\":\"BasicTicker\"},{\"attributes\":{\"line_alpha\":0.1,\"line_color\":\"#1f77b4\",\"line_width\":3,\"x\":{\"field\":\"x\"},\"y\":{\"field\":\"y\"}},\"id\":\"e8c0b260-1e9b-46f0-bbd6-5f55213fa06c\",\"type\":\"Line\"},{\"attributes\":{},\"id\":\"afb90bd7-3db0-4562-9622-4b030fdcbbc0\",\"type\":\"WheelZoomTool\"},{\"attributes\":{},\"id\":\"814ac4db-85fa-4f9a-8021-24e277148be3\",\"type\":\"PanTool\"},{\"attributes\":{\"active_drag\":\"auto\",\"active_inspect\":\"auto\",\"active_scroll\":\"auto\",\"active_tap\":\"auto\",\"tools\":[{\"id\":\"814ac4db-85fa-4f9a-8021-24e277148be3\",\"type\":\"PanTool\"},{\"id\":\"afb90bd7-3db0-4562-9622-4b030fdcbbc0\",\"type\":\"WheelZoomTool\"},{\"id\":\"6902dab7-5eda-46bb-bc36-4f0483cb55d2\",\"type\":\"BoxZoomTool\"},{\"id\":\"10d2264d-ee6c-4281-a581-92d6a2e38b4d\",\"type\":\"SaveTool\"},{\"id\":\"426da61f-bf8c-4d13-85e4-1a87ee1cb945\",\"type\":\"ResetTool\"},{\"id\":\"727d8ac7-a47c-4ce8-a58a-19843f5e388c\",\"type\":\"HelpTool\"}]},\"id\":\"e17427e3-4996-4ae6-90aa-d2eee16a0572\",\"type\":\"Toolbar\"}],\"root_ids\":[\"ed81ed24-22d2-4c59-a913-324ba1f5c675\"]},\"title\":\"Bokeh Application\",\"version\":\"0.12.13\"}};\n",
       "  var render_items = [{\"docid\":\"070444ec-6bf7-4c82-a95b-4e1dd56b6b2a\",\"elementid\":\"6a71f152-0788-4c90-a71b-970edfa93982\",\"modelid\":\"ed81ed24-22d2-4c59-a913-324ba1f5c675\"}];\n",
       "  root.Bokeh.embed.embed_items_notebook(docs_json, render_items);\n",
       "\n",
       "  }\n",
       "  if (root.Bokeh !== undefined) {\n",
       "    embed_document(root);\n",
       "  } else {\n",
       "    var attempts = 0;\n",
       "    var timer = setInterval(function(root) {\n",
       "      if (root.Bokeh !== undefined) {\n",
       "        embed_document(root);\n",
       "        clearInterval(timer);\n",
       "      }\n",
       "      attempts++;\n",
       "      if (attempts > 100) {\n",
       "        console.log(\"Bokeh: ERROR: Unable to run BokehJS code because BokehJS library is missing\")\n",
       "        clearInterval(timer);\n",
       "      }\n",
       "    }, 10, root)\n",
       "  }\n",
       "})(window);"
      ],
      "application/vnd.bokehjs_exec.v0+json": ""
     },
     "metadata": {
      "application/vnd.bokehjs_exec.v0+json": {
       "id": "ed81ed24-22d2-4c59-a913-324ba1f5c675"
      }
     },
     "output_type": "display_data"
    }
   ],
   "source": [
    "show(plots[3])"
   ]
  }
 ],
 "metadata": {
  "kernelspec": {
   "display_name": "Python 3",
   "language": "python",
   "name": "python3"
  },
  "language_info": {
   "codemirror_mode": {
    "name": "ipython",
    "version": 3
   },
   "file_extension": ".py",
   "mimetype": "text/x-python",
   "name": "python",
   "nbconvert_exporter": "python",
   "pygments_lexer": "ipython3",
   "version": "3.6.1"
  }
 },
 "nbformat": 4,
 "nbformat_minor": 1
}
