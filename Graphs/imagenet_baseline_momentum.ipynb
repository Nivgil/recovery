{
 "cells": [
  {
   "cell_type": "raw",
   "metadata": {},
   "source": [
    "<script>\n",
    "  jQuery(document).ready(function($) {  \n",
    "  \n",
    "  $(window).on('load', function(){\n",
    "    $('#preloader').fadeOut('slow',function(){$(this).remove();});\n",
    "  });\n",
    "  \n",
    "  });\n",
    "</script>\n",
    "\n",
    "<style type=\"text/css\">\n",
    "  div#preloader { position: fixed; \n",
    "      left: 0; \n",
    "      top: 0; \n",
    "      z-index: 999; \n",
    "      width: 100%; \n",
    "      height: 100%; \n",
    "      overflow: visible; \n",
    "      background: #fff url('http://preloaders.net/preloaders/720/Moving%20line.gif') no-repeat center center; \n",
    "  }\n",
    "\n",
    "</style>\n",
    "\n",
    "<div id=\"preloader\">\n",
    "\n",
    "</div>"
   ]
  },
  {
   "cell_type": "raw",
   "metadata": {},
   "source": [
    "<script>\n",
    "  function code_toggle() {\n",
    "    if (code_shown){\n",
    "      $('div.input').hide('500');\n",
    "      $('#toggleButton').val('Show Code')\n",
    "    } else {\n",
    "      $('div.input').show('500');\n",
    "      $('#toggleButton').val('Hide Code')\n",
    "    }\n",
    "    code_shown = !code_shown\n",
    "  } \n",
    "  \n",
    "  $( document ).ready(function(){\n",
    "    code_shown=false; \n",
    "    $('div.input').hide()\n",
    "  });\n",
    "</script>\n",
    "<form action=\"javascript:code_toggle()\"><input type=\"submit\" id=\"toggleButton\" value=\"Show Code\"></form>"
   ]
  },
  {
   "cell_type": "markdown",
   "metadata": {},
   "source": [
    "<h1 style=\"text-align: center;\" markdown=\"1\"> ImageNet - Momentum Impact on Baseline</h1>\n",
    "<h2 style=\"text-align: center;\" markdown=\"1\"> Resnet 50</h2>"
   ]
  },
  {
   "cell_type": "code",
   "execution_count": 6,
   "metadata": {
    "scrolled": false
   },
   "outputs": [
    {
     "data": {
      "text/html": [
       "\n",
       "    <div class=\"bk-root\">\n",
       "        <a href=\"https://bokeh.pydata.org\" target=\"_blank\" class=\"bk-logo bk-logo-small bk-logo-notebook\"></a>\n",
       "        <span id=\"356046d5-ecea-43bf-9fe7-90b67533d02d\">Loading BokehJS ...</span>\n",
       "    </div>"
      ]
     },
     "metadata": {},
     "output_type": "display_data"
    },
    {
     "data": {
      "application/javascript": [
       "\n",
       "(function(root) {\n",
       "  function now() {\n",
       "    return new Date();\n",
       "  }\n",
       "\n",
       "  var force = true;\n",
       "\n",
       "  if (typeof (root._bokeh_onload_callbacks) === \"undefined\" || force === true) {\n",
       "    root._bokeh_onload_callbacks = [];\n",
       "    root._bokeh_is_loading = undefined;\n",
       "  }\n",
       "\n",
       "  var JS_MIME_TYPE = 'application/javascript';\n",
       "  var HTML_MIME_TYPE = 'text/html';\n",
       "  var EXEC_MIME_TYPE = 'application/vnd.bokehjs_exec.v0+json';\n",
       "  var CLASS_NAME = 'output_bokeh rendered_html';\n",
       "\n",
       "  /**\n",
       "   * Render data to the DOM node\n",
       "   */\n",
       "  function render(props, node) {\n",
       "    var script = document.createElement(\"script\");\n",
       "    node.appendChild(script);\n",
       "  }\n",
       "\n",
       "  /**\n",
       "   * Handle when an output is cleared or removed\n",
       "   */\n",
       "  function handleClearOutput(event, handle) {\n",
       "    var cell = handle.cell;\n",
       "\n",
       "    var id = cell.output_area._bokeh_element_id;\n",
       "    var server_id = cell.output_area._bokeh_server_id;\n",
       "    // Clean up Bokeh references\n",
       "    if (id !== undefined) {\n",
       "      Bokeh.index[id].model.document.clear();\n",
       "      delete Bokeh.index[id];\n",
       "    }\n",
       "\n",
       "    if (server_id !== undefined) {\n",
       "      // Clean up Bokeh references\n",
       "      var cmd = \"from bokeh.io.state import curstate; print(curstate().uuid_to_server['\" + server_id + \"'].get_sessions()[0].document.roots[0]._id)\";\n",
       "      cell.notebook.kernel.execute(cmd, {\n",
       "        iopub: {\n",
       "          output: function(msg) {\n",
       "            var element_id = msg.content.text.trim();\n",
       "            Bokeh.index[element_id].model.document.clear();\n",
       "            delete Bokeh.index[element_id];\n",
       "          }\n",
       "        }\n",
       "      });\n",
       "      // Destroy server and session\n",
       "      var cmd = \"import bokeh.io.notebook as ion; ion.destroy_server('\" + server_id + \"')\";\n",
       "      cell.notebook.kernel.execute(cmd);\n",
       "    }\n",
       "  }\n",
       "\n",
       "  /**\n",
       "   * Handle when a new output is added\n",
       "   */\n",
       "  function handleAddOutput(event, handle) {\n",
       "    var output_area = handle.output_area;\n",
       "    var output = handle.output;\n",
       "\n",
       "    // limit handleAddOutput to display_data with EXEC_MIME_TYPE content only\n",
       "    if ((output.output_type != \"display_data\") || (!output.data.hasOwnProperty(EXEC_MIME_TYPE))) {\n",
       "      return\n",
       "    }\n",
       "\n",
       "    var toinsert = output_area.element.find(\".\" + CLASS_NAME.split(' ')[0]);\n",
       "\n",
       "    if (output.metadata[EXEC_MIME_TYPE][\"id\"] !== undefined) {\n",
       "      toinsert[0].firstChild.textContent = output.data[JS_MIME_TYPE];\n",
       "      // store reference to embed id on output_area\n",
       "      output_area._bokeh_element_id = output.metadata[EXEC_MIME_TYPE][\"id\"];\n",
       "    }\n",
       "    if (output.metadata[EXEC_MIME_TYPE][\"server_id\"] !== undefined) {\n",
       "      var bk_div = document.createElement(\"div\");\n",
       "      bk_div.innerHTML = output.data[HTML_MIME_TYPE];\n",
       "      var script_attrs = bk_div.children[0].attributes;\n",
       "      for (var i = 0; i < script_attrs.length; i++) {\n",
       "        toinsert[0].firstChild.setAttribute(script_attrs[i].name, script_attrs[i].value);\n",
       "      }\n",
       "      // store reference to server id on output_area\n",
       "      output_area._bokeh_server_id = output.metadata[EXEC_MIME_TYPE][\"server_id\"];\n",
       "    }\n",
       "  }\n",
       "\n",
       "  function register_renderer(events, OutputArea) {\n",
       "\n",
       "    function append_mime(data, metadata, element) {\n",
       "      // create a DOM node to render to\n",
       "      var toinsert = this.create_output_subarea(\n",
       "        metadata,\n",
       "        CLASS_NAME,\n",
       "        EXEC_MIME_TYPE\n",
       "      );\n",
       "      this.keyboard_manager.register_events(toinsert);\n",
       "      // Render to node\n",
       "      var props = {data: data, metadata: metadata[EXEC_MIME_TYPE]};\n",
       "      render(props, toinsert[0]);\n",
       "      element.append(toinsert);\n",
       "      return toinsert\n",
       "    }\n",
       "\n",
       "    /* Handle when an output is cleared or removed */\n",
       "    events.on('clear_output.CodeCell', handleClearOutput);\n",
       "    events.on('delete.Cell', handleClearOutput);\n",
       "\n",
       "    /* Handle when a new output is added */\n",
       "    events.on('output_added.OutputArea', handleAddOutput);\n",
       "\n",
       "    /**\n",
       "     * Register the mime type and append_mime function with output_area\n",
       "     */\n",
       "    OutputArea.prototype.register_mime_type(EXEC_MIME_TYPE, append_mime, {\n",
       "      /* Is output safe? */\n",
       "      safe: true,\n",
       "      /* Index of renderer in `output_area.display_order` */\n",
       "      index: 0\n",
       "    });\n",
       "  }\n",
       "\n",
       "  // register the mime type if in Jupyter Notebook environment and previously unregistered\n",
       "  if (root.Jupyter !== undefined) {\n",
       "    var events = require('base/js/events');\n",
       "    var OutputArea = require('notebook/js/outputarea').OutputArea;\n",
       "\n",
       "    if (OutputArea.prototype.mime_types().indexOf(EXEC_MIME_TYPE) == -1) {\n",
       "      register_renderer(events, OutputArea);\n",
       "    }\n",
       "  }\n",
       "\n",
       "  \n",
       "  if (typeof (root._bokeh_timeout) === \"undefined\" || force === true) {\n",
       "    root._bokeh_timeout = Date.now() + 5000;\n",
       "    root._bokeh_failed_load = false;\n",
       "  }\n",
       "\n",
       "  var NB_LOAD_WARNING = {'data': {'text/html':\n",
       "     \"<div style='background-color: #fdd'>\\n\"+\n",
       "     \"<p>\\n\"+\n",
       "     \"BokehJS does not appear to have successfully loaded. If loading BokehJS from CDN, this \\n\"+\n",
       "     \"may be due to a slow or bad network connection. Possible fixes:\\n\"+\n",
       "     \"</p>\\n\"+\n",
       "     \"<ul>\\n\"+\n",
       "     \"<li>re-rerun `output_notebook()` to attempt to load from CDN again, or</li>\\n\"+\n",
       "     \"<li>use INLINE resources instead, as so:</li>\\n\"+\n",
       "     \"</ul>\\n\"+\n",
       "     \"<code>\\n\"+\n",
       "     \"from bokeh.resources import INLINE\\n\"+\n",
       "     \"output_notebook(resources=INLINE)\\n\"+\n",
       "     \"</code>\\n\"+\n",
       "     \"</div>\"}};\n",
       "\n",
       "  function display_loaded() {\n",
       "    var el = document.getElementById(\"356046d5-ecea-43bf-9fe7-90b67533d02d\");\n",
       "    if (el != null) {\n",
       "      el.textContent = \"BokehJS is loading...\";\n",
       "    }\n",
       "    if (root.Bokeh !== undefined) {\n",
       "      if (el != null) {\n",
       "        el.textContent = \"BokehJS \" + root.Bokeh.version + \" successfully loaded.\";\n",
       "      }\n",
       "    } else if (Date.now() < root._bokeh_timeout) {\n",
       "      setTimeout(display_loaded, 100)\n",
       "    }\n",
       "  }\n",
       "\n",
       "\n",
       "  function run_callbacks() {\n",
       "    try {\n",
       "      root._bokeh_onload_callbacks.forEach(function(callback) { callback() });\n",
       "    }\n",
       "    finally {\n",
       "      delete root._bokeh_onload_callbacks\n",
       "    }\n",
       "    console.info(\"Bokeh: all callbacks have finished\");\n",
       "  }\n",
       "\n",
       "  function load_libs(js_urls, callback) {\n",
       "    root._bokeh_onload_callbacks.push(callback);\n",
       "    if (root._bokeh_is_loading > 0) {\n",
       "      console.log(\"Bokeh: BokehJS is being loaded, scheduling callback at\", now());\n",
       "      return null;\n",
       "    }\n",
       "    if (js_urls == null || js_urls.length === 0) {\n",
       "      run_callbacks();\n",
       "      return null;\n",
       "    }\n",
       "    console.log(\"Bokeh: BokehJS not loaded, scheduling load and callback at\", now());\n",
       "    root._bokeh_is_loading = js_urls.length;\n",
       "    for (var i = 0; i < js_urls.length; i++) {\n",
       "      var url = js_urls[i];\n",
       "      var s = document.createElement('script');\n",
       "      s.src = url;\n",
       "      s.async = false;\n",
       "      s.onreadystatechange = s.onload = function() {\n",
       "        root._bokeh_is_loading--;\n",
       "        if (root._bokeh_is_loading === 0) {\n",
       "          console.log(\"Bokeh: all BokehJS libraries loaded\");\n",
       "          run_callbacks()\n",
       "        }\n",
       "      };\n",
       "      s.onerror = function() {\n",
       "        console.warn(\"failed to load library \" + url);\n",
       "      };\n",
       "      console.log(\"Bokeh: injecting script tag for BokehJS library: \", url);\n",
       "      document.getElementsByTagName(\"head\")[0].appendChild(s);\n",
       "    }\n",
       "  };var element = document.getElementById(\"356046d5-ecea-43bf-9fe7-90b67533d02d\");\n",
       "  if (element == null) {\n",
       "    console.log(\"Bokeh: ERROR: autoload.js configured with elementid '356046d5-ecea-43bf-9fe7-90b67533d02d' but no matching script tag was found. \")\n",
       "    return false;\n",
       "  }\n",
       "\n",
       "  var js_urls = [\"https://cdn.pydata.org/bokeh/release/bokeh-0.12.13.min.js\", \"https://cdn.pydata.org/bokeh/release/bokeh-widgets-0.12.13.min.js\", \"https://cdn.pydata.org/bokeh/release/bokeh-tables-0.12.13.min.js\", \"https://cdn.pydata.org/bokeh/release/bokeh-gl-0.12.13.min.js\"];\n",
       "\n",
       "  var inline_js = [\n",
       "    function(Bokeh) {\n",
       "      Bokeh.set_log_level(\"info\");\n",
       "    },\n",
       "    \n",
       "    function(Bokeh) {\n",
       "      \n",
       "    },\n",
       "    function(Bokeh) {\n",
       "      console.log(\"Bokeh: injecting CSS: https://cdn.pydata.org/bokeh/release/bokeh-0.12.13.min.css\");\n",
       "      Bokeh.embed.inject_css(\"https://cdn.pydata.org/bokeh/release/bokeh-0.12.13.min.css\");\n",
       "      console.log(\"Bokeh: injecting CSS: https://cdn.pydata.org/bokeh/release/bokeh-widgets-0.12.13.min.css\");\n",
       "      Bokeh.embed.inject_css(\"https://cdn.pydata.org/bokeh/release/bokeh-widgets-0.12.13.min.css\");\n",
       "      console.log(\"Bokeh: injecting CSS: https://cdn.pydata.org/bokeh/release/bokeh-tables-0.12.13.min.css\");\n",
       "      Bokeh.embed.inject_css(\"https://cdn.pydata.org/bokeh/release/bokeh-tables-0.12.13.min.css\");\n",
       "    }\n",
       "  ];\n",
       "\n",
       "  function run_inline_js() {\n",
       "    \n",
       "    if ((root.Bokeh !== undefined) || (force === true)) {\n",
       "      for (var i = 0; i < inline_js.length; i++) {\n",
       "        inline_js[i].call(root, root.Bokeh);\n",
       "      }if (force === true) {\n",
       "        display_loaded();\n",
       "      }} else if (Date.now() < root._bokeh_timeout) {\n",
       "      setTimeout(run_inline_js, 100);\n",
       "    } else if (!root._bokeh_failed_load) {\n",
       "      console.log(\"Bokeh: BokehJS failed to load within specified timeout.\");\n",
       "      root._bokeh_failed_load = true;\n",
       "    } else if (force !== true) {\n",
       "      var cell = $(document.getElementById(\"356046d5-ecea-43bf-9fe7-90b67533d02d\")).parents('.cell').data().cell;\n",
       "      cell.output_area.append_execute_result(NB_LOAD_WARNING)\n",
       "    }\n",
       "\n",
       "  }\n",
       "\n",
       "  if (root._bokeh_is_loading === 0) {\n",
       "    console.log(\"Bokeh: BokehJS loaded, going straight to plotting\");\n",
       "    run_inline_js();\n",
       "  } else {\n",
       "    load_libs(js_urls, function() {\n",
       "      console.log(\"Bokeh: BokehJS plotting callback run at\", now());\n",
       "      run_inline_js();\n",
       "    });\n",
       "  }\n",
       "}(window));"
      ],
      "application/vnd.bokehjs_load.v0+json": "\n(function(root) {\n  function now() {\n    return new Date();\n  }\n\n  var force = true;\n\n  if (typeof (root._bokeh_onload_callbacks) === \"undefined\" || force === true) {\n    root._bokeh_onload_callbacks = [];\n    root._bokeh_is_loading = undefined;\n  }\n\n  \n\n  \n  if (typeof (root._bokeh_timeout) === \"undefined\" || force === true) {\n    root._bokeh_timeout = Date.now() + 5000;\n    root._bokeh_failed_load = false;\n  }\n\n  var NB_LOAD_WARNING = {'data': {'text/html':\n     \"<div style='background-color: #fdd'>\\n\"+\n     \"<p>\\n\"+\n     \"BokehJS does not appear to have successfully loaded. If loading BokehJS from CDN, this \\n\"+\n     \"may be due to a slow or bad network connection. Possible fixes:\\n\"+\n     \"</p>\\n\"+\n     \"<ul>\\n\"+\n     \"<li>re-rerun `output_notebook()` to attempt to load from CDN again, or</li>\\n\"+\n     \"<li>use INLINE resources instead, as so:</li>\\n\"+\n     \"</ul>\\n\"+\n     \"<code>\\n\"+\n     \"from bokeh.resources import INLINE\\n\"+\n     \"output_notebook(resources=INLINE)\\n\"+\n     \"</code>\\n\"+\n     \"</div>\"}};\n\n  function display_loaded() {\n    var el = document.getElementById(\"356046d5-ecea-43bf-9fe7-90b67533d02d\");\n    if (el != null) {\n      el.textContent = \"BokehJS is loading...\";\n    }\n    if (root.Bokeh !== undefined) {\n      if (el != null) {\n        el.textContent = \"BokehJS \" + root.Bokeh.version + \" successfully loaded.\";\n      }\n    } else if (Date.now() < root._bokeh_timeout) {\n      setTimeout(display_loaded, 100)\n    }\n  }\n\n\n  function run_callbacks() {\n    try {\n      root._bokeh_onload_callbacks.forEach(function(callback) { callback() });\n    }\n    finally {\n      delete root._bokeh_onload_callbacks\n    }\n    console.info(\"Bokeh: all callbacks have finished\");\n  }\n\n  function load_libs(js_urls, callback) {\n    root._bokeh_onload_callbacks.push(callback);\n    if (root._bokeh_is_loading > 0) {\n      console.log(\"Bokeh: BokehJS is being loaded, scheduling callback at\", now());\n      return null;\n    }\n    if (js_urls == null || js_urls.length === 0) {\n      run_callbacks();\n      return null;\n    }\n    console.log(\"Bokeh: BokehJS not loaded, scheduling load and callback at\", now());\n    root._bokeh_is_loading = js_urls.length;\n    for (var i = 0; i < js_urls.length; i++) {\n      var url = js_urls[i];\n      var s = document.createElement('script');\n      s.src = url;\n      s.async = false;\n      s.onreadystatechange = s.onload = function() {\n        root._bokeh_is_loading--;\n        if (root._bokeh_is_loading === 0) {\n          console.log(\"Bokeh: all BokehJS libraries loaded\");\n          run_callbacks()\n        }\n      };\n      s.onerror = function() {\n        console.warn(\"failed to load library \" + url);\n      };\n      console.log(\"Bokeh: injecting script tag for BokehJS library: \", url);\n      document.getElementsByTagName(\"head\")[0].appendChild(s);\n    }\n  };var element = document.getElementById(\"356046d5-ecea-43bf-9fe7-90b67533d02d\");\n  if (element == null) {\n    console.log(\"Bokeh: ERROR: autoload.js configured with elementid '356046d5-ecea-43bf-9fe7-90b67533d02d' but no matching script tag was found. \")\n    return false;\n  }\n\n  var js_urls = [\"https://cdn.pydata.org/bokeh/release/bokeh-0.12.13.min.js\", \"https://cdn.pydata.org/bokeh/release/bokeh-widgets-0.12.13.min.js\", \"https://cdn.pydata.org/bokeh/release/bokeh-tables-0.12.13.min.js\", \"https://cdn.pydata.org/bokeh/release/bokeh-gl-0.12.13.min.js\"];\n\n  var inline_js = [\n    function(Bokeh) {\n      Bokeh.set_log_level(\"info\");\n    },\n    \n    function(Bokeh) {\n      \n    },\n    function(Bokeh) {\n      console.log(\"Bokeh: injecting CSS: https://cdn.pydata.org/bokeh/release/bokeh-0.12.13.min.css\");\n      Bokeh.embed.inject_css(\"https://cdn.pydata.org/bokeh/release/bokeh-0.12.13.min.css\");\n      console.log(\"Bokeh: injecting CSS: https://cdn.pydata.org/bokeh/release/bokeh-widgets-0.12.13.min.css\");\n      Bokeh.embed.inject_css(\"https://cdn.pydata.org/bokeh/release/bokeh-widgets-0.12.13.min.css\");\n      console.log(\"Bokeh: injecting CSS: https://cdn.pydata.org/bokeh/release/bokeh-tables-0.12.13.min.css\");\n      Bokeh.embed.inject_css(\"https://cdn.pydata.org/bokeh/release/bokeh-tables-0.12.13.min.css\");\n    }\n  ];\n\n  function run_inline_js() {\n    \n    if ((root.Bokeh !== undefined) || (force === true)) {\n      for (var i = 0; i < inline_js.length; i++) {\n        inline_js[i].call(root, root.Bokeh);\n      }if (force === true) {\n        display_loaded();\n      }} else if (Date.now() < root._bokeh_timeout) {\n      setTimeout(run_inline_js, 100);\n    } else if (!root._bokeh_failed_load) {\n      console.log(\"Bokeh: BokehJS failed to load within specified timeout.\");\n      root._bokeh_failed_load = true;\n    } else if (force !== true) {\n      var cell = $(document.getElementById(\"356046d5-ecea-43bf-9fe7-90b67533d02d\")).parents('.cell').data().cell;\n      cell.output_area.append_execute_result(NB_LOAD_WARNING)\n    }\n\n  }\n\n  if (root._bokeh_is_loading === 0) {\n    console.log(\"Bokeh: BokehJS loaded, going straight to plotting\");\n    run_inline_js();\n  } else {\n    load_libs(js_urls, function() {\n      console.log(\"Bokeh: BokehJS plotting callback run at\", now());\n      run_inline_js();\n    });\n  }\n}(window));"
     },
     "metadata": {},
     "output_type": "display_data"
    },
    {
     "data": {
      "text/markdown": [
       "<h3>Simulation 160: Min Error - 23.69% , Val Error - 23.82% , Mean Error - 23.96%<h3>"
      ],
      "text/plain": [
       "<IPython.core.display.Markdown object>"
      ]
     },
     "metadata": {},
     "output_type": "display_data"
    },
    {
     "data": {
      "text/markdown": [
       "<h3>Simulation 221: Min Error - 24.13% , Val Error - 24.18% , Mean Error - 24.35%<h3>"
      ],
      "text/plain": [
       "<IPython.core.display.Markdown object>"
      ]
     },
     "metadata": {},
     "output_type": "display_data"
    }
   ],
   "source": [
    "import numpy as np\n",
    "import pandas as pd\n",
    "from bokeh.io import output_notebook\n",
    "from bokeh.plotting import figure, show, output_file\n",
    "from Outputs.jupyter_graphs import create_graphs, compare_graphs\n",
    "from IPython.display import Markdown, display\n",
    "from IPython.core.interactiveshell import InteractiveShell\n",
    "sim_num = [160, 221]\n",
    "plots, scores = compare_graphs(sim_nums=sim_num, linear=True)\n",
    "output_notebook()\n",
    "for sim in zip(sim_num,scores):\n",
    "    display(Markdown('<h3>Simulation {0}: Min Error - {1:.2f}% , Val Error - {2:.2f}% , Mean Error - {3:.2f}%<h3>'.format(sim[0],sim[1][0],sim[1][2],sim[1][1])))"
   ]
  },
  {
   "cell_type": "code",
   "execution_count": 7,
   "metadata": {},
   "outputs": [
    {
     "name": "stderr",
     "output_type": "stream",
     "text": [
      "C:\\Users\\giladiniv\\AppData\\Local\\Continuum\\anaconda3\\lib\\site-packages\\bokeh\\core\\json_encoder.py:80: FutureWarning: Conversion of the second argument of issubdtype from `float` to `np.floating` is deprecated. In future, it will be treated as `np.float64 == np.dtype(float).type`.\n",
      "  elif np.issubdtype(type(obj), np.float):\n"
     ]
    },
    {
     "data": {
      "text/html": [
       "\n",
       "<div class=\"bk-root\">\n",
       "    <div class=\"bk-plotdiv\" id=\"bd77e900-7e20-49f2-959e-1f5cf3858fb5\"></div>\n",
       "</div>"
      ]
     },
     "metadata": {},
     "output_type": "display_data"
    },
    {
     "data": {
      "application/javascript": [
       "(function(root) {\n",
       "  function embed_document(root) {\n",
       "    \n",
       "  var docs_json = {\"673fa5de-d336-477b-951f-12de591f7ae7\":{\"roots\":{\"references\":[{\"attributes\":{\"bottom_units\":\"screen\",\"fill_alpha\":{\"value\":0.5},\"fill_color\":{\"value\":\"lightgrey\"},\"left_units\":\"screen\",\"level\":\"overlay\",\"line_alpha\":{\"value\":1.0},\"line_color\":{\"value\":\"black\"},\"line_dash\":[4,4],\"line_width\":{\"value\":2},\"plot\":null,\"render_mode\":\"css\",\"right_units\":\"screen\",\"top_units\":\"screen\"},\"id\":\"ed3a130a-bd64-4390-a23d-cf6ba25158aa\",\"type\":\"BoxAnnotation\"},{\"attributes\":{},\"id\":\"a98d1bbe-e603-4b91-8678-06043dc7947d\",\"type\":\"HelpTool\"},{\"attributes\":{\"data_source\":{\"id\":\"a18f281c-688e-4548-8cef-b7cedf8261d2\",\"type\":\"ColumnDataSource\"},\"glyph\":{\"id\":\"5d00cf95-b1b7-4e0f-a416-008d8e8e61c3\",\"type\":\"Line\"},\"hover_glyph\":null,\"muted_glyph\":null,\"nonselection_glyph\":{\"id\":\"f3ccc39c-9399-4111-9c19-3a148fb88b39\",\"type\":\"Line\"},\"selection_glyph\":null,\"view\":{\"id\":\"655b3e8e-f869-4dcf-9cc7-fcfc904b4e76\",\"type\":\"CDSView\"}},\"id\":\"24ecccfc-61c4-4618-bcc7-13fc702a1a78\",\"type\":\"GlyphRenderer\"},{\"attributes\":{},\"id\":\"7301d268-8475-484b-a2c7-5e285b3e9ddd\",\"type\":\"SaveTool\"},{\"attributes\":{},\"id\":\"35efbfa0-16d9-4d44-98ff-6f996e8afa04\",\"type\":\"ResetTool\"},{\"attributes\":{\"callback\":null,\"data\":{}},\"id\":\"19e5a35e-d990-4f4a-a392-382a0b1d69a5\",\"type\":\"ColumnDataSource\"},{\"attributes\":{\"overlay\":{\"id\":\"ed3a130a-bd64-4390-a23d-cf6ba25158aa\",\"type\":\"BoxAnnotation\"}},\"id\":\"5ef16b04-5f8b-44bb-8c12-546ec5a7ea36\",\"type\":\"BoxZoomTool\"},{\"attributes\":{},\"id\":\"e8eeee3b-f47c-4430-b1c6-6b5c8c82221a\",\"type\":\"WheelZoomTool\"},{\"attributes\":{\"callback\":null,\"column_names\":[\"x\",\"y\"],\"data\":{\"x\":{\"__ndarray__\":\"AQAAAAIAAAADAAAABAAAAAUAAAAGAAAABwAAAAgAAAAJAAAACgAAAAsAAAAMAAAADQAAAA4AAAAPAAAAEAAAABEAAAASAAAAEwAAABQAAAAVAAAAFgAAABcAAAAYAAAAGQAAABoAAAAbAAAAHAAAAB0AAAAeAAAAHwAAACAAAAAhAAAAIgAAACMAAAAkAAAAJQAAACYAAAAnAAAAKAAAACkAAAAqAAAAKwAAACwAAAAtAAAALgAAAC8AAAAwAAAAMQAAADIAAAAzAAAANAAAADUAAAA2AAAANwAAADgAAAA5AAAAOgAAADsAAAA8AAAAPQAAAD4AAAA/AAAAQAAAAEEAAABCAAAAQwAAAEQAAABFAAAARgAAAEcAAABIAAAASQAAAEoAAABLAAAATAAAAE0AAABOAAAATwAAAFAAAABRAAAAUgAAAFMAAABUAAAAVQAAAFYAAABXAAAAWAAAAFkAAABaAAAA\",\"dtype\":\"int32\",\"shape\":[90]},\"y\":[0.8261400000976562,0.68814,0.6124400003173828,0.5609200004272461,0.5159600000366211,0.5452000001220703,0.5127199999755859,0.509319999975586,0.5508800001953125,0.5192000002807617,0.5101000001342774,0.480059999987793,0.4773999999755859,0.4805399998535156,0.4806200003173828,0.4905600000854492,0.48415999990234376,0.48438000029296874,0.5346600001342773,0.4646199999267578,0.4706400001098633,0.4987400000366211,0.4759399998779297,0.4661999998291016,0.49156000017089846,0.4666200000366211,0.4436399999267578,0.4644800002197265,0.4736200004028321,0.4592200004638672,0.3173599996582031,0.30384000009765627,0.3004399997314453,0.29538000026855465,0.3024000002197266,0.29652000048828125,0.29502000041503906,0.29451999958496095,0.2926,0.29954000007324216,0.3016400002685547,0.3004399997802734,0.3020800000732422,0.3040600000244141,0.2944600005859375,0.30512,0.29822000007324223,0.3031600001953125,0.298980000390625,0.30083999958496094,0.30032000021972655,0.3018799997802734,0.3015999998535156,0.29569999978027345,0.29918000029296876,0.30432,0.2995599997314453,0.3055800002197266,0.30204000026855465,0.30614000004882813,0.25633999997558593,0.2518599997558594,0.2484199996826172,0.2482200002685547,0.24822000034179686,0.2462400005126953,0.24552000061035156,0.2440800005371094,0.24448000078124998,0.24286000004882813,0.2447000004394531,0.24353999958496092,0.24411999982910157,0.24332000009765625,0.2422800005859375,0.24247999982910154,0.24166000056152345,0.2425000008300781,0.24377999975585937,0.24269999970703127,0.2396800007080078,0.2383400003173828,0.23920000085449217,0.23884000075683595,0.23812000026855468,0.23848000002441405,0.23905999978027342,0.23754000024414063,0.23687999958496092,0.23818000065917969]}},\"id\":\"c78f717d-388e-4ab6-b099-617a210c4d7b\",\"type\":\"ColumnDataSource\"},{\"attributes\":{\"line_color\":\"#1f77b4\",\"line_width\":3,\"x\":{\"field\":\"x\"},\"y\":{\"field\":\"y\"}},\"id\":\"2fe28d5c-133d-4b12-9f2b-44c6e698feae\",\"type\":\"Line\"},{\"attributes\":{\"label\":{\"value\":\"validation - (256, 1, 0.9, 0.1)\"},\"renderers\":[{\"id\":\"1307dac5-45ed-4b3a-b3be-774b15106982\",\"type\":\"GlyphRenderer\"}]},\"id\":\"e0dc8414-3a1b-415c-93f2-8bcb7d881558\",\"type\":\"LegendItem\"},{\"attributes\":{\"source\":{\"id\":\"c78f717d-388e-4ab6-b099-617a210c4d7b\",\"type\":\"ColumnDataSource\"}},\"id\":\"1babbcbe-f219-4c14-a790-5f45061581da\",\"type\":\"CDSView\"},{\"attributes\":{\"line_alpha\":0.1,\"line_color\":\"#1f77b4\",\"line_width\":3,\"x\":{\"field\":\"x\"},\"y\":{\"field\":\"y\"}},\"id\":\"875f5627-b4f3-4f01-a25e-6c57fc0c9a2f\",\"type\":\"Line\"},{\"attributes\":{\"data_source\":{\"id\":\"c78f717d-388e-4ab6-b099-617a210c4d7b\",\"type\":\"ColumnDataSource\"},\"glyph\":{\"id\":\"2fe28d5c-133d-4b12-9f2b-44c6e698feae\",\"type\":\"Line\"},\"hover_glyph\":null,\"muted_glyph\":null,\"nonselection_glyph\":{\"id\":\"875f5627-b4f3-4f01-a25e-6c57fc0c9a2f\",\"type\":\"Line\"},\"selection_glyph\":null,\"view\":{\"id\":\"1babbcbe-f219-4c14-a790-5f45061581da\",\"type\":\"CDSView\"}},\"id\":\"1307dac5-45ed-4b3a-b3be-774b15106982\",\"type\":\"GlyphRenderer\"},{\"attributes\":{\"fill_alpha\":{\"value\":0.5},\"fill_color\":{\"value\":\"red\"},\"line_alpha\":{\"value\":0.5},\"line_color\":{\"value\":\"red\"},\"size\":{\"units\":\"screen\",\"value\":5},\"x\":{\"value\":89},\"y\":{\"value\":0.23687999958496092}},\"id\":\"9395048f-8b50-4b47-bede-4d5891d8a54c\",\"type\":\"Circle\"},{\"attributes\":{\"source\":{\"id\":\"19e5a35e-d990-4f4a-a392-382a0b1d69a5\",\"type\":\"ColumnDataSource\"}},\"id\":\"d5e5d2cc-9353-4e18-baa6-dd69c5872d12\",\"type\":\"CDSView\"},{\"attributes\":{\"active_drag\":\"auto\",\"active_inspect\":\"auto\",\"active_scroll\":\"auto\",\"active_tap\":\"auto\",\"tools\":[{\"id\":\"a58c2680-27e4-4d21-80d5-d695f6f6e0b4\",\"type\":\"PanTool\"},{\"id\":\"e8eeee3b-f47c-4430-b1c6-6b5c8c82221a\",\"type\":\"WheelZoomTool\"},{\"id\":\"5ef16b04-5f8b-44bb-8c12-546ec5a7ea36\",\"type\":\"BoxZoomTool\"},{\"id\":\"7301d268-8475-484b-a2c7-5e285b3e9ddd\",\"type\":\"SaveTool\"},{\"id\":\"35efbfa0-16d9-4d44-98ff-6f996e8afa04\",\"type\":\"ResetTool\"},{\"id\":\"a98d1bbe-e603-4b91-8678-06043dc7947d\",\"type\":\"HelpTool\"}]},\"id\":\"fec1bb70-9532-4eae-a8e1-70ad1525764e\",\"type\":\"Toolbar\"},{\"attributes\":{\"fill_alpha\":{\"value\":0.1},\"fill_color\":{\"value\":\"#1f77b4\"},\"line_alpha\":{\"value\":0.1},\"line_color\":{\"value\":\"#1f77b4\"},\"size\":{\"units\":\"screen\",\"value\":5},\"x\":{\"value\":89},\"y\":{\"value\":0.23687999958496092}},\"id\":\"580e9f18-af6e-48e2-b892-2b47521ef1b0\",\"type\":\"Circle\"},{\"attributes\":{\"data_source\":{\"id\":\"19e5a35e-d990-4f4a-a392-382a0b1d69a5\",\"type\":\"ColumnDataSource\"},\"glyph\":{\"id\":\"9395048f-8b50-4b47-bede-4d5891d8a54c\",\"type\":\"Circle\"},\"hover_glyph\":null,\"muted_glyph\":null,\"nonselection_glyph\":{\"id\":\"580e9f18-af6e-48e2-b892-2b47521ef1b0\",\"type\":\"Circle\"},\"selection_glyph\":null,\"view\":{\"id\":\"d5e5d2cc-9353-4e18-baa6-dd69c5872d12\",\"type\":\"CDSView\"}},\"id\":\"afc62c01-7d95-40b6-ab1d-791036953ca7\",\"type\":\"GlyphRenderer\"},{\"attributes\":{\"callback\":null,\"column_names\":[\"x\",\"y\"],\"data\":{\"x\":{\"__ndarray__\":\"AQAAAAIAAAADAAAABAAAAAUAAAAGAAAABwAAAAgAAAAJAAAACgAAAAsAAAAMAAAADQAAAA4AAAAPAAAAEAAAABEAAAASAAAAEwAAABQAAAAVAAAAFgAAABcAAAAYAAAAGQAAABoAAAAbAAAAHAAAAB0AAAAeAAAAHwAAACAAAAAhAAAAIgAAACMAAAAkAAAAJQAAACYAAAAnAAAAKAAAACkAAAAqAAAAKwAAACwAAAAtAAAALgAAAC8AAAAwAAAAMQAAADIAAAAzAAAANAAAADUAAAA2AAAANwAAADgAAAA5AAAAOgAAADsAAAA8AAAAPQAAAD4AAAA/AAAAQAAAAEEAAABCAAAAQwAAAEQAAABFAAAARgAAAEcAAABIAAAASQAAAEoAAABLAAAATAAAAE0AAABOAAAATwAAAFAAAABRAAAAUgAAAFMAAABUAAAAVQAAAFYAAABXAAAAWAAAAFkAAABaAAAA\",\"dtype\":\"int32\",\"shape\":[90]},\"y\":[0.9766501947053072,0.8445136348337909,0.7245378627458371,0.6552307388504991,0.6144507312457032,0.588190298375896,0.5700537088446327,0.5574644055005973,0.5478466117213141,0.5402910003143485,0.5341832875798231,0.5293634631542726,0.5246380838694091,0.5210585349138119,0.518290745859555,0.5163152032492413,0.5141679421974034,0.5116358757284192,0.5099600598513248,0.5079556373217922,0.5067543887735111,0.5052479497201854,0.5038585914250578,0.5024981130479879,0.5019283200404169,0.5003500714598359,0.49938688711101015,0.49905437776527006,0.4971732802969535,0.4970390277003645,0.38397414232439125,0.36079215277966653,0.35173634662909264,0.34619686582540127,0.34197805594391995,0.3400423207920093,0.3377623682191285,0.33709344683127995,0.33625280701217974,0.33609826041375096,0.33559871585964574,0.3356252541660815,0.3359085895882915,0.33565257300237017,0.3362489043168236,0.3356283763179478,0.3359811796587686,0.3354215336515963,0.33515068683199806,0.33476666195512583,0.3343319020859067,0.3338198689180538,0.33296517940039977,0.33307835746413494,0.33253588329800365,0.33183652092155363,0.3316086037164826,0.3310739349353467,0.33035974232623216,0.329153030005977,0.2831324878054119,0.27125113275401463,0.2662080743535746,0.2627276537707812,0.2599161545692262,0.2584120571308572,0.2562538685421576,0.2546966944966339,0.25279530303249215,0.25118193022473173,0.2506550668290677,0.24864596106125478,0.24805119083133945,0.24632776210950674,0.24515773509477604,0.2444607143357839,0.24325634363313545,0.24216515099142336,0.2418443497203479,0.24080779477074554,0.23415448571545344,0.23209698657790262,0.23159978363434738,0.23060147506188525,0.23065221005643552,0.2296125329470467,0.22920118923093807,0.22942442320052767,0.2290411788603863,0.228920975951632]}},\"id\":\"a18f281c-688e-4548-8cef-b7cedf8261d2\",\"type\":\"ColumnDataSource\"},{\"attributes\":{},\"id\":\"a58c2680-27e4-4d21-80d5-d695f6f6e0b4\",\"type\":\"PanTool\"},{\"attributes\":{},\"id\":\"78e290b3-7c99-4fbe-b424-2d3a23b723fa\",\"type\":\"BasicTicker\"},{\"attributes\":{\"plot\":null,\"text\":\"Training & Test Error\"},\"id\":\"cfedfb74-902f-438c-a478-f09c9bd76b64\",\"type\":\"Title\"},{\"attributes\":{},\"id\":\"4f3ea19c-cced-4c61-8a67-1918ae3f4ba5\",\"type\":\"LinearScale\"},{\"attributes\":{\"line_color\":\"#ff7f0e\",\"line_dash\":[6],\"line_width\":3,\"x\":{\"field\":\"x\"},\"y\":{\"field\":\"y\"}},\"id\":\"5d00cf95-b1b7-4e0f-a416-008d8e8e61c3\",\"type\":\"Line\"},{\"attributes\":{\"callback\":null,\"data\":{}},\"id\":\"174fdda4-714f-419e-a991-638282f795c7\",\"type\":\"ColumnDataSource\"},{\"attributes\":{\"axis_label\":\"t [Epochs]\",\"formatter\":{\"id\":\"2a894020-d77d-4b29-a33b-17e02d44fc2f\",\"type\":\"BasicTickFormatter\"},\"plot\":{\"id\":\"6669aa4b-4dfc-4c03-b6b4-ddb4bf614ef7\",\"subtype\":\"Figure\",\"type\":\"Plot\"},\"ticker\":{\"id\":\"dbfa38e6-da87-4cb9-89a3-934d0039fe9c\",\"type\":\"BasicTicker\"}},\"id\":\"31582e9e-139e-4006-be59-61c221622b0d\",\"type\":\"LinearAxis\"},{\"attributes\":{\"source\":{\"id\":\"a18f281c-688e-4548-8cef-b7cedf8261d2\",\"type\":\"ColumnDataSource\"}},\"id\":\"655b3e8e-f869-4dcf-9cc7-fcfc904b4e76\",\"type\":\"CDSView\"},{\"attributes\":{\"fill_alpha\":{\"value\":0.1},\"fill_color\":{\"value\":\"#1f77b4\"},\"line_alpha\":{\"value\":0.1},\"line_color\":{\"value\":\"#1f77b4\"},\"size\":{\"units\":\"screen\",\"value\":5},\"x\":{\"value\":84},\"y\":{\"value\":0.24132000078125}},\"id\":\"b47e114f-4ad6-4918-b667-b6f1931468b0\",\"type\":\"Circle\"},{\"attributes\":{\"line_alpha\":0.1,\"line_color\":\"#1f77b4\",\"line_dash\":[6],\"line_width\":3,\"x\":{\"field\":\"x\"},\"y\":{\"field\":\"y\"}},\"id\":\"f3ccc39c-9399-4111-9c19-3a148fb88b39\",\"type\":\"Line\"},{\"attributes\":{\"callback\":null},\"id\":\"aea63956-66ee-4ba9-8a5b-a7271bef60e7\",\"type\":\"DataRange1d\"},{\"attributes\":{\"background_fill_color\":{\"value\":\"#fafafa\"},\"below\":[{\"id\":\"31582e9e-139e-4006-be59-61c221622b0d\",\"type\":\"LinearAxis\"}],\"left\":[{\"id\":\"a1459fe2-c69e-4b04-82c2-90e19d2e76f7\",\"type\":\"LinearAxis\"}],\"min_border\":10,\"min_border_left\":50,\"renderers\":[{\"id\":\"31582e9e-139e-4006-be59-61c221622b0d\",\"type\":\"LinearAxis\"},{\"id\":\"442b3e97-cc98-4c33-90b9-58426905b3ea\",\"type\":\"Grid\"},{\"id\":\"a1459fe2-c69e-4b04-82c2-90e19d2e76f7\",\"type\":\"LinearAxis\"},{\"id\":\"0f2786e1-9ab9-4981-a5f9-252817c4013c\",\"type\":\"Grid\"},{\"id\":\"ed3a130a-bd64-4390-a23d-cf6ba25158aa\",\"type\":\"BoxAnnotation\"},{\"id\":\"053b0a68-e762-4152-a96b-7fb1a36a7887\",\"type\":\"Legend\"},{\"id\":\"9c9f1f7e-cff9-44eb-aee5-e722850abfbb\",\"type\":\"GlyphRenderer\"},{\"id\":\"1307dac5-45ed-4b3a-b3be-774b15106982\",\"type\":\"GlyphRenderer\"},{\"id\":\"afc62c01-7d95-40b6-ab1d-791036953ca7\",\"type\":\"GlyphRenderer\"},{\"id\":\"24ecccfc-61c4-4618-bcc7-13fc702a1a78\",\"type\":\"GlyphRenderer\"},{\"id\":\"e6ba1b78-5c19-4930-a735-1a8f96d3bd13\",\"type\":\"GlyphRenderer\"},{\"id\":\"40e0e433-1f2a-46a2-ae68-a8c885df0c8e\",\"type\":\"GlyphRenderer\"}],\"title\":{\"id\":\"cfedfb74-902f-438c-a478-f09c9bd76b64\",\"type\":\"Title\"},\"toolbar\":{\"id\":\"fec1bb70-9532-4eae-a8e1-70ad1525764e\",\"type\":\"Toolbar\"},\"x_range\":{\"id\":\"aea63956-66ee-4ba9-8a5b-a7271bef60e7\",\"type\":\"DataRange1d\"},\"x_scale\":{\"id\":\"918bfe85-21a6-413e-af38-29deada72952\",\"type\":\"LinearScale\"},\"y_range\":{\"id\":\"25b1163c-059c-4e03-87d3-089eded70538\",\"type\":\"DataRange1d\"},\"y_scale\":{\"id\":\"4f3ea19c-cced-4c61-8a67-1918ae3f4ba5\",\"type\":\"LinearScale\"}},\"id\":\"6669aa4b-4dfc-4c03-b6b4-ddb4bf614ef7\",\"subtype\":\"Figure\",\"type\":\"Plot\"},{\"attributes\":{},\"id\":\"918bfe85-21a6-413e-af38-29deada72952\",\"type\":\"LinearScale\"},{\"attributes\":{\"axis_label\":\"Error Rate\",\"formatter\":{\"id\":\"dc59d36d-d569-47ed-af97-e68705c9d7fe\",\"type\":\"NumeralTickFormatter\"},\"plot\":{\"id\":\"6669aa4b-4dfc-4c03-b6b4-ddb4bf614ef7\",\"subtype\":\"Figure\",\"type\":\"Plot\"},\"ticker\":{\"id\":\"78e290b3-7c99-4fbe-b424-2d3a23b723fa\",\"type\":\"BasicTicker\"}},\"id\":\"a1459fe2-c69e-4b04-82c2-90e19d2e76f7\",\"type\":\"LinearAxis\"},{\"attributes\":{\"label\":{\"value\":\"train - (256, 1, 0.0, 1.0)\"},\"renderers\":[{\"id\":\"24ecccfc-61c4-4618-bcc7-13fc702a1a78\",\"type\":\"GlyphRenderer\"}]},\"id\":\"13308da3-c19d-4ab3-8721-f3dce5c3a052\",\"type\":\"LegendItem\"},{\"attributes\":{\"format\":\"0.0%\"},\"id\":\"dc59d36d-d569-47ed-af97-e68705c9d7fe\",\"type\":\"NumeralTickFormatter\"},{\"attributes\":{\"plot\":{\"id\":\"6669aa4b-4dfc-4c03-b6b4-ddb4bf614ef7\",\"subtype\":\"Figure\",\"type\":\"Plot\"},\"ticker\":{\"id\":\"dbfa38e6-da87-4cb9-89a3-934d0039fe9c\",\"type\":\"BasicTicker\"}},\"id\":\"442b3e97-cc98-4c33-90b9-58426905b3ea\",\"type\":\"Grid\"},{\"attributes\":{\"callback\":null,\"column_names\":[\"x\",\"y\"],\"data\":{\"x\":{\"__ndarray__\":\"AQAAAAIAAAADAAAABAAAAAUAAAAGAAAABwAAAAgAAAAJAAAACgAAAAsAAAAMAAAADQAAAA4AAAAPAAAAEAAAABEAAAASAAAAEwAAABQAAAAVAAAAFgAAABcAAAAYAAAAGQAAABoAAAAbAAAAHAAAAB0AAAAeAAAAHwAAACAAAAAhAAAAIgAAACMAAAAkAAAAJQAAACYAAAAnAAAAKAAAACkAAAAqAAAAKwAAACwAAAAtAAAALgAAAC8AAAAwAAAAMQAAADIAAAAzAAAANAAAADUAAAA2AAAANwAAADgAAAA5AAAAOgAAADsAAAA8AAAAPQAAAD4AAAA/AAAAQAAAAEEAAABCAAAAQwAAAEQAAABFAAAARgAAAEcAAABIAAAASQAAAEoAAABLAAAATAAAAE0AAABOAAAATwAAAFAAAABRAAAAUgAAAFMAAABUAAAAVQAAAFYAAABXAAAAWAAAAFkAAABaAAAA\",\"dtype\":\"int32\",\"shape\":[90]},\"y\":[0.9282318386282714,0.7498858462617854,0.6561369438956232,0.6091165320352885,0.580560535823622,0.5614576397918154,0.5477818270367257,0.538209304484872,0.5303282085777811,0.5247621894741151,0.5199884168095092,0.5149992155579868,0.5124351470191083,0.509310651927811,0.5063937800465039,0.504798359619463,0.5026081689594102,0.5006872640350428,0.4992190713638297,0.49783751845048185,0.49738012296711626,0.49545921804039655,0.4942173814976663,0.49412683904355176,0.49307077063253274,0.49225979126982894,0.49153232950844933,0.4914339816732696,0.4900930167559788,0.489398337608281,0.378541595279988,0.35536975273095756,0.3456169258175803,0.3400071965614652,0.3357891672152558,0.33348033472378125,0.33227128079267837,0.3305517547706085,0.3303878417126208,0.32985239238859054,0.32944573190048976,0.3297150176379319,0.3296697464106512,0.33013416673873813,0.3305111667738368,0.3296962847104769,0.32978604662565725,0.3296197919566729,0.32881739850971065,0.3285223550087569,0.32873231982828477,0.32782767586031475,0.32700889111202003,0.32741555159982305,0.3267934625198034,0.32589037963181594,0.324824944755402,0.32432618073951647,0.32431291159091374,0.3234129508478847,0.27789351426949727,0.2658341964819545,0.2610783761999738,0.256993818917136,0.25488948747145845,0.25200539820603657,0.25027650571371846,0.2487193316745071,0.24746110381722417,0.24531306222981664,0.24477214913881448,0.24304247611324917,0.24161487144220217,0.24061422124933443,0.24042298935124692,0.23887986499445119,0.2373913783319686,0.23699486484105095,0.23547281501770453,0.23522382327873761,0.22838942932575676,0.22639203164037972,0.22580038355482734,0.22515097563691128,0.2247107519964624,0.22431579957596945,0.22438058426246343,0.22413081198893917,0.22437277887657472,0.223518089365233]}},\"id\":\"d3f07ae1-115e-4580-94f2-f9094f2cc44e\",\"type\":\"ColumnDataSource\"},{\"attributes\":{\"data_source\":{\"id\":\"d3f07ae1-115e-4580-94f2-f9094f2cc44e\",\"type\":\"ColumnDataSource\"},\"glyph\":{\"id\":\"210f465b-420d-4672-ad9d-2dfdf151b095\",\"type\":\"Line\"},\"hover_glyph\":null,\"muted_glyph\":null,\"nonselection_glyph\":{\"id\":\"f2a1a9de-51d5-485e-8f54-b95427e8f634\",\"type\":\"Line\"},\"selection_glyph\":null,\"view\":{\"id\":\"b86beffd-382e-4651-bc74-a31e4d9efee9\",\"type\":\"CDSView\"}},\"id\":\"9c9f1f7e-cff9-44eb-aee5-e722850abfbb\",\"type\":\"GlyphRenderer\"},{\"attributes\":{\"click_policy\":\"hide\",\"items\":[{\"id\":\"cb317b34-d152-4ecc-87f6-ee07f8120d0a\",\"type\":\"LegendItem\"},{\"id\":\"e0dc8414-3a1b-415c-93f2-8bcb7d881558\",\"type\":\"LegendItem\"},{\"id\":\"13308da3-c19d-4ab3-8721-f3dce5c3a052\",\"type\":\"LegendItem\"},{\"id\":\"f4f7db08-0791-40f3-8bab-50ebcf92f021\",\"type\":\"LegendItem\"}],\"plot\":{\"id\":\"6669aa4b-4dfc-4c03-b6b4-ddb4bf614ef7\",\"subtype\":\"Figure\",\"type\":\"Plot\"}},\"id\":\"053b0a68-e762-4152-a96b-7fb1a36a7887\",\"type\":\"Legend\"},{\"attributes\":{\"callback\":null,\"column_names\":[\"x\",\"y\"],\"data\":{\"x\":{\"__ndarray__\":\"AQAAAAIAAAADAAAABAAAAAUAAAAGAAAABwAAAAgAAAAJAAAACgAAAAsAAAAMAAAADQAAAA4AAAAPAAAAEAAAABEAAAASAAAAEwAAABQAAAAVAAAAFgAAABcAAAAYAAAAGQAAABoAAAAbAAAAHAAAAB0AAAAeAAAAHwAAACAAAAAhAAAAIgAAACMAAAAkAAAAJQAAACYAAAAnAAAAKAAAACkAAAAqAAAAKwAAACwAAAAtAAAALgAAAC8AAAAwAAAAMQAAADIAAAAzAAAANAAAADUAAAA2AAAANwAAADgAAAA5AAAAOgAAADsAAAA8AAAAPQAAAD4AAAA/AAAAQAAAAEEAAABCAAAAQwAAAEQAAABFAAAARgAAAEcAAABIAAAASQAAAEoAAABLAAAATAAAAE0AAABOAAAATwAAAFAAAABRAAAAUgAAAFMAAABUAAAAVQAAAFYAAABXAAAAWAAAAFkAAABaAAAA\",\"dtype\":\"int32\",\"shape\":[90]},\"y\":[0.9523200000061035,0.8329399999816894,0.7429800001342773,0.7037199997802734,0.6961800000976562,0.6266400001342773,0.6557400001708984,0.5871999998168945,0.5926600000244141,0.5890400000976562,0.626800000427246,0.546959999987793,0.5597000001098632,0.6554800001708985,0.588659999987793,0.5343199998901367,0.5648399998413086,0.6009199999023438,0.6657000003417969,0.6707799999450684,0.5986600000732422,0.6008000002319336,0.5273400002563476,0.5747599999023438,0.588459999987793,0.5929399999023438,0.54116,0.5485799999633789,0.5906399998901367,0.533000000415039,0.32086000017089844,0.32496000051269536,0.31140000068359375,0.3064999999511719,0.3048400002685547,0.3011800002685547,0.3092399998046875,0.3222200002929687,0.30400000026855467,0.3114600002197266,0.31593999965820313,0.30310000029296874,0.32089999997558594,0.31671999970703124,0.3225999997314453,0.32282000019531254,0.3277000007080078,0.31492000017089844,0.3375799999511719,0.3321400007324219,0.34212000015869143,0.3145399996826172,0.31114000002441405,0.3194800005126953,0.3492199998535156,0.33788000068359375,0.3182999996337891,0.318219999609375,0.33038000046386723,0.3095399998046875,0.2606200002197266,0.25666000078125,0.2536000007080078,0.2528200005859375,0.25166000078125,0.2508600002441406,0.2501800000732422,0.2494600007324219,0.2509999997558594,0.24898000078125002,0.25017999965820314,0.24850000083007814,0.2482000000488281,0.2480600000732422,0.2474600005126953,0.24828000004882814,0.24638000075683592,0.24588000002441404,0.2478800004638672,0.24646000073242189,0.2436999999267578,0.24280000002441404,0.24288000004882812,0.24132000078125,0.24232000075683593,0.24301999999999999,0.24190000026855468,0.24142000024414062,0.24164000007324218,0.24180000058593748]}},\"id\":\"fe7e7b8d-616d-4595-b25e-0bb146b2498d\",\"type\":\"ColumnDataSource\"},{\"attributes\":{\"line_color\":\"#ff7f0e\",\"line_width\":3,\"x\":{\"field\":\"x\"},\"y\":{\"field\":\"y\"}},\"id\":\"423d5e56-0436-45c9-b591-c07a2807a3da\",\"type\":\"Line\"},{\"attributes\":{},\"id\":\"2a894020-d77d-4b29-a33b-17e02d44fc2f\",\"type\":\"BasicTickFormatter\"},{\"attributes\":{\"label\":{\"value\":\"validation - (256, 1, 0.0, 1.0)\"},\"renderers\":[{\"id\":\"e6ba1b78-5c19-4930-a735-1a8f96d3bd13\",\"type\":\"GlyphRenderer\"}]},\"id\":\"f4f7db08-0791-40f3-8bab-50ebcf92f021\",\"type\":\"LegendItem\"},{\"attributes\":{\"line_color\":\"#1f77b4\",\"line_dash\":[6],\"line_width\":3,\"x\":{\"field\":\"x\"},\"y\":{\"field\":\"y\"}},\"id\":\"210f465b-420d-4672-ad9d-2dfdf151b095\",\"type\":\"Line\"},{\"attributes\":{\"source\":{\"id\":\"fe7e7b8d-616d-4595-b25e-0bb146b2498d\",\"type\":\"ColumnDataSource\"}},\"id\":\"0e000b46-e342-4484-8615-0f5997866db2\",\"type\":\"CDSView\"},{\"attributes\":{\"line_alpha\":0.1,\"line_color\":\"#1f77b4\",\"line_dash\":[6],\"line_width\":3,\"x\":{\"field\":\"x\"},\"y\":{\"field\":\"y\"}},\"id\":\"f2a1a9de-51d5-485e-8f54-b95427e8f634\",\"type\":\"Line\"},{\"attributes\":{\"line_alpha\":0.1,\"line_color\":\"#1f77b4\",\"line_width\":3,\"x\":{\"field\":\"x\"},\"y\":{\"field\":\"y\"}},\"id\":\"91b5c0be-ad7e-4810-8a0f-1147ebf6ad5d\",\"type\":\"Line\"},{\"attributes\":{\"data_source\":{\"id\":\"fe7e7b8d-616d-4595-b25e-0bb146b2498d\",\"type\":\"ColumnDataSource\"},\"glyph\":{\"id\":\"423d5e56-0436-45c9-b591-c07a2807a3da\",\"type\":\"Line\"},\"hover_glyph\":null,\"muted_glyph\":null,\"nonselection_glyph\":{\"id\":\"91b5c0be-ad7e-4810-8a0f-1147ebf6ad5d\",\"type\":\"Line\"},\"selection_glyph\":null,\"view\":{\"id\":\"0e000b46-e342-4484-8615-0f5997866db2\",\"type\":\"CDSView\"}},\"id\":\"e6ba1b78-5c19-4930-a735-1a8f96d3bd13\",\"type\":\"GlyphRenderer\"},{\"attributes\":{\"source\":{\"id\":\"d3f07ae1-115e-4580-94f2-f9094f2cc44e\",\"type\":\"ColumnDataSource\"}},\"id\":\"b86beffd-382e-4651-bc74-a31e4d9efee9\",\"type\":\"CDSView\"},{\"attributes\":{\"label\":{\"value\":\"train - (256, 1, 0.9, 0.1)\"},\"renderers\":[{\"id\":\"9c9f1f7e-cff9-44eb-aee5-e722850abfbb\",\"type\":\"GlyphRenderer\"}]},\"id\":\"cb317b34-d152-4ecc-87f6-ee07f8120d0a\",\"type\":\"LegendItem\"},{\"attributes\":{\"fill_alpha\":{\"value\":0.5},\"fill_color\":{\"value\":\"red\"},\"line_alpha\":{\"value\":0.5},\"line_color\":{\"value\":\"red\"},\"size\":{\"units\":\"screen\",\"value\":5},\"x\":{\"value\":84},\"y\":{\"value\":0.24132000078125}},\"id\":\"9381c4f5-54aa-4fe3-93cb-9ca9c2e27986\",\"type\":\"Circle\"},{\"attributes\":{\"source\":{\"id\":\"174fdda4-714f-419e-a991-638282f795c7\",\"type\":\"ColumnDataSource\"}},\"id\":\"53aca502-dcd1-42a3-9902-cea0ab745d8f\",\"type\":\"CDSView\"},{\"attributes\":{\"data_source\":{\"id\":\"174fdda4-714f-419e-a991-638282f795c7\",\"type\":\"ColumnDataSource\"},\"glyph\":{\"id\":\"9381c4f5-54aa-4fe3-93cb-9ca9c2e27986\",\"type\":\"Circle\"},\"hover_glyph\":null,\"muted_glyph\":null,\"nonselection_glyph\":{\"id\":\"b47e114f-4ad6-4918-b667-b6f1931468b0\",\"type\":\"Circle\"},\"selection_glyph\":null,\"view\":{\"id\":\"53aca502-dcd1-42a3-9902-cea0ab745d8f\",\"type\":\"CDSView\"}},\"id\":\"40e0e433-1f2a-46a2-ae68-a8c885df0c8e\",\"type\":\"GlyphRenderer\"},{\"attributes\":{\"callback\":null},\"id\":\"25b1163c-059c-4e03-87d3-089eded70538\",\"type\":\"DataRange1d\"},{\"attributes\":{\"dimension\":1,\"plot\":{\"id\":\"6669aa4b-4dfc-4c03-b6b4-ddb4bf614ef7\",\"subtype\":\"Figure\",\"type\":\"Plot\"},\"ticker\":{\"id\":\"78e290b3-7c99-4fbe-b424-2d3a23b723fa\",\"type\":\"BasicTicker\"}},\"id\":\"0f2786e1-9ab9-4981-a5f9-252817c4013c\",\"type\":\"Grid\"},{\"attributes\":{},\"id\":\"dbfa38e6-da87-4cb9-89a3-934d0039fe9c\",\"type\":\"BasicTicker\"}],\"root_ids\":[\"6669aa4b-4dfc-4c03-b6b4-ddb4bf614ef7\"]},\"title\":\"Bokeh Application\",\"version\":\"0.12.13\"}};\n",
       "  var render_items = [{\"docid\":\"673fa5de-d336-477b-951f-12de591f7ae7\",\"elementid\":\"bd77e900-7e20-49f2-959e-1f5cf3858fb5\",\"modelid\":\"6669aa4b-4dfc-4c03-b6b4-ddb4bf614ef7\"}];\n",
       "  root.Bokeh.embed.embed_items_notebook(docs_json, render_items);\n",
       "\n",
       "  }\n",
       "  if (root.Bokeh !== undefined) {\n",
       "    embed_document(root);\n",
       "  } else {\n",
       "    var attempts = 0;\n",
       "    var timer = setInterval(function(root) {\n",
       "      if (root.Bokeh !== undefined) {\n",
       "        embed_document(root);\n",
       "        clearInterval(timer);\n",
       "      }\n",
       "      attempts++;\n",
       "      if (attempts > 100) {\n",
       "        console.log(\"Bokeh: ERROR: Unable to run BokehJS code because BokehJS library is missing\")\n",
       "        clearInterval(timer);\n",
       "      }\n",
       "    }, 10, root)\n",
       "  }\n",
       "})(window);"
      ],
      "application/vnd.bokehjs_exec.v0+json": ""
     },
     "metadata": {
      "application/vnd.bokehjs_exec.v0+json": {
       "id": "6669aa4b-4dfc-4c03-b6b4-ddb4bf614ef7"
      }
     },
     "output_type": "display_data"
    }
   ],
   "source": [
    "show(plots[1])"
   ]
  },
  {
   "cell_type": "code",
   "execution_count": 8,
   "metadata": {},
   "outputs": [
    {
     "data": {
      "text/html": [
       "\n",
       "<div class=\"bk-root\">\n",
       "    <div class=\"bk-plotdiv\" id=\"53637de4-7b59-4ca3-936f-b9aca665b70d\"></div>\n",
       "</div>"
      ]
     },
     "metadata": {},
     "output_type": "display_data"
    },
    {
     "data": {
      "application/javascript": [
       "(function(root) {\n",
       "  function embed_document(root) {\n",
       "    \n",
       "  var docs_json = {\"cc632b6d-2574-4c0e-8350-6a486a1ab352\":{\"roots\":{\"references\":[{\"attributes\":{\"callback\":null,\"column_names\":[\"x\",\"y\"],\"data\":{\"x\":{\"__ndarray__\":\"AQAAAAIAAAADAAAABAAAAAUAAAAGAAAABwAAAAgAAAAJAAAACgAAAAsAAAAMAAAADQAAAA4AAAAPAAAAEAAAABEAAAASAAAAEwAAABQAAAAVAAAAFgAAABcAAAAYAAAAGQAAABoAAAAbAAAAHAAAAB0AAAAeAAAAHwAAACAAAAAhAAAAIgAAACMAAAAkAAAAJQAAACYAAAAnAAAAKAAAACkAAAAqAAAAKwAAACwAAAAtAAAALgAAAC8AAAAwAAAAMQAAADIAAAAzAAAANAAAADUAAAA2AAAANwAAADgAAAA5AAAAOgAAADsAAAA8AAAAPQAAAD4AAAA/AAAAQAAAAEEAAABCAAAAQwAAAEQAAABFAAAARgAAAEcAAABIAAAASQAAAEoAAABLAAAATAAAAE0AAABOAAAATwAAAFAAAABRAAAAUgAAAFMAAABUAAAAVQAAAFYAAABXAAAAWAAAAFkAAABaAAAA\",\"dtype\":\"int32\",\"shape\":[90]},\"y\":[4.493376360321045,3.2346071715545652,2.884599764099121,2.480370271911621,2.2585446325683596,2.389369236907959,2.22948926361084,2.221680208206177,2.4573490605163575,2.245195956115723,2.2005182526397706,2.069060320739746,2.0486523194885256,2.0594588262939455,2.0461267365264892,2.117572138366699,2.0566404222106933,2.10845626701355,2.377163919830322,1.9742742096328736,1.9977358380126953,2.184913236618042,2.0548287017059326,1.9889740564727783,2.125024327850342,1.9992236580657958,1.8888084350967407,1.9973520917510987,2.0492301554107666,1.9570195891952515,1.2797341160202027,1.22335160446167,1.1988677026367187,1.1825112502670287,1.2097173246383668,1.1821542106246947,1.1744022219848633,1.185554750366211,1.1750810637664795,1.1962292418289184,1.211465174407959,1.2040760110092164,1.2186634650421142,1.2277350443649293,1.1806587370300292,1.2197624226760864,1.1929592823028565,1.212087907562256,1.197770472946167,1.2088668728637695,1.2023680183410645,1.212334807548523,1.2078700390625,1.1832300122451782,1.2070693841171265,1.238607806968689,1.208642328529358,1.2297978511810304,1.2213144916915895,1.2488689303588867,1.012933881416321,0.9935497012329102,0.9818431276702881,0.9823567039680481,0.9752802014732361,0.9725577382659912,0.9685514155960083,0.9698715229797363,0.9661200273132324,0.9661300813293457,0.9652270193481445,0.9652358314895629,0.9658371592903138,0.9615533235549927,0.9597862707138062,0.9604525426483155,0.9599528736305237,0.9600521181869507,0.960332522315979,0.9595070024871826,0.9468649972915649,0.9435160349082947,0.943732594871521,0.9415329566383361,0.9391674461746216,0.9390440661048889,0.9410821620559693,0.939781604270935,0.9404178450584412,0.942553798942566]}},\"id\":\"10cce42e-3290-4cdf-93d6-87b747a9141f\",\"type\":\"ColumnDataSource\"},{\"attributes\":{},\"id\":\"4f833296-531f-4974-adab-9a91e2cd57c0\",\"type\":\"ResetTool\"},{\"attributes\":{\"data_source\":{\"id\":\"10cce42e-3290-4cdf-93d6-87b747a9141f\",\"type\":\"ColumnDataSource\"},\"glyph\":{\"id\":\"0c0b7de6-62cb-4c63-855d-fcda44ca5670\",\"type\":\"Line\"},\"hover_glyph\":null,\"muted_glyph\":null,\"nonselection_glyph\":{\"id\":\"a5b6e658-849c-42f8-82a6-ea7ba09c4325\",\"type\":\"Line\"},\"selection_glyph\":null,\"view\":{\"id\":\"7e4b66a9-f73a-4496-b449-4344568ba00a\",\"type\":\"CDSView\"}},\"id\":\"23b4d2db-7cc2-48de-aabc-11198a3dc277\",\"type\":\"GlyphRenderer\"},{\"attributes\":{\"label\":{\"value\":\"validation - (256, 1, 0.9, 0.1)\"},\"renderers\":[{\"id\":\"23b4d2db-7cc2-48de-aabc-11198a3dc277\",\"type\":\"GlyphRenderer\"}]},\"id\":\"787a6bfb-8083-4ad3-9cb3-ba16853204ed\",\"type\":\"LegendItem\"},{\"attributes\":{\"line_color\":\"#1f77b4\",\"line_width\":3,\"x\":{\"field\":\"x\"},\"y\":{\"field\":\"y\"}},\"id\":\"0c0b7de6-62cb-4c63-855d-fcda44ca5670\",\"type\":\"Line\"},{\"attributes\":{\"ticker\":null},\"id\":\"31901efd-5f19-466a-8112-a365f1d500ae\",\"type\":\"LogTickFormatter\"},{\"attributes\":{\"line_alpha\":0.1,\"line_color\":\"#1f77b4\",\"line_width\":3,\"x\":{\"field\":\"x\"},\"y\":{\"field\":\"y\"}},\"id\":\"a5b6e658-849c-42f8-82a6-ea7ba09c4325\",\"type\":\"Line\"},{\"attributes\":{\"overlay\":{\"id\":\"6bf75231-af5d-4dd4-86f1-8bdee81c7a47\",\"type\":\"BoxAnnotation\"}},\"id\":\"10f0bad1-161e-4fc0-850a-512a0767c9b3\",\"type\":\"BoxZoomTool\"},{\"attributes\":{\"source\":{\"id\":\"10cce42e-3290-4cdf-93d6-87b747a9141f\",\"type\":\"ColumnDataSource\"}},\"id\":\"7e4b66a9-f73a-4496-b449-4344568ba00a\",\"type\":\"CDSView\"},{\"attributes\":{},\"id\":\"6e7a3a47-836b-4d4d-8eb4-51826ada68c6\",\"type\":\"SaveTool\"},{\"attributes\":{},\"id\":\"4bd03364-44b9-48d4-86c7-e06a084e91d8\",\"type\":\"WheelZoomTool\"},{\"attributes\":{\"line_alpha\":0.1,\"line_color\":\"#1f77b4\",\"line_width\":3,\"x\":{\"field\":\"x\"},\"y\":{\"field\":\"y\"}},\"id\":\"8716c343-a9b5-4fff-b7a1-1ce63b1ab019\",\"type\":\"Line\"},{\"attributes\":{\"callback\":null,\"column_names\":[\"x\",\"y\"],\"data\":{\"x\":{\"__ndarray__\":\"AQAAAAIAAAADAAAABAAAAAUAAAAGAAAABwAAAAgAAAAJAAAACgAAAAsAAAAMAAAADQAAAA4AAAAPAAAAEAAAABEAAAASAAAAEwAAABQAAAAVAAAAFgAAABcAAAAYAAAAGQAAABoAAAAbAAAAHAAAAB0AAAAeAAAAHwAAACAAAAAhAAAAIgAAACMAAAAkAAAAJQAAACYAAAAnAAAAKAAAACkAAAAqAAAAKwAAACwAAAAtAAAALgAAAC8AAAAwAAAAMQAAADIAAAAzAAAANAAAADUAAAA2AAAANwAAADgAAAA5AAAAOgAAADsAAAA8AAAAPQAAAD4AAAA/AAAAQAAAAEEAAABCAAAAQwAAAEQAAABFAAAARgAAAEcAAABIAAAASQAAAEoAAABLAAAATAAAAE0AAABOAAAATwAAAFAAAABRAAAAUgAAAFMAAABUAAAAVQAAAFYAAABXAAAAWAAAAFkAAABaAAAA\",\"dtype\":\"int32\",\"shape\":[90]},\"y\":[6.180937685435894,4.41007458840298,3.5251692072401184,3.0946565532062547,2.8545947255214186,2.7052944092337317,2.604008580690207,2.534706261302423,2.485403316964524,2.4436060342801373,2.411582091892036,2.384381215315939,2.3606721959070756,2.3407538124124496,2.327632508583502,2.314385246680973,2.302514409692548,2.2894735582836585,2.2827717815571487,2.269267412640833,2.2639315358393617,2.255720382683543,2.248490618871889,2.2460265482682478,2.2421525373251456,2.234494265868712,2.2274188471632734,2.2260178227384637,2.219998452154056,2.2152397727025264,1.6667203412107894,1.5490572785405579,1.5022222616877319,1.47311244481749,1.4540542595936046,1.4415544781075902,1.4338995256975402,1.4280145740274406,1.4242551458546873,1.4237247083734383,1.4202816476114122,1.4184448158896843,1.4190445365152278,1.42095466830723,1.4210754065767157,1.4199270072818266,1.4189139440236496,1.4185820184252556,1.4168985546901738,1.4131392496966715,1.4119290295810882,1.4085002995484615,1.4058057176665741,1.4046748201003623,1.401406632205177,1.398156494778783,1.3965685309410047,1.3921180524893468,1.3899526315410389,1.3859204228500885,1.1844052628177943,1.1290994454363552,1.106725949897863,1.0893684652434434,1.0787930444532192,1.0695990819110843,1.0591093373762932,1.0541678379849693,1.044616961538328,1.0374702328040757,1.034409146401083,1.0275005007997322,1.0234667175018326,1.0162147807173805,1.0110331918295012,1.007413640495048,1.0025266383620692,0.9978054584164155,0.9960805708952173,0.9920000993210342,0.9663952573686861,0.9566757152656327,0.954344208172322,0.9481504299607536,0.947733035850887,0.9447909388576347,0.9426953258719868,0.9430952275827158,0.9422174739973328,0.9411042839897265]}},\"id\":\"9ec511ae-3c24-41ef-88e5-01b20c36450b\",\"type\":\"ColumnDataSource\"},{\"attributes\":{\"line_alpha\":0.1,\"line_color\":\"#1f77b4\",\"line_dash\":[6],\"line_width\":3,\"x\":{\"field\":\"x\"},\"y\":{\"field\":\"y\"}},\"id\":\"53969025-a9cd-4f8c-8fec-468896db08ea\",\"type\":\"Line\"},{\"attributes\":{\"source\":{\"id\":\"d9835580-890f-452a-a4fb-c6e8b32077f0\",\"type\":\"ColumnDataSource\"}},\"id\":\"2f534f05-3538-4bee-82ba-8ebff3365738\",\"type\":\"CDSView\"},{\"attributes\":{\"label\":{\"value\":\"validation - (256, 1, 0.0, 1.0)\"},\"renderers\":[{\"id\":\"485fa41a-9669-460e-8ceb-7aa439227be2\",\"type\":\"GlyphRenderer\"}]},\"id\":\"35d1ab83-d2e1-41f9-8383-b97835e35904\",\"type\":\"LegendItem\"},{\"attributes\":{\"line_color\":\"#ff7f0e\",\"line_dash\":[6],\"line_width\":3,\"x\":{\"field\":\"x\"},\"y\":{\"field\":\"y\"}},\"id\":\"34b19616-c56a-481a-a473-29ca71440386\",\"type\":\"Line\"},{\"attributes\":{\"source\":{\"id\":\"9ec511ae-3c24-41ef-88e5-01b20c36450b\",\"type\":\"ColumnDataSource\"}},\"id\":\"7ec98b95-d56a-4628-8bb0-99ea49ba8f3a\",\"type\":\"CDSView\"},{\"attributes\":{\"data_source\":{\"id\":\"9ec511ae-3c24-41ef-88e5-01b20c36450b\",\"type\":\"ColumnDataSource\"},\"glyph\":{\"id\":\"34b19616-c56a-481a-a473-29ca71440386\",\"type\":\"Line\"},\"hover_glyph\":null,\"muted_glyph\":null,\"nonselection_glyph\":{\"id\":\"53969025-a9cd-4f8c-8fec-468896db08ea\",\"type\":\"Line\"},\"selection_glyph\":null,\"view\":{\"id\":\"7ec98b95-d56a-4628-8bb0-99ea49ba8f3a\",\"type\":\"CDSView\"}},\"id\":\"89bba822-0113-4d80-9d88-896734a08d49\",\"type\":\"GlyphRenderer\"},{\"attributes\":{\"line_color\":\"#ff7f0e\",\"line_width\":3,\"x\":{\"field\":\"x\"},\"y\":{\"field\":\"y\"}},\"id\":\"68dc8177-38ad-4414-876e-3acef9c6406f\",\"type\":\"Line\"},{\"attributes\":{\"callback\":null,\"column_names\":[\"x\",\"y\"],\"data\":{\"x\":{\"__ndarray__\":\"AQAAAAIAAAADAAAABAAAAAUAAAAGAAAABwAAAAgAAAAJAAAACgAAAAsAAAAMAAAADQAAAA4AAAAPAAAAEAAAABEAAAASAAAAEwAAABQAAAAVAAAAFgAAABcAAAAYAAAAGQAAABoAAAAbAAAAHAAAAB0AAAAeAAAAHwAAACAAAAAhAAAAIgAAACMAAAAkAAAAJQAAACYAAAAnAAAAKAAAACkAAAAqAAAAKwAAACwAAAAtAAAALgAAAC8AAAAwAAAAMQAAADIAAAAzAAAANAAAADUAAAA2AAAANwAAADgAAAA5AAAAOgAAADsAAAA8AAAAPQAAAD4AAAA/AAAAQAAAAEEAAABCAAAAQwAAAEQAAABFAAAARgAAAEcAAABIAAAASQAAAEoAAABLAAAATAAAAE0AAABOAAAATwAAAFAAAABRAAAAUgAAAFMAAABUAAAAVQAAAFYAAABXAAAAWAAAAFkAAABaAAAA\",\"dtype\":\"int32\",\"shape\":[90]},\"y\":[6.597966432800293,4.794501354064941,3.6315753645324707,3.3806169860076904,3.341897753677368,2.914002694015503,3.0817927667236327,2.6359812536621092,2.708199571304321,2.643487052459717,2.9106901462554933,2.4484836877441407,2.5093927498626707,3.194566453857422,2.759092261657715,2.3523221353149415,2.5385742441558836,2.756734806137085,3.2456965980529784,3.361378998336792,2.747338512573242,2.790786773071289,2.3114130396270753,2.5905983531188963,2.7400783938598634,2.7580106537628173,2.4388270631408693,2.440388085708618,2.7010453062438966,2.3657154638671876,1.2997107369232177,1.3184628252792359,1.2593397220230103,1.2360579684448243,1.2288734423828125,1.2093453076171874,1.2454969081497191,1.3067740151977538,1.2229719945907593,1.2654118633270264,1.278050774078369,1.2113661673355103,1.3012491007232665,1.282046988143921,1.302318649787903,1.3071604145050049,1.3288691107177735,1.2756417888259888,1.377051550216675,1.3609923789215088,1.3996365380096436,1.2728286988830566,1.2609797554397584,1.2895319019317626,1.4328363526153565,1.3869831883239747,1.2909393472671509,1.3036734694290162,1.3430528353881837,1.2643332134246825,1.0315793173980712,1.021429612083435,1.0068704412078857,1.0051162746429443,0.999217142829895,0.9946017583084107,0.9946842345237732,0.9950720372390747,0.9917359091377258,0.9857000912094116,0.9893431655883789,0.9875938291168213,0.9841761489486694,0.9844843482589721,0.9845542661857605,0.9856256142234803,0.9813421887016296,0.9782111032676697,0.9851662873840332,0.9789064513397217,0.9634298658370972,0.9601072323226929,0.9609405594253541,0.9573972807312011,0.9571211615753173,0.9583517182540894,0.9588205223274231,0.9563471797943115,0.9570258902359009,0.957944670753479]}},\"id\":\"d9835580-890f-452a-a4fb-c6e8b32077f0\",\"type\":\"ColumnDataSource\"},{\"attributes\":{\"label\":{\"value\":\"train - (256, 1, 0.0, 1.0)\"},\"renderers\":[{\"id\":\"89bba822-0113-4d80-9d88-896734a08d49\",\"type\":\"GlyphRenderer\"}]},\"id\":\"080170ce-dabf-454e-b324-d6b49caa677a\",\"type\":\"LegendItem\"},{\"attributes\":{},\"id\":\"01414c0d-f3e5-4789-940f-95f50a846f29\",\"type\":\"HelpTool\"},{\"attributes\":{},\"id\":\"ad41ba31-f218-4104-aae4-685da5b04969\",\"type\":\"PanTool\"},{\"attributes\":{\"callback\":null,\"column_names\":[\"x\",\"y\"],\"data\":{\"x\":{\"__ndarray__\":\"AQAAAAIAAAADAAAABAAAAAUAAAAGAAAABwAAAAgAAAAJAAAACgAAAAsAAAAMAAAADQAAAA4AAAAPAAAAEAAAABEAAAASAAAAEwAAABQAAAAVAAAAFgAAABcAAAAYAAAAGQAAABoAAAAbAAAAHAAAAB0AAAAeAAAAHwAAACAAAAAhAAAAIgAAACMAAAAkAAAAJQAAACYAAAAnAAAAKAAAACkAAAAqAAAAKwAAACwAAAAtAAAALgAAAC8AAAAwAAAAMQAAADIAAAAzAAAANAAAADUAAAA2AAAANwAAADgAAAA5AAAAOgAAADsAAAA8AAAAPQAAAD4AAAA/AAAAQAAAAEEAAABCAAAAQwAAAEQAAABFAAAARgAAAEcAAABIAAAASQAAAEoAAABLAAAATAAAAE0AAABOAAAATwAAAFAAAABRAAAAUgAAAFMAAABUAAAAVQAAAFYAAABXAAAAWAAAAFkAAABaAAAA\",\"dtype\":\"int32\",\"shape\":[90]},\"y\":[5.466275997849344,3.715048945977431,3.1098143375700738,2.8306451965869925,2.6694546931979097,2.562953981608202,2.4892703240936327,2.4360199337609707,2.39570757765192,2.364412790093756,2.337185766480526,2.3142239649915295,2.2959442390512175,2.283042290908864,2.2671713936892726,2.2565915679187856,2.247924973483158,2.2367727616676016,2.2280634522236786,2.2218476535919134,2.2191727380790964,2.2103859887317396,2.2042747234943776,2.20043702195026,2.1961141287495307,2.1922251143824862,2.1878713158310963,2.186685053094778,2.1815685468235713,2.1778003008330886,1.6352877944527429,1.5200140885799238,1.4729589218487276,1.4444872073962831,1.4243894742237093,1.411117164959822,1.4032638126445607,1.395360286161202,1.3947336543971705,1.3926031942723522,1.391483876849462,1.3913869699274355,1.3916058163787826,1.3911124992773984,1.3926059962894635,1.3901189637680067,1.388398979859193,1.3889242588469697,1.386103416582839,1.3835511577414303,1.384264793887264,1.3802402246807215,1.376146160247541,1.378257661367581,1.3763936006528041,1.371442759821417,1.3656852298096145,1.3644612475781865,1.363397906309777,1.3591525402053624,1.1580333744892446,1.1027035552454514,1.0804155005361253,1.0640897373563936,1.0535658759765874,1.0419600374820437,1.0354216659943252,1.027649503496797,1.022080707114373,1.0127270803441772,1.009612683479568,1.0027603435922994,0.9962792671110681,0.9902378727030676,0.98917001319386,0.9826747644748154,0.9792728650308704,0.9738946575730302,0.9683414665615518,0.9665415504778571,0.9383358421921016,0.9302108569252754,0.9273485284651433,0.9254373662442835,0.9244301611033485,0.9221675628312439,0.9221281995114853,0.9209120194627252,0.9213048348695693,0.9172118204934145]}},\"id\":\"ffc32c43-b424-4d2d-b6c7-1db7c22e4a82\",\"type\":\"ColumnDataSource\"},{\"attributes\":{\"line_color\":\"#1f77b4\",\"line_dash\":[6],\"line_width\":3,\"x\":{\"field\":\"x\"},\"y\":{\"field\":\"y\"}},\"id\":\"ec2f206e-c8c3-472c-865e-be40852795f9\",\"type\":\"Line\"},{\"attributes\":{\"line_alpha\":0.1,\"line_color\":\"#1f77b4\",\"line_dash\":[6],\"line_width\":3,\"x\":{\"field\":\"x\"},\"y\":{\"field\":\"y\"}},\"id\":\"70d8de80-ded8-4aab-8654-7bb43067e7e7\",\"type\":\"Line\"},{\"attributes\":{\"axis_label\":\"t [Epochs]\",\"formatter\":{\"id\":\"93f173f7-b6c1-4c46-89c6-7a33c6f32eac\",\"type\":\"BasicTickFormatter\"},\"plot\":{\"id\":\"c92e44e4-142c-4a19-b6e9-b4518e0dd2a9\",\"subtype\":\"Figure\",\"type\":\"Plot\"},\"ticker\":{\"id\":\"ab2d1c75-1970-4568-901f-154f86b07d08\",\"type\":\"BasicTicker\"}},\"id\":\"21a795df-f522-47d4-9cce-a852c320061d\",\"type\":\"LinearAxis\"},{\"attributes\":{\"data_source\":{\"id\":\"ffc32c43-b424-4d2d-b6c7-1db7c22e4a82\",\"type\":\"ColumnDataSource\"},\"glyph\":{\"id\":\"ec2f206e-c8c3-472c-865e-be40852795f9\",\"type\":\"Line\"},\"hover_glyph\":null,\"muted_glyph\":null,\"nonselection_glyph\":{\"id\":\"70d8de80-ded8-4aab-8654-7bb43067e7e7\",\"type\":\"Line\"},\"selection_glyph\":null,\"view\":{\"id\":\"f17dc758-2532-4335-ac8f-a85a9157563b\",\"type\":\"CDSView\"}},\"id\":\"f09c518e-bc34-4f1c-a82f-f7e0b2a5bb88\",\"type\":\"GlyphRenderer\"},{\"attributes\":{\"source\":{\"id\":\"ffc32c43-b424-4d2d-b6c7-1db7c22e4a82\",\"type\":\"ColumnDataSource\"}},\"id\":\"f17dc758-2532-4335-ac8f-a85a9157563b\",\"type\":\"CDSView\"},{\"attributes\":{\"label\":{\"value\":\"train - (256, 1, 0.9, 0.1)\"},\"renderers\":[{\"id\":\"f09c518e-bc34-4f1c-a82f-f7e0b2a5bb88\",\"type\":\"GlyphRenderer\"}]},\"id\":\"ab45cd2b-2065-46e4-a447-1d2e9a0c2027\",\"type\":\"LegendItem\"},{\"attributes\":{},\"id\":\"93f173f7-b6c1-4c46-89c6-7a33c6f32eac\",\"type\":\"BasicTickFormatter\"},{\"attributes\":{\"click_policy\":\"hide\",\"items\":[{\"id\":\"ab45cd2b-2065-46e4-a447-1d2e9a0c2027\",\"type\":\"LegendItem\"},{\"id\":\"787a6bfb-8083-4ad3-9cb3-ba16853204ed\",\"type\":\"LegendItem\"},{\"id\":\"080170ce-dabf-454e-b324-d6b49caa677a\",\"type\":\"LegendItem\"},{\"id\":\"35d1ab83-d2e1-41f9-8383-b97835e35904\",\"type\":\"LegendItem\"}],\"location\":\"bottom_left\",\"plot\":{\"id\":\"c92e44e4-142c-4a19-b6e9-b4518e0dd2a9\",\"subtype\":\"Figure\",\"type\":\"Plot\"}},\"id\":\"4624ecfa-4afd-4831-beb4-9bb7011006a3\",\"type\":\"Legend\"},{\"attributes\":{\"active_drag\":\"auto\",\"active_inspect\":\"auto\",\"active_scroll\":\"auto\",\"active_tap\":\"auto\",\"tools\":[{\"id\":\"ad41ba31-f218-4104-aae4-685da5b04969\",\"type\":\"PanTool\"},{\"id\":\"4bd03364-44b9-48d4-86c7-e06a084e91d8\",\"type\":\"WheelZoomTool\"},{\"id\":\"10f0bad1-161e-4fc0-850a-512a0767c9b3\",\"type\":\"BoxZoomTool\"},{\"id\":\"6e7a3a47-836b-4d4d-8eb4-51826ada68c6\",\"type\":\"SaveTool\"},{\"id\":\"4f833296-531f-4974-adab-9a91e2cd57c0\",\"type\":\"ResetTool\"},{\"id\":\"01414c0d-f3e5-4789-940f-95f50a846f29\",\"type\":\"HelpTool\"}]},\"id\":\"3ea843f8-5899-409f-9411-08f6d40c6c05\",\"type\":\"Toolbar\"},{\"attributes\":{\"data_source\":{\"id\":\"d9835580-890f-452a-a4fb-c6e8b32077f0\",\"type\":\"ColumnDataSource\"},\"glyph\":{\"id\":\"68dc8177-38ad-4414-876e-3acef9c6406f\",\"type\":\"Line\"},\"hover_glyph\":null,\"muted_glyph\":null,\"nonselection_glyph\":{\"id\":\"8716c343-a9b5-4fff-b7a1-1ce63b1ab019\",\"type\":\"Line\"},\"selection_glyph\":null,\"view\":{\"id\":\"2f534f05-3538-4bee-82ba-8ebff3365738\",\"type\":\"CDSView\"}},\"id\":\"485fa41a-9669-460e-8ceb-7aa439227be2\",\"type\":\"GlyphRenderer\"},{\"attributes\":{},\"id\":\"34af0b7b-acbc-47ad-9eea-08e519a6d259\",\"type\":\"LogScale\"},{\"attributes\":{\"callback\":null},\"id\":\"48349c01-fdb1-4625-b443-e4210f3dbd7f\",\"type\":\"DataRange1d\"},{\"attributes\":{\"dimension\":1,\"plot\":{\"id\":\"c92e44e4-142c-4a19-b6e9-b4518e0dd2a9\",\"subtype\":\"Figure\",\"type\":\"Plot\"},\"ticker\":{\"id\":\"f1dcc97d-7de5-4c11-9fd4-222cb1a5ab8e\",\"type\":\"LogTicker\"}},\"id\":\"2598ff06-40a2-4db3-b681-fa0848f1a742\",\"type\":\"Grid\"},{\"attributes\":{},\"id\":\"ab2d1c75-1970-4568-901f-154f86b07d08\",\"type\":\"BasicTicker\"},{\"attributes\":{\"callback\":null},\"id\":\"2b4b2148-c703-4b82-afce-6dbec46953da\",\"type\":\"DataRange1d\"},{\"attributes\":{\"bottom_units\":\"screen\",\"fill_alpha\":{\"value\":0.5},\"fill_color\":{\"value\":\"lightgrey\"},\"left_units\":\"screen\",\"level\":\"overlay\",\"line_alpha\":{\"value\":1.0},\"line_color\":{\"value\":\"black\"},\"line_dash\":[4,4],\"line_width\":{\"value\":2},\"plot\":null,\"render_mode\":\"css\",\"right_units\":\"screen\",\"top_units\":\"screen\"},\"id\":\"6bf75231-af5d-4dd4-86f1-8bdee81c7a47\",\"type\":\"BoxAnnotation\"},{\"attributes\":{\"axis_label\":\"L(w(t))\",\"formatter\":{\"id\":\"31901efd-5f19-466a-8112-a365f1d500ae\",\"type\":\"LogTickFormatter\"},\"plot\":{\"id\":\"c92e44e4-142c-4a19-b6e9-b4518e0dd2a9\",\"subtype\":\"Figure\",\"type\":\"Plot\"},\"ticker\":{\"id\":\"f1dcc97d-7de5-4c11-9fd4-222cb1a5ab8e\",\"type\":\"LogTicker\"}},\"id\":\"bcdfe286-c3a6-496c-88f6-071895f7437f\",\"type\":\"LogAxis\"},{\"attributes\":{\"background_fill_color\":{\"value\":\"#fafafa\"},\"below\":[{\"id\":\"21a795df-f522-47d4-9cce-a852c320061d\",\"type\":\"LinearAxis\"}],\"left\":[{\"id\":\"bcdfe286-c3a6-496c-88f6-071895f7437f\",\"type\":\"LogAxis\"}],\"min_border\":10,\"min_border_left\":50,\"renderers\":[{\"id\":\"21a795df-f522-47d4-9cce-a852c320061d\",\"type\":\"LinearAxis\"},{\"id\":\"3e349cd1-02c4-4dd0-95d2-ac8fd5d8cb36\",\"type\":\"Grid\"},{\"id\":\"bcdfe286-c3a6-496c-88f6-071895f7437f\",\"type\":\"LogAxis\"},{\"id\":\"2598ff06-40a2-4db3-b681-fa0848f1a742\",\"type\":\"Grid\"},{\"id\":\"6bf75231-af5d-4dd4-86f1-8bdee81c7a47\",\"type\":\"BoxAnnotation\"},{\"id\":\"4624ecfa-4afd-4831-beb4-9bb7011006a3\",\"type\":\"Legend\"},{\"id\":\"f09c518e-bc34-4f1c-a82f-f7e0b2a5bb88\",\"type\":\"GlyphRenderer\"},{\"id\":\"23b4d2db-7cc2-48de-aabc-11198a3dc277\",\"type\":\"GlyphRenderer\"},{\"id\":\"89bba822-0113-4d80-9d88-896734a08d49\",\"type\":\"GlyphRenderer\"},{\"id\":\"485fa41a-9669-460e-8ceb-7aa439227be2\",\"type\":\"GlyphRenderer\"}],\"title\":{\"id\":\"d796bb7f-4f3a-48ea-af89-b29a20004cd0\",\"type\":\"Title\"},\"toolbar\":{\"id\":\"3ea843f8-5899-409f-9411-08f6d40c6c05\",\"type\":\"Toolbar\"},\"x_range\":{\"id\":\"2b4b2148-c703-4b82-afce-6dbec46953da\",\"type\":\"DataRange1d\"},\"x_scale\":{\"id\":\"18303106-03fa-41a6-81ce-c499c269f98f\",\"type\":\"LinearScale\"},\"y_range\":{\"id\":\"48349c01-fdb1-4625-b443-e4210f3dbd7f\",\"type\":\"DataRange1d\"},\"y_scale\":{\"id\":\"34af0b7b-acbc-47ad-9eea-08e519a6d259\",\"type\":\"LogScale\"}},\"id\":\"c92e44e4-142c-4a19-b6e9-b4518e0dd2a9\",\"subtype\":\"Figure\",\"type\":\"Plot\"},{\"attributes\":{},\"id\":\"18303106-03fa-41a6-81ce-c499c269f98f\",\"type\":\"LinearScale\"},{\"attributes\":{\"num_minor_ticks\":10},\"id\":\"f1dcc97d-7de5-4c11-9fd4-222cb1a5ab8e\",\"type\":\"LogTicker\"},{\"attributes\":{\"plot\":{\"id\":\"c92e44e4-142c-4a19-b6e9-b4518e0dd2a9\",\"subtype\":\"Figure\",\"type\":\"Plot\"},\"ticker\":{\"id\":\"ab2d1c75-1970-4568-901f-154f86b07d08\",\"type\":\"BasicTicker\"}},\"id\":\"3e349cd1-02c4-4dd0-95d2-ac8fd5d8cb36\",\"type\":\"Grid\"},{\"attributes\":{\"plot\":null,\"text\":\"Training & Test Loss\"},\"id\":\"d796bb7f-4f3a-48ea-af89-b29a20004cd0\",\"type\":\"Title\"}],\"root_ids\":[\"c92e44e4-142c-4a19-b6e9-b4518e0dd2a9\"]},\"title\":\"Bokeh Application\",\"version\":\"0.12.13\"}};\n",
       "  var render_items = [{\"docid\":\"cc632b6d-2574-4c0e-8350-6a486a1ab352\",\"elementid\":\"53637de4-7b59-4ca3-936f-b9aca665b70d\",\"modelid\":\"c92e44e4-142c-4a19-b6e9-b4518e0dd2a9\"}];\n",
       "  root.Bokeh.embed.embed_items_notebook(docs_json, render_items);\n",
       "\n",
       "  }\n",
       "  if (root.Bokeh !== undefined) {\n",
       "    embed_document(root);\n",
       "  } else {\n",
       "    var attempts = 0;\n",
       "    var timer = setInterval(function(root) {\n",
       "      if (root.Bokeh !== undefined) {\n",
       "        embed_document(root);\n",
       "        clearInterval(timer);\n",
       "      }\n",
       "      attempts++;\n",
       "      if (attempts > 100) {\n",
       "        console.log(\"Bokeh: ERROR: Unable to run BokehJS code because BokehJS library is missing\")\n",
       "        clearInterval(timer);\n",
       "      }\n",
       "    }, 10, root)\n",
       "  }\n",
       "})(window);"
      ],
      "application/vnd.bokehjs_exec.v0+json": ""
     },
     "metadata": {
      "application/vnd.bokehjs_exec.v0+json": {
       "id": "c92e44e4-142c-4a19-b6e9-b4518e0dd2a9"
      }
     },
     "output_type": "display_data"
    }
   ],
   "source": [
    "show(plots[0])"
   ]
  },
  {
   "cell_type": "code",
   "execution_count": 9,
   "metadata": {},
   "outputs": [
    {
     "name": "stderr",
     "output_type": "stream",
     "text": [
      "C:\\Users\\giladiniv\\AppData\\Local\\Continuum\\anaconda3\\lib\\site-packages\\bokeh\\core\\json_encoder.py:80: FutureWarning: Conversion of the second argument of issubdtype from `float` to `np.floating` is deprecated. In future, it will be treated as `np.float64 == np.dtype(float).type`.\n",
      "  elif np.issubdtype(type(obj), np.float):\n"
     ]
    },
    {
     "data": {
      "text/html": [
       "\n",
       "<div class=\"bk-root\">\n",
       "    <div class=\"bk-plotdiv\" id=\"246226ba-4398-4e62-87e6-78d97d442377\"></div>\n",
       "</div>"
      ]
     },
     "metadata": {},
     "output_type": "display_data"
    },
    {
     "data": {
      "application/javascript": [
       "(function(root) {\n",
       "  function embed_document(root) {\n",
       "    \n",
       "  var docs_json = {\"8b8452e6-62e7-4ac7-8916-712abe8f892d\":{\"roots\":{\"references\":[{\"attributes\":{},\"id\":\"1b439858-ceec-419e-941f-772c59e0aeb4\",\"type\":\"BasicTicker\"},{\"attributes\":{\"active_drag\":\"auto\",\"active_inspect\":\"auto\",\"active_scroll\":\"auto\",\"active_tap\":\"auto\",\"tools\":[{\"id\":\"e9d5b882-dc00-46c9-9352-69abe7be7c89\",\"type\":\"PanTool\"},{\"id\":\"cc0f3a9e-2716-4ef7-9b89-454548ce715b\",\"type\":\"WheelZoomTool\"},{\"id\":\"08498f3e-7014-401e-9c0c-2420d4748b49\",\"type\":\"BoxZoomTool\"},{\"id\":\"3da9907f-96a7-42b8-9d46-94ec3d8341e5\",\"type\":\"SaveTool\"},{\"id\":\"c2dd8d79-316b-4b32-bbeb-8a2251e01893\",\"type\":\"ResetTool\"},{\"id\":\"5d0acb47-1559-46e7-9bce-1f271759b017\",\"type\":\"HelpTool\"}]},\"id\":\"972eeab8-0034-45c9-8c69-88089412f95c\",\"type\":\"Toolbar\"},{\"attributes\":{\"plot\":{\"id\":\"e03ed6d7-9e5c-4796-92a6-abad868ef320\",\"subtype\":\"Figure\",\"type\":\"Plot\"},\"ticker\":{\"id\":\"1b439858-ceec-419e-941f-772c59e0aeb4\",\"type\":\"BasicTicker\"}},\"id\":\"1d6f87d0-9acd-4cd1-a4c7-36cd68295d84\",\"type\":\"Grid\"},{\"attributes\":{},\"id\":\"5fcdc685-c33e-4af0-a7b9-3f812d7d93b9\",\"type\":\"LinearScale\"},{\"attributes\":{\"dimension\":1,\"plot\":{\"id\":\"e03ed6d7-9e5c-4796-92a6-abad868ef320\",\"subtype\":\"Figure\",\"type\":\"Plot\"},\"ticker\":{\"id\":\"d66c199a-9aae-4b2f-8e0d-6831ab5867a1\",\"type\":\"BasicTicker\"}},\"id\":\"9f53a29d-7fe9-43ff-aca3-fc93f26463dc\",\"type\":\"Grid\"},{\"attributes\":{},\"id\":\"c04938be-342a-464c-9acd-90bc3cb8aca1\",\"type\":\"LinearScale\"},{\"attributes\":{},\"id\":\"d66c199a-9aae-4b2f-8e0d-6831ab5867a1\",\"type\":\"BasicTicker\"},{\"attributes\":{\"source\":{\"id\":\"bff04cf0-6ee6-45c5-8042-7fd18c43a527\",\"type\":\"ColumnDataSource\"}},\"id\":\"bb10bfbe-8cb8-473c-8a8c-a22d1152a41e\",\"type\":\"CDSView\"},{\"attributes\":{\"bottom_units\":\"screen\",\"fill_alpha\":{\"value\":0.5},\"fill_color\":{\"value\":\"lightgrey\"},\"left_units\":\"screen\",\"level\":\"overlay\",\"line_alpha\":{\"value\":1.0},\"line_color\":{\"value\":\"black\"},\"line_dash\":[4,4],\"line_width\":{\"value\":2},\"plot\":null,\"render_mode\":\"css\",\"right_units\":\"screen\",\"top_units\":\"screen\"},\"id\":\"6ea176ea-b5bb-4d1b-b6a1-6c453cc73656\",\"type\":\"BoxAnnotation\"},{\"attributes\":{\"callback\":null,\"column_names\":[\"x\",\"y\"],\"data\":{\"x\":{\"__ndarray__\":\"AQAAAAIAAAADAAAABAAAAAUAAAAGAAAABwAAAAgAAAAJAAAACgAAAAsAAAAMAAAADQAAAA4AAAAPAAAAEAAAABEAAAASAAAAEwAAABQAAAAVAAAAFgAAABcAAAAYAAAAGQAAABoAAAAbAAAAHAAAAB0AAAAeAAAAHwAAACAAAAAhAAAAIgAAACMAAAAkAAAAJQAAACYAAAAnAAAAKAAAACkAAAAqAAAAKwAAACwAAAAtAAAALgAAAC8AAAAwAAAAMQAAADIAAAAzAAAANAAAADUAAAA2AAAANwAAADgAAAA5AAAAOgAAADsAAAA8AAAAPQAAAD4AAAA/AAAAQAAAAEEAAABCAAAAQwAAAEQAAABFAAAARgAAAEcAAABIAAAASQAAAEoAAABLAAAATAAAAE0AAABOAAAATwAAAFAAAABRAAAAUgAAAFMAAABUAAAAVQAAAFYAAABXAAAAWAAAAFkAAABaAAAA\",\"dtype\":\"int32\",\"shape\":[90]},\"y\":[42.89567947387695,53.73649597167969,59.76211929321289,62.6527214050293,63.939144134521484,64.592041015625,64.91386413574219,65.0728988647461,65.09889221191406,65.1235580444336,65.07484436035156,65.06253814697266,64.96333312988281,64.91800689697266,64.8656005859375,64.82461547851562,64.79015350341797,64.69752502441406,64.64813995361328,64.61325073242188,64.54855346679688,64.4749984741211,64.44668579101562,64.40657806396484,64.35369873046875,64.31182098388672,64.2625732421875,64.21141815185547,64.19541931152344,64.17012786865234,62.636253356933594,61.08527374267578,59.65338134765625,58.36377716064453,57.20671081542969,56.17040252685547,55.24640655517578,54.43203353881836,53.708221435546875,53.06623458862305,52.50516891479492,52.011962890625,51.58106231689453,51.189327239990234,50.8418083190918,50.542789459228516,50.27572250366211,50.03110122680664,49.806766510009766,49.61802673339844,49.450828552246094,49.29576873779297,49.1584587097168,49.03030776977539,48.921627044677734,48.820533752441406,48.72595977783203,48.6391487121582,48.56681823730469,48.48779296875,48.458152770996094,48.4222526550293,48.385498046875,48.34925842285156,48.31304931640625,48.27577590942383,48.24072265625,48.20528793334961,48.170650482177734,48.13722229003906,48.10325622558594,48.070858001708984,48.03842544555664,48.00678253173828,47.97535705566406,47.944427490234375,47.9132080078125,47.883914947509766,47.85344314575195,47.82329559326172,47.82038497924805,47.817649841308594,47.81489944458008,47.812259674072266,47.80955505371094,47.806854248046875,47.804317474365234,47.80158233642578,47.79903030395508,47.796207427978516]}},\"id\":\"bff04cf0-6ee6-45c5-8042-7fd18c43a527\",\"type\":\"ColumnDataSource\"},{\"attributes\":{\"callback\":null},\"id\":\"abc3047c-5e4b-4cbf-ac6c-b823ff23e506\",\"type\":\"DataRange1d\"},{\"attributes\":{\"axis_label\":\"t [Epochs]\",\"formatter\":{\"id\":\"7357cd35-a7c3-475c-a2a8-9aaefb973f7d\",\"type\":\"BasicTickFormatter\"},\"plot\":{\"id\":\"e03ed6d7-9e5c-4796-92a6-abad868ef320\",\"subtype\":\"Figure\",\"type\":\"Plot\"},\"ticker\":{\"id\":\"1b439858-ceec-419e-941f-772c59e0aeb4\",\"type\":\"BasicTicker\"}},\"id\":\"214635c5-bdcd-4446-bde9-159add5f458f\",\"type\":\"LinearAxis\"},{\"attributes\":{},\"id\":\"e9d5b882-dc00-46c9-9352-69abe7be7c89\",\"type\":\"PanTool\"},{\"attributes\":{\"callback\":null},\"id\":\"6f964317-b9bf-41b4-9cb7-b21904b5d85f\",\"type\":\"DataRange1d\"},{\"attributes\":{\"plot\":null,\"text\":\"The Norm of w(t)\"},\"id\":\"89a30bc5-541f-4a66-9605-4a22b9824635\",\"type\":\"Title\"},{\"attributes\":{\"label\":{\"value\":\"train - (256, 1, 0.0, 1.0)\"},\"renderers\":[{\"id\":\"509fd518-b0aa-480a-b2c1-d1beded22bc6\",\"type\":\"GlyphRenderer\"}]},\"id\":\"5f1f570a-3400-4d39-add6-f7dbd1a33518\",\"type\":\"LegendItem\"},{\"attributes\":{\"axis_label\":\"||w(t)||\",\"formatter\":{\"id\":\"5a92bed2-f8b2-4b4c-a239-6644b26bdec2\",\"type\":\"BasicTickFormatter\"},\"plot\":{\"id\":\"e03ed6d7-9e5c-4796-92a6-abad868ef320\",\"subtype\":\"Figure\",\"type\":\"Plot\"},\"ticker\":{\"id\":\"d66c199a-9aae-4b2f-8e0d-6831ab5867a1\",\"type\":\"BasicTicker\"}},\"id\":\"61028f4d-3c17-4fdb-9f9a-a81bb8a94169\",\"type\":\"LinearAxis\"},{\"attributes\":{},\"id\":\"c2dd8d79-316b-4b32-bbeb-8a2251e01893\",\"type\":\"ResetTool\"},{\"attributes\":{\"overlay\":{\"id\":\"6ea176ea-b5bb-4d1b-b6a1-6c453cc73656\",\"type\":\"BoxAnnotation\"}},\"id\":\"08498f3e-7014-401e-9c0c-2420d4748b49\",\"type\":\"BoxZoomTool\"},{\"attributes\":{},\"id\":\"3da9907f-96a7-42b8-9d46-94ec3d8341e5\",\"type\":\"SaveTool\"},{\"attributes\":{},\"id\":\"cc0f3a9e-2716-4ef7-9b89-454548ce715b\",\"type\":\"WheelZoomTool\"},{\"attributes\":{\"line_alpha\":0.1,\"line_color\":\"#1f77b4\",\"line_width\":3,\"x\":{\"field\":\"x\"},\"y\":{\"field\":\"y\"}},\"id\":\"79f6a1bf-3fcb-4d0f-b9b8-ef4837e8b60f\",\"type\":\"Line\"},{\"attributes\":{\"line_color\":\"#ff7f0e\",\"line_width\":3,\"x\":{\"field\":\"x\"},\"y\":{\"field\":\"y\"}},\"id\":\"162a79da-f6f3-4d77-8ace-f9ede3a8d49b\",\"type\":\"Line\"},{\"attributes\":{\"data_source\":{\"id\":\"bff04cf0-6ee6-45c5-8042-7fd18c43a527\",\"type\":\"ColumnDataSource\"},\"glyph\":{\"id\":\"162a79da-f6f3-4d77-8ace-f9ede3a8d49b\",\"type\":\"Line\"},\"hover_glyph\":null,\"muted_glyph\":null,\"nonselection_glyph\":{\"id\":\"79f6a1bf-3fcb-4d0f-b9b8-ef4837e8b60f\",\"type\":\"Line\"},\"selection_glyph\":null,\"view\":{\"id\":\"bb10bfbe-8cb8-473c-8a8c-a22d1152a41e\",\"type\":\"CDSView\"}},\"id\":\"509fd518-b0aa-480a-b2c1-d1beded22bc6\",\"type\":\"GlyphRenderer\"},{\"attributes\":{\"line_color\":\"#1f77b4\",\"line_width\":3,\"x\":{\"field\":\"x\"},\"y\":{\"field\":\"y\"}},\"id\":\"7c521fca-9967-4d4c-9520-47ae1a83844c\",\"type\":\"Line\"},{\"attributes\":{\"label\":{\"value\":\"train - (256, 1, 0.9, 0.1)\"},\"renderers\":[{\"id\":\"94afecf3-546f-492f-a477-b69afb16f5df\",\"type\":\"GlyphRenderer\"}]},\"id\":\"751c86b7-593f-4108-8daf-5c936be57789\",\"type\":\"LegendItem\"},{\"attributes\":{},\"id\":\"5d0acb47-1559-46e7-9bce-1f271759b017\",\"type\":\"HelpTool\"},{\"attributes\":{\"background_fill_color\":{\"value\":\"#fafafa\"},\"below\":[{\"id\":\"214635c5-bdcd-4446-bde9-159add5f458f\",\"type\":\"LinearAxis\"}],\"left\":[{\"id\":\"61028f4d-3c17-4fdb-9f9a-a81bb8a94169\",\"type\":\"LinearAxis\"}],\"min_border\":10,\"min_border_left\":50,\"renderers\":[{\"id\":\"214635c5-bdcd-4446-bde9-159add5f458f\",\"type\":\"LinearAxis\"},{\"id\":\"1d6f87d0-9acd-4cd1-a4c7-36cd68295d84\",\"type\":\"Grid\"},{\"id\":\"61028f4d-3c17-4fdb-9f9a-a81bb8a94169\",\"type\":\"LinearAxis\"},{\"id\":\"9f53a29d-7fe9-43ff-aca3-fc93f26463dc\",\"type\":\"Grid\"},{\"id\":\"6ea176ea-b5bb-4d1b-b6a1-6c453cc73656\",\"type\":\"BoxAnnotation\"},{\"id\":\"8f74c702-5f3f-4e27-a2a5-4e24e39e3e37\",\"type\":\"Legend\"},{\"id\":\"94afecf3-546f-492f-a477-b69afb16f5df\",\"type\":\"GlyphRenderer\"},{\"id\":\"509fd518-b0aa-480a-b2c1-d1beded22bc6\",\"type\":\"GlyphRenderer\"}],\"title\":{\"id\":\"89a30bc5-541f-4a66-9605-4a22b9824635\",\"type\":\"Title\"},\"toolbar\":{\"id\":\"972eeab8-0034-45c9-8c69-88089412f95c\",\"type\":\"Toolbar\"},\"x_range\":{\"id\":\"6f964317-b9bf-41b4-9cb7-b21904b5d85f\",\"type\":\"DataRange1d\"},\"x_scale\":{\"id\":\"5fcdc685-c33e-4af0-a7b9-3f812d7d93b9\",\"type\":\"LinearScale\"},\"y_range\":{\"id\":\"abc3047c-5e4b-4cbf-ac6c-b823ff23e506\",\"type\":\"DataRange1d\"},\"y_scale\":{\"id\":\"c04938be-342a-464c-9acd-90bc3cb8aca1\",\"type\":\"LinearScale\"}},\"id\":\"e03ed6d7-9e5c-4796-92a6-abad868ef320\",\"subtype\":\"Figure\",\"type\":\"Plot\"},{\"attributes\":{\"data_source\":{\"id\":\"f1d7f6d2-3543-40db-a4cd-9f6f51b3b56f\",\"type\":\"ColumnDataSource\"},\"glyph\":{\"id\":\"7c521fca-9967-4d4c-9520-47ae1a83844c\",\"type\":\"Line\"},\"hover_glyph\":null,\"muted_glyph\":null,\"nonselection_glyph\":{\"id\":\"4d422799-6107-42f5-86e2-b96672e9a7ea\",\"type\":\"Line\"},\"selection_glyph\":null,\"view\":{\"id\":\"8fc944f4-aab4-4f8d-a378-89208750a673\",\"type\":\"CDSView\"}},\"id\":\"94afecf3-546f-492f-a477-b69afb16f5df\",\"type\":\"GlyphRenderer\"},{\"attributes\":{},\"id\":\"5a92bed2-f8b2-4b4c-a239-6644b26bdec2\",\"type\":\"BasicTickFormatter\"},{\"attributes\":{\"callback\":null,\"column_names\":[\"x\",\"y\"],\"data\":{\"x\":{\"__ndarray__\":\"AQAAAAIAAAADAAAABAAAAAUAAAAGAAAABwAAAAgAAAAJAAAACgAAAAsAAAAMAAAADQAAAA4AAAAPAAAAEAAAABEAAAASAAAAEwAAABQAAAAVAAAAFgAAABcAAAAYAAAAGQAAABoAAAAbAAAAHAAAAB0AAAAeAAAAHwAAACAAAAAhAAAAIgAAACMAAAAkAAAAJQAAACYAAAAnAAAAKAAAACkAAAAqAAAAKwAAACwAAAAtAAAALgAAAC8AAAAwAAAAMQAAADIAAAAzAAAANAAAADUAAAA2AAAANwAAADgAAAA5AAAAOgAAADsAAAA8AAAAPQAAAD4AAAA/AAAAQAAAAEEAAABCAAAAQwAAAEQAAABFAAAARgAAAEcAAABIAAAASQAAAEoAAABLAAAATAAAAE0AAABOAAAATwAAAFAAAABRAAAAUgAAAFMAAABUAAAAVQAAAFYAAABXAAAAWAAAAFkAAABaAAAA\",\"dtype\":\"int32\",\"shape\":[90]},\"y\":[45.15010070800781,57.44385528564453,62.207759857177734,63.964595794677734,64.64025115966797,64.92052459716797,64.9917221069336,64.98957824707031,64.8937759399414,64.86297607421875,64.72789001464844,64.65362548828125,64.58889770507812,64.51985168457031,64.4142837524414,64.33795928955078,64.28684997558594,64.18175506591797,64.1669692993164,64.10784149169922,64.04440307617188,63.98326110839844,63.988826751708984,63.94239807128906,63.87409591674805,63.8456916809082,63.81119155883789,63.754600524902344,63.74565505981445,63.73651885986328,62.19520568847656,60.64653778076172,59.223236083984375,57.939483642578125,56.79465866088867,55.77432632446289,54.86094284057617,54.05360794067383,53.3420295715332,52.70363998413086,52.1528205871582,51.66324996948242,51.23167037963867,50.848018646240234,50.50403594970703,50.20921325683594,49.93962478637695,49.696163177490234,49.48685073852539,49.29646682739258,49.12630844116211,48.969390869140625,48.83910369873047,48.71574401855469,48.6079216003418,48.50221633911133,48.41305923461914,48.330909729003906,48.25039291381836,48.18047332763672,48.14912033081055,48.111507415771484,48.072994232177734,48.033206939697266,47.995513916015625,47.957923889160156,47.92184829711914,47.885921478271484,47.85010528564453,47.8176383972168,47.78239059448242,47.74848937988281,47.7156867980957,47.685028076171875,47.65245056152344,47.6202392578125,47.590309143066406,47.55997085571289,47.530128479003906,47.50093460083008,47.498226165771484,47.495418548583984,47.49263000488281,47.48985290527344,47.48711395263672,47.48429870605469,47.48146438598633,47.478702545166016,47.47606658935547,47.473201751708984]}},\"id\":\"f1d7f6d2-3543-40db-a4cd-9f6f51b3b56f\",\"type\":\"ColumnDataSource\"},{\"attributes\":{\"source\":{\"id\":\"f1d7f6d2-3543-40db-a4cd-9f6f51b3b56f\",\"type\":\"ColumnDataSource\"}},\"id\":\"8fc944f4-aab4-4f8d-a378-89208750a673\",\"type\":\"CDSView\"},{\"attributes\":{\"line_alpha\":0.1,\"line_color\":\"#1f77b4\",\"line_width\":3,\"x\":{\"field\":\"x\"},\"y\":{\"field\":\"y\"}},\"id\":\"4d422799-6107-42f5-86e2-b96672e9a7ea\",\"type\":\"Line\"},{\"attributes\":{},\"id\":\"7357cd35-a7c3-475c-a2a8-9aaefb973f7d\",\"type\":\"BasicTickFormatter\"},{\"attributes\":{\"click_policy\":\"hide\",\"items\":[{\"id\":\"751c86b7-593f-4108-8daf-5c936be57789\",\"type\":\"LegendItem\"},{\"id\":\"5f1f570a-3400-4d39-add6-f7dbd1a33518\",\"type\":\"LegendItem\"}],\"location\":\"top_left\",\"plot\":{\"id\":\"e03ed6d7-9e5c-4796-92a6-abad868ef320\",\"subtype\":\"Figure\",\"type\":\"Plot\"}},\"id\":\"8f74c702-5f3f-4e27-a2a5-4e24e39e3e37\",\"type\":\"Legend\"}],\"root_ids\":[\"e03ed6d7-9e5c-4796-92a6-abad868ef320\"]},\"title\":\"Bokeh Application\",\"version\":\"0.12.13\"}};\n",
       "  var render_items = [{\"docid\":\"8b8452e6-62e7-4ac7-8916-712abe8f892d\",\"elementid\":\"246226ba-4398-4e62-87e6-78d97d442377\",\"modelid\":\"e03ed6d7-9e5c-4796-92a6-abad868ef320\"}];\n",
       "  root.Bokeh.embed.embed_items_notebook(docs_json, render_items);\n",
       "\n",
       "  }\n",
       "  if (root.Bokeh !== undefined) {\n",
       "    embed_document(root);\n",
       "  } else {\n",
       "    var attempts = 0;\n",
       "    var timer = setInterval(function(root) {\n",
       "      if (root.Bokeh !== undefined) {\n",
       "        embed_document(root);\n",
       "        clearInterval(timer);\n",
       "      }\n",
       "      attempts++;\n",
       "      if (attempts > 100) {\n",
       "        console.log(\"Bokeh: ERROR: Unable to run BokehJS code because BokehJS library is missing\")\n",
       "        clearInterval(timer);\n",
       "      }\n",
       "    }, 10, root)\n",
       "  }\n",
       "})(window);"
      ],
      "application/vnd.bokehjs_exec.v0+json": ""
     },
     "metadata": {
      "application/vnd.bokehjs_exec.v0+json": {
       "id": "e03ed6d7-9e5c-4796-92a6-abad868ef320"
      }
     },
     "output_type": "display_data"
    }
   ],
   "source": [
    "show(plots[2])"
   ]
  },
  {
   "cell_type": "code",
   "execution_count": 10,
   "metadata": {},
   "outputs": [
    {
     "name": "stderr",
     "output_type": "stream",
     "text": [
      "C:\\Users\\giladiniv\\AppData\\Local\\Continuum\\anaconda3\\lib\\site-packages\\bokeh\\core\\json_encoder.py:80: FutureWarning: Conversion of the second argument of issubdtype from `float` to `np.floating` is deprecated. In future, it will be treated as `np.float64 == np.dtype(float).type`.\n",
      "  elif np.issubdtype(type(obj), np.float):\n"
     ]
    },
    {
     "data": {
      "text/html": [
       "\n",
       "<div class=\"bk-root\">\n",
       "    <div class=\"bk-plotdiv\" id=\"e5fe4a05-637b-4817-a834-eabdf8949bd0\"></div>\n",
       "</div>"
      ]
     },
     "metadata": {},
     "output_type": "display_data"
    },
    {
     "data": {
      "application/javascript": [
       "(function(root) {\n",
       "  function embed_document(root) {\n",
       "    \n",
       "  var docs_json = {\"d457ea62-ef4a-4db4-93f4-7d7db6184325\":{\"roots\":{\"references\":[{\"attributes\":{},\"id\":\"f2d3fb17-35cf-4e9b-9676-d4cab520daf9\",\"type\":\"BasicTickFormatter\"},{\"attributes\":{\"line_alpha\":0.1,\"line_color\":\"#1f77b4\",\"line_width\":3,\"x\":{\"field\":\"x\"},\"y\":{\"field\":\"y\"}},\"id\":\"396da10f-7383-4759-a945-deac3ad35126\",\"type\":\"Line\"},{\"attributes\":{\"data_source\":{\"id\":\"86f11c49-1df8-47e6-b050-2dfaaf4346aa\",\"type\":\"ColumnDataSource\"},\"glyph\":{\"id\":\"2044fe92-e8e4-45b8-af3c-1f01032bab32\",\"type\":\"Line\"},\"hover_glyph\":null,\"muted_glyph\":null,\"nonselection_glyph\":{\"id\":\"396da10f-7383-4759-a945-deac3ad35126\",\"type\":\"Line\"},\"selection_glyph\":null,\"view\":{\"id\":\"55460112-7fd5-42c4-ad08-3b3f679cb08e\",\"type\":\"CDSView\"}},\"id\":\"0a855fe7-41d7-4652-bbde-3b9666718bc8\",\"type\":\"GlyphRenderer\"},{\"attributes\":{\"callback\":null},\"id\":\"9b34ec03-2588-4fda-bc25-ad301817b893\",\"type\":\"DataRange1d\"},{\"attributes\":{\"source\":{\"id\":\"86f11c49-1df8-47e6-b050-2dfaaf4346aa\",\"type\":\"ColumnDataSource\"}},\"id\":\"55460112-7fd5-42c4-ad08-3b3f679cb08e\",\"type\":\"CDSView\"},{\"attributes\":{\"label\":{\"value\":\"train - (256, 1, 0.9, 0.1)\"},\"renderers\":[{\"id\":\"0a855fe7-41d7-4652-bbde-3b9666718bc8\",\"type\":\"GlyphRenderer\"}]},\"id\":\"3dcab46b-19b6-4f59-b5b4-5918d816dc0b\",\"type\":\"LegendItem\"},{\"attributes\":{},\"id\":\"c97ec499-3ded-4ac6-ad30-56d2e71658fa\",\"type\":\"BasicTickFormatter\"},{\"attributes\":{\"click_policy\":\"hide\",\"items\":[{\"id\":\"3dcab46b-19b6-4f59-b5b4-5918d816dc0b\",\"type\":\"LegendItem\"},{\"id\":\"a1589d91-078e-4962-9ef0-b3d5b33c24e4\",\"type\":\"LegendItem\"}],\"location\":\"top_left\",\"plot\":{\"id\":\"4fa8df5b-ed01-4e7d-839e-e62d31898955\",\"subtype\":\"Figure\",\"type\":\"Plot\"}},\"id\":\"eb06111d-791a-4395-b3a7-35414dddfb36\",\"type\":\"Legend\"},{\"attributes\":{\"line_color\":\"#1f77b4\",\"line_width\":3,\"x\":{\"field\":\"x\"},\"y\":{\"field\":\"y\"}},\"id\":\"2044fe92-e8e4-45b8-af3c-1f01032bab32\",\"type\":\"Line\"},{\"attributes\":{\"plot\":null,\"text\":\"The Norm of Gradients\"},\"id\":\"5e77ff06-a19a-4f77-8700-2ceffae44295\",\"type\":\"Title\"},{\"attributes\":{},\"id\":\"80710a17-983a-4e12-a6f3-deac46f6f97e\",\"type\":\"BasicTicker\"},{\"attributes\":{\"active_drag\":\"auto\",\"active_inspect\":\"auto\",\"active_scroll\":\"auto\",\"active_tap\":\"auto\",\"tools\":[{\"id\":\"75599f14-1bb8-46a2-a329-d445e627866c\",\"type\":\"PanTool\"},{\"id\":\"0bdedf81-bfee-4384-b915-0c0869d8fc77\",\"type\":\"WheelZoomTool\"},{\"id\":\"5539e726-b8e9-4753-9943-fec4384e29a9\",\"type\":\"BoxZoomTool\"},{\"id\":\"409a4f0d-2a28-49bd-964f-9bc8cb53f334\",\"type\":\"SaveTool\"},{\"id\":\"3e361687-440c-4d10-8978-f7e22d51f1d9\",\"type\":\"ResetTool\"},{\"id\":\"0603212a-1e0f-42e1-8409-71209fa8c855\",\"type\":\"HelpTool\"}]},\"id\":\"048a4850-4d1e-426a-ba57-f7a86bd821fd\",\"type\":\"Toolbar\"},{\"attributes\":{\"line_color\":\"#ff7f0e\",\"line_width\":3,\"x\":{\"field\":\"x\"},\"y\":{\"field\":\"y\"}},\"id\":\"cc6a7411-abb2-46f3-96fd-36087a0965f7\",\"type\":\"Line\"},{\"attributes\":{\"data_source\":{\"id\":\"5813c116-6acd-44e5-95c4-ab59a707f8a7\",\"type\":\"ColumnDataSource\"},\"glyph\":{\"id\":\"cc6a7411-abb2-46f3-96fd-36087a0965f7\",\"type\":\"Line\"},\"hover_glyph\":null,\"muted_glyph\":null,\"nonselection_glyph\":{\"id\":\"32c3bd4a-e64a-435d-bf8b-7c704dc333f8\",\"type\":\"Line\"},\"selection_glyph\":null,\"view\":{\"id\":\"6c649e5a-a9de-4f4f-8837-93a9b1065e02\",\"type\":\"CDSView\"}},\"id\":\"d185670a-d0d9-44a8-b9b9-5f089c13eb12\",\"type\":\"GlyphRenderer\"},{\"attributes\":{\"callback\":null},\"id\":\"5630e93b-ac22-4f6b-95ed-b0890b3bc763\",\"type\":\"DataRange1d\"},{\"attributes\":{\"line_alpha\":0.1,\"line_color\":\"#1f77b4\",\"line_width\":3,\"x\":{\"field\":\"x\"},\"y\":{\"field\":\"y\"}},\"id\":\"32c3bd4a-e64a-435d-bf8b-7c704dc333f8\",\"type\":\"Line\"},{\"attributes\":{},\"id\":\"f7fd4d9e-7690-4a85-983c-7cecf23f2040\",\"type\":\"BasicTicker\"},{\"attributes\":{\"source\":{\"id\":\"5813c116-6acd-44e5-95c4-ab59a707f8a7\",\"type\":\"ColumnDataSource\"}},\"id\":\"6c649e5a-a9de-4f4f-8837-93a9b1065e02\",\"type\":\"CDSView\"},{\"attributes\":{\"label\":{\"value\":\"train - (256, 1, 0.0, 1.0)\"},\"renderers\":[{\"id\":\"d185670a-d0d9-44a8-b9b9-5f089c13eb12\",\"type\":\"GlyphRenderer\"}]},\"id\":\"a1589d91-078e-4962-9ef0-b3d5b33c24e4\",\"type\":\"LegendItem\"},{\"attributes\":{},\"id\":\"0bdedf81-bfee-4384-b915-0c0869d8fc77\",\"type\":\"WheelZoomTool\"},{\"attributes\":{\"axis_label\":\"t [Epochs]\",\"formatter\":{\"id\":\"c97ec499-3ded-4ac6-ad30-56d2e71658fa\",\"type\":\"BasicTickFormatter\"},\"plot\":{\"id\":\"4fa8df5b-ed01-4e7d-839e-e62d31898955\",\"subtype\":\"Figure\",\"type\":\"Plot\"},\"ticker\":{\"id\":\"80710a17-983a-4e12-a6f3-deac46f6f97e\",\"type\":\"BasicTicker\"}},\"id\":\"7f3cb75b-ba4d-4746-91e7-84a6390fd64f\",\"type\":\"LinearAxis\"},{\"attributes\":{},\"id\":\"3e361687-440c-4d10-8978-f7e22d51f1d9\",\"type\":\"ResetTool\"},{\"attributes\":{\"axis_label\":\"||g||\",\"formatter\":{\"id\":\"f2d3fb17-35cf-4e9b-9676-d4cab520daf9\",\"type\":\"BasicTickFormatter\"},\"plot\":{\"id\":\"4fa8df5b-ed01-4e7d-839e-e62d31898955\",\"subtype\":\"Figure\",\"type\":\"Plot\"},\"ticker\":{\"id\":\"f7fd4d9e-7690-4a85-983c-7cecf23f2040\",\"type\":\"BasicTicker\"}},\"id\":\"5bcf17f9-d1c4-4984-b66a-f1aaf101c07d\",\"type\":\"LinearAxis\"},{\"attributes\":{\"plot\":{\"id\":\"4fa8df5b-ed01-4e7d-839e-e62d31898955\",\"subtype\":\"Figure\",\"type\":\"Plot\"},\"ticker\":{\"id\":\"80710a17-983a-4e12-a6f3-deac46f6f97e\",\"type\":\"BasicTicker\"}},\"id\":\"87bc62fb-2548-440e-ac0e-c10a7d34af29\",\"type\":\"Grid\"},{\"attributes\":{},\"id\":\"b666104c-13cc-41c9-83d4-d9e09607e581\",\"type\":\"LinearScale\"},{\"attributes\":{},\"id\":\"d2b4d3c4-2658-4b83-8675-3af67d4840ed\",\"type\":\"LinearScale\"},{\"attributes\":{\"overlay\":{\"id\":\"b81300f6-02af-49b6-ab87-bfb92058ab9f\",\"type\":\"BoxAnnotation\"}},\"id\":\"5539e726-b8e9-4753-9943-fec4384e29a9\",\"type\":\"BoxZoomTool\"},{\"attributes\":{\"dimension\":1,\"plot\":{\"id\":\"4fa8df5b-ed01-4e7d-839e-e62d31898955\",\"subtype\":\"Figure\",\"type\":\"Plot\"},\"ticker\":{\"id\":\"f7fd4d9e-7690-4a85-983c-7cecf23f2040\",\"type\":\"BasicTicker\"}},\"id\":\"22016833-d965-4a6e-989f-3792eb30ecd2\",\"type\":\"Grid\"},{\"attributes\":{},\"id\":\"0603212a-1e0f-42e1-8409-71209fa8c855\",\"type\":\"HelpTool\"},{\"attributes\":{\"background_fill_color\":{\"value\":\"#fafafa\"},\"below\":[{\"id\":\"7f3cb75b-ba4d-4746-91e7-84a6390fd64f\",\"type\":\"LinearAxis\"}],\"left\":[{\"id\":\"5bcf17f9-d1c4-4984-b66a-f1aaf101c07d\",\"type\":\"LinearAxis\"}],\"min_border\":10,\"min_border_left\":50,\"renderers\":[{\"id\":\"7f3cb75b-ba4d-4746-91e7-84a6390fd64f\",\"type\":\"LinearAxis\"},{\"id\":\"87bc62fb-2548-440e-ac0e-c10a7d34af29\",\"type\":\"Grid\"},{\"id\":\"5bcf17f9-d1c4-4984-b66a-f1aaf101c07d\",\"type\":\"LinearAxis\"},{\"id\":\"22016833-d965-4a6e-989f-3792eb30ecd2\",\"type\":\"Grid\"},{\"id\":\"b81300f6-02af-49b6-ab87-bfb92058ab9f\",\"type\":\"BoxAnnotation\"},{\"id\":\"eb06111d-791a-4395-b3a7-35414dddfb36\",\"type\":\"Legend\"},{\"id\":\"0a855fe7-41d7-4652-bbde-3b9666718bc8\",\"type\":\"GlyphRenderer\"},{\"id\":\"d185670a-d0d9-44a8-b9b9-5f089c13eb12\",\"type\":\"GlyphRenderer\"}],\"title\":{\"id\":\"5e77ff06-a19a-4f77-8700-2ceffae44295\",\"type\":\"Title\"},\"toolbar\":{\"id\":\"048a4850-4d1e-426a-ba57-f7a86bd821fd\",\"type\":\"Toolbar\"},\"x_range\":{\"id\":\"9b34ec03-2588-4fda-bc25-ad301817b893\",\"type\":\"DataRange1d\"},\"x_scale\":{\"id\":\"b666104c-13cc-41c9-83d4-d9e09607e581\",\"type\":\"LinearScale\"},\"y_range\":{\"id\":\"5630e93b-ac22-4f6b-95ed-b0890b3bc763\",\"type\":\"DataRange1d\"},\"y_scale\":{\"id\":\"d2b4d3c4-2658-4b83-8675-3af67d4840ed\",\"type\":\"LinearScale\"}},\"id\":\"4fa8df5b-ed01-4e7d-839e-e62d31898955\",\"subtype\":\"Figure\",\"type\":\"Plot\"},{\"attributes\":{\"bottom_units\":\"screen\",\"fill_alpha\":{\"value\":0.5},\"fill_color\":{\"value\":\"lightgrey\"},\"left_units\":\"screen\",\"level\":\"overlay\",\"line_alpha\":{\"value\":1.0},\"line_color\":{\"value\":\"black\"},\"line_dash\":[4,4],\"line_width\":{\"value\":2},\"plot\":null,\"render_mode\":\"css\",\"right_units\":\"screen\",\"top_units\":\"screen\"},\"id\":\"b81300f6-02af-49b6-ab87-bfb92058ab9f\",\"type\":\"BoxAnnotation\"},{\"attributes\":{\"callback\":null,\"column_names\":[\"x\",\"y\"],\"data\":{\"x\":{\"__ndarray__\":\"AQAAAAIAAAADAAAABAAAAAUAAAAGAAAABwAAAAgAAAAJAAAACgAAAAsAAAAMAAAADQAAAA4AAAAPAAAAEAAAABEAAAASAAAAEwAAABQAAAAVAAAAFgAAABcAAAAYAAAAGQAAABoAAAAbAAAAHAAAAB0AAAAeAAAAHwAAACAAAAAhAAAAIgAAACMAAAAkAAAAJQAAACYAAAAnAAAAKAAAACkAAAAqAAAAKwAAACwAAAAtAAAALgAAAC8AAAAwAAAAMQAAADIAAAAzAAAANAAAADUAAAA2AAAANwAAADgAAAA5AAAAOgAAADsAAAA8AAAAPQAAAD4AAAA/AAAAQAAAAEEAAABCAAAAQwAAAEQAAABFAAAARgAAAEcAAABIAAAASQAAAEoAAABLAAAATAAAAE0AAABOAAAATwAAAFAAAABRAAAAUgAAAFMAAABUAAAAVQAAAFYAAABXAAAAWAAAAFkAAABaAAAA\",\"dtype\":\"int32\",\"shape\":[90]},\"y\":[1.0720832347869873,1.046262264251709,0.9810971617698669,1.0502018928527832,1.0057874917984009,1.0306391716003418,0.9919623136520386,1.044485092163086,0.9945416450500488,0.9994291663169861,0.9742326140403748,0.9893206357955933,0.9695238471031189,0.9384915232658386,0.9116461277008057,0.9235806465148926,0.9657092690467834,1.0414764881134033,0.9841756820678711,0.9319056272506714,1.0023918151855469,1.0310378074645996,0.9156519174575806,1.062940239906311,0.9665552973747253,1.0307365655899048,0.9897633790969849,0.9425973296165466,0.9445832967758179,0.9873455762863159,0.9708176851272583,0.9947238564491272,0.9652611613273621,1.058058500289917,1.1021126508712769,1.225977897644043,1.14321768283844,1.1661431789398193,1.0904126167297363,1.2746080160140991,1.2021820545196533,1.2831554412841797,1.3020776510238647,1.248833417892456,1.2470918893814087,1.310349941253662,1.3763601779937744,1.2763526439666748,1.3846036195755005,1.368672251701355,1.4395655393600464,1.3234230279922485,1.3436126708984375,1.3243006467819214,1.3692712783813477,1.350646734237671,1.44724702835083,1.3868128061294556,1.295972228050232,1.3175138235092163,1.3351713418960571,1.3179965019226074,1.265212059020996,1.260643720626831,1.1894770860671997,1.2761244773864746,1.350995659828186,1.249558687210083,0.9703543782234192,1.245458960533142,1.334719181060791,1.1114253997802734,1.2283192873001099,1.2657257318496704,1.2888942956924438,1.2841520309448242,1.311696171760559,1.266321063041687,1.1994271278381348,1.2494308948516846,1.2375448942184448,1.2362529039382935,1.2344961166381836,1.2889331579208374,1.1551986932754517,1.2492018938064575,1.196997880935669,1.2975897789001465,1.2088598012924194,1.275367259979248]}},\"id\":\"86f11c49-1df8-47e6-b050-2dfaaf4346aa\",\"type\":\"ColumnDataSource\"},{\"attributes\":{\"callback\":null,\"column_names\":[\"x\",\"y\"],\"data\":{\"x\":{\"__ndarray__\":\"AQAAAAIAAAADAAAABAAAAAUAAAAGAAAABwAAAAgAAAAJAAAACgAAAAsAAAAMAAAADQAAAA4AAAAPAAAAEAAAABEAAAASAAAAEwAAABQAAAAVAAAAFgAAABcAAAAYAAAAGQAAABoAAAAbAAAAHAAAAB0AAAAeAAAAHwAAACAAAAAhAAAAIgAAACMAAAAkAAAAJQAAACYAAAAnAAAAKAAAACkAAAAqAAAAKwAAACwAAAAtAAAALgAAAC8AAAAwAAAAMQAAADIAAAAzAAAANAAAADUAAAA2AAAANwAAADgAAAA5AAAAOgAAADsAAAA8AAAAPQAAAD4AAAA/AAAAQAAAAEEAAABCAAAAQwAAAEQAAABFAAAARgAAAEcAAABIAAAASQAAAEoAAABLAAAATAAAAE0AAABOAAAATwAAAFAAAABRAAAAUgAAAFMAAABUAAAAVQAAAFYAAABXAAAAWAAAAFkAAABaAAAA\",\"dtype\":\"int32\",\"shape\":[90]},\"y\":[0.9418794512748718,1.018559217453003,1.0192582607269287,0.9981495141983032,0.992437481880188,0.9945254921913147,0.9820340871810913,0.988502562046051,1.0121328830718994,1.0058420896530151,0.9494725465774536,0.9933233261108398,1.013366460800171,0.9887290000915527,0.9104001522064209,0.934372067451477,0.9522770047187805,1.0293461084365845,1.0156121253967285,0.9455594420433044,1.031128168106079,1.0249736309051514,0.8850782513618469,1.005075454711914,0.9662530422210693,0.9824526309967041,0.9424449801445007,0.9074125289916992,0.9205865263938904,0.975307822227478,0.9045358896255493,0.9991027116775513,0.9822386503219604,1.0356221199035645,1.15798819065094,1.1387232542037964,1.1775307655334473,1.1562145948410034,1.0687334537506104,1.2561455965042114,1.20686936378479,1.2197141647338867,1.3402137756347656,1.1880664825439453,1.238444447517395,1.2851109504699707,1.3897634744644165,1.2054836750030518,1.3733171224594116,1.32697594165802,1.3083996772766113,1.3284318447113037,1.3240139484405518,1.4492197036743164,1.4702273607254028,1.3777241706848145,1.4297689199447632,1.362425684928894,1.3633335828781128,1.3483960628509521,1.3281893730163574,1.42015540599823,1.258851170539856,1.3085917234420776,1.2038791179656982,1.3032547235488892,1.278813362121582,1.2874500751495361,1.1827797889709473,1.0837537050247192,1.28286874294281,1.1778621673583984,1.276310920715332,1.338966727256775,1.2550491094589233,1.297437310218811,1.3187814950942993,1.1864020824432373,1.2555292844772339,1.1949090957641602,1.1445235013961792,1.2123955488204956,1.0653992891311646,1.2763257026672363,1.3408221006393433,1.2727077007293701,1.2364321947097778,1.3115687370300293,1.1953256130218506,1.1369683742523193]}},\"id\":\"5813c116-6acd-44e5-95c4-ab59a707f8a7\",\"type\":\"ColumnDataSource\"},{\"attributes\":{},\"id\":\"75599f14-1bb8-46a2-a329-d445e627866c\",\"type\":\"PanTool\"},{\"attributes\":{},\"id\":\"409a4f0d-2a28-49bd-964f-9bc8cb53f334\",\"type\":\"SaveTool\"}],\"root_ids\":[\"4fa8df5b-ed01-4e7d-839e-e62d31898955\"]},\"title\":\"Bokeh Application\",\"version\":\"0.12.13\"}};\n",
       "  var render_items = [{\"docid\":\"d457ea62-ef4a-4db4-93f4-7d7db6184325\",\"elementid\":\"e5fe4a05-637b-4817-a834-eabdf8949bd0\",\"modelid\":\"4fa8df5b-ed01-4e7d-839e-e62d31898955\"}];\n",
       "  root.Bokeh.embed.embed_items_notebook(docs_json, render_items);\n",
       "\n",
       "  }\n",
       "  if (root.Bokeh !== undefined) {\n",
       "    embed_document(root);\n",
       "  } else {\n",
       "    var attempts = 0;\n",
       "    var timer = setInterval(function(root) {\n",
       "      if (root.Bokeh !== undefined) {\n",
       "        embed_document(root);\n",
       "        clearInterval(timer);\n",
       "      }\n",
       "      attempts++;\n",
       "      if (attempts > 100) {\n",
       "        console.log(\"Bokeh: ERROR: Unable to run BokehJS code because BokehJS library is missing\")\n",
       "        clearInterval(timer);\n",
       "      }\n",
       "    }, 10, root)\n",
       "  }\n",
       "})(window);"
      ],
      "application/vnd.bokehjs_exec.v0+json": ""
     },
     "metadata": {
      "application/vnd.bokehjs_exec.v0+json": {
       "id": "4fa8df5b-ed01-4e7d-839e-e62d31898955"
      }
     },
     "output_type": "display_data"
    }
   ],
   "source": [
    "show(plots[3])"
   ]
  }
 ],
 "metadata": {
  "kernelspec": {
   "display_name": "Python 3",
   "language": "python",
   "name": "python3"
  },
  "language_info": {
   "codemirror_mode": {
    "name": "ipython",
    "version": 3
   },
   "file_extension": ".py",
   "mimetype": "text/x-python",
   "name": "python",
   "nbconvert_exporter": "python",
   "pygments_lexer": "ipython3",
   "version": "3.6.1"
  }
 },
 "nbformat": 4,
 "nbformat_minor": 1
}
